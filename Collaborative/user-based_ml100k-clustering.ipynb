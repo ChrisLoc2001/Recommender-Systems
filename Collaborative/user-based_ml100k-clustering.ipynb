{
 "cells": [
  {
   "cell_type": "code",
   "execution_count": 275,
   "id": "43fd1501",
   "metadata": {},
   "outputs": [],
   "source": [
    "import pandas as pd\n",
    "import numpy as np\n",
    "import math\n",
    "from collections import defaultdict\n",
    "from functools import lru_cache\n",
    "from tqdm import tqdm\n",
    "from sklearn.cluster import KMeans\n",
    "from sklearn.metrics import silhouette_score\n",
    "from sklearn.metrics.pairwise import cosine_similarity\n",
    "from sklearn.metrics import accuracy_score, precision_score, recall_score, mean_absolute_error, root_mean_squared_error\n",
    "from sklearn.decomposition import TruncatedSVD"
   ]
  },
  {
   "cell_type": "code",
   "execution_count": 276,
   "id": "7279489b",
   "metadata": {},
   "outputs": [],
   "source": [
    "# Funzione di caricamento dei dati\n",
    "def load_data(url) -> pd.DataFrame:\n",
    "    columns = ['user_id', 'movie_id', 'rating', 'timestamp']\n",
    "    df = pd.read_csv(url, sep='\\t', names=columns)\n",
    "    df.drop(columns='timestamp', inplace=True)\n",
    "    return df\n",
    "\n",
    "# Funzione per la creazione della matrice User X Item\n",
    "def create_user_item_matrix(df: pd.DataFrame):\n",
    "    return df.pivot(index='user_id', columns='movie_id', values='rating').fillna(0)\n"
   ]
  },
  {
   "cell_type": "code",
   "execution_count": 277,
   "id": "fe79057a",
   "metadata": {},
   "outputs": [],
   "source": [
    "# Funzione per trovare il miglior numero di cluster\n",
    "def find_optimal_k(data: pd.DataFrame, k_min=2, k_max=10, verbose=False):\n",
    "    best_k, best_score = k_min, -1\n",
    "    for k in range(k_min, k_max+1):\n",
    "        km    = KMeans(n_clusters=k, random_state=42).fit(data)\n",
    "        score = silhouette_score(data, km.labels_)\n",
    "        if verbose:\n",
    "            print(f\"k={k:2d} - silhouette={score:.3f}\")\n",
    "        if score > best_score:\n",
    "            best_k, best_score = k, score\n",
    "    print(f\"Miglior k: {best_k} (silhouette={best_score:.3f})\")\n",
    "    return best_k\n",
    "\n",
    "def cluster_users(data, n_clusters):\n",
    "    km     = KMeans(n_clusters=n_clusters, random_state=42).fit(data)\n",
    "    labels = km.labels_\n",
    "    return labels, km\n"
   ]
  },
  {
   "cell_type": "code",
   "execution_count": 278,
   "id": "5aa82bd5",
   "metadata": {},
   "outputs": [],
   "source": [
    "def show_cluster(data: pd.DataFrame):\n",
    "    from sklearn.decomposition import PCA\n",
    "    import matplotlib.pyplot as plt\n",
    "\n",
    "    X = data.drop('cluster', axis=1).values\n",
    "    y = data['cluster'].values\n",
    "\n",
    "    # Riduzione con PCA\n",
    "    pca = PCA(n_components=2, random_state=42)\n",
    "    X_pca = pca.fit_transform(X)\n",
    "\n",
    "    # Scatter plot\n",
    "    plt.figure(figsize=(8, 6))\n",
    "    scatter = plt.scatter(X_pca[:, 0], X_pca[:, 1], c=y, cmap='tab10', alpha=0.6)\n",
    "    plt.legend(*scatter.legend_elements(), title=\"Cluster\")\n",
    "    plt.title(\"Utenti proiettati su PCA 2D\")\n",
    "    # plt.xlabel(\"PC1\")\n",
    "    # plt.ylabel(\"PC2\")\n"
   ]
  },
  {
   "cell_type": "code",
   "execution_count": 279,
   "id": "39a99489",
   "metadata": {},
   "outputs": [],
   "source": [
    "@lru_cache(maxsize=1)\n",
    "def load_movies(path=\"../datasets/ml-100k/u.item\"):\n",
    "    \"\"\"Carica e indicizza il dataset dei film UNA volta sola.\"\"\"\n",
    "    cols = [\"movie_id\", \"title\", \"release_date\", \"video_release_date\", \"IMDb_URL\",\n",
    "            \"unknown\", \"Action\", \"Adventure\", \"Animation\", \"Children's\", \"Comedy\",\n",
    "            \"Crime\", \"Documentary\", \"Drama\", \"Fantasy\", \"Film-Noir\", \"Horror\",\n",
    "            \"Musical\", \"Mystery\", \"Romance\", \"Sci-Fi\", \"Thriller\", \"War\", \"Western\"]\n",
    "    df = pd.read_csv(path, sep=\"|\", encoding=\"latin-1\", names=cols)\n",
    "    return df.set_index(\"movie_id\")\n",
    "\n",
    "def get_item_title(rec):\n",
    "    \"\"\"Ritorna i titoli per una lista di movie_id in modo vettoriale.\"\"\"\n",
    "    movies = load_movies()\n",
    "    # movies.loc[rec, 'title'] già restituisce una Series nell'ordine di rec\n",
    "    return movies.loc[rec, \"title\"].tolist()"
   ]
  },
  {
   "cell_type": "code",
   "execution_count": 294,
   "id": "ffeae3f8",
   "metadata": {},
   "outputs": [],
   "source": [
    "def find_similar_user(users: pd.DataFrame, user_id: int) -> pd.Series:\n",
    "    \"\"\"Calcola la similarità coseno tra tutti gli utenti e ritorna la serie ordinata.\"\"\"\n",
    "    # users.index -> array di user_id\n",
    "    mat = users.values\n",
    "    sims = cosine_similarity(mat)\n",
    "    # prendo la riga corrispondente a user_id\n",
    "    i = users.index.get_loc(user_id)\n",
    "    sim_series = pd.Series(sims[i], index=users.index)\n",
    "    return sim_series.drop(user_id).sort_values(ascending=False)\n",
    "\n",
    "def predict_rating(ui_matrix: pd.DataFrame, user_id: int, item_id: int, k_sim: int = None, verbose: bool = False) -> float:\n",
    "    \"\"\"\n",
    "    Predice il rating per user_id–item_id:\n",
    "      - se l'item non esiste: media dell'utente o globale;\n",
    "      - altrimenti media pesata dei k_sim più simili nel suo cluster.\n",
    "    \"\"\"\n",
    "    # 1) ITEM nuovo -> fallback su media dell'utente / globale\n",
    "    if item_id not in ui_matrix.columns:\n",
    "        user_row = ui_matrix.loc[user_id].replace(0, np.nan)\n",
    "        user_mean = user_row.mean()\n",
    "        return user_mean if not np.isnan(user_mean) else ui_matrix.replace(0, np.nan).values.mean()\n",
    "\n",
    "    # 2) Filtra utenti nel medesimo cluster (tolgo colonna 'cluster')\n",
    "    cluster_id = ui_matrix.at[user_id, 'cluster']\n",
    "    group = ui_matrix[ui_matrix['cluster'] == cluster_id].drop(columns='cluster')\n",
    "\n",
    "    if verbose:\n",
    "        print(f\"Utente {user_id} nel cluster {cluster_id} ({group.shape[0]} utenti)\")\n",
    "\n",
    "    # 3) Similarità e top-k\n",
    "    sims = find_similar_user(group, user_id)\n",
    "    if k_sim:\n",
    "        sims = sims.head(k_sim)\n",
    "\n",
    "    # 4) Prendi solo chi ha valutato item_id\n",
    "    ratings = ui_matrix.loc[sims.index, item_id]\n",
    "    mask = ratings > 0\n",
    "    if not mask.any():\n",
    "        # nessuno ha votato -> media globale dei voti non-zero su quell'item\n",
    "        col = ui_matrix[item_id]\n",
    "        return col[col > 0].mean()\n",
    "\n",
    "    # 5) media pesata con controllo divisione per zero\n",
    "    weighted_sum = (sims[mask] * ratings[mask]).sum()\n",
    "    sim_sum = sims[mask].sum()\n",
    "\n",
    "    if sim_sum == 0.0:\n",
    "        # fallback: prima media dei rating dell'utente, poi globale\n",
    "        user_row = ui_matrix.loc[user_id].replace(0, np.nan)\n",
    "        user_mean = user_row.mean()\n",
    "        if not np.isnan(user_mean):\n",
    "            return user_mean\n",
    "        return ui_matrix.replace(0, np.nan).values.mean()\n",
    "\n",
    "    return weighted_sum / sim_sum\n",
    "\n",
    "def recommend_top_n(ui_matrix: pd.DataFrame, user_id: int, num_recommendations: int = 5, k_sim: int = None) -> list:\n",
    "    \"\"\"\n",
    "    Ritorna la lista dei top-N item consigliati (non ancora valutati da user_id).\n",
    "    \"\"\"\n",
    "    user_ratings = ui_matrix.loc[user_id]\n",
    "    unrated = user_ratings[user_ratings == 0].index  # item_id con rating==0\n",
    "\n",
    "    # dict comprehension + predict_rating\n",
    "    preds = {\n",
    "        item: predict_rating(ui_matrix, user_id, item, k_sim)\n",
    "        for item in unrated\n",
    "    }\n",
    "    # prendi i num_recommendations con rating più alto\n",
    "    \n",
    "    top_items = sorted(preds, key=preds.get, reverse=True)[:num_recommendations]\n",
    "    print(top_items)\n",
    "    return top_items\n"
   ]
  },
  {
   "cell_type": "code",
   "execution_count": null,
   "id": "2310dfe6",
   "metadata": {},
   "outputs": [],
   "source": [
    "# Funzione per raccomandare film a un utente basandosi sugli utenti simili\n",
    "def recommend_movies(ui_matrix, user_id, num_recommendations=5):\n",
    "    similar_users = user_similarity_df[user_id].sort_values(ascending=False)[1:]  # escludi se stesso\n",
    "    weighted_ratings = np.zeros(train_matrix.shape[1])\n",
    "    \n",
    "    for other_user, similarity in similar_users.items():\n",
    "        weighted_ratings += similarity * train_matrix.loc[other_user].values\n",
    "    \n",
    "    user_rated = train_matrix.loc[user_id].values > 0\n",
    "    weighted_ratings[user_rated] = 0  # Escludi quelli già visti\n",
    "    recommended_indices = np.argsort(weighted_ratings)[::-1][:num_recommendations]\n",
    "    \n",
    "    return train_matrix.columns[recommended_indices]"
   ]
  },
  {
   "cell_type": "code",
   "execution_count": null,
   "id": "38ed8da9",
   "metadata": {},
   "outputs": [],
   "source": [
    "def recommend_top_n(ui_matrix, labels, user_id, N):\n",
    "    # riusa predict_rating per ogni item non valutato\n",
    "    rated = set(ui_matrix.columns[ui_matrix.values[user_id-1]>0])\n",
    "    candidates = [m for m in ui_matrix.columns if m not in rated]\n",
    "    scores = [(m, predict_rating(ui_matrix, labels, user_id, m)) for m in candidates]\n",
    "    return [m for m,_ in sorted(scores, key=lambda x: x[1], reverse=True)[:N]]"
   ]
  },
  {
   "cell_type": "code",
   "execution_count": 282,
   "id": "6c8d2e75",
   "metadata": {},
   "outputs": [],
   "source": [
    "def evaluate_rating_pred(ui_matrix, test_df: pd.DataFrame, threshold = 4):\n",
    "    y_true, y_pred = [], []\n",
    "\n",
    "    # Estraiamo le colonne di interesse e itteriamo con itertuples\n",
    "    cols = ['user_id', 'movie_id', 'rating']\n",
    "    total = len(test_df)\n",
    "    for uid, mid, r in tqdm(test_df[cols].itertuples(index=False, name=None), total=total, \n",
    "                            desc=\"Evaluating ratings\", unit=\"row\", ncols=80, mininterval=0.5):\n",
    "        uid, mid, r = int(uid), int(mid), float(r)\n",
    "        pred_rating = predict_rating(ui_matrix=ui_matrix, user_id=uid, item_id=mid)\n",
    "        \n",
    "        y_true.append(r)\n",
    "        y_pred.append(pred_rating)\n",
    "\n",
    "    y_true = np.array(y_true)\n",
    "    y_pred = np.array(y_pred)\n",
    "\n",
    "    # Calcolo diretto di RMSE e MAE\n",
    "    y_true_binary = (y_true >= threshold).astype(int)\n",
    "    y_pred_binary = (y_pred >= threshold).astype(int)\n",
    "    accuracy = accuracy_score(y_true_binary, y_pred_binary)\n",
    "    precision = precision_score(y_true_binary, y_pred_binary, zero_division=0)\n",
    "    recall = recall_score(y_true_binary, y_pred_binary, zero_division=0)\n",
    "\n",
    "    rmse = root_mean_squared_error(y_true, y_pred)\n",
    "    mae  = mean_absolute_error(y_true, y_pred)\n",
    "    return rmse, mae, accuracy, precision, recall\n"
   ]
  },
  {
   "cell_type": "code",
   "execution_count": null,
   "id": "9f38d78d",
   "metadata": {},
   "outputs": [
    {
     "name": "stdout",
     "output_type": "stream",
     "text": [
      "Miglior k: 2 (silhouette=0.350)\n",
      "['They Made Me a Criminal (1939)', 'Last Dance (1996)', 'Prefontaine (1997)', 'Marlene Dietrich: Shadow and Light (1996) ', 'Star Kid (1997)']\n"
     ]
    },
    {
     "name": "stderr",
     "output_type": "stream",
     "text": [
      "Evaluating ratings: 100%|████████████████| 20000/20000 [04:02<00:00, 82.60row/s]"
     ]
    },
    {
     "name": "stdout",
     "output_type": "stream",
     "text": [
      "MAE 0.8312 | RMSE 1.0434\n",
      "Accuracy: 0.5456\n",
      "Precision: 0.7944\n",
      "Recall: 0.2579\n"
     ]
    },
    {
     "name": "stderr",
     "output_type": "stream",
     "text": [
      "\n"
     ]
    }
   ],
   "source": [
    "\n",
    "# Caricamento del dataset\n",
    "train = load_data('../datasets/ml-100k/u1.base')\n",
    "test = load_data('../datasets/ml-100k/u1.test')\n",
    "\n",
    "# Crea la matrice user-item\n",
    "ui_matrix = create_user_item_matrix(train)\n",
    "\n",
    "# Riduce la dimensionalità e calcola i cluster degli utenti\n",
    "svd = TruncatedSVD(n_components=50, random_state=42)\n",
    "user_latent = svd.fit_transform(ui_matrix)\n",
    "optimal_n_cluster = find_optimal_k(user_latent)\n",
    "user_cluster, _ = cluster_users(user_latent, optimal_n_cluster)\n",
    "clusters = pd.Series(user_cluster, index=ui_matrix.index, name='cluster')\n",
    "ui_matrix['cluster'] = clusters\n",
    "# show_cluster(ui_matrix)\n",
    "\n",
    "rmse, mae, accuracy, precision, recall = evaluate_rating_pred(ui_matrix=ui_matrix, test_df=test)\n",
    "print(f'MAE {mae:.4f} | RMSE {rmse:.4f}')\n",
    "print(f'Accuracy: {accuracy:.4f}')\n",
    "print(f'Precision: {precision:.4f}')\n",
    "print(f'Recall: {recall:.4f}')"
   ]
  },
  {
   "cell_type": "code",
   "execution_count": 284,
   "id": "d67a32d9",
   "metadata": {},
   "outputs": [
    {
     "name": "stderr",
     "output_type": "stream",
     "text": [
      "Evaluating ratings: 100%|████████████████| 20000/20000 [03:58<00:00, 83.84row/s]"
     ]
    },
    {
     "name": "stdout",
     "output_type": "stream",
     "text": [
      "MAE 0.8312 | RMSE 1.0434\n",
      "Accuracy: 0.7993\n",
      "Precision: 0.8685\n",
      "Recall: 0.8902\n"
     ]
    },
    {
     "name": "stderr",
     "output_type": "stream",
     "text": [
      "\n"
     ]
    }
   ],
   "source": [
    "rmse, mae, accuracy, precision, recall = evaluate_rating_pred(ui_matrix=ui_matrix, test_df=test, threshold=3)\n",
    "print(f'MAE {mae:.4f} | RMSE {rmse:.4f}')\n",
    "print(f'Accuracy: {accuracy:.4f}')\n",
    "print(f'Precision: {precision:.4f}')\n",
    "print(f'Recall: {recall:.4f}')"
   ]
  }
 ],
 "metadata": {
  "kernelspec": {
   "display_name": "FDSML",
   "language": "python",
   "name": "python3"
  },
  "language_info": {
   "codemirror_mode": {
    "name": "ipython",
    "version": 3
   },
   "file_extension": ".py",
   "mimetype": "text/x-python",
   "name": "python",
   "nbconvert_exporter": "python",
   "pygments_lexer": "ipython3",
   "version": "3.10.18"
  }
 },
 "nbformat": 4,
 "nbformat_minor": 5
}
