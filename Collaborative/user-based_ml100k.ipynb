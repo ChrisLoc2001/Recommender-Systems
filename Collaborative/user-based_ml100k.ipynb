{
 "cells": [
  {
   "cell_type": "code",
   "execution_count": 23,
   "id": "77712f9a",
   "metadata": {},
   "outputs": [],
   "source": [
    "# Sezione 1: Import librerie\n",
    "import pandas as pd\n",
    "import numpy as np\n",
    "from sklearn.metrics.pairwise import cosine_similarity\n",
    "from sklearn.model_selection import train_test_split\n",
    "from sklearn.metrics import accuracy_score, precision_score, recall_score"
   ]
  },
  {
   "cell_type": "code",
   "execution_count": 24,
   "id": "cf60db00",
   "metadata": {},
   "outputs": [],
   "source": [
    "# Sezione 2: Caricamento dati (MovieLens 100k come esempio)\n",
    "url = \"../datasets/ml-100k/u.data\"\n",
    "columns = ['user_id', 'movie_id', 'rating', 'timestamp']\n",
    "df = pd.read_csv(url, sep='\\t', names=columns)\n",
    "\n",
    "# Rimuoviamo timestamp\n",
    "df.drop('timestamp', axis=1, inplace=True)"
   ]
  },
  {
   "cell_type": "code",
   "execution_count": 25,
   "id": "c0a0376c",
   "metadata": {},
   "outputs": [],
   "source": [
    "# Sezione 3: Creazione matrice utente-film\n",
    "ratings_matrix = df.pivot_table(index='user_id', columns='movie_id', values='rating')\n",
    "ratings_matrix.fillna(0, inplace=True)\n",
    "\n",
    "# Sezione 4: Split del dataset\n",
    "train_data, test_data = train_test_split(df, test_size=0.2, random_state=42)\n",
    "train_matrix = train_data.pivot_table(\n",
    "    index='user_id',\n",
    "    columns='movie_id',\n",
    "    values='rating'\n",
    ").fillna(0)"
   ]
  },
  {
   "cell_type": "code",
   "execution_count": null,
   "id": "ac1818fc",
   "metadata": {},
   "outputs": [
    {
     "name": "stderr",
     "output_type": "stream",
     "text": [
      "/opt/anaconda3/envs/FDSML/lib/python3.10/site-packages/sklearn/utils/extmath.py:203: RuntimeWarning: divide by zero encountered in matmul\n",
      "  ret = a @ b\n",
      "/opt/anaconda3/envs/FDSML/lib/python3.10/site-packages/sklearn/utils/extmath.py:203: RuntimeWarning: overflow encountered in matmul\n",
      "  ret = a @ b\n",
      "/opt/anaconda3/envs/FDSML/lib/python3.10/site-packages/sklearn/utils/extmath.py:203: RuntimeWarning: invalid value encountered in matmul\n",
      "  ret = a @ b\n"
     ]
    }
   ],
   "source": [
    "# Sezione 5: Calcolo similarità tra utenti\n",
    "user_similarity = cosine_similarity(train_matrix)\n",
    "user_similarity_df = pd.DataFrame(user_similarity, index=train_matrix.index, columns=train_matrix.index)\n",
    "\n",
    "# Funzione per raccomandare film a un utente basandosi sugli utenti simili\n",
    "def recommend_movies(user_id, num_recommendations=5):\n",
    "    similar_users = user_similarity_df[user_id].sort_values(ascending=False)[1:]  # escludi se stesso\n",
    "    weighted_ratings = np.zeros(train_matrix.shape[1])\n",
    "    \n",
    "    for other_user, similarity in similar_users.items():\n",
    "        weighted_ratings += similarity * train_matrix.loc[other_user].values\n",
    "    \n",
    "    user_rated = train_matrix.loc[user_id].values > 0\n",
    "    weighted_ratings[user_rated] = 0  # Escludi quelli già visti\n",
    "    recommended_indices = np.argsort(weighted_ratings)[::-1][:num_recommendations]\n",
    "    \n",
    "    return train_matrix.columns[recommended_indices]"
   ]
  },
  {
   "cell_type": "code",
   "execution_count": null,
   "id": "de32fd2d",
   "metadata": {},
   "outputs": [
    {
     "name": "stdout",
     "output_type": "stream",
     "text": [
      "[173 126 167   0 317]\n"
     ]
    },
    {
     "data": {
      "text/plain": [
       "['Brazil (1985)',\n",
       " 'Supercop (1992)',\n",
       " 'Wrong Trousers, The (1993)',\n",
       " 'GoldenEye (1995)',\n",
       " 'Everyone Says I Love You (1996)']"
      ]
     },
     "execution_count": 50,
     "metadata": {},
     "output_type": "execute_result"
    }
   ],
   "source": [
    "rec = recommend_movies(7)\n",
    "\n",
    "movies = pd.read_csv(\"../datasets/ml-100k/u.item\", sep=\"|\", encoding=\"latin-1\", \n",
    "                     names=[\"movie_id\", \"title\", \"release_date\", \"video_release_date\", \"IMDb_URL\", \"unknown\", \"Action\", \"Adventure\", \"Animation\", \"Children's\", \"Comedy\", \"Crime\", \"Documentary\", \"Drama\", \"Fantasy\", \"Film-Noir\", \"Horror\", \"Musical\", \"Mystery\", \"Romance\", \"Sci-Fi\", \"Thriller\", \"War\", \"Western\"])\n",
    "film = []\n",
    "for r in rec:\n",
    "    film.append(movies.loc[r, \"title\"])\n",
    "film"
   ]
  },
  {
   "cell_type": "code",
   "execution_count": 27,
   "id": "848a748e",
   "metadata": {},
   "outputs": [],
   "source": [
    "# Sezione 6: Costruzione predizioni binarie per valutazione\n",
    "threshold = 3  # consideriamo raccomandazioni positive se rating >= 3\n",
    "\n",
    "def predict_rating(user_id, movie_id):\n",
    "    if movie_id not in ratings_matrix.columns:\n",
    "        return 0\n",
    "    similar_users = user_similarity_df[user_id].sort_values(ascending=False)[1:]\n",
    "    \n",
    "    num = 0\n",
    "    den = 0\n",
    "    for other_user, similarity in similar_users.items():\n",
    "        rating = ratings_matrix.loc[other_user, movie_id]\n",
    "        if rating > 0:\n",
    "            num += similarity * rating\n",
    "            den += similarity\n",
    "    if den == 0:\n",
    "        return 0\n",
    "    return num / den"
   ]
  },
  {
   "cell_type": "code",
   "execution_count": 28,
   "id": "91ac047c",
   "metadata": {},
   "outputs": [
    {
     "name": "stdout",
     "output_type": "stream",
     "text": [
      "Accuracy:  0.8026\n",
      "Precision: 0.8741\n",
      "Recall:    0.8899\n",
      "MAE:       0.8004\n",
      "RMSE:      1.0097\n"
     ]
    }
   ],
   "source": [
    "# Sezione 7: Valutazione – Estesa con MAE e RMSE\n",
    "from sklearn.metrics import mean_absolute_error, mean_squared_error\n",
    "import numpy as np\n",
    "\n",
    "# (riutilizzi y_true_continuous e y_pred_continuous per errori sui rating continui)\n",
    "y_true_binary = []\n",
    "y_pred_binary = []\n",
    "y_true_continuous = []\n",
    "y_pred_continuous = []\n",
    "\n",
    "test_sample = test_data.sample(10000, random_state=1)\n",
    "\n",
    "for _, row in test_sample.iterrows():\n",
    "    # vero rating e predizione continua\n",
    "    true_rating = row['rating']\n",
    "    pred_rating = predict_rating(row['user_id'], row['movie_id'])\n",
    "    \n",
    "    # raccolgo per MAE/RMSE\n",
    "    y_true_continuous.append(true_rating)\n",
    "    y_pred_continuous.append(pred_rating)\n",
    "    \n",
    "    # raccolgo per Accuracy/Precision/Recall\n",
    "    actual = 1 if true_rating >= threshold else 0\n",
    "    predicted = 1 if pred_rating >= threshold else 0\n",
    "    \n",
    "    y_true_binary.append(actual)\n",
    "    y_pred_binary.append(predicted)\n",
    "\n",
    "# calcolo Accuracy, Precision, Recall\n",
    "accuracy = accuracy_score(y_true_binary, y_pred_binary)\n",
    "precision = precision_score(y_true_binary, y_pred_binary, zero_division=0)\n",
    "recall = recall_score(y_true_binary, y_pred_binary, zero_division=0)\n",
    "\n",
    "# calcolo MAE e RMSE\n",
    "mae = mean_absolute_error(y_true_continuous, y_pred_continuous)\n",
    "rmse = np.sqrt(mean_squared_error(y_true_continuous, y_pred_continuous))\n",
    "\n",
    "print(f\"Accuracy:  {accuracy:.4f}\")\n",
    "print(f\"Precision: {precision:.4f}\")\n",
    "print(f\"Recall:    {recall:.4f}\")\n",
    "print(f\"MAE:       {mae:.4f}\")\n",
    "print(f\"RMSE:      {rmse:.4f}\")"
   ]
  }
 ],
 "metadata": {
  "kernelspec": {
   "display_name": "FDSML",
   "language": "python",
   "name": "python3"
  },
  "language_info": {
   "codemirror_mode": {
    "name": "ipython",
    "version": 3
   },
   "file_extension": ".py",
   "mimetype": "text/x-python",
   "name": "python",
   "nbconvert_exporter": "python",
   "pygments_lexer": "ipython3",
   "version": "3.10.18"
  }
 },
 "nbformat": 4,
 "nbformat_minor": 5
}
