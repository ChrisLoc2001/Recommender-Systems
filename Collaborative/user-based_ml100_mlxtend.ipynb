{
 "cells": [
  {
   "cell_type": "code",
   "execution_count": 54,
   "id": "ac2b904a",
   "metadata": {},
   "outputs": [],
   "source": [
    "# Cella 1\n",
    "import pandas as pd\n",
    "import numpy as np\n",
    "from sklearn.metrics.pairwise import cosine_similarity\n",
    "from sklearn.model_selection import train_test_split\n",
    "from sklearn.metrics import accuracy_score, precision_score, recall_score, f1_score\n",
    "# Per le regole associative\n",
    "from mlxtend.preprocessing import TransactionEncoder\n",
    "from mlxtend.frequent_patterns import apriori, association_rules\n"
   ]
  },
  {
   "cell_type": "code",
   "execution_count": 55,
   "id": "92ada0bb",
   "metadata": {},
   "outputs": [],
   "source": [
    "# Caricamento dati\n",
    "url = \"../datasets/ml-100k/u.data\"\n",
    "columns = ['user_id', 'movie_id', 'rating', 'timestamp']\n",
    "df = pd.read_csv(url, sep='\\t', names=columns)\n",
    "df.drop('timestamp', axis=1, inplace=True)"
   ]
  },
  {
   "cell_type": "code",
   "execution_count": 56,
   "id": "8b34a222",
   "metadata": {},
   "outputs": [],
   "source": [
    "# Creazione matrice utente-film\n",
    "ratings_matrix = df.pivot_table(index='user_id', columns='movie_id', values='rating')\n",
    "ratings_matrix.fillna(0, inplace=True)\n"
   ]
  },
  {
   "cell_type": "code",
   "execution_count": 57,
   "id": "a7acfcab",
   "metadata": {},
   "outputs": [],
   "source": [
    "# Divisione train-test\n",
    "train_data, test_data = train_test_split(df, test_size=0.2, random_state=42)\n",
    "train_matrix = train_data.pivot_table(index='user_id', columns='movie_id', values='rating').fillna(0)"
   ]
  },
  {
   "cell_type": "code",
   "execution_count": 58,
   "id": "6f87a7be",
   "metadata": {},
   "outputs": [
    {
     "name": "stderr",
     "output_type": "stream",
     "text": [
      "/opt/anaconda3/envs/FDSML/lib/python3.10/site-packages/sklearn/utils/extmath.py:203: RuntimeWarning: divide by zero encountered in matmul\n",
      "  ret = a @ b\n",
      "/opt/anaconda3/envs/FDSML/lib/python3.10/site-packages/sklearn/utils/extmath.py:203: RuntimeWarning: overflow encountered in matmul\n",
      "  ret = a @ b\n",
      "/opt/anaconda3/envs/FDSML/lib/python3.10/site-packages/sklearn/utils/extmath.py:203: RuntimeWarning: invalid value encountered in matmul\n",
      "  ret = a @ b\n"
     ]
    }
   ],
   "source": [
    "# Calcolo similarità tra utenti\n",
    "user_similarity = cosine_similarity(train_matrix)\n",
    "similarity_df = pd.DataFrame(user_similarity, index=train_matrix.index, columns=train_matrix.index)"
   ]
  },
  {
   "cell_type": "code",
   "execution_count": 59,
   "id": "6a0d0326",
   "metadata": {},
   "outputs": [],
   "source": [
    "# Funzione per prevedere il rating\n",
    "def predict_rating(user_id, movie_id, k=5):\n",
    "    sim_scores = similarity_df[user_id]\n",
    "    movie_ratings = train_matrix[movie_id]\n",
    "    valid_users = movie_ratings[movie_ratings > 0].index\n",
    "    top_users = sim_scores[valid_users].sort_values(ascending=False).head(k)\n",
    "    weighted_sum = np.dot(top_users, movie_ratings[top_users.index])\n",
    "    sim_sum = top_users.sum()\n",
    "    if sim_sum == 0:\n",
    "        return train_matrix.loc[user_id].mean()\n",
    "    return weighted_sum / sim_sum"
   ]
  },
  {
   "cell_type": "code",
   "execution_count": 60,
   "id": "e1a1ce23",
   "metadata": {},
   "outputs": [],
   "source": [
    "# Preparazione dei dati per le regole associative\n",
    "transactions = (\n",
    "    df[df['rating'] >= 4]\n",
    "      .groupby('user_id')['movie_id']\n",
    "      .apply(list)\n",
    "      .tolist()\n",
    ")\n",
    "\n",
    "te = TransactionEncoder()\n",
    "te_ary = te.fit(transactions).transform(transactions)\n",
    "trans_df = pd.DataFrame(te_ary, columns=te.columns_)"
   ]
  },
  {
   "cell_type": "code",
   "execution_count": 61,
   "id": "6309e1f7",
   "metadata": {},
   "outputs": [],
   "source": [
    "frequent_itemsets = apriori(trans_df, min_support=0.1, use_colnames=True)\n",
    "rules = association_rules(frequent_itemsets, metric='confidence', min_threshold=0.5)"
   ]
  },
  {
   "cell_type": "code",
   "execution_count": 62,
   "id": "146c66c0",
   "metadata": {},
   "outputs": [
    {
     "name": "stdout",
     "output_type": "stream",
     "text": [
      "              antecedents         consequents   support  confidence      lift\n",
      "15108      (50, 195, 181)      (96, 172, 174)  0.105096    0.727941  4.633247\n",
      "15097      (96, 172, 174)      (50, 195, 181)  0.105096    0.668919  4.633247\n",
      "15101      (96, 181, 174)      (50, 195, 172)  0.105096    0.744361  4.613079\n",
      "15104      (50, 195, 172)      (96, 181, 174)  0.105096    0.651316  4.613079\n",
      "15084  (96, 50, 172, 174)          (195, 181)  0.105096    0.692308  4.592633\n",
      "15118          (195, 181)  (96, 50, 172, 174)  0.105096    0.697183  4.592633\n",
      "14823          (195, 181)      (96, 172, 174)  0.107219    0.711268  4.527122\n",
      "14810      (96, 172, 174)          (195, 181)  0.107219    0.682432  4.527122\n",
      "14821          (195, 172)      (96, 181, 174)  0.107219    0.631250  4.470959\n",
      "14812      (96, 181, 174)          (195, 172)  0.107219    0.759398  4.470959\n"
     ]
    }
   ],
   "source": [
    "# Stampa delle prime regole ordinate per lift\n",
    "top_rules = rules.sort_values('lift', ascending=False).head(10)\n",
    "print(top_rules[['antecedents', 'consequents', 'support', 'confidence', 'lift']])"
   ]
  },
  {
   "cell_type": "code",
   "execution_count": null,
   "id": "31960421",
   "metadata": {},
   "outputs": [],
   "source": [
    "# Funzione per raccomandazioni ibride (CF + Association Rules)\n",
    "def hybrid_recommendations(user_id, top_n=10, cf_weight=0.7):\n",
    "    cf_scores = {}\n",
    "    # Calcola CF solo su film del training\n",
    "    for movie in train_matrix.columns:\n",
    "        cf_scores[movie] = predict_rating(user_id, movie, k=5) if user_id in train_matrix.index else 0\n",
    "    # Normalizza CF\n",
    "    max_cf, min_cf = max(cf_scores.values()), min(cf_scores.values())\n",
    "    cf_scores = {m: (s - min_cf)/(max_cf - min_cf) for m, s in cf_scores.items()} if max_cf>min_cf else cf_scores\n",
    "\n",
    "    # Punteggi AR   \n",
    "    user_high = set(df[(df['user_id']==user_id) & (df['rating']>=4)]['movie_id'])\n",
    "    ar_scores = {m:0 for m in train_matrix.columns}\n",
    "    for _, rule in top_rules.iterrows():\n",
    "        antecedents = set(rule['antecedents'])\n",
    "        consequents = set(rule['consequents'])\n",
    "        if antecedents.issubset(user_high):\n",
    "            for m in consequents:\n",
    "                if m in ar_scores:\n",
    "                    ar_scores[m] += rule['confidence'] * rule['lift']\n",
    "    # Normalizza AR\n",
    "    max_ar, min_ar = max(ar_scores.values()), min(ar_scores.values())\n",
    "    ar_scores = {m: (s - min_ar)/(max_ar - min_ar) for m, s in ar_scores.items()} if max_ar>min_ar else ar_scores\n",
    "\n",
    "    # Combina CF e AR\n",
    "    final_scores = {m: cf_weight*cf_scores.get(m,0) + (1-cf_weight)*ar_scores.get(m,0) for m in train_matrix.columns}\n",
    "    seen = set(df[df['user_id']==user_id]['movie_id'])\n",
    "    candidates = {m: s for m, s in final_scores.items() if m not in seen}\n",
    "    recs = sorted(candidates.items(), key=lambda x: x[1], reverse=True)[:top_n]\n",
    "    return [m for m, _ in recs]\n"
   ]
  },
  {
   "cell_type": "code",
   "execution_count": 64,
   "id": "195fd0aa",
   "metadata": {},
   "outputs": [
    {
     "ename": "NameError",
     "evalue": "name 'user_high' is not defined",
     "output_type": "error",
     "traceback": [
      "\u001b[0;31m---------------------------------------------------------------------------\u001b[0m",
      "\u001b[0;31mNameError\u001b[0m                                 Traceback (most recent call last)",
      "Cell \u001b[0;32mIn[64], line 3\u001b[0m\n\u001b[1;32m      1\u001b[0m user_test \u001b[38;5;241m=\u001b[39m \u001b[38;5;241m1\u001b[39m\n\u001b[1;32m      2\u001b[0m \u001b[38;5;28;01mif\u001b[39;00m user_test \u001b[38;5;129;01min\u001b[39;00m ratings_matrix\u001b[38;5;241m.\u001b[39mindex:\n\u001b[0;32m----> 3\u001b[0m     \u001b[38;5;28mprint\u001b[39m(\u001b[38;5;124mf\u001b[39m\u001b[38;5;124m\"\u001b[39m\u001b[38;5;124mRaccomandazioni ibride per utente \u001b[39m\u001b[38;5;132;01m{\u001b[39;00muser_test\u001b[38;5;132;01m}\u001b[39;00m\u001b[38;5;124m:\u001b[39m\u001b[38;5;124m\"\u001b[39m, \u001b[43mhybrid_recommendations\u001b[49m\u001b[43m(\u001b[49m\u001b[43muser_test\u001b[49m\u001b[43m,\u001b[49m\u001b[43m \u001b[49m\u001b[43mtop_n\u001b[49m\u001b[38;5;241;43m=\u001b[39;49m\u001b[38;5;241;43m10\u001b[39;49m\u001b[43m,\u001b[49m\u001b[43m \u001b[49m\u001b[43mcf_weight\u001b[49m\u001b[38;5;241;43m=\u001b[39;49m\u001b[38;5;241;43m0.7\u001b[39;49m\u001b[43m)\u001b[49m)\n\u001b[1;32m      4\u001b[0m \u001b[38;5;28;01melse\u001b[39;00m:\n\u001b[1;32m      5\u001b[0m     \u001b[38;5;28mprint\u001b[39m(\u001b[38;5;124mf\u001b[39m\u001b[38;5;124m\"\u001b[39m\u001b[38;5;124mL\u001b[39m\u001b[38;5;124m'\u001b[39m\u001b[38;5;124mutente \u001b[39m\u001b[38;5;132;01m{\u001b[39;00muser_test\u001b[38;5;132;01m}\u001b[39;00m\u001b[38;5;124m non è presente nei dati di training.\u001b[39m\u001b[38;5;124m\"\u001b[39m)\n",
      "Cell \u001b[0;32mIn[63], line 16\u001b[0m, in \u001b[0;36mhybrid_recommendations\u001b[0;34m(user_id, top_n, cf_weight)\u001b[0m\n\u001b[1;32m     14\u001b[0m antecedents \u001b[38;5;241m=\u001b[39m \u001b[38;5;28mset\u001b[39m(rule[\u001b[38;5;124m'\u001b[39m\u001b[38;5;124mantecedents\u001b[39m\u001b[38;5;124m'\u001b[39m])\n\u001b[1;32m     15\u001b[0m consequents \u001b[38;5;241m=\u001b[39m \u001b[38;5;28mset\u001b[39m(rule[\u001b[38;5;124m'\u001b[39m\u001b[38;5;124mconsequents\u001b[39m\u001b[38;5;124m'\u001b[39m])\n\u001b[0;32m---> 16\u001b[0m \u001b[38;5;28;01mif\u001b[39;00m antecedents\u001b[38;5;241m.\u001b[39missubset(\u001b[43muser_high\u001b[49m):\n\u001b[1;32m     17\u001b[0m     \u001b[38;5;28;01mfor\u001b[39;00m m \u001b[38;5;129;01min\u001b[39;00m consequents:\n\u001b[1;32m     18\u001b[0m         \u001b[38;5;28;01mif\u001b[39;00m m \u001b[38;5;129;01min\u001b[39;00m ar_scores:\n",
      "\u001b[0;31mNameError\u001b[0m: name 'user_high' is not defined"
     ]
    }
   ],
   "source": [
    "user_test = 1\n",
    "if user_test in ratings_matrix.index:\n",
    "    print(f\"Raccomandazioni ibride per utente {user_test}:\", hybrid_recommendations(user_test, top_n=10, cf_weight=0.7))\n",
    "else:\n",
    "    print(f\"L'utente {user_test} non è presente nei dati di training.\")"
   ]
  },
  {
   "cell_type": "code",
   "execution_count": null,
   "id": "7cd7bcad",
   "metadata": {},
   "outputs": [
    {
     "ename": "KeyError",
     "evalue": "np.int64(1640)",
     "output_type": "error",
     "traceback": [
      "\u001b[0;31m---------------------------------------------------------------------------\u001b[0m",
      "\u001b[0;31mKeyError\u001b[0m                                  Traceback (most recent call last)",
      "File \u001b[0;32m/opt/anaconda3/envs/FDSML/lib/python3.10/site-packages/pandas/core/indexes/base.py:3812\u001b[0m, in \u001b[0;36mIndex.get_loc\u001b[0;34m(self, key)\u001b[0m\n\u001b[1;32m   3811\u001b[0m \u001b[38;5;28;01mtry\u001b[39;00m:\n\u001b[0;32m-> 3812\u001b[0m     \u001b[38;5;28;01mreturn\u001b[39;00m \u001b[38;5;28;43mself\u001b[39;49m\u001b[38;5;241;43m.\u001b[39;49m\u001b[43m_engine\u001b[49m\u001b[38;5;241;43m.\u001b[39;49m\u001b[43mget_loc\u001b[49m\u001b[43m(\u001b[49m\u001b[43mcasted_key\u001b[49m\u001b[43m)\u001b[49m\n\u001b[1;32m   3813\u001b[0m \u001b[38;5;28;01mexcept\u001b[39;00m \u001b[38;5;167;01mKeyError\u001b[39;00m \u001b[38;5;28;01mas\u001b[39;00m err:\n",
      "File \u001b[0;32mpandas/_libs/index.pyx:167\u001b[0m, in \u001b[0;36mpandas._libs.index.IndexEngine.get_loc\u001b[0;34m()\u001b[0m\n",
      "File \u001b[0;32mpandas/_libs/index.pyx:196\u001b[0m, in \u001b[0;36mpandas._libs.index.IndexEngine.get_loc\u001b[0;34m()\u001b[0m\n",
      "File \u001b[0;32mpandas/_libs/hashtable_class_helper.pxi:2606\u001b[0m, in \u001b[0;36mpandas._libs.hashtable.Int64HashTable.get_item\u001b[0;34m()\u001b[0m\n",
      "File \u001b[0;32mpandas/_libs/hashtable_class_helper.pxi:2630\u001b[0m, in \u001b[0;36mpandas._libs.hashtable.Int64HashTable.get_item\u001b[0;34m()\u001b[0m\n",
      "\u001b[0;31mKeyError\u001b[0m: 1640",
      "\nThe above exception was the direct cause of the following exception:\n",
      "\u001b[0;31mKeyError\u001b[0m                                  Traceback (most recent call last)",
      "Cell \u001b[0;32mIn[18], line 6\u001b[0m\n\u001b[1;32m      4\u001b[0m \u001b[38;5;28;01mfor\u001b[39;00m _, row \u001b[38;5;129;01min\u001b[39;00m test_data\u001b[38;5;241m.\u001b[39miterrows():\n\u001b[1;32m      5\u001b[0m     uid, mid, true_rating \u001b[38;5;241m=\u001b[39m row[\u001b[38;5;124m'\u001b[39m\u001b[38;5;124muser_id\u001b[39m\u001b[38;5;124m'\u001b[39m], row[\u001b[38;5;124m'\u001b[39m\u001b[38;5;124mmovie_id\u001b[39m\u001b[38;5;124m'\u001b[39m], row[\u001b[38;5;124m'\u001b[39m\u001b[38;5;124mrating\u001b[39m\u001b[38;5;124m'\u001b[39m]\n\u001b[0;32m----> 6\u001b[0m     pred \u001b[38;5;241m=\u001b[39m \u001b[43mpredict_rating\u001b[49m\u001b[43m(\u001b[49m\u001b[43muid\u001b[49m\u001b[43m,\u001b[49m\u001b[43m \u001b[49m\u001b[43mmid\u001b[49m\u001b[43m,\u001b[49m\u001b[43m \u001b[49m\u001b[43mk\u001b[49m\u001b[38;5;241;43m=\u001b[39;49m\u001b[38;5;241;43m5\u001b[39;49m\u001b[43m)\u001b[49m\n\u001b[1;32m      7\u001b[0m     true_ratings\u001b[38;5;241m.\u001b[39mappend(true_rating)\n\u001b[1;32m      8\u001b[0m     predicted_ratings\u001b[38;5;241m.\u001b[39mappend(\u001b[38;5;28mround\u001b[39m(pred))\n",
      "Cell \u001b[0;32mIn[14], line 4\u001b[0m, in \u001b[0;36mpredict_rating\u001b[0;34m(user_id, movie_id, k)\u001b[0m\n\u001b[1;32m      2\u001b[0m \u001b[38;5;28;01mdef\u001b[39;00m\u001b[38;5;250m \u001b[39m\u001b[38;5;21mpredict_rating\u001b[39m(user_id, movie_id, k\u001b[38;5;241m=\u001b[39m\u001b[38;5;241m5\u001b[39m):\n\u001b[1;32m      3\u001b[0m     sim_scores \u001b[38;5;241m=\u001b[39m similarity_df[user_id]\n\u001b[0;32m----> 4\u001b[0m     movie_ratings \u001b[38;5;241m=\u001b[39m \u001b[43mtrain_matrix\u001b[49m\u001b[43m[\u001b[49m\u001b[43mmovie_id\u001b[49m\u001b[43m]\u001b[49m\n\u001b[1;32m      5\u001b[0m     valid_users \u001b[38;5;241m=\u001b[39m movie_ratings[movie_ratings \u001b[38;5;241m>\u001b[39m \u001b[38;5;241m0\u001b[39m]\u001b[38;5;241m.\u001b[39mindex\n\u001b[1;32m      6\u001b[0m     top_users \u001b[38;5;241m=\u001b[39m sim_scores[valid_users]\u001b[38;5;241m.\u001b[39msort_values(ascending\u001b[38;5;241m=\u001b[39m\u001b[38;5;28;01mFalse\u001b[39;00m)\u001b[38;5;241m.\u001b[39mhead(k)\n",
      "File \u001b[0;32m/opt/anaconda3/envs/FDSML/lib/python3.10/site-packages/pandas/core/frame.py:4107\u001b[0m, in \u001b[0;36mDataFrame.__getitem__\u001b[0;34m(self, key)\u001b[0m\n\u001b[1;32m   4105\u001b[0m \u001b[38;5;28;01mif\u001b[39;00m \u001b[38;5;28mself\u001b[39m\u001b[38;5;241m.\u001b[39mcolumns\u001b[38;5;241m.\u001b[39mnlevels \u001b[38;5;241m>\u001b[39m \u001b[38;5;241m1\u001b[39m:\n\u001b[1;32m   4106\u001b[0m     \u001b[38;5;28;01mreturn\u001b[39;00m \u001b[38;5;28mself\u001b[39m\u001b[38;5;241m.\u001b[39m_getitem_multilevel(key)\n\u001b[0;32m-> 4107\u001b[0m indexer \u001b[38;5;241m=\u001b[39m \u001b[38;5;28;43mself\u001b[39;49m\u001b[38;5;241;43m.\u001b[39;49m\u001b[43mcolumns\u001b[49m\u001b[38;5;241;43m.\u001b[39;49m\u001b[43mget_loc\u001b[49m\u001b[43m(\u001b[49m\u001b[43mkey\u001b[49m\u001b[43m)\u001b[49m\n\u001b[1;32m   4108\u001b[0m \u001b[38;5;28;01mif\u001b[39;00m is_integer(indexer):\n\u001b[1;32m   4109\u001b[0m     indexer \u001b[38;5;241m=\u001b[39m [indexer]\n",
      "File \u001b[0;32m/opt/anaconda3/envs/FDSML/lib/python3.10/site-packages/pandas/core/indexes/base.py:3819\u001b[0m, in \u001b[0;36mIndex.get_loc\u001b[0;34m(self, key)\u001b[0m\n\u001b[1;32m   3814\u001b[0m     \u001b[38;5;28;01mif\u001b[39;00m \u001b[38;5;28misinstance\u001b[39m(casted_key, \u001b[38;5;28mslice\u001b[39m) \u001b[38;5;129;01mor\u001b[39;00m (\n\u001b[1;32m   3815\u001b[0m         \u001b[38;5;28misinstance\u001b[39m(casted_key, abc\u001b[38;5;241m.\u001b[39mIterable)\n\u001b[1;32m   3816\u001b[0m         \u001b[38;5;129;01mand\u001b[39;00m \u001b[38;5;28many\u001b[39m(\u001b[38;5;28misinstance\u001b[39m(x, \u001b[38;5;28mslice\u001b[39m) \u001b[38;5;28;01mfor\u001b[39;00m x \u001b[38;5;129;01min\u001b[39;00m casted_key)\n\u001b[1;32m   3817\u001b[0m     ):\n\u001b[1;32m   3818\u001b[0m         \u001b[38;5;28;01mraise\u001b[39;00m InvalidIndexError(key)\n\u001b[0;32m-> 3819\u001b[0m     \u001b[38;5;28;01mraise\u001b[39;00m \u001b[38;5;167;01mKeyError\u001b[39;00m(key) \u001b[38;5;28;01mfrom\u001b[39;00m\u001b[38;5;250m \u001b[39m\u001b[38;5;21;01merr\u001b[39;00m\n\u001b[1;32m   3820\u001b[0m \u001b[38;5;28;01mexcept\u001b[39;00m \u001b[38;5;167;01mTypeError\u001b[39;00m:\n\u001b[1;32m   3821\u001b[0m     \u001b[38;5;66;03m# If we have a listlike key, _check_indexing_error will raise\u001b[39;00m\n\u001b[1;32m   3822\u001b[0m     \u001b[38;5;66;03m#  InvalidIndexError. Otherwise we fall through and re-raise\u001b[39;00m\n\u001b[1;32m   3823\u001b[0m     \u001b[38;5;66;03m#  the TypeError.\u001b[39;00m\n\u001b[1;32m   3824\u001b[0m     \u001b[38;5;28mself\u001b[39m\u001b[38;5;241m.\u001b[39m_check_indexing_error(key)\n",
      "\u001b[0;31mKeyError\u001b[0m: np.int64(1640)"
     ]
    }
   ],
   "source": [
    "# Valutazione del modello\n",
    "true_ratings = []\n",
    "predicted_ratings = []\n",
    "for _, row in test_data.iterrows():\n",
    "    uid, mid, true_rating = row['user_id'], row['movie_id'], row['rating']\n",
    "    pred = predict_rating(uid, mid, k=5)\n",
    "    true_ratings.append(true_rating)\n",
    "    predicted_ratings.append(round(pred))\n",
    "\n",
    "accuracy = accuracy_score(true_ratings, predicted_ratings)\n",
    "precision = precision_score(true_ratings, predicted_ratings, average='macro')\n",
    "recall = recall_score(true_ratings, predicted_ratings, average='macro')\n",
    "f1 = f1_score(true_ratings, predicted_ratings, average='macro')\n",
    "\n",
    "print(f\"Accuracy: {accuracy:.2f}\")\n",
    "print(f\"Precision: {precision:.2f}\")\n",
    "print(f\"Recall: {recall:.2f}\")\n",
    "print(f\"F1 Score: {f1:.2f}\")\n"
   ]
  }
 ],
 "metadata": {
  "kernelspec": {
   "display_name": "FDSML",
   "language": "python",
   "name": "python3"
  },
  "language_info": {
   "codemirror_mode": {
    "name": "ipython",
    "version": 3
   },
   "file_extension": ".py",
   "mimetype": "text/x-python",
   "name": "python",
   "nbconvert_exporter": "python",
   "pygments_lexer": "ipython3",
   "version": "3.10.18"
  }
 },
 "nbformat": 4,
 "nbformat_minor": 5
}
