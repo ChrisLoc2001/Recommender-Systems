{
 "cells": [
  {
   "cell_type": "markdown",
   "id": "64cfcc3a",
   "metadata": {},
   "source": [
    "# Hybrid CF (Ideal case)"
   ]
  },
  {
   "cell_type": "code",
   "execution_count": 1,
   "id": "616abd65",
   "metadata": {},
   "outputs": [],
   "source": [
    "import pandas as pd\n",
    "import numpy as np\n",
    "from sklearn.metrics.pairwise import cosine_similarity, pairwise_distances\n",
    "from sklearn.model_selection import train_test_split\n",
    "from sklearn.metrics import accuracy_score, precision_score, recall_score, mean_absolute_error, mean_squared_error\n",
    "from scipy.sparse.linalg import svds\n",
    "from sklearn.metrics import silhouette_score\n",
    "from mlxtend.frequent_patterns import apriori, association_rules\n",
    "import math\n",
    "from functools import reduce\n"
   ]
  },
  {
   "cell_type": "code",
   "execution_count": 2,
   "id": "fcfcb16a",
   "metadata": {},
   "outputs": [
    {
     "name": "stdout",
     "output_type": "stream",
     "text": [
      "   user_id  movie_id  rating\n",
      "0      196       242       3\n",
      "1      186       302       3\n",
      "2       22       377       1\n",
      "3      244        51       2\n",
      "4      166       346       1\n"
     ]
    }
   ],
   "source": [
    "# Sezione 1: Caricamento dati (MovieLens 100k)\n",
    "\n",
    "url = \"../datasets/ml-100k/u.data\"\n",
    "columns = ['user_id', 'movie_id', 'rating', 'timestamp']\n",
    "df = pd.read_csv(url, sep='\\t', names=columns)\n",
    "df.drop(columns='timestamp', inplace=True)\n",
    "\n",
    "print(df.head())"
   ]
  },
  {
   "cell_type": "code",
   "execution_count": 3,
   "id": "3d852e3f",
   "metadata": {},
   "outputs": [],
   "source": [
    "# Sezione 2: Split train/test e train_matrix\n",
    "\n",
    "train_data, test_data = train_test_split(df, test_size=0.3, random_state=42)"
   ]
  },
  {
   "cell_type": "code",
   "execution_count": 4,
   "id": "58992b9b",
   "metadata": {},
   "outputs": [
    {
     "name": "stdout",
     "output_type": "stream",
     "text": [
      "Utenti in test NaN in train (cold users): 0\n",
      "set()\n",
      "Film in test NaN in train (cold items): 51\n",
      "{1536, 1156, 1669, 1290, 907, 1546, 1674, 1675, 1551, 1677, 913, 1681, 1682, 1433, 1565, 1320, 1577, 1452, 1453, 814, 1583, 1201, 1587, 1460, 1596, 1599, 1600, 1601, 1603, 1476, 1349, 1352, 1611, 1614, 1619, 1364, 1493, 1494, 599, 1625, 1630, 1632, 1122, 1507, 1637, 1640, 1641, 1648, 1649, 1651, 1655}\n"
     ]
    }
   ],
   "source": [
    "# Sezione 3: Controlli i casi di cold start per user e movie\n",
    "\n",
    "# Estrai gli insiemi di ID\n",
    "train_users = set(train_data['user_id'].unique())\n",
    "test_users  = set(test_data ['user_id'].unique())\n",
    "\n",
    "train_movies = set(train_data['movie_id'].unique())\n",
    "test_movies  = set(test_data ['movie_id'].unique())\n",
    "\n",
    "# Trova quelli “cold” (presenti in test ma non in train)\n",
    "cold_users  = test_users  - train_users\n",
    "cold_movies = test_movies - train_movies\n",
    "\n",
    "print(f\"Utenti in test NaN in train (cold users): {len(cold_users)}\")  \n",
    "print(cold_users)  # se vuoi la lista completa\n",
    "\n",
    "print(f\"Film in test NaN in train (cold items): {len(cold_movies)}\")  \n",
    "print(cold_movies)"
   ]
  },
  {
   "cell_type": "code",
   "execution_count": 5,
   "id": "5d849a31",
   "metadata": {},
   "outputs": [],
   "source": [
    "# Sezione 3.1: Rimuovo i casi di cold start e creo la situazione ideale (Creo caso ideale)\n",
    "\n",
    "# Filtra il test_data lasciando solo le righe “note” al train\n",
    "test_data_clean = test_data[\n",
    "    test_data['user_id'].isin(train_users) &\n",
    "    test_data['movie_id'].isin(train_movies)\n",
    "].copy()\n",
    "\n",
    "# Verifico che non ci siano più cold-start\n",
    "cold_users  = set(test_data_clean['user_id'])  - train_users\n",
    "cold_movies = set(test_data_clean['movie_id']) - train_movies\n",
    "assert len(cold_users)  == 0, \"Ci sono ancora utenti cold-start!\"\n",
    "assert len(cold_movies) == 0, \"Ci sono ancora film cold-start!\"\n"
   ]
  },
  {
   "cell_type": "code",
   "execution_count": 6,
   "id": "3296e50c",
   "metadata": {},
   "outputs": [
    {
     "name": "stdout",
     "output_type": "stream",
     "text": [
      "Numero utenti: 943, Numero item: 1631\n",
      "Ratings non nulli: 70000\n",
      "Sparsità: 95.45%\n",
      "Numero di film senza alcun voto nel train set: 0\n",
      "Numero di utenti che non hanno votato nessun film: 0\n"
     ]
    }
   ],
   "source": [
    "# Sezione 4: Matrice utente-item e sparsità\n",
    "\n",
    "train_rating_matrix_raw = train_data.pivot_table(index='user_id', columns='movie_id', values='rating')\n",
    "test_rating_matrix = test_data.pivot_table(index='user_id', columns='movie_id', values='rating')\n",
    "n_users, n_items = train_rating_matrix_raw.shape\n",
    "nnz = train_rating_matrix_raw.count().sum()\n",
    "sparsity = 1 - nnz / (n_users * n_items)\n",
    "print(f\"Numero utenti: {n_users}, Numero item: {n_items}\")\n",
    "print(f\"Ratings non nulli: {nnz}\")\n",
    "print(f\"Sparsità: {sparsity:.2%}\")\n",
    "\n",
    "# Trova film (colonne) che non sono mai stati votati nel train set\n",
    "empty_movies = train_rating_matrix_raw.isna().all(axis=0)\n",
    "\n",
    "# Conta quanti sono\n",
    "print(\"Numero di film senza alcun voto nel train set:\", empty_movies.sum())\n",
    "\n",
    "# Trova user (righe) che non hanno mai votato nel train set\n",
    "lazy_users = train_rating_matrix_raw.isna().all(axis=1)\n",
    "\n",
    "# Conta quanti sono\n",
    "print(\"Numero di utenti che non hanno votato nessun film:\", lazy_users.sum())"
   ]
  },
  {
   "cell_type": "code",
   "execution_count": 7,
   "id": "c83ad905",
   "metadata": {},
   "outputs": [
    {
     "data": {
      "image/png": "[encoded data removed]",
      "text/plain": [
       "<Figure size 800x500 with 1 Axes>"
      ]
     },
     "metadata": {},
     "output_type": "display_data"
    }
   ],
   "source": [
    "import matplotlib.pyplot as plt\n",
    "\n",
    "# 1. Costruisci la matrice sparse\n",
    "train_rating_matrix_raw = train_data.pivot_table(\n",
    "    index='user_id', columns='movie_id', values='rating'\n",
    ")\n",
    "\n",
    "# 2. Calcola numeri assoluti e percentuali\n",
    "n_users, n_items = train_rating_matrix_raw.shape\n",
    "nnz = train_rating_matrix_raw.count().sum()\n",
    "total = n_users * n_items\n",
    "n_null = total - nnz\n",
    "\n",
    "perc_non_null = nnz / total * 100\n",
    "perc_null     = n_null / total * 100\n",
    "\n",
    "# 3. Disegna il bar‐chart delle percentuali\n",
    "labels = ['Ratings non nulli', 'Ratings nulli']\n",
    "values = [perc_non_null, perc_null]\n",
    "\n",
    "plt.figure(figsize=(8, 5))\n",
    "bars = plt.bar(labels, values)\n",
    "plt.ylabel('Percentuale (%)')\n",
    "plt.title('Percentuale di celle non nulle vs nulle\\nnella matrice utente–item di train')\n",
    "\n",
    "# Annotazioni con valori percentuali\n",
    "for bar in bars:\n",
    "    h = bar.get_height()\n",
    "    plt.annotate(f'{h:.2f}%',\n",
    "                 xy=(bar.get_x() + bar.get_width()/2, h),\n",
    "                 xytext=(0, 5), textcoords='offset points',\n",
    "                 ha='center', va='bottom')\n",
    "\n",
    "plt.tight_layout()\n",
    "plt.show()\n"
   ]
  },
  {
   "cell_type": "code",
   "execution_count": 8,
   "id": "9250c32d",
   "metadata": {},
   "outputs": [],
   "source": [
    "# Sezione 5: Calcolo similarita: per gli utenti usiamo Pearson e per gli item usiamo cosine\n",
    "\n",
    "# Centra la matrice per utenti (riga)\n",
    "R_centered = train_rating_matrix_raw.sub(train_rating_matrix_raw.mean(axis=1), axis=0)\n",
    "R_filled_user = R_centered.fillna(0)\n",
    "\n",
    "# Similarità utenti con Pearson \n",
    "sim_pearson_u = 1 - pairwise_distances(R_filled_user, metric='correlation')\n",
    "user_similarity = pd.DataFrame(sim_pearson_u,\n",
    "                               index=train_rating_matrix_raw.index,\n",
    "                               columns=train_rating_matrix_raw.index)\n",
    "\n",
    "# Transponi la matrice (items come righe) e riempi i NaN con 0\n",
    "R_filled_item = train_rating_matrix_raw.T.fillna(0)\n",
    "\n",
    "# Calcola la similarità cosine sugli item\n",
    "sim_cosine_i = cosine_similarity(R_filled_item)\n",
    "\n",
    "# Ricostruisci in DataFrame con gli stessi indici/colonne\n",
    "item_similarity = pd.DataFrame(sim_cosine_i,\n",
    "                               index=train_rating_matrix_raw.columns,\n",
    "                               columns=train_rating_matrix_raw.columns)\n"
   ]
  },
  {
   "cell_type": "code",
   "execution_count": 9,
   "id": "8687a903",
   "metadata": {},
   "outputs": [
    {
     "name": "stdout",
     "output_type": "stream",
     "text": [
      "Similarità utenti (Pearson):\n",
      "user_id       1         2         3         4         5         6         7    \\\n",
      "user_id                                                                         \n",
      "1        1.000000  0.025596 -0.011685  0.074057  0.051482  0.047608  0.106999   \n",
      "2        0.025596  1.000000  0.008961  0.005184  0.018338  0.074488  0.043858   \n",
      "3       -0.011685  0.008961  1.000000  0.051455  0.000000 -0.025470 -0.015642   \n",
      "4        0.074057  0.005184  0.051455  1.000000 -0.004354 -0.047942 -0.002955   \n",
      "5        0.051482  0.018338  0.000000 -0.004354  1.000000  0.013809  0.060387   \n",
      "\n",
      "user_id       8         9         10   ...       934       935       936  \\\n",
      "user_id                                ...                                 \n",
      "1        0.146086  0.006382 -0.036835  ...  0.026456 -0.040338  0.062600   \n",
      "2        0.003289  0.048231 -0.011779  ... -0.008638  0.006990  0.038276   \n",
      "3        0.017638 -0.005761  0.005342  ... -0.003087 -0.003481 -0.036075   \n",
      "4        0.034466 -0.002787 -0.014434  ... -0.012544  0.004715 -0.000285   \n",
      "5        0.104310  0.018643 -0.010399  ...  0.027810 -0.097777  0.017133   \n",
      "\n",
      "user_id       937       938       939       940       941       942       943  \n",
      "user_id                                                                        \n",
      "1       -0.004938  0.028970  0.112058  0.024172 -0.003368 -0.053440  0.028894  \n",
      "2        0.039893 -0.011225  0.029783  0.034334  0.002481  0.006037  0.007945  \n",
      "3       -0.020791 -0.019853  0.000000 -0.025716  0.016064  0.018054  0.000000  \n",
      "4       -0.081568  0.041120  0.000000  0.053082 -0.043519 -0.026840 -0.020046  \n",
      "5        0.026375  0.073854  0.059318 -0.006414  0.043398  0.031094  0.100773  \n",
      "\n",
      "[5 rows x 943 columns]\n",
      "\n",
      "Similarità item (Cosine):\n",
      "movie_id      1         2         3         4         5         6     \\\n",
      "movie_id                                                               \n",
      "1         1.000000  0.280512  0.251085  0.272695  0.171920  0.102154   \n",
      "2         0.280512  1.000000  0.134951  0.313265  0.292790  0.000000   \n",
      "3         0.251085  0.134951  1.000000  0.232714  0.125050  0.060708   \n",
      "4         0.272695  0.313265  0.232714  1.000000  0.237923  0.006507   \n",
      "5         0.171920  0.292790  0.125050  0.237923  1.000000  0.000000   \n",
      "\n",
      "movie_id      7         8         9         10    ...  1667  1668  1670  1671  \\\n",
      "movie_id                                          ...                           \n",
      "1         0.434563  0.345052  0.339050  0.183290  ...   0.0   0.0   0.0   0.0   \n",
      "2         0.281012  0.290431  0.199053  0.087958  ...   0.0   0.0   0.0   0.0   \n",
      "3         0.248598  0.157063  0.209145  0.092171  ...   0.0   0.0   0.0   0.0   \n",
      "4         0.323035  0.331840  0.244310  0.170880  ...   0.0   0.0   0.0   0.0   \n",
      "5         0.225561  0.158862  0.178741  0.020039  ...   0.0   0.0   0.0   0.0   \n",
      "\n",
      "movie_id      1672      1673      1676  1678  1679  1680  \n",
      "movie_id                                                  \n",
      "1         0.000000  0.043778  0.000000   0.0   0.0   0.0  \n",
      "2         0.066848  0.000000  0.000000   0.0   0.0   0.0  \n",
      "3         0.000000  0.000000  0.000000   0.0   0.0   0.0  \n",
      "4         0.000000  0.000000  0.112709   0.0   0.0   0.0  \n",
      "5         0.000000  0.000000  0.000000   0.0   0.0   0.0  \n",
      "\n",
      "[5 rows x 1631 columns]\n"
     ]
    }
   ],
   "source": [
    "# Sezione 5.1: matrici di similarità\n",
    "\n",
    "print(\"Similarità utenti (Pearson):\")\n",
    "print(user_similarity.head())\n",
    "\n",
    "print(\"\\nSimilarità item (Cosine):\")\n",
    "print(item_similarity.head())"
   ]
  },
  {
   "cell_type": "code",
   "execution_count": 10,
   "id": "f62e6455",
   "metadata": {},
   "outputs": [
    {
     "data": {
      "image/png": "[encoded data removed]",
      "text/plain": [
       "<Figure size 800x400 with 1 Axes>"
      ]
     },
     "metadata": {},
     "output_type": "display_data"
    },
    {
     "data": {
      "image/png": "[encoded data removed]",
      "text/plain": [
       "<Figure size 800x400 with 1 Axes>"
      ]
     },
     "metadata": {},
     "output_type": "display_data"
    }
   ],
   "source": [
    "import matplotlib.pyplot as plt\n",
    "import numpy as np\n",
    "\n",
    "# Dopo aver calcolato user_similarity e item_similarity:\n",
    "# (es. con il tuo codice già eseguito in precedenza)\n",
    "\n",
    "# Estrai i valori escludendo la diagonale\n",
    "us_vals = user_similarity.values[np.triu_indices_from(user_similarity, k=1)]\n",
    "is_vals = item_similarity.values[np.triu_indices_from(item_similarity, k=1)]\n",
    "\n",
    "# Rimuovi eventuali NaN\n",
    "us_vals = us_vals[~np.isnan(us_vals)]\n",
    "is_vals = is_vals[~np.isnan(is_vals)]\n",
    "\n",
    "# Grafico per user-based similarity\n",
    "plt.figure(figsize=(8, 4))\n",
    "plt.hist(us_vals, bins=50)\n",
    "plt.xlabel('Similarità utenti (Pearson)')\n",
    "plt.ylabel('Frequenza')\n",
    "plt.title('Distribuzione delle similarità utenti')\n",
    "plt.tight_layout()\n",
    "plt.show()\n",
    "\n",
    "# Grafico per item-based similarity\n",
    "plt.figure(figsize=(8, 4))\n",
    "plt.hist(is_vals, bins=50)\n",
    "plt.xlabel('Similarità item (Cosine)')\n",
    "plt.ylabel('Frequenza')\n",
    "plt.title('Distribuzione delle similarità item')\n",
    "plt.tight_layout()\n",
    "plt.show()\n"
   ]
  },
  {
   "cell_type": "code",
   "execution_count": 11,
   "id": "1cc6bee7",
   "metadata": {},
   "outputs": [
    {
     "name": "stdout",
     "output_type": "stream",
     "text": [
      "Numero di NaN in user_similarity: 0\n",
      "Numero di NaN in item_similarity: 0\n"
     ]
    }
   ],
   "source": [
    "# Sezione 5.2: Cotrollo NaN in similarià\n",
    "\n",
    "# Numero di NaN nella matrice di similarità utenti (Pearson)\n",
    "num_nan_user = user_similarity.isna().sum().sum()\n",
    "print(f\"Numero di NaN in user_similarity: {num_nan_user}\")\n",
    "\n",
    "# Numero di NaN nella matrice di similarità item (Cosine)\n",
    "num_nan_item = item_similarity.isna().sum().sum()\n",
    "print(f\"Numero di NaN in item_similarity: {num_nan_item}\")\n"
   ]
  },
  {
   "cell_type": "code",
   "execution_count": 12,
   "id": "61c54d45",
   "metadata": {},
   "outputs": [],
   "source": [
    "# Sezione 6: Calcolo predizione per user\n",
    "\n",
    "# 1. Media dei voti per ogni utente \n",
    "user_means = train_rating_matrix_raw.replace(0, np.nan).mean(axis=1)\n",
    "\n",
    "# 2. Scarti rispetto alla media \n",
    "user_centered = train_rating_matrix_raw.sub(user_means, axis=0).fillna(0)\n",
    "\n",
    "# 3. Numeratore: somma pesata degli scarti \n",
    "numerator_user = user_similarity.dot(user_centered) \n",
    "\n",
    "# 4. Denominatore: somma dei valori assoluti delle similarità \n",
    "denominator_user = np.abs(user_similarity).sum(axis=1) \n",
    "\n",
    "# 5. Divisione e aggiunta della media \n",
    "P_user = numerator_user.div(denominator_user, axis=0).add(user_means, axis=0)\n"
   ]
  },
  {
   "cell_type": "code",
   "execution_count": 13,
   "id": "08110dd0",
   "metadata": {},
   "outputs": [],
   "source": [
    "# Sezione 6.1: Calcolo predizione per item\n",
    "\n",
    "# 2. Numeratore: somma pesata degli scarti \n",
    "numerator_item = user_centered.dot(item_similarity) \n",
    "\n",
    "# 3. Denominatore: somma dei valori assoluti\n",
    "denominator_item = np.abs(item_similarity).sum(axis=1)  \n",
    "\n",
    "# 4. Divisione e aggiunta della media \n",
    "P_item = numerator_item.div(denominator_item, axis=1).add(user_means, axis=0)\n"
   ]
  },
  {
   "cell_type": "code",
   "execution_count": 14,
   "id": "39af5958",
   "metadata": {},
   "outputs": [],
   "source": [
    "# Sezione 7: matrice ibrida con tuning sui pesi(alpha)\n",
    "\n",
    "# Quanto pesare user-based vs item-based\n",
    "alphas = np.arange(0, 1.1, 0.1)\n",
    "hybrid_predictions = {}\n",
    "\n",
    "for alpha in alphas:\n",
    "    P_hybrid = alpha * P_user + (1 - alpha) * P_item\n",
    "    hybrid_predictions[round(alpha, 2)] = P_hybrid"
   ]
  },
  {
   "cell_type": "code",
   "execution_count": 15,
   "id": "a61a43c1",
   "metadata": {},
   "outputs": [
    {
     "name": "stdout",
     "output_type": "stream",
     "text": [
      "{0.0: movie_id      1         2         3         4         5         6     \\\n",
      "user_id                                                                \n",
      "1         3.736224  3.712647  3.731159  3.738386  3.707964  3.778865   \n",
      "2         3.904141  3.899276  3.898759  3.901267  3.898496  3.906960   \n",
      "3         2.788633  2.790097  2.787795  2.789273  2.788358  2.788292   \n",
      "4         4.496187  4.496094  4.496584  4.496399  4.496066  4.501237   \n",
      "5         2.898034  2.879530  2.881789  2.884192  2.872006  2.881007   \n",
      "...            ...       ...       ...       ...       ...       ...   \n",
      "939       4.341390  4.337972  4.339831  4.338814  4.338557  4.337703   \n",
      "940       3.489101  3.487831  3.482882  3.483343  3.484742  3.482780   \n",
      "941       4.335437  4.333832  4.331832  4.333467  4.333078  4.336151   \n",
      "942       4.320852  4.321308  4.318694  4.321581  4.317483  4.318969   \n",
      "943       3.417944  3.426107  3.414544  3.423229  3.417544  3.412836   \n",
      "\n",
      "movie_id      7         8         9         10    ...      1667      1668  \\\n",
      "user_id                                           ...                       \n",
      "1         3.745532  3.734787  3.757076  3.773932  ...  3.694618  3.694618   \n",
      "2         3.902783  3.902357  3.903838  3.904812  ...  3.898572  3.898572   \n",
      "3         2.789008  2.789444  2.790268  2.791272  ...  2.781568  2.781568   \n",
      "4         4.496359  4.497102  4.497977  4.497588  ...  4.501430  4.501430   \n",
      "5         2.895345  2.884677  2.886720  2.891758  ...  2.857894  2.857894   \n",
      "...            ...       ...       ...       ...  ...       ...       ...   \n",
      "939       4.341368  4.339357  4.343608  4.339042  ...  4.332042  4.332042   \n",
      "940       3.488114  3.488678  3.488734  3.482873  ...  3.466500  3.466500   \n",
      "941       4.334386  4.333752  4.334313  4.335685  ...  4.333389  4.333389   \n",
      "942       4.318632  4.321606  4.320838  4.321503  ...  4.305604  4.305604   \n",
      "943       3.425190  3.416016  3.422618  3.408997  ...  3.398737  3.398737   \n",
      "\n",
      "movie_id      1670      1671      1672      1673      1676      1678  \\\n",
      "user_id                                                                \n",
      "1         3.694618  3.726864  3.754626  3.769795  3.632699  3.717320   \n",
      "2         3.898572  3.913864  3.906199  3.930836  3.897414  3.885768   \n",
      "3         2.781568  2.854396  2.800874  2.767436  2.783085  2.828902   \n",
      "4         4.501430  4.562697  4.499648  4.495450  4.492999  4.528108   \n",
      "5         2.857894  2.816042  2.894889  2.881876  2.846185  2.854723   \n",
      "...            ...       ...       ...       ...       ...       ...   \n",
      "939       4.332042  4.345897  4.339072  4.355890  4.294663  4.338696   \n",
      "940       3.466500  3.509877  3.480745  3.439069  3.450834  3.458779   \n",
      "941       4.333389  4.326834  4.330457  4.329777  4.330777  4.330477   \n",
      "942       4.305604  4.260092  4.309849  4.289659  4.321769  4.310488   \n",
      "943       3.398737  3.398305  3.418804  3.522550  3.412746  3.398305   \n",
      "\n",
      "movie_id      1679      1680  \n",
      "user_id                       \n",
      "1         3.717320  3.717320  \n",
      "2         3.885768  3.885768  \n",
      "3         2.828902  2.828902  \n",
      "4         4.528108  4.528108  \n",
      "5         2.854723  2.854723  \n",
      "...            ...       ...  \n",
      "939       4.338696  4.338696  \n",
      "940       3.458779  3.458779  \n",
      "941       4.330477  4.330477  \n",
      "942       4.310488  4.310488  \n",
      "943       3.398305  3.398305  \n",
      "\n",
      "[943 rows x 1631 columns], 0.1: movie_id      1         2         3         4         5         6     \\\n",
      "user_id                                                                \n",
      "1         3.742445  3.707305  3.725778  3.736825  3.702359  3.770888   \n",
      "2         3.908576  3.897984  3.896835  3.900755  3.897280  3.906320   \n",
      "3         2.790347  2.790614  2.785852  2.790545  2.787153  2.788806   \n",
      "4         4.494433  4.497686  4.496192  4.495306  4.496646  4.500582   \n",
      "5         2.913590  2.874410  2.875934  2.882665  2.868562  2.879023   \n",
      "...            ...       ...       ...       ...       ...       ...   \n",
      "939       4.346349  4.335953  4.337900  4.339812  4.337204  4.337308   \n",
      "940       3.492979  3.485066  3.482733  3.475115  3.484416  3.482438   \n",
      "941       4.364097  4.331948  4.328299  4.333885  4.332783  4.336242   \n",
      "942       4.324562  4.319565  4.317982  4.320692  4.318390  4.318747   \n",
      "943       3.427307  3.426275  3.409223  3.422728  3.413223  3.411477   \n",
      "\n",
      "movie_id      7         8         9         10    ...      1667      1668  \\\n",
      "user_id                                           ...                       \n",
      "1         3.755590  3.739833  3.769856  3.770745  ...  3.695698  3.695698   \n",
      "2         3.905840  3.904397  3.909506  3.904618  ...  3.898468  3.898468   \n",
      "3         2.789515  2.790217  2.794295  2.793419  ...  2.782351  2.782351   \n",
      "4         4.493493  4.498977  4.496953  4.499166  ...  4.501233  4.501233   \n",
      "5         2.905070  2.889254  2.887531  2.888838  ...  2.857952  2.857952   \n",
      "...            ...       ...       ...       ...  ...       ...       ...   \n",
      "939       4.347832  4.341340  4.360516  4.337344  ...  4.332326  4.332326   \n",
      "940       3.493285  3.491186  3.487676  3.483504  ...  3.467986  3.467986   \n",
      "941       4.339287  4.339184  4.336991  4.336784  ...  4.333401  4.333401   \n",
      "942       4.316299  4.324659  4.321577  4.320829  ...  4.306593  4.306593   \n",
      "943       3.432570  3.422794  3.426850  3.409549  ...  3.398694  3.398694   \n",
      "\n",
      "movie_id      1670      1671      1672      1673      1676      1678  \\\n",
      "user_id                                                                \n",
      "1         3.695698  3.724518  3.749291  3.763276  3.639798  3.716113   \n",
      "2         3.898468  3.912152  3.905133  3.927500  3.897304  3.887088   \n",
      "3         2.782351  2.847459  2.799582  2.769696  2.783120  2.825322   \n",
      "4         4.501233  4.556118  4.499615  4.496277  4.493455  4.525396   \n",
      "5         2.857952  2.820368  2.891018  2.879691  2.847216  2.854929   \n",
      "...            ...       ...       ...       ...       ...       ...   \n",
      "939       4.332326  4.344501  4.338456  4.353604  4.298051  4.337988   \n",
      "940       3.467986  3.506643  3.480704  3.443540  3.453838  3.460675   \n",
      "941       4.333401  4.327581  4.330618  4.330201  4.331081  4.330971   \n",
      "942       4.306593  4.265985  4.310546  4.292449  4.320908  4.311151   \n",
      "943       3.398694  3.398305  3.416446  3.509940  3.411039  3.398305   \n",
      "\n",
      "movie_id      1679      1680  \n",
      "user_id                       \n",
      "1         3.716114  3.716113  \n",
      "2         3.886952  3.887020  \n",
      "3         2.825000  2.825161  \n",
      "4         4.525308  4.525352  \n",
      "5         2.855066  2.854998  \n",
      "...            ...       ...  \n",
      "939       4.338140  4.338064  \n",
      "940       3.461007  3.460841  \n",
      "941       4.330786  4.330878  \n",
      "942       4.311033  4.311092  \n",
      "943       3.398305  3.398305  \n",
      "\n",
      "[943 rows x 1631 columns], 0.2: movie_id      1         2         3         4         5         6     \\\n",
      "user_id                                                                \n",
      "1         3.748666  3.701962  3.720396  3.735265  3.696753  3.762911   \n",
      "2         3.913012  3.896693  3.894911  3.900244  3.896064  3.905680   \n",
      "3         2.792062  2.791132  2.783909  2.791817  2.785947  2.789321   \n",
      "4         4.492680  4.499278  4.495800  4.494213  4.497225  4.499927   \n",
      "5         2.929146  2.869291  2.870079  2.881138  2.865119  2.877039   \n",
      "...            ...       ...       ...       ...       ...       ...   \n",
      "939       4.351308  4.333935  4.335969  4.340810  4.335851  4.336913   \n",
      "940       3.496857  3.482300  3.482584  3.466887  3.484090  3.482096   \n",
      "941       4.392757  4.330064  4.324765  4.334302  4.332488  4.336333   \n",
      "942       4.328271  4.317822  4.317269  4.319803  4.319297  4.318524   \n",
      "943       3.436669  3.426444  3.403902  3.422227  3.408902  3.410118   \n",
      "\n",
      "movie_id      7         8         9         10    ...      1667      1668  \\\n",
      "user_id                                           ...                       \n",
      "1         3.765649  3.744879  3.782636  3.767559  ...  3.696779  3.696779   \n",
      "2         3.908898  3.906437  3.915175  3.904424  ...  3.898364  3.898364   \n",
      "3         2.790023  2.790991  2.798322  2.795566  ...  2.783133  2.783133   \n",
      "4         4.490627  4.500852  4.495929  4.500744  ...  4.501036  4.501036   \n",
      "5         2.914795  2.893832  2.888342  2.885917  ...  2.858009  2.858009   \n",
      "...            ...       ...       ...       ...  ...       ...       ...   \n",
      "939       4.354297  4.343324  4.377425  4.335645  ...  4.332610  4.332610   \n",
      "940       3.498456  3.493694  3.486618  3.484134  ...  3.469472  3.469472   \n",
      "941       4.344189  4.344616  4.339669  4.337884  ...  4.333413  4.333413   \n",
      "942       4.313965  4.327713  4.322317  4.320156  ...  4.307582  4.307582   \n",
      "943       3.439950  3.429572  3.431081  3.410101  ...  3.398652  3.398652   \n",
      "\n",
      "movie_id      1670      1671      1672      1673      1676      1678  \\\n",
      "user_id                                                                \n",
      "1         3.696779  3.722172  3.743957  3.756758  3.646898  3.714905   \n",
      "2         3.898364  3.910439  3.904067  3.924165  3.897194  3.888409   \n",
      "3         2.783133  2.840521  2.798289  2.771956  2.783155  2.821743   \n",
      "4         4.501036  4.549540  4.499582  4.497104  4.493911  4.522684   \n",
      "5         2.858009  2.824694  2.887147  2.877506  2.848247  2.855135   \n",
      "...            ...       ...       ...       ...       ...       ...   \n",
      "939       4.332610  4.343105  4.337839  4.351318  4.301439  4.337279   \n",
      "940       3.469472  3.503408  3.480662  3.448010  3.456841  3.462571   \n",
      "941       4.333413  4.328328  4.330780  4.330626  4.331386  4.331464   \n",
      "942       4.307582  4.271877  4.311242  4.295240  4.320048  4.311813   \n",
      "943       3.398652  3.398305  3.414088  3.497330  3.409331  3.398305   \n",
      "\n",
      "movie_id      1679      1680  \n",
      "user_id                       \n",
      "1         3.714908  3.714907  \n",
      "2         3.888136  3.888273  \n",
      "3         2.821099  2.821421  \n",
      "4         4.522509  4.522597  \n",
      "5         2.855410  2.855273  \n",
      "...            ...       ...  \n",
      "939       4.337585  4.337432  \n",
      "940       3.463234  3.462903  \n",
      "941       4.331095  4.331280  \n",
      "942       4.311579  4.311696  \n",
      "943       3.398305  3.398305  \n",
      "\n",
      "[943 rows x 1631 columns], 0.3: movie_id      1         2         3         4         5         6     \\\n",
      "user_id                                                                \n",
      "1         3.754888  3.696620  3.715015  3.733705  3.691147  3.754934   \n",
      "2         3.917448  3.895402  3.892987  3.899732  3.894848  3.905040   \n",
      "3         2.793776  2.791650  2.781966  2.793089  2.784741  2.789835   \n",
      "4         4.490926  4.500869  4.495409  4.493120  4.497805  4.499272   \n",
      "5         2.944702  2.864171  2.864223  2.879612  2.861675  2.875055   \n",
      "...            ...       ...       ...       ...       ...       ...   \n",
      "939       4.356267  4.331917  4.334038  4.341808  4.334498  4.336517   \n",
      "940       3.500735  3.479535  3.482435  3.458660  3.483764  3.481754   \n",
      "941       4.421417  4.328179  4.321231  4.334720  4.332192  4.336424   \n",
      "942       4.331980  4.316080  4.316556  4.318914  4.320204  4.318302   \n",
      "943       3.446032  3.426613  3.398581  3.421725  3.404582  3.408760   \n",
      "\n",
      "movie_id      7         8         9         10    ...      1667      1668  \\\n",
      "user_id                                           ...                       \n",
      "1         3.775707  3.749926  3.795416  3.764372  ...  3.697859  3.697859   \n",
      "2         3.911956  3.908476  3.920843  3.904229  ...  3.898260  3.898260   \n",
      "3         2.790531  2.791765  2.802349  2.797713  ...  2.783916  2.783916   \n",
      "4         4.487761  4.502728  4.494906  4.502322  ...  4.500838  4.500838   \n",
      "5         2.924520  2.898409  2.889153  2.882997  ...  2.858067  2.858067   \n",
      "...            ...       ...       ...       ...  ...       ...       ...   \n",
      "939       4.360761  4.345307  4.394333  4.333947  ...  4.332894  4.332894   \n",
      "940       3.503627  3.496201  3.485561  3.484764  ...  3.470959  3.470959   \n",
      "941       4.349090  4.350049  4.342348  4.338983  ...  4.333425  4.333425   \n",
      "942       4.311631  4.330766  4.323056  4.319483  ...  4.308572  4.308572   \n",
      "943       3.447330  3.436350  3.435313  3.410653  ...  3.398609  3.398609   \n",
      "\n",
      "movie_id      1670      1671      1672      1673      1676      1678  \\\n",
      "user_id                                                                \n",
      "1         3.697859  3.719826  3.738622  3.750240  3.653997  3.713698   \n",
      "2         3.898260  3.908727  3.903002  3.920829  3.897085  3.889730   \n",
      "3         2.783916  2.833584  2.796997  2.774216  2.783189  2.818163   \n",
      "4         4.500838  4.542962  4.499549  4.497931  4.494367  4.519973   \n",
      "5         2.858067  2.829020  2.883276  2.875321  2.849278  2.855342   \n",
      "...            ...       ...       ...       ...       ...       ...   \n",
      "939       4.332894  4.341708  4.337222  4.349032  4.304826  4.336570   \n",
      "940       3.470959  3.500173  3.480621  3.452480  3.459845  3.464468   \n",
      "941       4.333425  4.329076  4.330942  4.331050  4.331691  4.331958   \n",
      "942       4.308572  4.277770  4.311939  4.298031  4.319188  4.312475   \n",
      "943       3.398609  3.398305  3.411729  3.484720  3.407623  3.398305   \n",
      "\n",
      "movie_id      1679      1680  \n",
      "user_id                       \n",
      "1         3.713702  3.713700  \n",
      "2         3.889321  3.889525  \n",
      "3         2.817197  2.817680  \n",
      "4         4.519709  4.519841  \n",
      "5         2.855753  2.855548  \n",
      "...            ...       ...  \n",
      "939       4.337029  4.336800  \n",
      "940       3.465462  3.464965  \n",
      "941       4.331405  4.331681  \n",
      "942       4.312124  4.312299  \n",
      "943       3.398305  3.398305  \n",
      "\n",
      "[943 rows x 1631 columns], 0.4: movie_id      1         2         3         4         5         6     \\\n",
      "user_id                                                                \n",
      "1         3.761109  3.691278  3.709634  3.732145  3.685542  3.746957   \n",
      "2         3.921883  3.894111  3.891063  3.899221  3.893632  3.904400   \n",
      "3         2.795491  2.792167  2.780023  2.794361  2.783536  2.790350   \n",
      "4         4.489173  4.502461  4.495017  4.492027  4.498384  4.498617   \n",
      "5         2.960258  2.859051  2.858368  2.878085  2.858232  2.873072   \n",
      "...            ...       ...       ...       ...       ...       ...   \n",
      "939       4.361226  4.329899  4.332107  4.342806  4.333144  4.336122   \n",
      "940       3.504613  3.476770  3.482286  3.450432  3.483439  3.481412   \n",
      "941       4.450076  4.326295  4.317697  4.335138  4.331897  4.336515   \n",
      "942       4.335689  4.314337  4.315843  4.318026  4.321111  4.318080   \n",
      "943       3.455395  3.426782  3.393259  3.421224  3.400261  3.407401   \n",
      "\n",
      "movie_id      7         8         9         10    ...      1667      1668  \\\n",
      "user_id                                           ...                       \n",
      "1         3.785766  3.754972  3.808197  3.761185  ...  3.698939  3.698939   \n",
      "2         3.915013  3.910516  3.926511  3.904035  ...  3.898156  3.898156   \n",
      "3         2.791039  2.792538  2.806376  2.799860  ...  2.784699  2.784699   \n",
      "4         4.484896  4.504603  4.493882  4.503900  ...  4.500641  4.500641   \n",
      "5         2.934245  2.902986  2.889965  2.880076  ...  2.858124  2.858124   \n",
      "...            ...       ...       ...       ...  ...       ...       ...   \n",
      "939       4.367226  4.347290  4.411241  4.332248  ...  4.333178  4.333178   \n",
      "940       3.508798  3.498709  3.484503  3.485394  ...  3.472445  3.472445   \n",
      "941       4.353992  4.355481  4.345026  4.340082  ...  4.333436  4.333436   \n",
      "942       4.309298  4.333820  4.323796  4.318810  ...  4.309561  4.309561   \n",
      "943       3.454710  3.443128  3.439545  3.411205  ...  3.398566  3.398566   \n",
      "\n",
      "movie_id      1670      1671      1672      1673      1676      1678  \\\n",
      "user_id                                                                \n",
      "1         3.698939  3.717480  3.733287  3.743722  3.661097  3.712491   \n",
      "2         3.898156  3.907015  3.901936  3.917494  3.896975  3.891051   \n",
      "3         2.784699  2.826647  2.795705  2.776477  2.783224  2.814584   \n",
      "4         4.500641  4.536383  4.499516  4.498758  4.494823  4.517261   \n",
      "5         2.858124  2.833346  2.879405  2.873136  2.850310  2.855548   \n",
      "...            ...       ...       ...       ...       ...       ...   \n",
      "939       4.333178  4.340312  4.336605  4.346746  4.308214  4.335862   \n",
      "940       3.472445  3.496938  3.480580  3.456951  3.462848  3.466364   \n",
      "941       4.333436  4.329823  4.331103  4.331475  4.331996  4.332452   \n",
      "942       4.309561  4.283663  4.312636  4.300821  4.318327  4.313137   \n",
      "943       3.398566  3.398305  3.409371  3.472109  3.405915  3.398305   \n",
      "\n",
      "movie_id      1679      1680  \n",
      "user_id                       \n",
      "1         3.712496  3.712494  \n",
      "2         3.890505  3.890778  \n",
      "3         2.813296  2.813940  \n",
      "4         4.516910  4.517085  \n",
      "5         2.856097  2.855823  \n",
      "...            ...       ...  \n",
      "939       4.336473  4.336167  \n",
      "940       3.467690  3.467027  \n",
      "941       4.331714  4.332083  \n",
      "942       4.312669  4.312903  \n",
      "943       3.398305  3.398305  \n",
      "\n",
      "[943 rows x 1631 columns], 0.5: movie_id      1         2         3         4         5         6     \\\n",
      "user_id                                                                \n",
      "1         3.767330  3.685935  3.704253  3.730585  3.679936  3.738980   \n",
      "2         3.926319  3.892820  3.889139  3.898709  3.892415  3.903759   \n",
      "3         2.797205  2.792685  2.778081  2.795632  2.782330  2.790864   \n",
      "4         4.487419  4.504053  4.494625  4.490934  4.498963  4.497961   \n",
      "5         2.975813  2.853931  2.852513  2.876558  2.854788  2.871088   \n",
      "...            ...       ...       ...       ...       ...       ...   \n",
      "939       4.366185  4.327881  4.330176  4.343804  4.331791  4.335727   \n",
      "940       3.508491  3.474004  3.482137  3.442204  3.483113  3.481070   \n",
      "941       4.478736  4.324411  4.314163  4.335556  4.331602  4.336606   \n",
      "942       4.339399  4.312594  4.315131  4.317137  4.322018  4.317858   \n",
      "943       3.464758  3.426950  3.387938  3.420723  3.395940  3.406042   \n",
      "\n",
      "movie_id      7         8         9         10    ...      1667      1668  \\\n",
      "user_id                                           ...                       \n",
      "1         3.795824  3.760019  3.820977  3.757998  ...  3.700019  3.700019   \n",
      "2         3.918071  3.912556  3.932180  3.903841  ...  3.898052  3.898052   \n",
      "3         2.791547  2.793312  2.810403  2.802007  ...  2.785481  2.785481   \n",
      "4         4.482030  4.506478  4.492858  4.505478  ...  4.500444  4.500444   \n",
      "5         2.943970  2.907564  2.890776  2.877156  ...  2.858182  2.858182   \n",
      "...            ...       ...       ...       ...  ...       ...       ...   \n",
      "939       4.373690  4.349274  4.428149  4.330550  ...  4.333462  4.333462   \n",
      "940       3.513969  3.501217  3.483445  3.486025  ...  3.473931  3.473931   \n",
      "941       4.358894  4.360913  4.347705  4.341182  ...  4.333448  4.333448   \n",
      "942       4.306964  4.336873  4.324535  4.318137  ...  4.310550  4.310550   \n",
      "943       3.462090  3.449906  3.443776  3.411758  ...  3.398524  3.398524   \n",
      "\n",
      "movie_id      1670      1671      1672      1673      1676      1678  \\\n",
      "user_id                                                                \n",
      "1         3.700019  3.715134  3.727953  3.737204  3.668196  3.711284   \n",
      "2         3.898052  3.905302  3.900870  3.914159  3.896865  3.892371   \n",
      "3         2.785481  2.819710  2.794413  2.778737  2.783259  2.811004   \n",
      "4         4.500444  4.529805  4.499483  4.499585  4.495279  4.514549   \n",
      "5         2.858182  2.837672  2.875534  2.870951  2.851341  2.855755   \n",
      "...            ...       ...       ...       ...       ...       ...   \n",
      "939       4.333462  4.338916  4.335988  4.344460  4.311602  4.335153   \n",
      "940       3.473931  3.493704  3.480539  3.461421  3.465852  3.468260   \n",
      "941       4.333448  4.330570  4.331265  4.331899  4.332301  4.332945   \n",
      "942       4.310550  4.289555  4.313333  4.303612  4.317467  4.313799   \n",
      "943       3.398524  3.398305  3.407013  3.459499  3.404207  3.398305   \n",
      "\n",
      "movie_id      1679      1680  \n",
      "user_id                       \n",
      "1         3.711291  3.711287  \n",
      "2         3.891689  3.892030  \n",
      "3         2.809394  2.810199  \n",
      "4         4.514110  4.514330  \n",
      "5         2.856440  2.856097  \n",
      "...            ...       ...  \n",
      "939       4.335917  4.335535  \n",
      "940       3.469918  3.469089  \n",
      "941       4.332023  4.332484  \n",
      "942       4.313214  4.313507  \n",
      "943       3.398305  3.398305  \n",
      "\n",
      "[943 rows x 1631 columns], 0.6: movie_id      1         2         3         4         5         6     \\\n",
      "user_id                                                                \n",
      "1         3.773551  3.680593  3.698871  3.729024  3.674331  3.731003   \n",
      "2         3.930755  3.891528  3.887215  3.898198  3.891199  3.903119   \n",
      "3         2.798919  2.793202  2.776138  2.796904  2.781125  2.791378   \n",
      "4         4.485665  4.505645  4.494233  4.489841  4.499543  4.497306   \n",
      "5         2.991369  2.848811  2.846658  2.875032  2.851344  2.869104   \n",
      "...            ...       ...       ...       ...       ...       ...   \n",
      "939       4.371144  4.325862  4.328245  4.344802  4.330438  4.335332   \n",
      "940       3.512370  3.471239  3.481988  3.433977  3.482787  3.480727   \n",
      "941       4.507396  4.322526  4.310630  4.335974  4.331307  4.336697   \n",
      "942       4.343108  4.310851  4.314418  4.316248  4.322925  4.317636   \n",
      "943       3.474121  3.427119  3.382617  3.420222  3.391619  3.404684   \n",
      "\n",
      "movie_id      7         8         9         10    ...      1667      1668  \\\n",
      "user_id                                           ...                       \n",
      "1         3.805883  3.765065  3.833757  3.754812  ...  3.701099  3.701099   \n",
      "2         3.921128  3.914595  3.937848  3.903646  ...  3.897948  3.897948   \n",
      "3         2.792055  2.794085  2.814430  2.804154  ...  2.786264  2.786264   \n",
      "4         4.479164  4.508353  4.491835  4.507056  ...  4.500246  4.500246   \n",
      "5         2.953694  2.912141  2.891587  2.874235  ...  2.858239  2.858239   \n",
      "...            ...       ...       ...       ...  ...       ...       ...   \n",
      "939       4.380155  4.351257  4.445057  4.328852  ...  4.333746  4.333746   \n",
      "940       3.519140  3.503724  3.482387  3.486655  ...  3.475418  3.475418   \n",
      "941       4.363795  4.366345  4.350383  4.342281  ...  4.333460  4.333460   \n",
      "942       4.304630  4.339927  4.325275  4.317464  ...  4.311539  4.311539   \n",
      "943       3.469470  3.456684  3.448008  3.412310  ...  3.398481  3.398481   \n",
      "\n",
      "movie_id      1670      1671      1672      1673      1676      1678  \\\n",
      "user_id                                                                \n",
      "1         3.701099  3.712788  3.722618  3.730685  3.675295  3.710077   \n",
      "2         3.897948  3.903590  3.899804  3.910823  3.896755  3.893692   \n",
      "3         2.786264  2.812772  2.793121  2.780997  2.783294  2.807424   \n",
      "4         4.500246  4.523226  4.499450  4.500412  4.495736  4.511837   \n",
      "5         2.858239  2.841998  2.871663  2.868766  2.852372  2.855961   \n",
      "...            ...       ...       ...       ...       ...       ...   \n",
      "939       4.333746  4.337520  4.335372  4.342175  4.314989  4.334445   \n",
      "940       3.475418  3.490469  3.480498  3.465891  3.468855  3.470157   \n",
      "941       4.333460  4.331318  4.331426  4.332324  4.332606  4.333439   \n",
      "942       4.311539  4.295448  4.314029  4.306403  4.316606  4.314461   \n",
      "943       3.398481  3.398305  3.404655  3.446889  3.402500  3.398305   \n",
      "\n",
      "movie_id      1679      1680  \n",
      "user_id                       \n",
      "1         3.710085  3.710081  \n",
      "2         3.892873  3.893283  \n",
      "3         2.805492  2.806458  \n",
      "4         4.511311  4.511574  \n",
      "5         2.856784  2.856372  \n",
      "...            ...       ...  \n",
      "939       4.335361  4.334903  \n",
      "940       3.472146  3.471151  \n",
      "941       4.332332  4.332886  \n",
      "942       4.313759  4.314110  \n",
      "943       3.398305  3.398305  \n",
      "\n",
      "[943 rows x 1631 columns], 0.7: movie_id      1         2         3         4         5         6     \\\n",
      "user_id                                                                \n",
      "1         3.779773  3.675250  3.693490  3.727464  3.668725  3.723026   \n",
      "2         3.935191  3.890237  3.885290  3.897686  3.889983  3.902479   \n",
      "3         2.800634  2.793720  2.774195  2.798176  2.779919  2.791893   \n",
      "4         4.483912  4.507236  4.493842  4.488748  4.500122  4.496651   \n",
      "5         3.006925  2.843691  2.840803  2.873505  2.847901  2.867120   \n",
      "...            ...       ...       ...       ...       ...       ...   \n",
      "939       4.376103  4.323844  4.326314  4.345800  4.329085  4.334936   \n",
      "940       3.516248  3.468474  3.481839  3.425749  3.482461  3.480385   \n",
      "941       4.536056  4.320642  4.307096  4.336392  4.331012  4.336788   \n",
      "942       4.346817  4.309109  4.313705  4.315359  4.323832  4.317414   \n",
      "943       3.483483  3.427288  3.377296  3.419721  3.387298  3.403325   \n",
      "\n",
      "movie_id      7         8         9         10    ...      1667      1668  \\\n",
      "user_id                                           ...                       \n",
      "1         3.815941  3.770112  3.846537  3.751625  ...  3.702179  3.702179   \n",
      "2         3.924186  3.916635  3.943516  3.903452  ...  3.897844  3.897844   \n",
      "3         2.792563  2.794859  2.818457  2.806300  ...  2.787047  2.787047   \n",
      "4         4.476298  4.510228  4.490811  4.508635  ...  4.500049  4.500049   \n",
      "5         2.963419  2.916718  2.892398  2.871315  ...  2.858297  2.858297   \n",
      "...            ...       ...       ...       ...  ...       ...       ...   \n",
      "939       4.386619  4.353241  4.461965  4.327153  ...  4.334030  4.334030   \n",
      "940       3.524311  3.506232  3.481329  3.487285  ...  3.476904  3.476904   \n",
      "941       4.368697  4.371778  4.353061  4.343380  ...  4.333471  4.333471   \n",
      "942       4.302297  4.342980  4.326014  4.316790  ...  4.312528  4.312528   \n",
      "943       3.476850  3.463462  3.452240  3.412862  ...  3.398438  3.398438   \n",
      "\n",
      "movie_id      1670      1671      1672      1673      1676      1678  \\\n",
      "user_id                                                                \n",
      "1         3.702179  3.710442  3.717283  3.724167  3.682395  3.708870   \n",
      "2         3.897844  3.901877  3.898738  3.907488  3.896645  3.895013   \n",
      "3         2.787047  2.805835  2.791828  2.783257  2.783329  2.803845   \n",
      "4         4.500049  4.516648  4.499417  4.501239  4.496192  4.509126   \n",
      "5         2.858297  2.846324  2.867792  2.866581  2.853403  2.856168   \n",
      "...            ...       ...       ...       ...       ...       ...   \n",
      "939       4.334030  4.336124  4.334755  4.339889  4.318377  4.333736   \n",
      "940       3.476904  3.487234  3.480457  3.470362  3.471859  3.472053   \n",
      "941       4.333471  4.332065  4.331588  4.332749  4.332911  4.333933   \n",
      "942       4.312528  4.301341  4.314726  4.309193  4.315746  4.315124   \n",
      "943       3.398438  3.398305  3.402297  3.434278  3.400792  3.398305   \n",
      "\n",
      "movie_id      1679      1680  \n",
      "user_id                       \n",
      "1         3.708879  3.708874  \n",
      "2         3.894058  3.894535  \n",
      "3         2.801591  2.802718  \n",
      "4         4.508511  4.508818  \n",
      "5         2.857127  2.856647  \n",
      "...            ...       ...  \n",
      "939       4.334805  4.334271  \n",
      "940       3.474374  3.473213  \n",
      "941       4.332642  4.333287  \n",
      "942       4.314304  4.314714  \n",
      "943       3.398305  3.398305  \n",
      "\n",
      "[943 rows x 1631 columns], 0.8: movie_id      1         2         3         4         5         6     \\\n",
      "user_id                                                                \n",
      "1         3.785994  3.669908  3.688109  3.725904  3.663119  3.715049   \n",
      "2         3.939626  3.888946  3.883366  3.897175  3.888767  3.901839   \n",
      "3         2.802348  2.794237  2.772252  2.799448  2.778713  2.792407   \n",
      "4         4.482158  4.508828  4.493450  4.487655  4.500702  4.495996   \n",
      "5         3.022481  2.838572  2.834948  2.871978  2.844457  2.865136   \n",
      "...            ...       ...       ...       ...       ...       ...   \n",
      "939       4.381062  4.321826  4.324383  4.346798  4.327732  4.334541   \n",
      "940       3.520126  3.465709  3.481690  3.417521  3.482135  3.480043   \n",
      "941       4.564715  4.318758  4.303562  4.336810  4.330717  4.336879   \n",
      "942       4.350527  4.307366  4.312993  4.314470  4.324739  4.317191   \n",
      "943       3.492846  3.427457  3.371974  3.419220  3.382977  3.401966   \n",
      "\n",
      "movie_id      7         8         9         10    ...      1667      1668  \\\n",
      "user_id                                           ...                       \n",
      "1         3.826000  3.775158  3.859317  3.748438  ...  3.703259  3.703259   \n",
      "2         3.927243  3.918675  3.949185  3.903258  ...  3.897740  3.897740   \n",
      "3         2.793071  2.795632  2.822484  2.808447  ...  2.787829  2.787829   \n",
      "4         4.473432  4.512103  4.489787  4.510213  ...  4.499852  4.499852   \n",
      "5         2.973144  2.921296  2.893210  2.868394  ...  2.858354  2.858354   \n",
      "...            ...       ...       ...       ...  ...       ...       ...   \n",
      "939       4.393083  4.355224  4.478873  4.325455  ...  4.334313  4.334313   \n",
      "940       3.529482  3.508740  3.480271  3.487915  ...  3.478390  3.478390   \n",
      "941       4.373598  4.377210  4.355740  4.344479  ...  4.333483  4.333483   \n",
      "942       4.299963  4.346034  4.326753  4.316117  ...  4.313518  4.313518   \n",
      "943       3.484231  3.470240  3.456472  3.413414  ...  3.398396  3.398396   \n",
      "\n",
      "movie_id      1670      1671      1672      1673      1676      1678  \\\n",
      "user_id                                                                \n",
      "1         3.703259  3.708095  3.711949  3.717649  3.689494  3.707663   \n",
      "2         3.897740  3.900165  3.897673  3.904152  3.896535  3.896334   \n",
      "3         2.787829  2.798898  2.790536  2.785517  2.783364  2.800265   \n",
      "4         4.499852  4.510069  4.499384  4.502066  4.496648  4.506414   \n",
      "5         2.858354  2.850650  2.863921  2.864396  2.854434  2.856374   \n",
      "...            ...       ...       ...       ...       ...       ...   \n",
      "939       4.334313  4.334728  4.334138  4.337603  4.321765  4.333027   \n",
      "940       3.478390  3.483999  3.480416  3.474832  3.474862  3.473949   \n",
      "941       4.333483  4.332812  4.331750  4.333173  4.333216  4.334426   \n",
      "942       4.313518  4.307233  4.315423  4.311984  4.314885  4.315786   \n",
      "943       3.398396  3.398305  3.399938  3.421668  3.399084  3.398305   \n",
      "\n",
      "movie_id      1679      1680  \n",
      "user_id                       \n",
      "1         3.707673  3.707668  \n",
      "2         3.895242  3.895788  \n",
      "3         2.797689  2.798977  \n",
      "4         4.505712  4.506063  \n",
      "5         2.857471  2.856922  \n",
      "...            ...       ...  \n",
      "939       4.334249  4.333638  \n",
      "940       3.476601  3.475275  \n",
      "941       4.332951  4.333689  \n",
      "942       4.314849  4.315318  \n",
      "943       3.398305  3.398305  \n",
      "\n",
      "[943 rows x 1631 columns], 0.9: movie_id      1         2         3         4         5         6     \\\n",
      "user_id                                                                \n",
      "1         3.792215  3.664565  3.682728  3.724344  3.657514  3.707072   \n",
      "2         3.944062  3.887655  3.881442  3.896663  3.887551  3.901199   \n",
      "3         2.804063  2.794755  2.770309  2.800720  2.777508  2.792922   \n",
      "4         4.480404  4.510420  4.493058  4.486561  4.501281  4.495341   \n",
      "5         3.038037  2.833452  2.829093  2.870452  2.841014  2.863153   \n",
      "...            ...       ...       ...       ...       ...       ...   \n",
      "939       4.386021  4.319808  4.322451  4.347796  4.326378  4.334146   \n",
      "940       3.524004  3.462943  3.481541  3.409294  3.481809  3.479701   \n",
      "941       4.593375  4.316873  4.300028  4.337228  4.330422  4.336971   \n",
      "942       4.354236  4.305623  4.312280  4.313582  4.325646  4.316969   \n",
      "943       3.502209  3.427625  3.366653  3.418718  3.378656  3.400608   \n",
      "\n",
      "movie_id      7         8         9         10    ...      1667      1668  \\\n",
      "user_id                                           ...                       \n",
      "1         3.836058  3.780204  3.872098  3.745251  ...  3.704339  3.704339   \n",
      "2         3.930301  3.920715  3.954853  3.903064  ...  3.897636  3.897636   \n",
      "3         2.793579  2.796406  2.826510  2.810594  ...  2.788612  2.788612   \n",
      "4         4.470566  4.513978  4.488764  4.511791  ...  4.499654  4.499654   \n",
      "5         2.982869  2.925873  2.894021  2.865474  ...  2.858412  2.858412   \n",
      "...            ...       ...       ...       ...  ...       ...       ...   \n",
      "939       4.399548  4.357207  4.495781  4.323756  ...  4.334597  4.334597   \n",
      "940       3.534653  3.511248  3.479213  3.488546  ...  3.479877  3.479877   \n",
      "941       4.378500  4.382642  4.358418  4.345579  ...  4.333495  4.333495   \n",
      "942       4.297630  4.349088  4.327493  4.315444  ...  4.314507  4.314507   \n",
      "943       3.491611  3.477018  3.460703  3.413966  ...  3.398353  3.398353   \n",
      "\n",
      "movie_id      1670      1671      1672      1673      1676      1678  \\\n",
      "user_id                                                                \n",
      "1         3.704339  3.705749  3.706614  3.711131  3.696593  3.706456   \n",
      "2         3.897636  3.898453  3.896607  3.900817  3.896425  3.897654   \n",
      "3         2.788612  2.791961  2.789244  2.787778  2.783398  2.796685   \n",
      "4         4.499654  4.503491  4.499351  4.502893  4.497104  4.503702   \n",
      "5         2.858412  2.854976  2.860050  2.862211  2.855466  2.856580   \n",
      "...            ...       ...       ...       ...       ...       ...   \n",
      "939       4.334597  4.333332  4.333521  4.335317  4.325153  4.332319   \n",
      "940       3.479877  3.480764  3.480375  3.479302  3.477866  3.475845   \n",
      "941       4.333495  4.333560  4.331911  4.333598  4.333521  4.334920   \n",
      "942       4.314507  4.313126  4.316119  4.314775  4.314025  4.316448   \n",
      "943       3.398353  3.398305  3.397580  3.409058  3.397376  3.398305   \n",
      "\n",
      "movie_id      1679      1680  \n",
      "user_id                       \n",
      "1         3.706467  3.706462  \n",
      "2         3.896426  3.897040  \n",
      "3         2.793788  2.795236  \n",
      "4         4.502912  4.503307  \n",
      "5         2.857814  2.857197  \n",
      "...            ...       ...  \n",
      "939       4.333694  4.333006  \n",
      "940       3.478829  3.477337  \n",
      "941       4.333260  4.334090  \n",
      "942       4.315394  4.315921  \n",
      "943       3.398305  3.398305  \n",
      "\n",
      "[943 rows x 1631 columns], 1.0: movie_id      1         2         3         4         5         6     \\\n",
      "user_id                                                                \n",
      "1         3.798436  3.659223  3.677347  3.722784  3.651908  3.699095   \n",
      "2         3.948498  3.886363  3.879518  3.896152  3.886335  3.900559   \n",
      "3         2.805777  2.795273  2.768366  2.801992  2.776302  2.793436   \n",
      "4         4.478651  4.512012  4.492667  4.485468  4.501860  4.494686   \n",
      "5         3.053593  2.828332  2.823238  2.868925  2.837570  2.861169   \n",
      "...            ...       ...       ...       ...       ...       ...   \n",
      "939       4.390980  4.317789  4.320520  4.348794  4.325025  4.333750   \n",
      "940       3.527882  3.460178  3.481392  3.401066  3.481483  3.479359   \n",
      "941       4.622035  4.314989  4.296495  4.337645  4.330127  4.337062   \n",
      "942       4.357945  4.303880  4.311567  4.312693  4.326553  4.316747   \n",
      "943       3.511572  3.427794  3.361332  3.418217  3.374335  3.399249   \n",
      "\n",
      "movie_id      7         8         9         10    ...      1667      1668  \\\n",
      "user_id                                           ...                       \n",
      "1         3.846117  3.785251  3.884878  3.742065  ...  3.705419  3.705419   \n",
      "2         3.933359  3.922754  3.960521  3.902869  ...  3.897532  3.897532   \n",
      "3         2.794087  2.797179  2.830537  2.812741  ...  2.789395  2.789395   \n",
      "4         4.467700  4.515853  4.487740  4.513369  ...  4.499457  4.499457   \n",
      "5         2.992594  2.930450  2.894832  2.862553  ...  2.858469  2.858469   \n",
      "...            ...       ...       ...       ...  ...       ...       ...   \n",
      "939       4.406012  4.359191  4.512689  4.322058  ...  4.334881  4.334881   \n",
      "940       3.539824  3.513755  3.478155  3.489176  ...  3.481363  3.481363   \n",
      "941       4.383402  4.388074  4.361097  4.346678  ...  4.333507  4.333507   \n",
      "942       4.295296  4.352141  4.328232  4.314771  ...  4.315496  4.315496   \n",
      "943       3.498991  3.483796  3.464935  3.414518  ...  3.398311  3.398311   \n",
      "\n",
      "movie_id      1670      1671      1672      1673      1676      1678  \\\n",
      "user_id                                                                \n",
      "1         3.705419  3.703403  3.701279  3.704613  3.703693  3.705249   \n",
      "2         3.897532  3.896740  3.895541  3.897481  3.896315  3.898975   \n",
      "3         2.789395  2.785023  2.787952  2.790038  2.783433  2.793106   \n",
      "4         4.499457  4.496913  4.499318  4.503720  4.497560  4.500990   \n",
      "5         2.858469  2.859303  2.856179  2.860026  2.856497  2.856787   \n",
      "...            ...       ...       ...       ...       ...       ...   \n",
      "939       4.334881  4.331936  4.332905  4.333031  4.328540  4.331610   \n",
      "940       3.481363  3.477530  3.480334  3.483773  3.480869  3.477742   \n",
      "941       4.333507  4.334307  4.332073  4.334022  4.333826  4.335414   \n",
      "942       4.315496  4.319019  4.316816  4.317565  4.313165  4.317110   \n",
      "943       3.398311  3.398305  3.395222  3.396448  3.395669  3.398305   \n",
      "\n",
      "movie_id      1679      1680  \n",
      "user_id                       \n",
      "1         3.705262  3.705255  \n",
      "2         3.897611  3.898293  \n",
      "3         2.789886  2.791496  \n",
      "4         4.500112  4.500551  \n",
      "5         2.858158  2.857472  \n",
      "...            ...       ...  \n",
      "939       4.333138  4.332374  \n",
      "940       3.481057  3.479399  \n",
      "941       4.333569  4.334492  \n",
      "942       4.315939  4.316525  \n",
      "943       3.398305  3.398305  \n",
      "\n",
      "[943 rows x 1631 columns]}\n"
     ]
    }
   ],
   "source": [
    "print(hybrid_predictions)"
   ]
  },
  {
   "cell_type": "code",
   "execution_count": 16,
   "id": "8aba818b",
   "metadata": {},
   "outputs": [
    {
     "name": "stdout",
     "output_type": "stream",
     "text": [
      "Valore minimo tra tutte le predizioni: 1.3420\n",
      "Valore massimo tra tutte le predizioni: 5.0787\n"
     ]
    }
   ],
   "source": [
    "# Sezione 7.1: Controllo valore massimo e minimo delle predizioni\n",
    "\n",
    "# Estrai tutti i valori delle matrici e concatenali in un array unico\n",
    "all_values = np.concatenate([P.values.flatten() for P in hybrid_predictions.values()])\n",
    "\n",
    "# Calcola minimo e massimo\n",
    "global_min = all_values.min()\n",
    "global_max = all_values.max()\n",
    "\n",
    "print(f\"Valore minimo tra tutte le predizioni: {global_min:.4f}\")\n",
    "print(f\"Valore massimo tra tutte le predizioni: {global_max:.4f}\")"
   ]
  },
  {
   "cell_type": "code",
   "execution_count": 17,
   "id": "e1849cad",
   "metadata": {},
   "outputs": [
    {
     "name": "stderr",
     "output_type": "stream",
     "text": [
      "C:\\Users\\aless\\AppData\\Local\\Temp\\ipykernel_15400\\583786842.py:5: FutureWarning: DataFrame.applymap has been deprecated. Use DataFrame.map instead.\n",
      "  alpha: df.applymap(lambda x: 0 if x < 0.5 else 5 if x >= 5.5 else math.floor(x + 0.5))\n"
     ]
    },
    {
     "name": "stdout",
     "output_type": "stream",
     "text": [
      "Valore minimo (arrotondato): 1\n",
      "Valore massimo (arrotondato): 5\n"
     ]
    }
   ],
   "source": [
    "# Sezione 7.2: Rendiamo i valori discreti\n",
    "\n",
    "# Applica arrotondamento custom a ciascuna matrice nel dizionario\n",
    "hybrid_predictions_rounded = {\n",
    "    alpha: df.applymap(lambda x: 0 if x < 0.5 else 5 if x >= 5.5 else math.floor(x + 0.5))\n",
    "    for alpha, df in hybrid_predictions.items()\n",
    "}\n",
    "\n",
    "# Estrai tutti i valori per trovare min e max globali\n",
    "all_rounded_values = np.concatenate([df.values.flatten() for df in hybrid_predictions_rounded.values()])\n",
    "\n",
    "print(f\"Valore minimo (arrotondato): {all_rounded_values.min()}\")\n",
    "print(f\"Valore massimo (arrotondato): {all_rounded_values.max()}\")"
   ]
  },
  {
   "cell_type": "code",
   "execution_count": 18,
   "id": "c88cbd6a",
   "metadata": {},
   "outputs": [
    {
     "name": "stdout",
     "output_type": "stream",
     "text": [
      "   user_id movie_id  predicted_rating_1.0\n",
      "0        1        1                     4\n",
      "1        1        2                     4\n",
      "2        1        3                     4\n",
      "3        1        4                     4\n",
      "4        1        5                     4\n"
     ]
    }
   ],
   "source": [
    "# Sezione 8: Calcolo predizioni\n",
    "\n",
    "# Lista per contenere i singoli DataFrame con colonne user_id, movie_id e predicted_rating_{alpha}\n",
    "prediction_dfs = []\n",
    "\n",
    "for alpha, P_rounded in hybrid_predictions_rounded.items():\n",
    "\n",
    "    # Convertiamo in formato long\n",
    "    df_long = P_rounded.reset_index().melt(\n",
    "        id_vars='user_id',\n",
    "        var_name='movie_id',\n",
    "        value_name=f'predicted_rating_{alpha}'\n",
    "    )\n",
    "    \n",
    "    prediction_dfs.append(df_long)\n",
    "\n",
    "# Uniamo tutti i DataFrame sulle colonne user_id e movie_id\n",
    "from functools import reduce\n",
    "\n",
    "prediction_df = reduce(\n",
    "    lambda left, right: pd.merge(left, right, on=['user_id', 'movie_id'], how='outer'),\n",
    "    prediction_dfs\n",
    ")\n",
    "\n",
    "# Seleziona solo le colonne di interesse\n",
    "subset_df = prediction_df[['user_id', 'movie_id', 'predicted_rating_1.0']]\n",
    "\n",
    "# Visualizza le prime righe\n",
    "print(subset_df.head())"
   ]
  },
  {
   "cell_type": "code",
   "execution_count": 19,
   "id": "af6a049f",
   "metadata": {},
   "outputs": [
    {
     "name": "stdout",
     "output_type": "stream",
     "text": [
      "   alpha  threshold      rmse       mae  accuracy  precision    recall\n",
      "0    0.0          3  1.080912  0.801102  0.835204   0.838181  0.992410\n",
      "1    0.0          4  1.080912  0.801102  0.634636   0.663667  0.686657\n",
      "2    0.1          3  1.078994  0.798831  0.835170   0.838175  0.992370\n",
      "3    0.1          4  1.078994  0.798831  0.636774   0.665247  0.689499\n",
      "4    0.2          3  1.077120  0.797061  0.835170   0.838175  0.992370\n"
     ]
    }
   ],
   "source": [
    "# Sezione 9: Calcolo metriche(MAE RMSE ACCURACY PRECISION RECALL)\n",
    "\n",
    "# Lista dei threshold da valutare\n",
    "thresholds = [3, 4]\n",
    "\n",
    "# Lista per salvare risultati\n",
    "results = []\n",
    "\n",
    "# Per ogni colonna di predizione (es. predicted_rating_0.0, ..., predicted_rating_1.0)\n",
    "for col in prediction_df.columns:\n",
    "    if col.startswith('predicted_rating_'):\n",
    "\n",
    "        alpha = col.split('_')[-1] \n",
    "\n",
    "        # Unisci test set con le predizioni per questo alpha\n",
    "        valutazione_df = test_data_clean.merge(prediction_df[['user_id', 'movie_id', col]], \n",
    "                                               on=[\"user_id\", \"movie_id\"], how=\"inner\")\n",
    "        valutazione_df = valutazione_df.rename(columns={col: \"predicted_rating\"})\n",
    "\n",
    "        # Calcola RMSE e MAE\n",
    "        rmse = np.sqrt(mean_squared_error(valutazione_df[\"rating\"], valutazione_df[\"predicted_rating\"]))\n",
    "        mae = mean_absolute_error(valutazione_df[\"rating\"], valutazione_df[\"predicted_rating\"])\n",
    "\n",
    "        # Per ogni threshold, calcola metriche binarie\n",
    "        for threshold in thresholds:\n",
    "            valutazione_df[\"true_label\"] = (valutazione_df[\"rating\"] >= threshold).astype(int)\n",
    "            valutazione_df[\"predicted_label\"] = (valutazione_df[\"predicted_rating\"] >= threshold).astype(int)\n",
    "\n",
    "            accuracy = accuracy_score(valutazione_df[\"true_label\"], valutazione_df[\"predicted_label\"])\n",
    "            precision = precision_score(valutazione_df[\"true_label\"], valutazione_df[\"predicted_label\"], zero_division=0)\n",
    "            recall = recall_score(valutazione_df[\"true_label\"], valutazione_df[\"predicted_label\"], zero_division=0)\n",
    "\n",
    "            # Salva i risultati\n",
    "            results.append({\n",
    "                'alpha': float(alpha),\n",
    "                'threshold': threshold,\n",
    "                'rmse': rmse,\n",
    "                'mae': mae,\n",
    "                'accuracy': accuracy,\n",
    "                'precision': precision,\n",
    "                'recall': recall\n",
    "            })\n",
    "\n",
    "# Converti in DataFrame\n",
    "valutazione_metrics_df = pd.DataFrame(results)\n",
    "\n",
    "print(valutazione_metrics_df.head())"
   ]
  },
  {
   "cell_type": "code",
   "execution_count": 20,
   "id": "c2fb8e5c",
   "metadata": {},
   "outputs": [
    {
     "name": "stdout",
     "output_type": "stream",
     "text": [
      "               metric  alpha  threshold    rmse     mae  precision  recall  \\\n",
      "0         RMSE minimo    1.0        3.0  1.0650  0.7855     0.8383  0.9924   \n",
      "1          MAE minimo    1.0        3.0  1.0650  0.7855     0.8383  0.9924   \n",
      "2  Precisione massima    0.9        3.0  1.0665  0.7868     0.8383  0.9925   \n",
      "3      Recall massimo    0.9        3.0  1.0665  0.7868     0.8383  0.9925   \n",
      "4    Accuracy massima    0.9        3.0  1.0665  0.7868     0.8383  0.9925   \n",
      "\n",
      "   accuracy  \n",
      "0    0.8354  \n",
      "1    0.8354  \n",
      "2    0.8354  \n",
      "3    0.8354  \n",
      "4    0.8354  \n"
     ]
    }
   ],
   "source": [
    "# Sezione 8.1: Combinazione migliore per le  metriche\n",
    "\n",
    "# Combinazione che minimizza RMSE\n",
    "best_rmse = valutazione_metrics_df.loc[valutazione_metrics_df['rmse'].idxmin()]\n",
    "\n",
    "# Combinazione che minimizza MAE\n",
    "best_mae = valutazione_metrics_df.loc[valutazione_metrics_df['mae'].idxmin()]\n",
    "\n",
    "# Combinazione che massimizza Precision\n",
    "best_precision = valutazione_metrics_df.loc[valutazione_metrics_df['precision'].idxmax()]\n",
    "\n",
    "# Combinazione che massimizza Recall\n",
    "best_recall = valutazione_metrics_df.loc[valutazione_metrics_df['recall'].idxmax()]\n",
    "\n",
    "# Combinazione che massimizza Accuracy\n",
    "best_accuracy = valutazione_metrics_df.loc[valutazione_metrics_df['accuracy'].idxmax()]\n",
    "\n",
    "best_combinations = pd.DataFrame([\n",
    "    {'metric': 'RMSE minimo', 'alpha': best_rmse['alpha'], 'threshold': best_rmse['threshold'],\n",
    "     'rmse': best_rmse['rmse'], 'mae': best_rmse['mae'],\n",
    "     'precision': best_rmse['precision'], 'recall': best_rmse['recall'], 'accuracy': best_rmse['accuracy']},\n",
    "\n",
    "    {'metric': 'MAE minimo', 'alpha': best_mae['alpha'], 'threshold': best_mae['threshold'],\n",
    "     'rmse': best_mae['rmse'], 'mae': best_mae['mae'],\n",
    "     'precision': best_mae['precision'], 'recall': best_mae['recall'], 'accuracy': best_mae['accuracy']},\n",
    "\n",
    "    {'metric': 'Precisione massima', 'alpha': best_precision['alpha'], 'threshold': best_precision['threshold'],\n",
    "     'rmse': best_precision['rmse'], 'mae': best_precision['mae'],\n",
    "     'precision': best_precision['precision'], 'recall': best_precision['recall'], 'accuracy': best_precision['accuracy']},\n",
    "\n",
    "    {'metric': 'Recall massimo', 'alpha': best_recall['alpha'], 'threshold': best_recall['threshold'],\n",
    "     'rmse': best_recall['rmse'], 'mae': best_recall['mae'],\n",
    "     'precision': best_recall['precision'], 'recall': best_recall['recall'], 'accuracy': best_recall['accuracy']},\n",
    "\n",
    "    {'metric': 'Accuracy massima', 'alpha': best_accuracy['alpha'], 'threshold': best_accuracy['threshold'],\n",
    "     'rmse': best_accuracy['rmse'], 'mae': best_accuracy['mae'],\n",
    "     'precision': best_accuracy['precision'], 'recall': best_accuracy['recall'], 'accuracy': best_accuracy['accuracy']}\n",
    "])\n",
    "\n",
    "# Mostra con valori arrotondati\n",
    "print(best_combinations.round(4))\n"
   ]
  },
  {
   "cell_type": "code",
   "execution_count": 21,
   "id": "ff22edd0",
   "metadata": {},
   "outputs": [],
   "source": [
    "# Sezione 10: Funzione per il calcolo metriche TopK (RECALL@K PRECISION@K MAP@K)\n",
    "\n",
    "def precision_recall_ap_at_k(df, k=5, rel_threshold=4):\n",
    "    metrics = []\n",
    "\n",
    "    for user_id, group in df.groupby('user_id'):\n",
    "        # Ordinare per predicted_rating decrescente\n",
    "        group_sorted = group.sort_values('predicted_rating', ascending=False)\n",
    "\n",
    "        # Rilevanti reali (ground truth)\n",
    "        relevant_items = set(group[group['rating'] >= rel_threshold]['movie_id'])\n",
    "\n",
    "        # Top-k raccomandati\n",
    "        recommended = group_sorted.head(k)\n",
    "        recommended_ids = list(recommended['movie_id'])\n",
    "\n",
    "        # Precision@k\n",
    "        rel_k = [1 if movie in relevant_items else 0 for movie in recommended_ids]\n",
    "        precision_at_k = sum(rel_k) / k\n",
    "\n",
    "        # Recall@k\n",
    "        recall_at_k = sum(rel_k) / len(relevant_items) if relevant_items else 0.0\n",
    "\n",
    "        # Average Precision@k (AP@k)\n",
    "        num_hits = 0\n",
    "        sum_precisions = 0.0\n",
    "        for i, hit in enumerate(rel_k):\n",
    "            if hit:\n",
    "                num_hits += 1\n",
    "                sum_precisions += num_hits / (i + 1)\n",
    "        ap_at_k = sum_precisions / len(relevant_items) if relevant_items else 0.0\n",
    "\n",
    "        metrics.append({\n",
    "            'user_id': user_id,\n",
    "            'precision@k': precision_at_k,\n",
    "            'recall@k': recall_at_k,\n",
    "            'ap@k': ap_at_k\n",
    "        })\n",
    "\n",
    "    # Costruire un DataFrame dei risultati per utente\n",
    "    results = pd.DataFrame(metrics)\n",
    "     \n",
    "    # Calcolare MAP@k (media degli AP@k)\n",
    "    map_at_k = results['ap@k'].mean()\n",
    "\n",
    "    return results, map_at_k"
   ]
  },
  {
   "cell_type": "code",
   "execution_count": 22,
   "id": "b7cd56f5",
   "metadata": {},
   "outputs": [],
   "source": [
    "# Sezione 10.1: Calcolo metriche TopK (RECALL@K PRECISION@K MAP@K) con tuning su Treshold e K\n",
    "\n",
    "thresholds = [3, 4]  \n",
    "ks = [5, 10, 15, 20]  \n",
    "\n",
    "topn_results = []\n",
    "\n",
    "for col in prediction_df.columns:\n",
    "    if col.startswith('predicted_rating_'):\n",
    "        alpha = float(col.split('_')[-1])  \n",
    "\n",
    "        for threshold in thresholds:\n",
    "            # Crea DataFrame con rating reale + predizione corrente\n",
    "            df_eval = test_data_clean.merge(\n",
    "                prediction_df[['user_id', 'movie_id', col]],\n",
    "                on=['user_id', 'movie_id'],\n",
    "                how='inner'\n",
    "            ).rename(columns={col: 'predicted_rating'})\n",
    "\n",
    "            for k in ks:\n",
    "                # Calcola le metriche Top-N per ogni k\n",
    "                topn_metrics, map_at_k = precision_recall_ap_at_k(\n",
    "                    df_eval,\n",
    "                    k=k,\n",
    "                    rel_threshold=threshold\n",
    "                )\n",
    "\n",
    "                # Salva le metriche aggregate\n",
    "                topn_results.append({\n",
    "                    'alpha': alpha,\n",
    "                    'threshold': threshold,\n",
    "                    'k': k,\n",
    "                    'precision': topn_metrics['precision@k'].mean(),\n",
    "                    'recall': topn_metrics['recall@k'].mean(),\n",
    "                    'map': map_at_k\n",
    "                })\n"
   ]
  },
  {
   "cell_type": "code",
   "execution_count": 23,
   "id": "ac9b9f32",
   "metadata": {},
   "outputs": [
    {
     "name": "stdout",
     "output_type": "stream",
     "text": [
      "    alpha  threshold   k  precision    recall       map\n",
      "80    1.0          3   5   0.840721  0.343527  0.309895\n",
      "81    1.0          3  10   0.778579  0.559392  0.495836\n",
      "82    1.0          3  15   0.704984  0.671755  0.592020\n",
      "83    1.0          3  20   0.642259  0.744874  0.654622\n",
      "84    1.0          4   5   0.591092  0.343229  0.259634\n",
      "85    1.0          4  10   0.546766  0.560051  0.395465\n",
      "86    1.0          4  15   0.492966  0.672596  0.465803\n",
      "87    1.0          4  20   0.447296  0.744738  0.509927\n"
     ]
    }
   ],
   "source": [
    "# Sezione 10.3: Visualizzazione etriche per alpha a 1 (User based)\n",
    "\n",
    "topn_metrics_df = pd.DataFrame(topn_results).sort_values(by=['alpha', 'threshold', 'k'])\n",
    "\n",
    "# Filtra il DataFrame per alpha == 1\n",
    "alpha_1_df = topn_metrics_df[topn_metrics_df['alpha'] == 1.0]\n",
    "\n",
    "# Visualizza le righe filtrate\n",
    "print(alpha_1_df)\n"
   ]
  },
  {
   "cell_type": "code",
   "execution_count": 24,
   "id": "b1d04641",
   "metadata": {},
   "outputs": [
    {
     "name": "stdout",
     "output_type": "stream",
     "text": [
      "    alpha  threshold   k  precision    recall       map\n",
      "80    1.0          3   5   0.840721  0.343527  0.309895\n",
      "81    1.0          3  10   0.778579  0.559392  0.495836\n",
      "82    1.0          3  15   0.704984  0.671755  0.592020\n",
      "83    1.0          3  20   0.642259  0.744874  0.654622\n",
      "84    1.0          4   5   0.591092  0.343229  0.259634\n",
      "85    1.0          4  10   0.546766  0.560051  0.395465\n",
      "86    1.0          4  15   0.492966  0.672596  0.465803\n",
      "87    1.0          4  20   0.447296  0.744738  0.509927\n"
     ]
    }
   ],
   "source": [
    "# Sezione 10.3: Visualizzazione etriche per alpha a 0.5 \n",
    "\n",
    "# Filtra il DataFrame per alpha == 0.5\n",
    "alpha_0_5_df = topn_metrics_df[topn_metrics_df['alpha'] == 0.5]\n",
    "\n",
    "# Visualizza le righe filtrate\n",
    "print(alpha_1_df)"
   ]
  },
  {
   "cell_type": "code",
   "execution_count": 25,
   "id": "17883250",
   "metadata": {},
   "outputs": [
    {
     "name": "stdout",
     "output_type": "stream",
     "text": [
      "    alpha  threshold   k  precision    recall       map\n",
      "80    1.0          3   5   0.840721  0.343527  0.309895\n",
      "81    1.0          3  10   0.778579  0.559392  0.495836\n",
      "82    1.0          3  15   0.704984  0.671755  0.592020\n",
      "83    1.0          3  20   0.642259  0.744874  0.654622\n",
      "84    1.0          4   5   0.591092  0.343229  0.259634\n",
      "85    1.0          4  10   0.546766  0.560051  0.395465\n",
      "86    1.0          4  15   0.492966  0.672596  0.465803\n",
      "87    1.0          4  20   0.447296  0.744738  0.509927\n"
     ]
    }
   ],
   "source": [
    "# Sezione 10.4: Visualizzazione etriche per alpha a 0 (Item based)\n",
    "\n",
    "# Filtra il DataFrame per alpha == 1\n",
    "alpha_0_df = topn_metrics_df[topn_metrics_df['alpha'] == 0.0]\n",
    "\n",
    "# Visualizza le righe filtrate\n",
    "print(alpha_1_df)\n"
   ]
  },
  {
   "cell_type": "code",
   "execution_count": 26,
   "id": "63289082",
   "metadata": {},
   "outputs": [
    {
     "data": {
      "text/html": [
       "<div>\n",
       "<style scoped>\n",
       "    .dataframe tbody tr th:only-of-type {\n",
       "        vertical-align: middle;\n",
       "    }\n",
       "\n",
       "    .dataframe tbody tr th {\n",
       "        vertical-align: top;\n",
       "    }\n",
       "\n",
       "    .dataframe thead th {\n",
       "        text-align: right;\n",
       "    }\n",
       "</style>\n",
       "<table border=\"1\" class=\"dataframe\">\n",
       "  <thead>\n",
       "    <tr style=\"text-align: right;\">\n",
       "      <th></th>\n",
       "      <th>metric</th>\n",
       "      <th>alpha</th>\n",
       "      <th>threshold</th>\n",
       "      <th>k</th>\n",
       "      <th>precision</th>\n",
       "      <th>recall</th>\n",
       "      <th>map</th>\n",
       "    </tr>\n",
       "  </thead>\n",
       "  <tbody>\n",
       "    <tr>\n",
       "      <th>0</th>\n",
       "      <td>Precision massima</td>\n",
       "      <td>1.0</td>\n",
       "      <td>3.0</td>\n",
       "      <td>5.0</td>\n",
       "      <td>0.8407</td>\n",
       "      <td>0.3435</td>\n",
       "      <td>0.3099</td>\n",
       "    </tr>\n",
       "    <tr>\n",
       "      <th>1</th>\n",
       "      <td>Recall massima</td>\n",
       "      <td>0.9</td>\n",
       "      <td>3.0</td>\n",
       "      <td>20.0</td>\n",
       "      <td>0.6424</td>\n",
       "      <td>0.7449</td>\n",
       "      <td>0.6543</td>\n",
       "    </tr>\n",
       "    <tr>\n",
       "      <th>2</th>\n",
       "      <td>MAP massima</td>\n",
       "      <td>1.0</td>\n",
       "      <td>3.0</td>\n",
       "      <td>20.0</td>\n",
       "      <td>0.6423</td>\n",
       "      <td>0.7449</td>\n",
       "      <td>0.6546</td>\n",
       "    </tr>\n",
       "  </tbody>\n",
       "</table>\n",
       "</div>"
      ],
      "text/plain": [
       "              metric  alpha  threshold     k  precision  recall     map\n",
       "0  Precision massima    1.0        3.0   5.0     0.8407  0.3435  0.3099\n",
       "1     Recall massima    0.9        3.0  20.0     0.6424  0.7449  0.6543\n",
       "2        MAP massima    1.0        3.0  20.0     0.6423  0.7449  0.6546"
      ]
     },
     "execution_count": 26,
     "metadata": {},
     "output_type": "execute_result"
    }
   ],
   "source": [
    "# Sezione 10.4: Combinazione migliore per metriche Top@K\n",
    "\n",
    "# Trova le righe con le metriche migliori su tutti i k\n",
    "best_precision_row = topn_metrics_df.loc[topn_metrics_df['precision'].idxmax()]\n",
    "best_recall_row    = topn_metrics_df.loc[topn_metrics_df['recall'].idxmax()]\n",
    "best_map_row       = topn_metrics_df.loc[topn_metrics_df['map'].idxmax()]\n",
    "\n",
    "# Crea un DataFrame riepilogativo\n",
    "best_topk_combinations = pd.DataFrame([\n",
    "    {\n",
    "        'metric': 'Precision massima',\n",
    "        'alpha': best_precision_row['alpha'],\n",
    "        'threshold': best_precision_row['threshold'],\n",
    "        'k': best_precision_row['k'],\n",
    "        'precision': best_precision_row['precision'],\n",
    "        'recall': best_precision_row['recall'],\n",
    "        'map': best_precision_row['map']\n",
    "    },\n",
    "    {\n",
    "        'metric': 'Recall massima',\n",
    "        'alpha': best_recall_row['alpha'],\n",
    "        'threshold': best_recall_row['threshold'],\n",
    "        'k': best_recall_row['k'],\n",
    "        'precision': best_recall_row['precision'],\n",
    "        'recall': best_recall_row['recall'],\n",
    "        'map': best_recall_row['map']\n",
    "    },\n",
    "    {\n",
    "        'metric': 'MAP massima',\n",
    "        'alpha': best_map_row['alpha'],\n",
    "        'threshold': best_map_row['threshold'],\n",
    "        'k': best_map_row['k'],\n",
    "        'precision': best_map_row['precision'],\n",
    "        'recall': best_map_row['recall'],\n",
    "        'map': best_map_row['map']\n",
    "    }\n",
    "])\n",
    "\n",
    "# Mostra il DataFrame con valori arrotondati\n",
    "best_topk_combinations.round(4)\n"
   ]
  },
  {
   "cell_type": "code",
   "execution_count": 28,
   "id": "6587693b",
   "metadata": {},
   "outputs": [
    {
     "data": {
      "application/vnd.plotly.v1+json": {
       "config": {
        "plotlyServerURL": "https://plot.ly"
       },
       "data": [
        {
         "hovertemplate": "Alpha=%{x}<br>Top-K=%{y}<br>MAP=%{marker.color}<extra></extra>",
         "legendgroup": "",
         "marker": {
          "color": {
           "bdata": "dZNp4Cy/0z9ckw0FPI3fPwZFkGH21uI/3iKrhnHZ5D/5RlLTMsLTP2MbsgxVkd8/TFBE+pTY4j/hp8G1etvkP/m0/cP+yNM/dw2UIEGZ3z+cy2oSEdviP0P4jYtC3uQ/rnz3UUPL0z/qBav8lKDfPxPX/3/d3uI/bk6V67/g5D8MdoqHzc7TP981mYXYpd8/o/69xy/h4j+hSkDmOeTkPwVbZvjPz9M/DkxlLXit3z/4PIM1+eTiP8CVLMIx5+Q/8VMLH+vQ0z9bQh4zLKzfP60FAFiD5uI/gZMM79Dn5D//u8LSQ8zTPzIrmctdrN8/sF8My4nn4j8KSzArsOnkP/qiTgWPz9M/BNFS7/Cv3z838jBWv+viP0k1bTOe7eQ/o6ECBQrR0z/W8zF1I7bfP3oxqhEI7uI/+Q9ywKvv5D+Y1fHvUdXTPyN5SxrHu98/xN/OFNTx4j9y1NCNqvLkPw==",
           "dtype": "f8"
          },
          "coloraxis": "coloraxis",
          "symbol": "circle"
         },
         "mode": "markers",
         "name": "",
         "scene": "scene",
         "showlegend": false,
         "type": "scatter3d",
         "x": {
          "bdata": "AAAAAAAAAAAAAAAAAAAAAAAAAAAAAAAAAAAAAAAAAACamZmZmZm5P5qZmZmZmbk/mpmZmZmZuT+amZmZmZm5P5qZmZmZmck/mpmZmZmZyT+amZmZmZnJP5qZmZmZmck/MzMzMzMz0z8zMzMzMzPTPzMzMzMzM9M/MzMzMzMz0z+amZmZmZnZP5qZmZmZmdk/mpmZmZmZ2T+amZmZmZnZPwAAAAAAAOA/AAAAAAAA4D8AAAAAAADgPwAAAAAAAOA/MzMzMzMz4z8zMzMzMzPjPzMzMzMzM+M/MzMzMzMz4z9mZmZmZmbmP2ZmZmZmZuY/ZmZmZmZm5j9mZmZmZmbmP5qZmZmZmek/mpmZmZmZ6T+amZmZmZnpP5qZmZmZmek/zczMzMzM7D/NzMzMzMzsP83MzMzMzOw/zczMzMzM7D8AAAAAAADwPwAAAAAAAPA/AAAAAAAA8D8AAAAAAADwPw==",
          "dtype": "f8"
         },
         "y": {
          "bdata": "BQoPFAUKDxQFCg8UBQoPFAUKDxQFCg8UBQoPFAUKDxQFCg8UBQoPFAUKDxQ=",
          "dtype": "i1"
         },
         "z": {
          "bdata": "dZNp4Cy/0z9ckw0FPI3fPwZFkGH21uI/3iKrhnHZ5D/5RlLTMsLTP2MbsgxVkd8/TFBE+pTY4j/hp8G1etvkP/m0/cP+yNM/dw2UIEGZ3z+cy2oSEdviP0P4jYtC3uQ/rnz3UUPL0z/qBav8lKDfPxPX/3/d3uI/bk6V67/g5D8MdoqHzc7TP981mYXYpd8/o/69xy/h4j+hSkDmOeTkPwVbZvjPz9M/DkxlLXit3z/4PIM1+eTiP8CVLMIx5+Q/8VMLH+vQ0z9bQh4zLKzfP60FAFiD5uI/gZMM79Dn5D//u8LSQ8zTPzIrmctdrN8/sF8My4nn4j8KSzArsOnkP/qiTgWPz9M/BNFS7/Cv3z838jBWv+viP0k1bTOe7eQ/o6ECBQrR0z/W8zF1I7bfP3oxqhEI7uI/+Q9ywKvv5D+Y1fHvUdXTPyN5SxrHu98/xN/OFNTx4j9y1NCNqvLkPw==",
          "dtype": "f8"
         }
        }
       ],
       "layout": {
        "coloraxis": {
         "colorbar": {
          "title": {
           "text": "MAP"
          }
         },
         "colorscale": [
          [
           0,
           "#440154"
          ],
          [
           0.1111111111111111,
           "#482878"
          ],
          [
           0.2222222222222222,
           "#3e4989"
          ],
          [
           0.3333333333333333,
           "#31688e"
          ],
          [
           0.4444444444444444,
           "#26828e"
          ],
          [
           0.5555555555555556,
           "#1f9e89"
          ],
          [
           0.6666666666666666,
           "#35b779"
          ],
          [
           0.7777777777777778,
           "#6ece58"
          ],
          [
           0.8888888888888888,
           "#b5de2b"
          ],
          [
           1,
           "#fde725"
          ]
         ]
        },
        "legend": {
         "tracegroupgap": 0
        },
        "margin": {
         "t": 60
        },
        "scene": {
         "domain": {
          "x": [
           0,
           1
          ],
          "y": [
           0,
           1
          ]
         },
         "xaxis": {
          "title": {
           "text": "Alpha"
          }
         },
         "yaxis": {
          "title": {
           "text": "Top-K"
          }
         },
         "zaxis": {
          "title": {
           "text": "MAP"
          }
         }
        },
        "template": {
         "data": {
          "bar": [
           {
            "error_x": {
             "color": "#2a3f5f"
            },
            "error_y": {
             "color": "#2a3f5f"
            },
            "marker": {
             "line": {
              "color": "#E5ECF6",
              "width": 0.5
             },
             "pattern": {
              "fillmode": "overlay",
              "size": 10,
              "solidity": 0.2
             }
            },
            "type": "bar"
           }
          ],
          "barpolar": [
           {
            "marker": {
             "line": {
              "color": "#E5ECF6",
              "width": 0.5
             },
             "pattern": {
              "fillmode": "overlay",
              "size": 10,
              "solidity": 0.2
             }
            },
            "type": "barpolar"
           }
          ],
          "carpet": [
           {
            "aaxis": {
             "endlinecolor": "#2a3f5f",
             "gridcolor": "white",
             "linecolor": "white",
             "minorgridcolor": "white",
             "startlinecolor": "#2a3f5f"
            },
            "baxis": {
             "endlinecolor": "#2a3f5f",
             "gridcolor": "white",
             "linecolor": "white",
             "minorgridcolor": "white",
             "startlinecolor": "#2a3f5f"
            },
            "type": "carpet"
           }
          ],
          "choropleth": [
           {
            "colorbar": {
             "outlinewidth": 0,
             "ticks": ""
            },
            "type": "choropleth"
           }
          ],
          "contour": [
           {
            "colorbar": {
             "outlinewidth": 0,
             "ticks": ""
            },
            "colorscale": [
             [
              0,
              "#0d0887"
             ],
             [
              0.1111111111111111,
              "#46039f"
             ],
             [
              0.2222222222222222,
              "#7201a8"
             ],
             [
              0.3333333333333333,
              "#9c179e"
             ],
             [
              0.4444444444444444,
              "#bd3786"
             ],
             [
              0.5555555555555556,
              "#d8576b"
             ],
             [
              0.6666666666666666,
              "#ed7953"
             ],
             [
              0.7777777777777778,
              "#fb9f3a"
             ],
             [
              0.8888888888888888,
              "#fdca26"
             ],
             [
              1,
              "#f0f921"
             ]
            ],
            "type": "contour"
           }
          ],
          "contourcarpet": [
           {
            "colorbar": {
             "outlinewidth": 0,
             "ticks": ""
            },
            "type": "contourcarpet"
           }
          ],
          "heatmap": [
           {
            "colorbar": {
             "outlinewidth": 0,
             "ticks": ""
            },
            "colorscale": [
             [
              0,
              "#0d0887"
             ],
             [
              0.1111111111111111,
              "#46039f"
             ],
             [
              0.2222222222222222,
              "#7201a8"
             ],
             [
              0.3333333333333333,
              "#9c179e"
             ],
             [
              0.4444444444444444,
              "#bd3786"
             ],
             [
              0.5555555555555556,
              "#d8576b"
             ],
             [
              0.6666666666666666,
              "#ed7953"
             ],
             [
              0.7777777777777778,
              "#fb9f3a"
             ],
             [
              0.8888888888888888,
              "#fdca26"
             ],
             [
              1,
              "#f0f921"
             ]
            ],
            "type": "heatmap"
           }
          ],
          "histogram": [
           {
            "marker": {
             "pattern": {
              "fillmode": "overlay",
              "size": 10,
              "solidity": 0.2
             }
            },
            "type": "histogram"
           }
          ],
          "histogram2d": [
           {
            "colorbar": {
             "outlinewidth": 0,
             "ticks": ""
            },
            "colorscale": [
             [
              0,
              "#0d0887"
             ],
             [
              0.1111111111111111,
              "#46039f"
             ],
             [
              0.2222222222222222,
              "#7201a8"
             ],
             [
              0.3333333333333333,
              "#9c179e"
             ],
             [
              0.4444444444444444,
              "#bd3786"
             ],
             [
              0.5555555555555556,
              "#d8576b"
             ],
             [
              0.6666666666666666,
              "#ed7953"
             ],
             [
              0.7777777777777778,
              "#fb9f3a"
             ],
             [
              0.8888888888888888,
              "#fdca26"
             ],
             [
              1,
              "#f0f921"
             ]
            ],
            "type": "histogram2d"
           }
          ],
          "histogram2dcontour": [
           {
            "colorbar": {
             "outlinewidth": 0,
             "ticks": ""
            },
            "colorscale": [
             [
              0,
              "#0d0887"
             ],
             [
              0.1111111111111111,
              "#46039f"
             ],
             [
              0.2222222222222222,
              "#7201a8"
             ],
             [
              0.3333333333333333,
              "#9c179e"
             ],
             [
              0.4444444444444444,
              "#bd3786"
             ],
             [
              0.5555555555555556,
              "#d8576b"
             ],
             [
              0.6666666666666666,
              "#ed7953"
             ],
             [
              0.7777777777777778,
              "#fb9f3a"
             ],
             [
              0.8888888888888888,
              "#fdca26"
             ],
             [
              1,
              "#f0f921"
             ]
            ],
            "type": "histogram2dcontour"
           }
          ],
          "mesh3d": [
           {
            "colorbar": {
             "outlinewidth": 0,
             "ticks": ""
            },
            "type": "mesh3d"
           }
          ],
          "parcoords": [
           {
            "line": {
             "colorbar": {
              "outlinewidth": 0,
              "ticks": ""
             }
            },
            "type": "parcoords"
           }
          ],
          "pie": [
           {
            "automargin": true,
            "type": "pie"
           }
          ],
          "scatter": [
           {
            "fillpattern": {
             "fillmode": "overlay",
             "size": 10,
             "solidity": 0.2
            },
            "type": "scatter"
           }
          ],
          "scatter3d": [
           {
            "line": {
             "colorbar": {
              "outlinewidth": 0,
              "ticks": ""
             }
            },
            "marker": {
             "colorbar": {
              "outlinewidth": 0,
              "ticks": ""
             }
            },
            "type": "scatter3d"
           }
          ],
          "scattercarpet": [
           {
            "marker": {
             "colorbar": {
              "outlinewidth": 0,
              "ticks": ""
             }
            },
            "type": "scattercarpet"
           }
          ],
          "scattergeo": [
           {
            "marker": {
             "colorbar": {
              "outlinewidth": 0,
              "ticks": ""
             }
            },
            "type": "scattergeo"
           }
          ],
          "scattergl": [
           {
            "marker": {
             "colorbar": {
              "outlinewidth": 0,
              "ticks": ""
             }
            },
            "type": "scattergl"
           }
          ],
          "scattermap": [
           {
            "marker": {
             "colorbar": {
              "outlinewidth": 0,
              "ticks": ""
             }
            },
            "type": "scattermap"
           }
          ],
          "scattermapbox": [
           {
            "marker": {
             "colorbar": {
              "outlinewidth": 0,
              "ticks": ""
             }
            },
            "type": "scattermapbox"
           }
          ],
          "scatterpolar": [
           {
            "marker": {
             "colorbar": {
              "outlinewidth": 0,
              "ticks": ""
             }
            },
            "type": "scatterpolar"
           }
          ],
          "scatterpolargl": [
           {
            "marker": {
             "colorbar": {
              "outlinewidth": 0,
              "ticks": ""
             }
            },
            "type": "scatterpolargl"
           }
          ],
          "scatterternary": [
           {
            "marker": {
             "colorbar": {
              "outlinewidth": 0,
              "ticks": ""
             }
            },
            "type": "scatterternary"
           }
          ],
          "surface": [
           {
            "colorbar": {
             "outlinewidth": 0,
             "ticks": ""
            },
            "colorscale": [
             [
              0,
              "#0d0887"
             ],
             [
              0.1111111111111111,
              "#46039f"
             ],
             [
              0.2222222222222222,
              "#7201a8"
             ],
             [
              0.3333333333333333,
              "#9c179e"
             ],
             [
              0.4444444444444444,
              "#bd3786"
             ],
             [
              0.5555555555555556,
              "#d8576b"
             ],
             [
              0.6666666666666666,
              "#ed7953"
             ],
             [
              0.7777777777777778,
              "#fb9f3a"
             ],
             [
              0.8888888888888888,
              "#fdca26"
             ],
             [
              1,
              "#f0f921"
             ]
            ],
            "type": "surface"
           }
          ],
          "table": [
           {
            "cells": {
             "fill": {
              "color": "#EBF0F8"
             },
             "line": {
              "color": "white"
             }
            },
            "header": {
             "fill": {
              "color": "#C8D4E3"
             },
             "line": {
              "color": "white"
             }
            },
            "type": "table"
           }
          ]
         },
         "layout": {
          "annotationdefaults": {
           "arrowcolor": "#2a3f5f",
           "arrowhead": 0,
           "arrowwidth": 1
          },
          "autotypenumbers": "strict",
          "coloraxis": {
           "colorbar": {
            "outlinewidth": 0,
            "ticks": ""
           }
          },
          "colorscale": {
           "diverging": [
            [
             0,
             "#8e0152"
            ],
            [
             0.1,
             "#c51b7d"
            ],
            [
             0.2,
             "#de77ae"
            ],
            [
             0.3,
             "#f1b6da"
            ],
            [
             0.4,
             "#fde0ef"
            ],
            [
             0.5,
             "#f7f7f7"
            ],
            [
             0.6,
             "#e6f5d0"
            ],
            [
             0.7,
             "#b8e186"
            ],
            [
             0.8,
             "#7fbc41"
            ],
            [
             0.9,
             "#4d9221"
            ],
            [
             1,
             "#276419"
            ]
           ],
           "sequential": [
            [
             0,
             "#0d0887"
            ],
            [
             0.1111111111111111,
             "#46039f"
            ],
            [
             0.2222222222222222,
             "#7201a8"
            ],
            [
             0.3333333333333333,
             "#9c179e"
            ],
            [
             0.4444444444444444,
             "#bd3786"
            ],
            [
             0.5555555555555556,
             "#d8576b"
            ],
            [
             0.6666666666666666,
             "#ed7953"
            ],
            [
             0.7777777777777778,
             "#fb9f3a"
            ],
            [
             0.8888888888888888,
             "#fdca26"
            ],
            [
             1,
             "#f0f921"
            ]
           ],
           "sequentialminus": [
            [
             0,
             "#0d0887"
            ],
            [
             0.1111111111111111,
             "#46039f"
            ],
            [
             0.2222222222222222,
             "#7201a8"
            ],
            [
             0.3333333333333333,
             "#9c179e"
            ],
            [
             0.4444444444444444,
             "#bd3786"
            ],
            [
             0.5555555555555556,
             "#d8576b"
            ],
            [
             0.6666666666666666,
             "#ed7953"
            ],
            [
             0.7777777777777778,
             "#fb9f3a"
            ],
            [
             0.8888888888888888,
             "#fdca26"
            ],
            [
             1,
             "#f0f921"
            ]
           ]
          },
          "colorway": [
           "#636efa",
           "#EF553B",
           "#00cc96",
           "#ab63fa",
           "#FFA15A",
           "#19d3f3",
           "#FF6692",
           "#B6E880",
           "#FF97FF",
           "#FECB52"
          ],
          "font": {
           "color": "#2a3f5f"
          },
          "geo": {
           "bgcolor": "white",
           "lakecolor": "white",
           "landcolor": "#E5ECF6",
           "showlakes": true,
           "showland": true,
           "subunitcolor": "white"
          },
          "hoverlabel": {
           "align": "left"
          },
          "hovermode": "closest",
          "mapbox": {
           "style": "light"
          },
          "paper_bgcolor": "white",
          "plot_bgcolor": "#E5ECF6",
          "polar": {
           "angularaxis": {
            "gridcolor": "white",
            "linecolor": "white",
            "ticks": ""
           },
           "bgcolor": "#E5ECF6",
           "radialaxis": {
            "gridcolor": "white",
            "linecolor": "white",
            "ticks": ""
           }
          },
          "scene": {
           "xaxis": {
            "backgroundcolor": "#E5ECF6",
            "gridcolor": "white",
            "gridwidth": 2,
            "linecolor": "white",
            "showbackground": true,
            "ticks": "",
            "zerolinecolor": "white"
           },
           "yaxis": {
            "backgroundcolor": "#E5ECF6",
            "gridcolor": "white",
            "gridwidth": 2,
            "linecolor": "white",
            "showbackground": true,
            "ticks": "",
            "zerolinecolor": "white"
           },
           "zaxis": {
            "backgroundcolor": "#E5ECF6",
            "gridcolor": "white",
            "gridwidth": 2,
            "linecolor": "white",
            "showbackground": true,
            "ticks": "",
            "zerolinecolor": "white"
           }
          },
          "shapedefaults": {
           "line": {
            "color": "#2a3f5f"
           }
          },
          "ternary": {
           "aaxis": {
            "gridcolor": "white",
            "linecolor": "white",
            "ticks": ""
           },
           "baxis": {
            "gridcolor": "white",
            "linecolor": "white",
            "ticks": ""
           },
           "bgcolor": "#E5ECF6",
           "caxis": {
            "gridcolor": "white",
            "linecolor": "white",
            "ticks": ""
           }
          },
          "title": {
           "x": 0.05
          },
          "xaxis": {
           "automargin": true,
           "gridcolor": "white",
           "linecolor": "white",
           "ticks": "",
           "title": {
            "standoff": 15
           },
           "zerolinecolor": "white",
           "zerolinewidth": 2
          },
          "yaxis": {
           "automargin": true,
           "gridcolor": "white",
           "linecolor": "white",
           "ticks": "",
           "title": {
            "standoff": 15
           },
           "zerolinecolor": "white",
           "zerolinewidth": 2
          }
         }
        }
       }
      }
     },
     "metadata": {},
     "output_type": "display_data"
    }
   ],
   "source": [
    "# Sezione 10.5: Visualizzazione grafica della metrica MAP@K\n",
    "\n",
    "import plotly.express as px \n",
    "\n",
    "# Filtra per un threshold specifico\n",
    "threshold = 3\n",
    "df_thr = topn_metrics_df[topn_metrics_df['threshold'] == threshold]\n",
    "\n",
    "fig = px.scatter_3d(df_thr, \n",
    "                    x='alpha', y='k', z='map',\n",
    "                    color='map',\n",
    "                    title='',\n",
    "                    labels={'alpha':'Alpha', 'k':'Top-K', 'map':'MAP'},\n",
    "                    color_continuous_scale='Viridis')\n",
    "\n",
    "fig.show()\n"
   ]
  }
 ],
 "metadata": {
  "kernelspec": {
   "display_name": "FDSML",
   "language": "python",
   "name": "python3"
  },
  "language_info": {
   "codemirror_mode": {
    "name": "ipython",
    "version": 3
   },
   "file_extension": ".py",
   "mimetype": "text/x-python",
   "name": "python",
   "nbconvert_exporter": "python",
   "pygments_lexer": "ipython3",
   "version": "3.10.18"
  }
 },
 "nbformat": 4,
 "nbformat_minor": 5
}
