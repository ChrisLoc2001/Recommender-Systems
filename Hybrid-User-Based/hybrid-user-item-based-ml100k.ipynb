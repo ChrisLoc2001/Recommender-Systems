{
 "cells": [
  {
   "cell_type": "code",
   "execution_count": 219,
   "id": "616abd65",
   "metadata": {},
   "outputs": [],
   "source": [
    "# Sezione 0: Import librerie aggiuntive\n",
    "import pandas as pd\n",
    "import numpy as np\n",
    "from sklearn.metrics.pairwise import cosine_similarity, pairwise_distances\n",
    "from sklearn.model_selection import train_test_split\n",
    "from sklearn.metrics import accuracy_score, precision_score, recall_score, mean_absolute_error, mean_squared_error\n",
    "from scipy import sparse\n",
    "from scipy.sparse.linalg import svds\n",
    "from sklearn.cluster import KMeans\n",
    "import matplotlib.pyplot as plt\n",
    "from sklearn.metrics import silhouette_score\n",
    "from sklearn.preprocessing import StandardScaler\n",
    "from sklearn.decomposition import PCA"
   ]
  },
  {
   "cell_type": "code",
   "execution_count": 220,
   "id": "fcfcb16a",
   "metadata": {},
   "outputs": [],
   "source": [
    "# Sezione 1: Caricamento dati (MovieLens 100k)\n",
    "url = \"../datasets/ml-100k/u.data\"\n",
    "columns = ['user_id', 'movie_id', 'rating', 'timestamp']\n",
    "df = pd.read_csv(url, sep='\\t', names=columns)\n",
    "df.drop(columns='timestamp', inplace=True)"
   ]
  },
  {
   "cell_type": "code",
   "execution_count": 221,
   "id": "95566142",
   "metadata": {},
   "outputs": [
    {
     "name": "stdout",
     "output_type": "stream",
     "text": [
      "Numero utenti: 943, Numero item: 1682\n",
      "Ratings non nulli: 100000\n",
      "Sparsità: 93.70%\n"
     ]
    }
   ],
   "source": [
    "# Sezione 2: Matrice utente-item e sparsità\n",
    "ratings_matrix = df.pivot_table(index='user_id', columns='movie_id', values='rating')\n",
    "n_users, n_items = ratings_matrix.shape\n",
    "nnz = ratings_matrix.count().sum()\n",
    "sparsity = 1 - nnz / (n_users * n_items)\n",
    "print(f\"Numero utenti: {n_users}, Numero item: {n_items}\")\n",
    "print(f\"Ratings non nulli: {nnz}\")\n",
    "print(f\"Sparsità: {sparsity:.2%}\")"
   ]
  },
  {
   "cell_type": "code",
   "execution_count": 222,
   "id": "44cd17f5",
   "metadata": {},
   "outputs": [
    {
     "name": "stdout",
     "output_type": "stream",
     "text": [
      "SVD applicato: matrice ricostruita densa.\n",
      "Sparsità dopo SVD: 0.00%\n"
     ]
    }
   ],
   "source": [
    "# Sezione 3: Gestione della sparsità con SVD (se necessario)\n",
    "threshold_sparsity = 0.85\n",
    "if sparsity > threshold_sparsity:\n",
    "    R_filled = ratings_matrix.fillna(0)\n",
    "    R_sparse = sparse.csr_matrix(R_filled.values)\n",
    "    u_svd, s_svd, vt_svd = svds(R_sparse, k=50)\n",
    "    R_svd = u_svd.dot(np.diag(s_svd)).dot(vt_svd)\n",
    "    ratings_matrix = pd.DataFrame(R_svd, index=ratings_matrix.index, columns=ratings_matrix.columns)\n",
    "    nnz_svd = np.count_nonzero(ratings_matrix.values)\n",
    "    sparsity_svd = 1 - nnz_svd / ratings_matrix.size\n",
    "    print(\"SVD applicato: matrice ricostruita densa.\")\n",
    "    print(f\"Sparsità dopo SVD: {sparsity_svd:.2%}\")\n",
    "else:\n",
    "    ratings_matrix = ratings_matrix.fillna(0)\n",
    "    print(\"Sparsità accettabile: nessuna SVD necessaria.\")"
   ]
  },
  {
   "cell_type": "code",
   "execution_count": 223,
   "id": "39dcde6d",
   "metadata": {},
   "outputs": [],
   "source": [
    "\n",
    "# Sezione 4: Split train/test e train_matrix\n",
    "train_data, test_data = train_test_split(df, test_size=0.2, random_state=42)\n",
    "train_matrix = train_data.pivot_table(index='user_id', columns='movie_id', values='rating').fillna(0)"
   ]
  },
  {
   "cell_type": "code",
   "execution_count": 224,
   "id": "9250c32d",
   "metadata": {},
   "outputs": [],
   "source": [
    "\n",
    "# Sezione 5: Calcolo similarity user/item\n",
    "sim_cosine_u = cosine_similarity(train_matrix)\n",
    "R_centered = train_matrix.sub(train_matrix.mean(axis=1), axis=0)\n",
    "sim_pearson_u = 1 - pairwise_distances(R_centered.fillna(0), metric='correlation')\n",
    "user_similarity = pd.DataFrame(sim_pearson_u, index=train_matrix.index, columns=train_matrix.index)\n",
    "item_similarity = pd.DataFrame(cosine_similarity(train_matrix.T), index=train_matrix.columns, columns=train_matrix.columns)"
   ]
  },
  {
   "cell_type": "code",
   "execution_count": 225,
   "id": "cf00456c",
   "metadata": {},
   "outputs": [
    {
     "name": "stdout",
     "output_type": "stream",
     "text": [
      "Silhouette Score migliore: 0.5356 con k = 2\n"
     ]
    }
   ],
   "source": [
    "\n",
    "# Sezione 5.1: Clustering utenti con PCA + KMeans\n",
    "global_features = R_centered.fillna(0).values\n",
    "scaled = StandardScaler().fit_transform(global_features)\n",
    "pca = PCA(n_components=20, random_state=42)\n",
    "features_pca = pca.fit_transform(scaled)\n",
    "\n",
    "sil_scores = []\n",
    "for k in range(2, 21):\n",
    "    labels = KMeans(n_clusters=k, random_state=42).fit_predict(features_pca)\n",
    "    sil_scores.append(silhouette_score(features_pca, labels))\n",
    "best_k = np.argmax(sil_scores) + 2\n",
    "print(f\"Silhouette Score migliore: {max(sil_scores):.4f} con k = {best_k}\")\n",
    "\n",
    "user_clusters = pd.Series(KMeans(n_clusters=best_k, random_state=42).fit_predict(features_pca), index=train_matrix.index)"
   ]
  },
  {
   "cell_type": "code",
   "execution_count": 226,
   "id": "f94832a3",
   "metadata": {},
   "outputs": [],
   "source": [
    "# Sezione 6: Funzioni di predizione CF\n",
    "sim_threshold = 0.1\n",
    "def predict_user_cf(u, i, R, sim, means, clusters):\n",
    "    same = clusters[clusters == clusters[u]].index\n",
    "    sims = sim.loc[u, same]\n",
    "    sims = sims[sims > sim_threshold].sort_values(ascending=False)\n",
    "    num = den = 0.0\n",
    "    for v, s in sims.items():\n",
    "        r = R.loc[v, i] if i in R.columns else 0\n",
    "        if r > 0:\n",
    "            num += s * (r - means[v])\n",
    "            den += abs(s)\n",
    "    return means[u] if den == 0 else means[u] + num/den\n",
    "\n",
    "def predict_item_cf(u, i, R, sim, means):\n",
    "    if i not in sim.index or i not in R.columns:\n",
    "        return means.get(u, 0)\n",
    "    sims = sim[i].sort_values(ascending=False)\n",
    "    num = den = 0.0\n",
    "    for j, s in sims.items():\n",
    "        r = R.loc[u, j] if j in R.columns else 0\n",
    "        if r > 0:\n",
    "            num += s * (r - means[u])\n",
    "            den += abs(s)\n",
    "    return means[u] if den == 0 else means[u] + num/den\n",
    "\n",
    "user_means = train_matrix.replace(0, np.nan).mean(axis=1).fillna(0)\n",
    "\n",
    "def hybrid_predict(u, i):\n",
    "    ub = predict_user_cf(u, i, train_matrix, user_similarity, user_means, user_clusters)\n",
    "    ib = predict_item_cf(u, i, train_matrix, item_similarity, user_means)\n",
    "    return 0.5 * ub + 0.5 * ib\n"
   ]
  },
  {
   "cell_type": "code",
   "execution_count": 227,
   "id": "8b252ea0",
   "metadata": {},
   "outputs": [
    {
     "name": "stdout",
     "output_type": "stream",
     "text": [
      "Accuracy:  0.5903\n",
      "Precision: 0.8335\n",
      "Recall:    0.3179\n",
      "MAE:       0.7575\n",
      "RMSE:      0.9562\n"
     ]
    }
   ],
   "source": [
    "# Sezione 7: Valutazione rating (MAE, RMSE, Accuracy...)\n",
    "threshold = 4\n",
    "y_true_bin, y_pred_bin, y_true_cont, y_pred_cont = [], [], [], []\n",
    "for _, row in test_data.iterrows():\n",
    "    u, i, true_r = row.user_id, row.movie_id, row.rating\n",
    "    pred_r = hybrid_predict(u, i)\n",
    "    y_true_cont.append(true_r); y_pred_cont.append(pred_r)\n",
    "    y_true_bin.append(1 if true_r >= threshold else 0); y_pred_bin.append(1 if pred_r >= threshold else 0)\n",
    "accuracy = accuracy_score(y_true_bin, y_pred_bin)\n",
    "precision = precision_score(y_true_bin, y_pred_bin, zero_division=0)\n",
    "recall = recall_score(y_true_bin, y_pred_bin, zero_division=0)\n",
    "mae = mean_absolute_error(y_true_cont, y_pred_cont)\n",
    "rmse = np.sqrt(mean_squared_error(y_true_cont, y_pred_cont))\n",
    "print(f\"Accuracy:  {accuracy:.4f}\")\n",
    "print(f\"Precision: {precision:.4f}\")\n",
    "print(f\"Recall:    {recall:.4f}\")\n",
    "print(f\"MAE:       {mae:.4f}\")\n",
    "print(f\"RMSE:      {rmse:.4f}\")\n",
    "\n",
    "\n"
   ]
  },
  {
   "cell_type": "code",
   "execution_count": 228,
   "id": "67f4a9da",
   "metadata": {},
   "outputs": [
    {
     "data": {
      "image/png": "[encoded data removed]",
      "text/plain": [
       "<Figure size 600x400 with 1 Axes>"
      ]
     },
     "metadata": {},
     "output_type": "display_data"
    }
   ],
   "source": [
    "# Sezione 8: Distribuzione degli errori\n",
    "ds = pd.DataFrame({'truth': y_true_cont, 'pred': y_pred_cont})\n",
    "ds['error'] = ds['pred'] - ds['truth']\n",
    "plt.figure(figsize=(6,4))\n",
    "ds['error'].hist(bins=20)\n",
    "plt.xlabel('Errore (pred - real)')\n",
    "plt.ylabel('Frequenza')\n",
    "plt.title('Distribuzione degli errori di previsione')\n",
    "plt.tight_layout()\n",
    "plt.show()"
   ]
  },
  {
   "cell_type": "code",
   "execution_count": 229,
   "id": "5b2ce917",
   "metadata": {},
   "outputs": [],
   "source": [
    "# Sezione 9: Funzione light per metrica Top-N utente single\n",
    "train_user_items = train_data.groupby('user_id')['movie_id'].apply(set).to_dict()\n",
    "test_user_actual = test_data[test_data.rating >= 4].groupby('user_id')['movie_id'].apply(set).to_dict()\n",
    "\n",
    "def precision_recall_user(u, P_hybrid, train_user_items, test_user_actual, k=10):\n",
    "    row = P_hybrid[u-1]\n",
    "    seen = train_user_items.get(u, set())\n",
    "    mask = np.ones_like(row, dtype=bool)\n",
    "    mask[list(seen)] = False\n",
    "    scores = row[mask]\n",
    "    topk_idx = np.argpartition(-scores, k)[:k]\n",
    "    all_items = np.arange(row.shape[0])[mask]\n",
    "    topk_items = set(all_items[topk_idx])\n",
    "    actual = test_user_actual.get(u, set())\n",
    "    if not actual:\n",
    "        return None, None\n",
    "    hits = len(topk_items & actual)\n",
    "    return hits/k, hits/len(actual)"
   ]
  },
  {
   "cell_type": "code",
   "execution_count": 230,
   "id": "8739dbf5",
   "metadata": {},
   "outputs": [],
   "source": [
    "\n",
    "# Sezione 10: Costruzione efficiente matrice P_hybrid\n",
    "user_centered = train_matrix.sub(user_means, axis=0)\n",
    "# Calcolo vettoriale di P_hybrid\n",
    "# user-based\n",
    "den_u = np.abs(user_similarity).sum(axis=1).to_numpy().reshape(-1,1)\n",
    "P_u = user_similarity.dot(user_centered) / den_u + user_means.to_numpy().reshape(-1,1)\n",
    "# item-based\n",
    "den_i = np.abs(item_similarity).sum(axis=1).to_numpy().reshape(1,-1)\n",
    "P_i = user_centered.dot(item_similarity) / den_i + user_means.to_numpy().reshape(-1,1)\n",
    "# matrice ibrida\n",
    "P_hybrid = 0.5 * (P_u + P_i)\n",
    "# Converti in numpy array per accesso per posizione\n",
    "P_hybrid = P_hybrid.to_numpy() if hasattr(P_hybrid, 'to_numpy') else P_hybrid"
   ]
  },
  {
   "cell_type": "code",
   "execution_count": 231,
   "id": "7084b7f9",
   "metadata": {},
   "outputs": [
    {
     "name": "stdout",
     "output_type": "stream",
     "text": [
      "Avg Precision@10: 0.2178\n",
      "Avg Recall@10:    0.2262\n"
     ]
    }
   ],
   "source": [
    "# Sezione 11: Calcolo medio Precision/Recall@5 su tutti gli utenti\n",
    "k = 10  # modifica qui il valore di k\n",
    "\n",
    "# Mapping user_id -> indice riga e movie_id -> indice colonna\n",
    "user_to_idx = {uid: idx for idx, uid in enumerate(train_matrix.index)}\n",
    "movie_to_idx = {mid: idx for idx, mid in enumerate(train_matrix.columns)}\n",
    "\n",
    "train_items = train_data.groupby('user_id')['movie_id'].apply(set).to_dict()\n",
    "test_items = test_data[test_data.rating >= 4].groupby('user_id')['movie_id'].apply(set).to_dict()\n",
    "\n",
    "precisions, recalls = [], []\n",
    "for u, actual in test_items.items():\n",
    "    idx = user_to_idx.get(u)\n",
    "    if idx is None:\n",
    "        continue\n",
    "    row = P_hybrid[idx]\n",
    "    # crea maschera escludendo gli item visti\n",
    "    mask = np.ones(row.shape, dtype=bool)\n",
    "    seen = train_items.get(u, set())\n",
    "    seen_idx = [movie_to_idx[m] for m in seen if m in movie_to_idx]\n",
    "    mask[seen_idx] = False\n",
    "\n",
    "    scores = row[mask]\n",
    "    if scores.size < k:\n",
    "        continue\n",
    "    topk_idx = np.argpartition(-scores, k)[:k]\n",
    "    candidates = np.arange(row.shape[0])[mask]\n",
    "    topk_items = set(candidates[topk_idx])\n",
    "    hits = len(topk_items & {movie_to_idx[m] for m in actual if m in movie_to_idx})\n",
    "    precisions.append(hits / k)\n",
    "    recalls.append(hits / len(actual))\n",
    "\n",
    "if precisions:\n",
    "    avg_precision = np.mean(precisions)\n",
    "    avg_recall = np.mean(recalls)\n",
    "    print(f\"Avg Precision@{k}: {avg_precision:.4f}\")\n",
    "    print(f\"Avg Recall@{k}:    {avg_recall:.4f}\")\n",
    "else:\n",
    "    print(f\"Nessun utente valido per il calcolo delle metriche Top-{k}.\")\n"
   ]
  },
  {
   "cell_type": "code",
   "execution_count": 232,
   "id": "2a2cd792",
   "metadata": {},
   "outputs": [],
   "source": [
    "def mostra_top10_utente(u_id, P_hybrid, train_data, test_data, movie_to_idx, train_matrix, k=10):\n",
    "    if u_id not in train_matrix.index:\n",
    "        print(f\"L'utente {u_id} non è nel train set.\")\n",
    "        return\n",
    "\n",
    "    user_idx = train_matrix.index.get_loc(u_id)\n",
    "    row = P_hybrid[user_idx]\n",
    "\n",
    "    seen = train_data[train_data.user_id == u_id]['movie_id'].tolist()\n",
    "    seen_idx = [movie_to_idx[m] for m in seen if m in movie_to_idx]\n",
    "    mask = np.ones_like(row, dtype=bool)\n",
    "    mask[seen_idx] = False\n",
    "\n",
    "    scores = row[mask]\n",
    "    if scores.size < k:\n",
    "        print(\"Utente con pochi film da raccomandare.\")\n",
    "        return\n",
    "\n",
    "    topk_idx = np.argpartition(-scores, k)[:k]\n",
    "    all_items = np.arange(row.shape[0])[mask]\n",
    "    topk_items_idx = all_items[topk_idx]\n",
    "    topk_movie_ids = [list(movie_to_idx.keys())[list(movie_to_idx.values()).index(i)] for i in topk_items_idx]\n",
    "\n",
    "    relevant_movies = test_data[(test_data.user_id == u_id) & (test_data.rating >= 4)]['movie_id'].tolist()\n",
    "    hits = set(topk_movie_ids) & set(relevant_movies)\n",
    "\n",
    "    print(f\"\\n🎯 Utente {u_id}\")\n",
    "    print(f\"Top-{k} consigliati:         {topk_movie_ids}\")\n",
    "    print(f\"Film apprezzati (test ≥4):   {relevant_movies}\")\n",
    "    print(f\"Hit consigliati:             {list(hits)}\")\n"
   ]
  },
  {
   "cell_type": "code",
   "execution_count": 233,
   "id": "81d7329b",
   "metadata": {},
   "outputs": [
    {
     "name": "stdout",
     "output_type": "stream",
     "text": [
      "\n",
      "🎯 Utente 42\n",
      "Top-10 consigliati:         [174, 100, 56, 204, 127, 69, 22, 117, 7, 176]\n",
      "Film apprezzati (test ≥4):   [469, 174, 204, 925, 69, 118, 196, 136, 380, 418, 71, 785, 941, 756, 230, 568, 161]\n",
      "Hit consigliati:             [204, 69, 174]\n"
     ]
    }
   ],
   "source": [
    "mostra_top10_utente(42, P_hybrid, train_data, test_data, movie_to_idx, train_matrix)\n"
   ]
  }
 ],
 "metadata": {
  "kernelspec": {
   "display_name": "FDSML",
   "language": "python",
   "name": "python3"
  },
  "language_info": {
   "codemirror_mode": {
    "name": "ipython",
    "version": 3
   },
   "file_extension": ".py",
   "mimetype": "text/x-python",
   "name": "python",
   "nbconvert_exporter": "python",
   "pygments_lexer": "ipython3",
   "version": "3.10.18"
  }
 },
 "nbformat": 4,
 "nbformat_minor": 5
}
