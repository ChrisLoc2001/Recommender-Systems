{
 "cells": [
  {
   "cell_type": "code",
   "execution_count": 129,
   "id": "8853cf6e",
   "metadata": {},
   "outputs": [],
   "source": [
    "import pandas as pd\n",
    "from sklearn.preprocessing import StandardScaler\n",
    "from sklearn.cluster import KMeans\n",
    "from sklearn.metrics import silhouette_score\n",
    "from sklearn.decomposition import PCA"
   ]
  },
  {
   "cell_type": "code",
   "execution_count": 130,
   "id": "1855ee13",
   "metadata": {},
   "outputs": [
    {
     "data": {
      "text/html": [
       "<div>\n",
       "<style scoped>\n",
       "    .dataframe tbody tr th:only-of-type {\n",
       "        vertical-align: middle;\n",
       "    }\n",
       "\n",
       "    .dataframe tbody tr th {\n",
       "        vertical-align: top;\n",
       "    }\n",
       "\n",
       "    .dataframe thead th {\n",
       "        text-align: right;\n",
       "    }\n",
       "</style>\n",
       "<table border=\"1\" class=\"dataframe\">\n",
       "  <thead>\n",
       "    <tr style=\"text-align: right;\">\n",
       "      <th></th>\n",
       "      <th>release_date</th>\n",
       "      <th>unknown</th>\n",
       "      <th>Action</th>\n",
       "      <th>Adventure</th>\n",
       "      <th>Animation</th>\n",
       "      <th>Children's</th>\n",
       "      <th>Comedy</th>\n",
       "      <th>Crime</th>\n",
       "      <th>Documentary</th>\n",
       "      <th>Drama</th>\n",
       "      <th>Fantasy</th>\n",
       "      <th>Film-Noir</th>\n",
       "      <th>Horror</th>\n",
       "      <th>Musical</th>\n",
       "      <th>Mystery</th>\n",
       "      <th>Romance</th>\n",
       "      <th>Sci-Fi</th>\n",
       "      <th>Thriller</th>\n",
       "      <th>War</th>\n",
       "      <th>Western</th>\n",
       "    </tr>\n",
       "  </thead>\n",
       "  <tbody>\n",
       "    <tr>\n",
       "      <th>0</th>\n",
       "      <td>01-Jan-1995</td>\n",
       "      <td>0</td>\n",
       "      <td>0</td>\n",
       "      <td>0</td>\n",
       "      <td>1</td>\n",
       "      <td>1</td>\n",
       "      <td>1</td>\n",
       "      <td>0</td>\n",
       "      <td>0</td>\n",
       "      <td>0</td>\n",
       "      <td>0</td>\n",
       "      <td>0</td>\n",
       "      <td>0</td>\n",
       "      <td>0</td>\n",
       "      <td>0</td>\n",
       "      <td>0</td>\n",
       "      <td>0</td>\n",
       "      <td>0</td>\n",
       "      <td>0</td>\n",
       "      <td>0</td>\n",
       "    </tr>\n",
       "    <tr>\n",
       "      <th>1</th>\n",
       "      <td>01-Jan-1995</td>\n",
       "      <td>0</td>\n",
       "      <td>1</td>\n",
       "      <td>1</td>\n",
       "      <td>0</td>\n",
       "      <td>0</td>\n",
       "      <td>0</td>\n",
       "      <td>0</td>\n",
       "      <td>0</td>\n",
       "      <td>0</td>\n",
       "      <td>0</td>\n",
       "      <td>0</td>\n",
       "      <td>0</td>\n",
       "      <td>0</td>\n",
       "      <td>0</td>\n",
       "      <td>0</td>\n",
       "      <td>0</td>\n",
       "      <td>1</td>\n",
       "      <td>0</td>\n",
       "      <td>0</td>\n",
       "    </tr>\n",
       "    <tr>\n",
       "      <th>2</th>\n",
       "      <td>01-Jan-1995</td>\n",
       "      <td>0</td>\n",
       "      <td>0</td>\n",
       "      <td>0</td>\n",
       "      <td>0</td>\n",
       "      <td>0</td>\n",
       "      <td>0</td>\n",
       "      <td>0</td>\n",
       "      <td>0</td>\n",
       "      <td>0</td>\n",
       "      <td>0</td>\n",
       "      <td>0</td>\n",
       "      <td>0</td>\n",
       "      <td>0</td>\n",
       "      <td>0</td>\n",
       "      <td>0</td>\n",
       "      <td>0</td>\n",
       "      <td>1</td>\n",
       "      <td>0</td>\n",
       "      <td>0</td>\n",
       "    </tr>\n",
       "    <tr>\n",
       "      <th>3</th>\n",
       "      <td>01-Jan-1995</td>\n",
       "      <td>0</td>\n",
       "      <td>1</td>\n",
       "      <td>0</td>\n",
       "      <td>0</td>\n",
       "      <td>0</td>\n",
       "      <td>1</td>\n",
       "      <td>0</td>\n",
       "      <td>0</td>\n",
       "      <td>1</td>\n",
       "      <td>0</td>\n",
       "      <td>0</td>\n",
       "      <td>0</td>\n",
       "      <td>0</td>\n",
       "      <td>0</td>\n",
       "      <td>0</td>\n",
       "      <td>0</td>\n",
       "      <td>0</td>\n",
       "      <td>0</td>\n",
       "      <td>0</td>\n",
       "    </tr>\n",
       "    <tr>\n",
       "      <th>4</th>\n",
       "      <td>01-Jan-1995</td>\n",
       "      <td>0</td>\n",
       "      <td>0</td>\n",
       "      <td>0</td>\n",
       "      <td>0</td>\n",
       "      <td>0</td>\n",
       "      <td>0</td>\n",
       "      <td>1</td>\n",
       "      <td>0</td>\n",
       "      <td>1</td>\n",
       "      <td>0</td>\n",
       "      <td>0</td>\n",
       "      <td>0</td>\n",
       "      <td>0</td>\n",
       "      <td>0</td>\n",
       "      <td>0</td>\n",
       "      <td>0</td>\n",
       "      <td>1</td>\n",
       "      <td>0</td>\n",
       "      <td>0</td>\n",
       "    </tr>\n",
       "    <tr>\n",
       "      <th>...</th>\n",
       "      <td>...</td>\n",
       "      <td>...</td>\n",
       "      <td>...</td>\n",
       "      <td>...</td>\n",
       "      <td>...</td>\n",
       "      <td>...</td>\n",
       "      <td>...</td>\n",
       "      <td>...</td>\n",
       "      <td>...</td>\n",
       "      <td>...</td>\n",
       "      <td>...</td>\n",
       "      <td>...</td>\n",
       "      <td>...</td>\n",
       "      <td>...</td>\n",
       "      <td>...</td>\n",
       "      <td>...</td>\n",
       "      <td>...</td>\n",
       "      <td>...</td>\n",
       "      <td>...</td>\n",
       "      <td>...</td>\n",
       "    </tr>\n",
       "    <tr>\n",
       "      <th>1677</th>\n",
       "      <td>06-Feb-1998</td>\n",
       "      <td>0</td>\n",
       "      <td>0</td>\n",
       "      <td>0</td>\n",
       "      <td>0</td>\n",
       "      <td>0</td>\n",
       "      <td>0</td>\n",
       "      <td>0</td>\n",
       "      <td>0</td>\n",
       "      <td>1</td>\n",
       "      <td>0</td>\n",
       "      <td>0</td>\n",
       "      <td>0</td>\n",
       "      <td>0</td>\n",
       "      <td>0</td>\n",
       "      <td>0</td>\n",
       "      <td>0</td>\n",
       "      <td>0</td>\n",
       "      <td>0</td>\n",
       "      <td>0</td>\n",
       "    </tr>\n",
       "    <tr>\n",
       "      <th>1678</th>\n",
       "      <td>06-Feb-1998</td>\n",
       "      <td>0</td>\n",
       "      <td>0</td>\n",
       "      <td>0</td>\n",
       "      <td>0</td>\n",
       "      <td>0</td>\n",
       "      <td>0</td>\n",
       "      <td>0</td>\n",
       "      <td>0</td>\n",
       "      <td>0</td>\n",
       "      <td>0</td>\n",
       "      <td>0</td>\n",
       "      <td>0</td>\n",
       "      <td>0</td>\n",
       "      <td>0</td>\n",
       "      <td>1</td>\n",
       "      <td>0</td>\n",
       "      <td>1</td>\n",
       "      <td>0</td>\n",
       "      <td>0</td>\n",
       "    </tr>\n",
       "    <tr>\n",
       "      <th>1679</th>\n",
       "      <td>01-Jan-1998</td>\n",
       "      <td>0</td>\n",
       "      <td>0</td>\n",
       "      <td>0</td>\n",
       "      <td>0</td>\n",
       "      <td>0</td>\n",
       "      <td>0</td>\n",
       "      <td>0</td>\n",
       "      <td>0</td>\n",
       "      <td>1</td>\n",
       "      <td>0</td>\n",
       "      <td>0</td>\n",
       "      <td>0</td>\n",
       "      <td>0</td>\n",
       "      <td>0</td>\n",
       "      <td>1</td>\n",
       "      <td>0</td>\n",
       "      <td>0</td>\n",
       "      <td>0</td>\n",
       "      <td>0</td>\n",
       "    </tr>\n",
       "    <tr>\n",
       "      <th>1680</th>\n",
       "      <td>01-Jan-1994</td>\n",
       "      <td>0</td>\n",
       "      <td>0</td>\n",
       "      <td>0</td>\n",
       "      <td>0</td>\n",
       "      <td>0</td>\n",
       "      <td>1</td>\n",
       "      <td>0</td>\n",
       "      <td>0</td>\n",
       "      <td>0</td>\n",
       "      <td>0</td>\n",
       "      <td>0</td>\n",
       "      <td>0</td>\n",
       "      <td>0</td>\n",
       "      <td>0</td>\n",
       "      <td>0</td>\n",
       "      <td>0</td>\n",
       "      <td>0</td>\n",
       "      <td>0</td>\n",
       "      <td>0</td>\n",
       "    </tr>\n",
       "    <tr>\n",
       "      <th>1681</th>\n",
       "      <td>08-Mar-1996</td>\n",
       "      <td>0</td>\n",
       "      <td>0</td>\n",
       "      <td>0</td>\n",
       "      <td>0</td>\n",
       "      <td>0</td>\n",
       "      <td>0</td>\n",
       "      <td>0</td>\n",
       "      <td>0</td>\n",
       "      <td>1</td>\n",
       "      <td>0</td>\n",
       "      <td>0</td>\n",
       "      <td>0</td>\n",
       "      <td>0</td>\n",
       "      <td>0</td>\n",
       "      <td>0</td>\n",
       "      <td>0</td>\n",
       "      <td>0</td>\n",
       "      <td>0</td>\n",
       "      <td>0</td>\n",
       "    </tr>\n",
       "  </tbody>\n",
       "</table>\n",
       "<p>1682 rows × 20 columns</p>\n",
       "</div>"
      ],
      "text/plain": [
       "     release_date  unknown  Action  Adventure  Animation  Children's  Comedy  \\\n",
       "0     01-Jan-1995        0       0          0          1           1       1   \n",
       "1     01-Jan-1995        0       1          1          0           0       0   \n",
       "2     01-Jan-1995        0       0          0          0           0       0   \n",
       "3     01-Jan-1995        0       1          0          0           0       1   \n",
       "4     01-Jan-1995        0       0          0          0           0       0   \n",
       "...           ...      ...     ...        ...        ...         ...     ...   \n",
       "1677  06-Feb-1998        0       0          0          0           0       0   \n",
       "1678  06-Feb-1998        0       0          0          0           0       0   \n",
       "1679  01-Jan-1998        0       0          0          0           0       0   \n",
       "1680  01-Jan-1994        0       0          0          0           0       1   \n",
       "1681  08-Mar-1996        0       0          0          0           0       0   \n",
       "\n",
       "      Crime  Documentary  Drama  Fantasy  Film-Noir  Horror  Musical  Mystery  \\\n",
       "0         0            0      0        0          0       0        0        0   \n",
       "1         0            0      0        0          0       0        0        0   \n",
       "2         0            0      0        0          0       0        0        0   \n",
       "3         0            0      1        0          0       0        0        0   \n",
       "4         1            0      1        0          0       0        0        0   \n",
       "...     ...          ...    ...      ...        ...     ...      ...      ...   \n",
       "1677      0            0      1        0          0       0        0        0   \n",
       "1678      0            0      0        0          0       0        0        0   \n",
       "1679      0            0      1        0          0       0        0        0   \n",
       "1680      0            0      0        0          0       0        0        0   \n",
       "1681      0            0      1        0          0       0        0        0   \n",
       "\n",
       "      Romance  Sci-Fi  Thriller  War  Western  \n",
       "0           0       0         0    0        0  \n",
       "1           0       0         1    0        0  \n",
       "2           0       0         1    0        0  \n",
       "3           0       0         0    0        0  \n",
       "4           0       0         1    0        0  \n",
       "...       ...     ...       ...  ...      ...  \n",
       "1677        0       0         0    0        0  \n",
       "1678        1       0         1    0        0  \n",
       "1679        1       0         0    0        0  \n",
       "1680        0       0         0    0        0  \n",
       "1681        0       0         0    0        0  \n",
       "\n",
       "[1682 rows x 20 columns]"
      ]
     },
     "execution_count": 130,
     "metadata": {},
     "output_type": "execute_result"
    }
   ],
   "source": [
    "movies = pd.read_csv(\n",
    "    '../../datasets/ml-100k/u.item',\n",
    "    sep='|',\n",
    "    encoding='latin-1', \n",
    "    names=[\n",
    "        'movie_id', 'title', 'release_date', 'video_release_date', 'IMDb_url',\n",
    "        'unknown', 'Action', 'Adventure', 'Animation', \"Children's\", 'Comedy', 'Crime',\n",
    "        'Documentary', 'Drama', 'Fantasy', 'Film-Noir', 'Horror', 'Musical',\n",
    "        'Mystery', 'Romance', 'Sci-Fi', 'Thriller', 'War', 'Western'\n",
    "    ]\n",
    ") \n",
    "movies = movies.drop(columns=['movie_id','title', 'video_release_date', 'IMDb_url'])\n",
    "movies"
   ]
  },
  {
   "cell_type": "code",
   "execution_count": 131,
   "id": "dcb5cea8",
   "metadata": {},
   "outputs": [
    {
     "data": {
      "text/html": [
       "<div>\n",
       "<style scoped>\n",
       "    .dataframe tbody tr th:only-of-type {\n",
       "        vertical-align: middle;\n",
       "    }\n",
       "\n",
       "    .dataframe tbody tr th {\n",
       "        vertical-align: top;\n",
       "    }\n",
       "\n",
       "    .dataframe thead th {\n",
       "        text-align: right;\n",
       "    }\n",
       "</style>\n",
       "<table border=\"1\" class=\"dataframe\">\n",
       "  <thead>\n",
       "    <tr style=\"text-align: right;\">\n",
       "      <th></th>\n",
       "      <th>unknown</th>\n",
       "      <th>Action</th>\n",
       "      <th>Adventure</th>\n",
       "      <th>Animation</th>\n",
       "      <th>Children's</th>\n",
       "      <th>Comedy</th>\n",
       "      <th>Crime</th>\n",
       "      <th>Documentary</th>\n",
       "      <th>Drama</th>\n",
       "      <th>Fantasy</th>\n",
       "      <th>...</th>\n",
       "      <th>Musical</th>\n",
       "      <th>Mystery</th>\n",
       "      <th>Romance</th>\n",
       "      <th>Sci-Fi</th>\n",
       "      <th>Thriller</th>\n",
       "      <th>War</th>\n",
       "      <th>Western</th>\n",
       "      <th>year</th>\n",
       "      <th>month</th>\n",
       "      <th>day</th>\n",
       "    </tr>\n",
       "  </thead>\n",
       "  <tbody>\n",
       "    <tr>\n",
       "      <th>0</th>\n",
       "      <td>0</td>\n",
       "      <td>0</td>\n",
       "      <td>0</td>\n",
       "      <td>1</td>\n",
       "      <td>1</td>\n",
       "      <td>1</td>\n",
       "      <td>0</td>\n",
       "      <td>0</td>\n",
       "      <td>0</td>\n",
       "      <td>0</td>\n",
       "      <td>...</td>\n",
       "      <td>0</td>\n",
       "      <td>0</td>\n",
       "      <td>0</td>\n",
       "      <td>0</td>\n",
       "      <td>0</td>\n",
       "      <td>0</td>\n",
       "      <td>0</td>\n",
       "      <td>1995.0</td>\n",
       "      <td>1.0</td>\n",
       "      <td>1.0</td>\n",
       "    </tr>\n",
       "    <tr>\n",
       "      <th>1</th>\n",
       "      <td>0</td>\n",
       "      <td>1</td>\n",
       "      <td>1</td>\n",
       "      <td>0</td>\n",
       "      <td>0</td>\n",
       "      <td>0</td>\n",
       "      <td>0</td>\n",
       "      <td>0</td>\n",
       "      <td>0</td>\n",
       "      <td>0</td>\n",
       "      <td>...</td>\n",
       "      <td>0</td>\n",
       "      <td>0</td>\n",
       "      <td>0</td>\n",
       "      <td>0</td>\n",
       "      <td>1</td>\n",
       "      <td>0</td>\n",
       "      <td>0</td>\n",
       "      <td>1995.0</td>\n",
       "      <td>1.0</td>\n",
       "      <td>1.0</td>\n",
       "    </tr>\n",
       "    <tr>\n",
       "      <th>2</th>\n",
       "      <td>0</td>\n",
       "      <td>0</td>\n",
       "      <td>0</td>\n",
       "      <td>0</td>\n",
       "      <td>0</td>\n",
       "      <td>0</td>\n",
       "      <td>0</td>\n",
       "      <td>0</td>\n",
       "      <td>0</td>\n",
       "      <td>0</td>\n",
       "      <td>...</td>\n",
       "      <td>0</td>\n",
       "      <td>0</td>\n",
       "      <td>0</td>\n",
       "      <td>0</td>\n",
       "      <td>1</td>\n",
       "      <td>0</td>\n",
       "      <td>0</td>\n",
       "      <td>1995.0</td>\n",
       "      <td>1.0</td>\n",
       "      <td>1.0</td>\n",
       "    </tr>\n",
       "    <tr>\n",
       "      <th>3</th>\n",
       "      <td>0</td>\n",
       "      <td>1</td>\n",
       "      <td>0</td>\n",
       "      <td>0</td>\n",
       "      <td>0</td>\n",
       "      <td>1</td>\n",
       "      <td>0</td>\n",
       "      <td>0</td>\n",
       "      <td>1</td>\n",
       "      <td>0</td>\n",
       "      <td>...</td>\n",
       "      <td>0</td>\n",
       "      <td>0</td>\n",
       "      <td>0</td>\n",
       "      <td>0</td>\n",
       "      <td>0</td>\n",
       "      <td>0</td>\n",
       "      <td>0</td>\n",
       "      <td>1995.0</td>\n",
       "      <td>1.0</td>\n",
       "      <td>1.0</td>\n",
       "    </tr>\n",
       "    <tr>\n",
       "      <th>4</th>\n",
       "      <td>0</td>\n",
       "      <td>0</td>\n",
       "      <td>0</td>\n",
       "      <td>0</td>\n",
       "      <td>0</td>\n",
       "      <td>0</td>\n",
       "      <td>1</td>\n",
       "      <td>0</td>\n",
       "      <td>1</td>\n",
       "      <td>0</td>\n",
       "      <td>...</td>\n",
       "      <td>0</td>\n",
       "      <td>0</td>\n",
       "      <td>0</td>\n",
       "      <td>0</td>\n",
       "      <td>1</td>\n",
       "      <td>0</td>\n",
       "      <td>0</td>\n",
       "      <td>1995.0</td>\n",
       "      <td>1.0</td>\n",
       "      <td>1.0</td>\n",
       "    </tr>\n",
       "    <tr>\n",
       "      <th>...</th>\n",
       "      <td>...</td>\n",
       "      <td>...</td>\n",
       "      <td>...</td>\n",
       "      <td>...</td>\n",
       "      <td>...</td>\n",
       "      <td>...</td>\n",
       "      <td>...</td>\n",
       "      <td>...</td>\n",
       "      <td>...</td>\n",
       "      <td>...</td>\n",
       "      <td>...</td>\n",
       "      <td>...</td>\n",
       "      <td>...</td>\n",
       "      <td>...</td>\n",
       "      <td>...</td>\n",
       "      <td>...</td>\n",
       "      <td>...</td>\n",
       "      <td>...</td>\n",
       "      <td>...</td>\n",
       "      <td>...</td>\n",
       "      <td>...</td>\n",
       "    </tr>\n",
       "    <tr>\n",
       "      <th>1677</th>\n",
       "      <td>0</td>\n",
       "      <td>0</td>\n",
       "      <td>0</td>\n",
       "      <td>0</td>\n",
       "      <td>0</td>\n",
       "      <td>0</td>\n",
       "      <td>0</td>\n",
       "      <td>0</td>\n",
       "      <td>1</td>\n",
       "      <td>0</td>\n",
       "      <td>...</td>\n",
       "      <td>0</td>\n",
       "      <td>0</td>\n",
       "      <td>0</td>\n",
       "      <td>0</td>\n",
       "      <td>0</td>\n",
       "      <td>0</td>\n",
       "      <td>0</td>\n",
       "      <td>1998.0</td>\n",
       "      <td>2.0</td>\n",
       "      <td>6.0</td>\n",
       "    </tr>\n",
       "    <tr>\n",
       "      <th>1678</th>\n",
       "      <td>0</td>\n",
       "      <td>0</td>\n",
       "      <td>0</td>\n",
       "      <td>0</td>\n",
       "      <td>0</td>\n",
       "      <td>0</td>\n",
       "      <td>0</td>\n",
       "      <td>0</td>\n",
       "      <td>0</td>\n",
       "      <td>0</td>\n",
       "      <td>...</td>\n",
       "      <td>0</td>\n",
       "      <td>0</td>\n",
       "      <td>1</td>\n",
       "      <td>0</td>\n",
       "      <td>1</td>\n",
       "      <td>0</td>\n",
       "      <td>0</td>\n",
       "      <td>1998.0</td>\n",
       "      <td>2.0</td>\n",
       "      <td>6.0</td>\n",
       "    </tr>\n",
       "    <tr>\n",
       "      <th>1679</th>\n",
       "      <td>0</td>\n",
       "      <td>0</td>\n",
       "      <td>0</td>\n",
       "      <td>0</td>\n",
       "      <td>0</td>\n",
       "      <td>0</td>\n",
       "      <td>0</td>\n",
       "      <td>0</td>\n",
       "      <td>1</td>\n",
       "      <td>0</td>\n",
       "      <td>...</td>\n",
       "      <td>0</td>\n",
       "      <td>0</td>\n",
       "      <td>1</td>\n",
       "      <td>0</td>\n",
       "      <td>0</td>\n",
       "      <td>0</td>\n",
       "      <td>0</td>\n",
       "      <td>1998.0</td>\n",
       "      <td>1.0</td>\n",
       "      <td>1.0</td>\n",
       "    </tr>\n",
       "    <tr>\n",
       "      <th>1680</th>\n",
       "      <td>0</td>\n",
       "      <td>0</td>\n",
       "      <td>0</td>\n",
       "      <td>0</td>\n",
       "      <td>0</td>\n",
       "      <td>1</td>\n",
       "      <td>0</td>\n",
       "      <td>0</td>\n",
       "      <td>0</td>\n",
       "      <td>0</td>\n",
       "      <td>...</td>\n",
       "      <td>0</td>\n",
       "      <td>0</td>\n",
       "      <td>0</td>\n",
       "      <td>0</td>\n",
       "      <td>0</td>\n",
       "      <td>0</td>\n",
       "      <td>0</td>\n",
       "      <td>1994.0</td>\n",
       "      <td>1.0</td>\n",
       "      <td>1.0</td>\n",
       "    </tr>\n",
       "    <tr>\n",
       "      <th>1681</th>\n",
       "      <td>0</td>\n",
       "      <td>0</td>\n",
       "      <td>0</td>\n",
       "      <td>0</td>\n",
       "      <td>0</td>\n",
       "      <td>0</td>\n",
       "      <td>0</td>\n",
       "      <td>0</td>\n",
       "      <td>1</td>\n",
       "      <td>0</td>\n",
       "      <td>...</td>\n",
       "      <td>0</td>\n",
       "      <td>0</td>\n",
       "      <td>0</td>\n",
       "      <td>0</td>\n",
       "      <td>0</td>\n",
       "      <td>0</td>\n",
       "      <td>0</td>\n",
       "      <td>1996.0</td>\n",
       "      <td>3.0</td>\n",
       "      <td>8.0</td>\n",
       "    </tr>\n",
       "  </tbody>\n",
       "</table>\n",
       "<p>1682 rows × 22 columns</p>\n",
       "</div>"
      ],
      "text/plain": [
       "      unknown  Action  Adventure  Animation  Children's  Comedy  Crime  \\\n",
       "0           0       0          0          1           1       1      0   \n",
       "1           0       1          1          0           0       0      0   \n",
       "2           0       0          0          0           0       0      0   \n",
       "3           0       1          0          0           0       1      0   \n",
       "4           0       0          0          0           0       0      1   \n",
       "...       ...     ...        ...        ...         ...     ...    ...   \n",
       "1677        0       0          0          0           0       0      0   \n",
       "1678        0       0          0          0           0       0      0   \n",
       "1679        0       0          0          0           0       0      0   \n",
       "1680        0       0          0          0           0       1      0   \n",
       "1681        0       0          0          0           0       0      0   \n",
       "\n",
       "      Documentary  Drama  Fantasy  ...  Musical  Mystery  Romance  Sci-Fi  \\\n",
       "0               0      0        0  ...        0        0        0       0   \n",
       "1               0      0        0  ...        0        0        0       0   \n",
       "2               0      0        0  ...        0        0        0       0   \n",
       "3               0      1        0  ...        0        0        0       0   \n",
       "4               0      1        0  ...        0        0        0       0   \n",
       "...           ...    ...      ...  ...      ...      ...      ...     ...   \n",
       "1677            0      1        0  ...        0        0        0       0   \n",
       "1678            0      0        0  ...        0        0        1       0   \n",
       "1679            0      1        0  ...        0        0        1       0   \n",
       "1680            0      0        0  ...        0        0        0       0   \n",
       "1681            0      1        0  ...        0        0        0       0   \n",
       "\n",
       "      Thriller  War  Western    year  month  day  \n",
       "0            0    0        0  1995.0    1.0  1.0  \n",
       "1            1    0        0  1995.0    1.0  1.0  \n",
       "2            1    0        0  1995.0    1.0  1.0  \n",
       "3            0    0        0  1995.0    1.0  1.0  \n",
       "4            1    0        0  1995.0    1.0  1.0  \n",
       "...        ...  ...      ...     ...    ...  ...  \n",
       "1677         0    0        0  1998.0    2.0  6.0  \n",
       "1678         1    0        0  1998.0    2.0  6.0  \n",
       "1679         0    0        0  1998.0    1.0  1.0  \n",
       "1680         0    0        0  1994.0    1.0  1.0  \n",
       "1681         0    0        0  1996.0    3.0  8.0  \n",
       "\n",
       "[1682 rows x 22 columns]"
      ]
     },
     "execution_count": 131,
     "metadata": {},
     "output_type": "execute_result"
    }
   ],
   "source": [
    "movies['release_date'] = pd.to_datetime(movies['release_date'], errors='coerce')\n",
    "movies['year']  = movies['release_date'].dt.year\n",
    "movies['month'] = movies['release_date'].dt.month\n",
    "movies['day']   = movies['release_date'].dt.day\n",
    "movies = movies.drop(columns='release_date')\n",
    "movies"
   ]
  },
  {
   "cell_type": "code",
   "execution_count": 132,
   "id": "da07d1cd",
   "metadata": {},
   "outputs": [
    {
     "name": "stdout",
     "output_type": "stream",
     "text": [
      "unknown        0\n",
      "Action         0\n",
      "Adventure      0\n",
      "Animation      0\n",
      "Children's     0\n",
      "Comedy         0\n",
      "Crime          0\n",
      "Documentary    0\n",
      "Drama          0\n",
      "Fantasy        0\n",
      "Film-Noir      0\n",
      "Horror         0\n",
      "Musical        0\n",
      "Mystery        0\n",
      "Romance        0\n",
      "Sci-Fi         0\n",
      "Thriller       0\n",
      "War            0\n",
      "Western        0\n",
      "year           1\n",
      "month          1\n",
      "day            1\n",
      "dtype: int64\n"
     ]
    }
   ],
   "source": [
    "missing_per_col = movies.isna().sum()\n",
    "print(missing_per_col)"
   ]
  },
  {
   "cell_type": "code",
   "execution_count": 133,
   "id": "c3f94b6b",
   "metadata": {},
   "outputs": [],
   "source": [
    "movies = movies.dropna(subset=['year','month','day']).copy()"
   ]
  },
  {
   "cell_type": "code",
   "execution_count": 134,
   "id": "8ef58172",
   "metadata": {},
   "outputs": [
    {
     "data": {
      "text/plain": [
       "array([[-0.0243975 , -0.41895641, -0.29550317, ...,  0.39397757,\n",
       "        -0.55418687, -0.59271682],\n",
       "       [-0.0243975 ,  2.38688315,  3.38405849, ...,  0.39397757,\n",
       "        -0.55418687, -0.59271682],\n",
       "       [-0.0243975 , -0.41895641, -0.29550317, ...,  0.39397757,\n",
       "        -0.55418687, -0.59271682],\n",
       "       ...,\n",
       "       [-0.0243975 , -0.41895641, -0.29550317, ...,  0.60451364,\n",
       "        -0.55418687, -0.59271682],\n",
       "       [-0.0243975 , -0.41895641, -0.29550317, ...,  0.32379888,\n",
       "        -0.55418687, -0.59271682],\n",
       "       [-0.0243975 , -0.41895641, -0.29550317, ...,  0.46415626,\n",
       "         0.10957382,  0.20336797]])"
      ]
     },
     "execution_count": 134,
     "metadata": {},
     "output_type": "execute_result"
    }
   ],
   "source": [
    "# Standardizzazione dei dati\n",
    "scaler = StandardScaler()\n",
    "movies_scaled = scaler.fit_transform(movies)\n",
    "movies_scaled"
   ]
  },
  {
   "cell_type": "code",
   "execution_count": 135,
   "id": "e1bfd42d",
   "metadata": {},
   "outputs": [
    {
     "name": "stdout",
     "output_type": "stream",
     "text": [
      "Numero ottimale di cluster trovato: 45 | \n"
     ]
    }
   ],
   "source": [
    "silhouette_scores = []\n",
    "K_range = range(2,50)\n",
    "for k in K_range:\n",
    "    kmeans = KMeans(n_clusters=k, random_state=42)\n",
    "    labels = kmeans.fit_predict(movies_scaled)\n",
    "    score = silhouette_score(movies_scaled, labels)\n",
    "    silhouette_scores.append(score)\n",
    "\n",
    "optimal_k = K_range[silhouette_scores.index(max(silhouette_scores))]\n",
    "print(f\"Numero ottimale di cluster trovato: {optimal_k} | \")"
   ]
  },
  {
   "cell_type": "code",
   "execution_count": 136,
   "id": "42fb44bc",
   "metadata": {},
   "outputs": [
    {
     "data": {
      "text/plain": [
       "[0.2419172235380778,\n",
       " 0.2539141563400573,\n",
       " 0.21169149922049224,\n",
       " 0.13038451611211752,\n",
       " 0.15693948695578766,\n",
       " 0.17579587799177693,\n",
       " 0.16937765165223093,\n",
       " 0.19201886328289475,\n",
       " 0.20391452175293145,\n",
       " 0.205462022232165,\n",
       " 0.2181750901139434,\n",
       " 0.24494402269990756,\n",
       " 0.2654962443246246,\n",
       " 0.27320144193825585,\n",
       " 0.2793620776675372,\n",
       " 0.2939744365285082,\n",
       " 0.3121237746926317,\n",
       " 0.31215807016232516,\n",
       " 0.32382323620474895,\n",
       " 0.3350018217779934,\n",
       " 0.34116168200180025,\n",
       " 0.34430606386006674,\n",
       " 0.3450372612693094,\n",
       " 0.3626860462983191,\n",
       " 0.36052773815088285,\n",
       " 0.3725849087834958,\n",
       " 0.3714431890719524,\n",
       " 0.3779650045926212,\n",
       " 0.39500989179069407,\n",
       " 0.3934144581380979,\n",
       " 0.3997263715392541,\n",
       " 0.39551841192914894,\n",
       " 0.3948907917848962,\n",
       " 0.3983659744844029,\n",
       " 0.4296451723137392,\n",
       " 0.4240395980564541,\n",
       " 0.4246666343141372,\n",
       " 0.4230622721294692,\n",
       " 0.4222682230581753,\n",
       " 0.42700899656166896,\n",
       " 0.42878045848568286,\n",
       " 0.42910988070399936,\n",
       " 0.4322157855190423,\n",
       " 0.432956873663026,\n",
       " 0.43245537299503833,\n",
       " 0.42415691227516344,\n",
       " 0.4248137437217317,\n",
       " 0.4267496274097744]"
      ]
     },
     "execution_count": 136,
     "metadata": {},
     "output_type": "execute_result"
    }
   ],
   "source": [
    "silhouette_scores"
   ]
  },
  {
   "cell_type": "code",
   "execution_count": 137,
   "id": "5b48ae7c",
   "metadata": {},
   "outputs": [
    {
     "data": {
      "text/plain": [
       "0.432956873663026"
      ]
     },
     "execution_count": 137,
     "metadata": {},
     "output_type": "execute_result"
    }
   ],
   "source": [
    "opt = silhouette_scores.index(max(silhouette_scores))\n",
    "silhouette_scores[opt]"
   ]
  },
  {
   "cell_type": "code",
   "execution_count": 138,
   "id": "4ce9f7a2",
   "metadata": {},
   "outputs": [],
   "source": [
    "kmeans = KMeans(n_clusters=optimal_k, random_state=42)\n",
    "movies['cluster'] = kmeans.fit_predict(movies_scaled)"
   ]
  },
  {
   "cell_type": "code",
   "execution_count": 139,
   "id": "74308676",
   "metadata": {},
   "outputs": [],
   "source": [
    "pca = PCA(n_components=3)\n",
    "components = pca.fit_transform(movies_scaled)\n",
    "movies[['PCA1','PCA2','PCA3']] = components\n"
   ]
  },
  {
   "cell_type": "code",
   "execution_count": 140,
   "id": "751818f2",
   "metadata": {},
   "outputs": [
    {
     "data": {
      "application/vnd.plotly.v1+json": {
       "config": {
        "plotlyServerURL": "https://plot.ly"
       },
       "data": [
        {
         "hovertemplate": "PCA1=%{x}<br>PCA2=%{y}<br>PCA3=%{z}<br>cluster=%{marker.color}<extra></extra>",
         "legendgroup": "",
         "marker": {
          "color": {
           "bdata": "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",
           "dtype": "i4"
          },
          "coloraxis": "coloraxis",
          "symbol": "circle"
         },
         "mode": "markers",
         "name": "",
         "scene": "scene",
         "showlegend": false,
         "type": "scatter3d",
         "x": {
          "bdata": "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",
          "dtype": "f8"
         },
         "y": {
          "bdata": "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",
          "dtype": "f8"
         },
         "z": {
          "bdata": "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",
          "dtype": "f8"
         }
        }
       ],
       "layout": {
        "coloraxis": {
         "colorbar": {
          "title": {
           "text": "cluster"
          }
         },
         "colorscale": [
          [
           0,
           "#0d0887"
          ],
          [
           0.1111111111111111,
           "#46039f"
          ],
          [
           0.2222222222222222,
           "#7201a8"
          ],
          [
           0.3333333333333333,
           "#9c179e"
          ],
          [
           0.4444444444444444,
           "#bd3786"
          ],
          [
           0.5555555555555556,
           "#d8576b"
          ],
          [
           0.6666666666666666,
           "#ed7953"
          ],
          [
           0.7777777777777778,
           "#fb9f3a"
          ],
          [
           0.8888888888888888,
           "#fdca26"
          ],
          [
           1,
           "#f0f921"
          ]
         ]
        },
        "legend": {
         "title": {
          "text": "Cluster"
         },
         "tracegroupgap": 0
        },
        "margin": {
         "b": 0,
         "l": 0,
         "r": 0,
         "t": 40
        },
        "scene": {
         "domain": {
          "x": [
           0,
           1
          ],
          "y": [
           0,
           1
          ]
         },
         "xaxis": {
          "title": {
           "text": "PCA1"
          }
         },
         "yaxis": {
          "title": {
           "text": "PCA2"
          }
         },
         "zaxis": {
          "title": {
           "text": "PCA3"
          }
         }
        },
        "template": {
         "data": {
          "bar": [
           {
            "error_x": {
             "color": "#2a3f5f"
            },
            "error_y": {
             "color": "#2a3f5f"
            },
            "marker": {
             "line": {
              "color": "#E5ECF6",
              "width": 0.5
             },
             "pattern": {
              "fillmode": "overlay",
              "size": 10,
              "solidity": 0.2
             }
            },
            "type": "bar"
           }
          ],
          "barpolar": [
           {
            "marker": {
             "line": {
              "color": "#E5ECF6",
              "width": 0.5
             },
             "pattern": {
              "fillmode": "overlay",
              "size": 10,
              "solidity": 0.2
             }
            },
            "type": "barpolar"
           }
          ],
          "carpet": [
           {
            "aaxis": {
             "endlinecolor": "#2a3f5f",
             "gridcolor": "white",
             "linecolor": "white",
             "minorgridcolor": "white",
             "startlinecolor": "#2a3f5f"
            },
            "baxis": {
             "endlinecolor": "#2a3f5f",
             "gridcolor": "white",
             "linecolor": "white",
             "minorgridcolor": "white",
             "startlinecolor": "#2a3f5f"
            },
            "type": "carpet"
           }
          ],
          "choropleth": [
           {
            "colorbar": {
             "outlinewidth": 0,
             "ticks": ""
            },
            "type": "choropleth"
           }
          ],
          "contour": [
           {
            "colorbar": {
             "outlinewidth": 0,
             "ticks": ""
            },
            "colorscale": [
             [
              0,
              "#0d0887"
             ],
             [
              0.1111111111111111,
              "#46039f"
             ],
             [
              0.2222222222222222,
              "#7201a8"
             ],
             [
              0.3333333333333333,
              "#9c179e"
             ],
             [
              0.4444444444444444,
              "#bd3786"
             ],
             [
              0.5555555555555556,
              "#d8576b"
             ],
             [
              0.6666666666666666,
              "#ed7953"
             ],
             [
              0.7777777777777778,
              "#fb9f3a"
             ],
             [
              0.8888888888888888,
              "#fdca26"
             ],
             [
              1,
              "#f0f921"
             ]
            ],
            "type": "contour"
           }
          ],
          "contourcarpet": [
           {
            "colorbar": {
             "outlinewidth": 0,
             "ticks": ""
            },
            "type": "contourcarpet"
           }
          ],
          "heatmap": [
           {
            "colorbar": {
             "outlinewidth": 0,
             "ticks": ""
            },
            "colorscale": [
             [
              0,
              "#0d0887"
             ],
             [
              0.1111111111111111,
              "#46039f"
             ],
             [
              0.2222222222222222,
              "#7201a8"
             ],
             [
              0.3333333333333333,
              "#9c179e"
             ],
             [
              0.4444444444444444,
              "#bd3786"
             ],
             [
              0.5555555555555556,
              "#d8576b"
             ],
             [
              0.6666666666666666,
              "#ed7953"
             ],
             [
              0.7777777777777778,
              "#fb9f3a"
             ],
             [
              0.8888888888888888,
              "#fdca26"
             ],
             [
              1,
              "#f0f921"
             ]
            ],
            "type": "heatmap"
           }
          ],
          "histogram": [
           {
            "marker": {
             "pattern": {
              "fillmode": "overlay",
              "size": 10,
              "solidity": 0.2
             }
            },
            "type": "histogram"
           }
          ],
          "histogram2d": [
           {
            "colorbar": {
             "outlinewidth": 0,
             "ticks": ""
            },
            "colorscale": [
             [
              0,
              "#0d0887"
             ],
             [
              0.1111111111111111,
              "#46039f"
             ],
             [
              0.2222222222222222,
              "#7201a8"
             ],
             [
              0.3333333333333333,
              "#9c179e"
             ],
             [
              0.4444444444444444,
              "#bd3786"
             ],
             [
              0.5555555555555556,
              "#d8576b"
             ],
             [
              0.6666666666666666,
              "#ed7953"
             ],
             [
              0.7777777777777778,
              "#fb9f3a"
             ],
             [
              0.8888888888888888,
              "#fdca26"
             ],
             [
              1,
              "#f0f921"
             ]
            ],
            "type": "histogram2d"
           }
          ],
          "histogram2dcontour": [
           {
            "colorbar": {
             "outlinewidth": 0,
             "ticks": ""
            },
            "colorscale": [
             [
              0,
              "#0d0887"
             ],
             [
              0.1111111111111111,
              "#46039f"
             ],
             [
              0.2222222222222222,
              "#7201a8"
             ],
             [
              0.3333333333333333,
              "#9c179e"
             ],
             [
              0.4444444444444444,
              "#bd3786"
             ],
             [
              0.5555555555555556,
              "#d8576b"
             ],
             [
              0.6666666666666666,
              "#ed7953"
             ],
             [
              0.7777777777777778,
              "#fb9f3a"
             ],
             [
              0.8888888888888888,
              "#fdca26"
             ],
             [
              1,
              "#f0f921"
             ]
            ],
            "type": "histogram2dcontour"
           }
          ],
          "mesh3d": [
           {
            "colorbar": {
             "outlinewidth": 0,
             "ticks": ""
            },
            "type": "mesh3d"
           }
          ],
          "parcoords": [
           {
            "line": {
             "colorbar": {
              "outlinewidth": 0,
              "ticks": ""
             }
            },
            "type": "parcoords"
           }
          ],
          "pie": [
           {
            "automargin": true,
            "type": "pie"
           }
          ],
          "scatter": [
           {
            "fillpattern": {
             "fillmode": "overlay",
             "size": 10,
             "solidity": 0.2
            },
            "type": "scatter"
           }
          ],
          "scatter3d": [
           {
            "line": {
             "colorbar": {
              "outlinewidth": 0,
              "ticks": ""
             }
            },
            "marker": {
             "colorbar": {
              "outlinewidth": 0,
              "ticks": ""
             }
            },
            "type": "scatter3d"
           }
          ],
          "scattercarpet": [
           {
            "marker": {
             "colorbar": {
              "outlinewidth": 0,
              "ticks": ""
             }
            },
            "type": "scattercarpet"
           }
          ],
          "scattergeo": [
           {
            "marker": {
             "colorbar": {
              "outlinewidth": 0,
              "ticks": ""
             }
            },
            "type": "scattergeo"
           }
          ],
          "scattergl": [
           {
            "marker": {
             "colorbar": {
              "outlinewidth": 0,
              "ticks": ""
             }
            },
            "type": "scattergl"
           }
          ],
          "scattermap": [
           {
            "marker": {
             "colorbar": {
              "outlinewidth": 0,
              "ticks": ""
             }
            },
            "type": "scattermap"
           }
          ],
          "scattermapbox": [
           {
            "marker": {
             "colorbar": {
              "outlinewidth": 0,
              "ticks": ""
             }
            },
            "type": "scattermapbox"
           }
          ],
          "scatterpolar": [
           {
            "marker": {
             "colorbar": {
              "outlinewidth": 0,
              "ticks": ""
             }
            },
            "type": "scatterpolar"
           }
          ],
          "scatterpolargl": [
           {
            "marker": {
             "colorbar": {
              "outlinewidth": 0,
              "ticks": ""
             }
            },
            "type": "scatterpolargl"
           }
          ],
          "scatterternary": [
           {
            "marker": {
             "colorbar": {
              "outlinewidth": 0,
              "ticks": ""
             }
            },
            "type": "scatterternary"
           }
          ],
          "surface": [
           {
            "colorbar": {
             "outlinewidth": 0,
             "ticks": ""
            },
            "colorscale": [
             [
              0,
              "#0d0887"
             ],
             [
              0.1111111111111111,
              "#46039f"
             ],
             [
              0.2222222222222222,
              "#7201a8"
             ],
             [
              0.3333333333333333,
              "#9c179e"
             ],
             [
              0.4444444444444444,
              "#bd3786"
             ],
             [
              0.5555555555555556,
              "#d8576b"
             ],
             [
              0.6666666666666666,
              "#ed7953"
             ],
             [
              0.7777777777777778,
              "#fb9f3a"
             ],
             [
              0.8888888888888888,
              "#fdca26"
             ],
             [
              1,
              "#f0f921"
             ]
            ],
            "type": "surface"
           }
          ],
          "table": [
           {
            "cells": {
             "fill": {
              "color": "#EBF0F8"
             },
             "line": {
              "color": "white"
             }
            },
            "header": {
             "fill": {
              "color": "#C8D4E3"
             },
             "line": {
              "color": "white"
             }
            },
            "type": "table"
           }
          ]
         },
         "layout": {
          "annotationdefaults": {
           "arrowcolor": "#2a3f5f",
           "arrowhead": 0,
           "arrowwidth": 1
          },
          "autotypenumbers": "strict",
          "coloraxis": {
           "colorbar": {
            "outlinewidth": 0,
            "ticks": ""
           }
          },
          "colorscale": {
           "diverging": [
            [
             0,
             "#8e0152"
            ],
            [
             0.1,
             "#c51b7d"
            ],
            [
             0.2,
             "#de77ae"
            ],
            [
             0.3,
             "#f1b6da"
            ],
            [
             0.4,
             "#fde0ef"
            ],
            [
             0.5,
             "#f7f7f7"
            ],
            [
             0.6,
             "#e6f5d0"
            ],
            [
             0.7,
             "#b8e186"
            ],
            [
             0.8,
             "#7fbc41"
            ],
            [
             0.9,
             "#4d9221"
            ],
            [
             1,
             "#276419"
            ]
           ],
           "sequential": [
            [
             0,
             "#0d0887"
            ],
            [
             0.1111111111111111,
             "#46039f"
            ],
            [
             0.2222222222222222,
             "#7201a8"
            ],
            [
             0.3333333333333333,
             "#9c179e"
            ],
            [
             0.4444444444444444,
             "#bd3786"
            ],
            [
             0.5555555555555556,
             "#d8576b"
            ],
            [
             0.6666666666666666,
             "#ed7953"
            ],
            [
             0.7777777777777778,
             "#fb9f3a"
            ],
            [
             0.8888888888888888,
             "#fdca26"
            ],
            [
             1,
             "#f0f921"
            ]
           ],
           "sequentialminus": [
            [
             0,
             "#0d0887"
            ],
            [
             0.1111111111111111,
             "#46039f"
            ],
            [
             0.2222222222222222,
             "#7201a8"
            ],
            [
             0.3333333333333333,
             "#9c179e"
            ],
            [
             0.4444444444444444,
             "#bd3786"
            ],
            [
             0.5555555555555556,
             "#d8576b"
            ],
            [
             0.6666666666666666,
             "#ed7953"
            ],
            [
             0.7777777777777778,
             "#fb9f3a"
            ],
            [
             0.8888888888888888,
             "#fdca26"
            ],
            [
             1,
             "#f0f921"
            ]
           ]
          },
          "colorway": [
           "#636efa",
           "#EF553B",
           "#00cc96",
           "#ab63fa",
           "#FFA15A",
           "#19d3f3",
           "#FF6692",
           "#B6E880",
           "#FF97FF",
           "#FECB52"
          ],
          "font": {
           "color": "#2a3f5f"
          },
          "geo": {
           "bgcolor": "white",
           "lakecolor": "white",
           "landcolor": "#E5ECF6",
           "showlakes": true,
           "showland": true,
           "subunitcolor": "white"
          },
          "hoverlabel": {
           "align": "left"
          },
          "hovermode": "closest",
          "mapbox": {
           "style": "light"
          },
          "paper_bgcolor": "white",
          "plot_bgcolor": "#E5ECF6",
          "polar": {
           "angularaxis": {
            "gridcolor": "white",
            "linecolor": "white",
            "ticks": ""
           },
           "bgcolor": "#E5ECF6",
           "radialaxis": {
            "gridcolor": "white",
            "linecolor": "white",
            "ticks": ""
           }
          },
          "scene": {
           "xaxis": {
            "backgroundcolor": "#E5ECF6",
            "gridcolor": "white",
            "gridwidth": 2,
            "linecolor": "white",
            "showbackground": true,
            "ticks": "",
            "zerolinecolor": "white"
           },
           "yaxis": {
            "backgroundcolor": "#E5ECF6",
            "gridcolor": "white",
            "gridwidth": 2,
            "linecolor": "white",
            "showbackground": true,
            "ticks": "",
            "zerolinecolor": "white"
           },
           "zaxis": {
            "backgroundcolor": "#E5ECF6",
            "gridcolor": "white",
            "gridwidth": 2,
            "linecolor": "white",
            "showbackground": true,
            "ticks": "",
            "zerolinecolor": "white"
           }
          },
          "shapedefaults": {
           "line": {
            "color": "#2a3f5f"
           }
          },
          "ternary": {
           "aaxis": {
            "gridcolor": "white",
            "linecolor": "white",
            "ticks": ""
           },
           "baxis": {
            "gridcolor": "white",
            "linecolor": "white",
            "ticks": ""
           },
           "bgcolor": "#E5ECF6",
           "caxis": {
            "gridcolor": "white",
            "linecolor": "white",
            "ticks": ""
           }
          },
          "title": {
           "x": 0.05
          },
          "xaxis": {
           "automargin": true,
           "gridcolor": "white",
           "linecolor": "white",
           "ticks": "",
           "title": {
            "standoff": 15
           },
           "zerolinecolor": "white",
           "zerolinewidth": 2
          },
          "yaxis": {
           "automargin": true,
           "gridcolor": "white",
           "linecolor": "white",
           "ticks": "",
           "title": {
            "standoff": 15
           },
           "zerolinecolor": "white",
           "zerolinewidth": 2
          }
         }
        },
        "title": {
         "text": "Cluster utenti con K-Means (PCA 3D)"
        }
       }
      }
     },
     "metadata": {},
     "output_type": "display_data"
    }
   ],
   "source": [
    "import plotly.express as px\n",
    "\n",
    "fig = px.scatter_3d(\n",
    "    movies,\n",
    "    x='PCA1',\n",
    "    y='PCA2',\n",
    "    z='PCA3',\n",
    "    color='cluster',\n",
    "    title='Cluster utenti con K-Means (PCA 3D)',\n",
    "    labels={'PCA1': 'PCA1', 'PCA2': 'PCA2', 'PCA3': 'PCA3'}\n",
    ")\n",
    "\n",
    "fig.update_layout(\n",
    "    margin=dict(l=0, r=0, b=0, t=40),\n",
    "    legend_title_text='Cluster'\n",
    ")\n",
    "\n",
    "fig.show()"
   ]
  },
  {
   "cell_type": "code",
   "execution_count": 141,
   "id": "a60c6fd6",
   "metadata": {},
   "outputs": [
    {
     "name": "stdout",
     "output_type": "stream",
     "text": [
      "Numero ottimale di cluster trovato: 2 | \n"
     ]
    }
   ],
   "source": [
    "from kmodes.kmodes import KModes\n",
    "\n",
    "\n",
    "silhouette_scores = []\n",
    "K_range = range(2,11)\n",
    "for k in K_range:\n",
    "    kmodes = KModes(n_clusters=k, random_state=42)\n",
    "    labels = kmodes.fit_predict(movies_scaled)\n",
    "    score = silhouette_score(movies_scaled, labels)\n",
    "    silhouette_scores.append(score)\n",
    "\n",
    "optimal_k = K_range[silhouette_scores.index(max(silhouette_scores))]\n",
    "print(f\"Numero ottimale di cluster trovato: {optimal_k} | \")"
   ]
  },
  {
   "cell_type": "code",
   "execution_count": 142,
   "id": "1bb5ca66",
   "metadata": {},
   "outputs": [
    {
     "data": {
      "text/plain": [
       "[0.2782605699916609,\n",
       " 0.2670845772517278,\n",
       " 0.10893731503906871,\n",
       " 0.11081404687260288,\n",
       " 0.1093400608872219,\n",
       " 0.07662315994196901,\n",
       " 0.0705816379539427,\n",
       " 0.08522040075213756,\n",
       " 0.10695229494626014]"
      ]
     },
     "execution_count": 142,
     "metadata": {},
     "output_type": "execute_result"
    }
   ],
   "source": [
    "silhouette_scores"
   ]
  },
  {
   "cell_type": "code",
   "execution_count": 143,
   "id": "7e397614",
   "metadata": {},
   "outputs": [
    {
     "data": {
      "text/plain": [
       "0.2782605699916609"
      ]
     },
     "execution_count": 143,
     "metadata": {},
     "output_type": "execute_result"
    }
   ],
   "source": [
    "opt = silhouette_scores.index(max(silhouette_scores))\n",
    "silhouette_scores[opt]"
   ]
  },
  {
   "cell_type": "code",
   "execution_count": 144,
   "id": "048ccc52",
   "metadata": {},
   "outputs": [],
   "source": [
    "kmodes = KModes(n_clusters=optimal_k, random_state=42)\n",
    "movies['cluster_modes'] = kmeans.fit_predict(movies_scaled)"
   ]
  },
  {
   "cell_type": "code",
   "execution_count": null,
   "id": "84a05d5a",
   "metadata": {},
   "outputs": [],
   "source": [
    "pca = PCA(n_components=3)\n",
    "components = pca.fit_transform(movies_scaled)\n",
    "movies[['PCA1','PCA2','PCA3']] = components"
   ]
  },
  {
   "cell_type": "code",
   "execution_count": null,
   "id": "cd89950c",
   "metadata": {},
   "outputs": [
    {
     "data": {
      "application/vnd.plotly.v1+json": {
       "config": {
        "plotlyServerURL": "https://plot.ly"
       },
       "data": [
        {
         "hovertemplate": "PCA1=%{x}<br>PCA2=%{y}<br>PCA3=%{z}<br>cluster=%{marker.color}<extra></extra>",
         "legendgroup": "",
         "marker": {
          "color": {
           "bdata": "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",
           "dtype": "i4"
          },
          "coloraxis": "coloraxis",
          "symbol": "circle"
         },
         "mode": "markers",
         "name": "",
         "scene": "scene",
         "showlegend": false,
         "type": "scatter3d",
         "x": {
          "bdata": "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",
          "dtype": "f8"
         },
         "y": {
          "bdata": "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",
          "dtype": "f8"
         },
         "z": {
          "bdata": "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",
          "dtype": "f8"
         }
        }
       ],
       "layout": {
        "coloraxis": {
         "colorbar": {
          "title": {
           "text": "cluster"
          }
         },
         "colorscale": [
          [
           0,
           "#0d0887"
          ],
          [
           0.1111111111111111,
           "#46039f"
          ],
          [
           0.2222222222222222,
           "#7201a8"
          ],
          [
           0.3333333333333333,
           "#9c179e"
          ],
          [
           0.4444444444444444,
           "#bd3786"
          ],
          [
           0.5555555555555556,
           "#d8576b"
          ],
          [
           0.6666666666666666,
           "#ed7953"
          ],
          [
           0.7777777777777778,
           "#fb9f3a"
          ],
          [
           0.8888888888888888,
           "#fdca26"
          ],
          [
           1,
           "#f0f921"
          ]
         ]
        },
        "legend": {
         "title": {
          "text": "Cluster"
         },
         "tracegroupgap": 0
        },
        "margin": {
         "b": 0,
         "l": 0,
         "r": 0,
         "t": 40
        },
        "scene": {
         "domain": {
          "x": [
           0,
           1
          ],
          "y": [
           0,
           1
          ]
         },
         "xaxis": {
          "title": {
           "text": "PCA1"
          }
         },
         "yaxis": {
          "title": {
           "text": "PCA2"
          }
         },
         "zaxis": {
          "title": {
           "text": "PCA3"
          }
         }
        },
        "template": {
         "data": {
          "bar": [
           {
            "error_x": {
             "color": "#2a3f5f"
            },
            "error_y": {
             "color": "#2a3f5f"
            },
            "marker": {
             "line": {
              "color": "#E5ECF6",
              "width": 0.5
             },
             "pattern": {
              "fillmode": "overlay",
              "size": 10,
              "solidity": 0.2
             }
            },
            "type": "bar"
           }
          ],
          "barpolar": [
           {
            "marker": {
             "line": {
              "color": "#E5ECF6",
              "width": 0.5
             },
             "pattern": {
              "fillmode": "overlay",
              "size": 10,
              "solidity": 0.2
             }
            },
            "type": "barpolar"
           }
          ],
          "carpet": [
           {
            "aaxis": {
             "endlinecolor": "#2a3f5f",
             "gridcolor": "white",
             "linecolor": "white",
             "minorgridcolor": "white",
             "startlinecolor": "#2a3f5f"
            },
            "baxis": {
             "endlinecolor": "#2a3f5f",
             "gridcolor": "white",
             "linecolor": "white",
             "minorgridcolor": "white",
             "startlinecolor": "#2a3f5f"
            },
            "type": "carpet"
           }
          ],
          "choropleth": [
           {
            "colorbar": {
             "outlinewidth": 0,
             "ticks": ""
            },
            "type": "choropleth"
           }
          ],
          "contour": [
           {
            "colorbar": {
             "outlinewidth": 0,
             "ticks": ""
            },
            "colorscale": [
             [
              0,
              "#0d0887"
             ],
             [
              0.1111111111111111,
              "#46039f"
             ],
             [
              0.2222222222222222,
              "#7201a8"
             ],
             [
              0.3333333333333333,
              "#9c179e"
             ],
             [
              0.4444444444444444,
              "#bd3786"
             ],
             [
              0.5555555555555556,
              "#d8576b"
             ],
             [
              0.6666666666666666,
              "#ed7953"
             ],
             [
              0.7777777777777778,
              "#fb9f3a"
             ],
             [
              0.8888888888888888,
              "#fdca26"
             ],
             [
              1,
              "#f0f921"
             ]
            ],
            "type": "contour"
           }
          ],
          "contourcarpet": [
           {
            "colorbar": {
             "outlinewidth": 0,
             "ticks": ""
            },
            "type": "contourcarpet"
           }
          ],
          "heatmap": [
           {
            "colorbar": {
             "outlinewidth": 0,
             "ticks": ""
            },
            "colorscale": [
             [
              0,
              "#0d0887"
             ],
             [
              0.1111111111111111,
              "#46039f"
             ],
             [
              0.2222222222222222,
              "#7201a8"
             ],
             [
              0.3333333333333333,
              "#9c179e"
             ],
             [
              0.4444444444444444,
              "#bd3786"
             ],
             [
              0.5555555555555556,
              "#d8576b"
             ],
             [
              0.6666666666666666,
              "#ed7953"
             ],
             [
              0.7777777777777778,
              "#fb9f3a"
             ],
             [
              0.8888888888888888,
              "#fdca26"
             ],
             [
              1,
              "#f0f921"
             ]
            ],
            "type": "heatmap"
           }
          ],
          "histogram": [
           {
            "marker": {
             "pattern": {
              "fillmode": "overlay",
              "size": 10,
              "solidity": 0.2
             }
            },
            "type": "histogram"
           }
          ],
          "histogram2d": [
           {
            "colorbar": {
             "outlinewidth": 0,
             "ticks": ""
            },
            "colorscale": [
             [
              0,
              "#0d0887"
             ],
             [
              0.1111111111111111,
              "#46039f"
             ],
             [
              0.2222222222222222,
              "#7201a8"
             ],
             [
              0.3333333333333333,
              "#9c179e"
             ],
             [
              0.4444444444444444,
              "#bd3786"
             ],
             [
              0.5555555555555556,
              "#d8576b"
             ],
             [
              0.6666666666666666,
              "#ed7953"
             ],
             [
              0.7777777777777778,
              "#fb9f3a"
             ],
             [
              0.8888888888888888,
              "#fdca26"
             ],
             [
              1,
              "#f0f921"
             ]
            ],
            "type": "histogram2d"
           }
          ],
          "histogram2dcontour": [
           {
            "colorbar": {
             "outlinewidth": 0,
             "ticks": ""
            },
            "colorscale": [
             [
              0,
              "#0d0887"
             ],
             [
              0.1111111111111111,
              "#46039f"
             ],
             [
              0.2222222222222222,
              "#7201a8"
             ],
             [
              0.3333333333333333,
              "#9c179e"
             ],
             [
              0.4444444444444444,
              "#bd3786"
             ],
             [
              0.5555555555555556,
              "#d8576b"
             ],
             [
              0.6666666666666666,
              "#ed7953"
             ],
             [
              0.7777777777777778,
              "#fb9f3a"
             ],
             [
              0.8888888888888888,
              "#fdca26"
             ],
             [
              1,
              "#f0f921"
             ]
            ],
            "type": "histogram2dcontour"
           }
          ],
          "mesh3d": [
           {
            "colorbar": {
             "outlinewidth": 0,
             "ticks": ""
            },
            "type": "mesh3d"
           }
          ],
          "parcoords": [
           {
            "line": {
             "colorbar": {
              "outlinewidth": 0,
              "ticks": ""
             }
            },
            "type": "parcoords"
           }
          ],
          "pie": [
           {
            "automargin": true,
            "type": "pie"
           }
          ],
          "scatter": [
           {
            "fillpattern": {
             "fillmode": "overlay",
             "size": 10,
             "solidity": 0.2
            },
            "type": "scatter"
           }
          ],
          "scatter3d": [
           {
            "line": {
             "colorbar": {
              "outlinewidth": 0,
              "ticks": ""
             }
            },
            "marker": {
             "colorbar": {
              "outlinewidth": 0,
              "ticks": ""
             }
            },
            "type": "scatter3d"
           }
          ],
          "scattercarpet": [
           {
            "marker": {
             "colorbar": {
              "outlinewidth": 0,
              "ticks": ""
             }
            },
            "type": "scattercarpet"
           }
          ],
          "scattergeo": [
           {
            "marker": {
             "colorbar": {
              "outlinewidth": 0,
              "ticks": ""
             }
            },
            "type": "scattergeo"
           }
          ],
          "scattergl": [
           {
            "marker": {
             "colorbar": {
              "outlinewidth": 0,
              "ticks": ""
             }
            },
            "type": "scattergl"
           }
          ],
          "scattermap": [
           {
            "marker": {
             "colorbar": {
              "outlinewidth": 0,
              "ticks": ""
             }
            },
            "type": "scattermap"
           }
          ],
          "scattermapbox": [
           {
            "marker": {
             "colorbar": {
              "outlinewidth": 0,
              "ticks": ""
             }
            },
            "type": "scattermapbox"
           }
          ],
          "scatterpolar": [
           {
            "marker": {
             "colorbar": {
              "outlinewidth": 0,
              "ticks": ""
             }
            },
            "type": "scatterpolar"
           }
          ],
          "scatterpolargl": [
           {
            "marker": {
             "colorbar": {
              "outlinewidth": 0,
              "ticks": ""
             }
            },
            "type": "scatterpolargl"
           }
          ],
          "scatterternary": [
           {
            "marker": {
             "colorbar": {
              "outlinewidth": 0,
              "ticks": ""
             }
            },
            "type": "scatterternary"
           }
          ],
          "surface": [
           {
            "colorbar": {
             "outlinewidth": 0,
             "ticks": ""
            },
            "colorscale": [
             [
              0,
              "#0d0887"
             ],
             [
              0.1111111111111111,
              "#46039f"
             ],
             [
              0.2222222222222222,
              "#7201a8"
             ],
             [
              0.3333333333333333,
              "#9c179e"
             ],
             [
              0.4444444444444444,
              "#bd3786"
             ],
             [
              0.5555555555555556,
              "#d8576b"
             ],
             [
              0.6666666666666666,
              "#ed7953"
             ],
             [
              0.7777777777777778,
              "#fb9f3a"
             ],
             [
              0.8888888888888888,
              "#fdca26"
             ],
             [
              1,
              "#f0f921"
             ]
            ],
            "type": "surface"
           }
          ],
          "table": [
           {
            "cells": {
             "fill": {
              "color": "#EBF0F8"
             },
             "line": {
              "color": "white"
             }
            },
            "header": {
             "fill": {
              "color": "#C8D4E3"
             },
             "line": {
              "color": "white"
             }
            },
            "type": "table"
           }
          ]
         },
         "layout": {
          "annotationdefaults": {
           "arrowcolor": "#2a3f5f",
           "arrowhead": 0,
           "arrowwidth": 1
          },
          "autotypenumbers": "strict",
          "coloraxis": {
           "colorbar": {
            "outlinewidth": 0,
            "ticks": ""
           }
          },
          "colorscale": {
           "diverging": [
            [
             0,
             "#8e0152"
            ],
            [
             0.1,
             "#c51b7d"
            ],
            [
             0.2,
             "#de77ae"
            ],
            [
             0.3,
             "#f1b6da"
            ],
            [
             0.4,
             "#fde0ef"
            ],
            [
             0.5,
             "#f7f7f7"
            ],
            [
             0.6,
             "#e6f5d0"
            ],
            [
             0.7,
             "#b8e186"
            ],
            [
             0.8,
             "#7fbc41"
            ],
            [
             0.9,
             "#4d9221"
            ],
            [
             1,
             "#276419"
            ]
           ],
           "sequential": [
            [
             0,
             "#0d0887"
            ],
            [
             0.1111111111111111,
             "#46039f"
            ],
            [
             0.2222222222222222,
             "#7201a8"
            ],
            [
             0.3333333333333333,
             "#9c179e"
            ],
            [
             0.4444444444444444,
             "#bd3786"
            ],
            [
             0.5555555555555556,
             "#d8576b"
            ],
            [
             0.6666666666666666,
             "#ed7953"
            ],
            [
             0.7777777777777778,
             "#fb9f3a"
            ],
            [
             0.8888888888888888,
             "#fdca26"
            ],
            [
             1,
             "#f0f921"
            ]
           ],
           "sequentialminus": [
            [
             0,
             "#0d0887"
            ],
            [
             0.1111111111111111,
             "#46039f"
            ],
            [
             0.2222222222222222,
             "#7201a8"
            ],
            [
             0.3333333333333333,
             "#9c179e"
            ],
            [
             0.4444444444444444,
             "#bd3786"
            ],
            [
             0.5555555555555556,
             "#d8576b"
            ],
            [
             0.6666666666666666,
             "#ed7953"
            ],
            [
             0.7777777777777778,
             "#fb9f3a"
            ],
            [
             0.8888888888888888,
             "#fdca26"
            ],
            [
             1,
             "#f0f921"
            ]
           ]
          },
          "colorway": [
           "#636efa",
           "#EF553B",
           "#00cc96",
           "#ab63fa",
           "#FFA15A",
           "#19d3f3",
           "#FF6692",
           "#B6E880",
           "#FF97FF",
           "#FECB52"
          ],
          "font": {
           "color": "#2a3f5f"
          },
          "geo": {
           "bgcolor": "white",
           "lakecolor": "white",
           "landcolor": "#E5ECF6",
           "showlakes": true,
           "showland": true,
           "subunitcolor": "white"
          },
          "hoverlabel": {
           "align": "left"
          },
          "hovermode": "closest",
          "mapbox": {
           "style": "light"
          },
          "paper_bgcolor": "white",
          "plot_bgcolor": "#E5ECF6",
          "polar": {
           "angularaxis": {
            "gridcolor": "white",
            "linecolor": "white",
            "ticks": ""
           },
           "bgcolor": "#E5ECF6",
           "radialaxis": {
            "gridcolor": "white",
            "linecolor": "white",
            "ticks": ""
           }
          },
          "scene": {
           "xaxis": {
            "backgroundcolor": "#E5ECF6",
            "gridcolor": "white",
            "gridwidth": 2,
            "linecolor": "white",
            "showbackground": true,
            "ticks": "",
            "zerolinecolor": "white"
           },
           "yaxis": {
            "backgroundcolor": "#E5ECF6",
            "gridcolor": "white",
            "gridwidth": 2,
            "linecolor": "white",
            "showbackground": true,
            "ticks": "",
            "zerolinecolor": "white"
           },
           "zaxis": {
            "backgroundcolor": "#E5ECF6",
            "gridcolor": "white",
            "gridwidth": 2,
            "linecolor": "white",
            "showbackground": true,
            "ticks": "",
            "zerolinecolor": "white"
           }
          },
          "shapedefaults": {
           "line": {
            "color": "#2a3f5f"
           }
          },
          "ternary": {
           "aaxis": {
            "gridcolor": "white",
            "linecolor": "white",
            "ticks": ""
           },
           "baxis": {
            "gridcolor": "white",
            "linecolor": "white",
            "ticks": ""
           },
           "bgcolor": "#E5ECF6",
           "caxis": {
            "gridcolor": "white",
            "linecolor": "white",
            "ticks": ""
           }
          },
          "title": {
           "x": 0.05
          },
          "xaxis": {
           "automargin": true,
           "gridcolor": "white",
           "linecolor": "white",
           "ticks": "",
           "title": {
            "standoff": 15
           },
           "zerolinecolor": "white",
           "zerolinewidth": 2
          },
          "yaxis": {
           "automargin": true,
           "gridcolor": "white",
           "linecolor": "white",
           "ticks": "",
           "title": {
            "standoff": 15
           },
           "zerolinecolor": "white",
           "zerolinewidth": 2
          }
         }
        },
        "title": {
         "text": "Cluster utenti con K-Means (PCA 3D)"
        }
       }
      }
     },
     "metadata": {},
     "output_type": "display_data"
    }
   ],
   "source": [
    "import plotly.express as px\n",
    "\n",
    "fig = px.scatter_3d(\n",
    "    movies,\n",
    "    x='PCA1',\n",
    "    y='PCA2',\n",
    "    z='PCA3',\n",
    "    color='cluster',\n",
    "    title='Cluster utenti con K-Means (PCA 3D)',\n",
    "    labels={'PCA1': 'PCA1', 'PCA2': 'PCA2', 'PCA3': 'PCA3'}\n",
    ")\n",
    "\n",
    "fig.update_layout(\n",
    "    margin=dict(l=0, r=0, b=0, t=40),\n",
    "    legend_title_text='Cluster'\n",
    ")\n",
    "\n",
    "fig.show()"
   ]
  }
 ],
 "metadata": {
  "kernelspec": {
   "display_name": "FDSML",
   "language": "python",
   "name": "python3"
  },
  "language_info": {
   "codemirror_mode": {
    "name": "ipython",
    "version": 3
   },
   "file_extension": ".py",
   "mimetype": "text/x-python",
   "name": "python",
   "nbconvert_exporter": "python",
   "pygments_lexer": "ipython3",
   "version": "3.10.18"
  }
 },
 "nbformat": 4,
 "nbformat_minor": 5
}
