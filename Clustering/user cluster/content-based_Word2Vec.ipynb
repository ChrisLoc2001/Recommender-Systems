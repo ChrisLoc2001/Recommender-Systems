{
 "cells": [
  {
   "cell_type": "code",
   "execution_count": 10,
   "id": "cbd6b1e7",
   "metadata": {},
   "outputs": [],
   "source": [
    "import pandas as pd\n",
    "from gensim.models import Word2Vec\n",
    "from sklearn.preprocessing import LabelEncoder\n",
    "from sklearn.cluster import KMeans\n",
    "from sklearn.decomposition import PCA\n",
    "import plotly.express as px\n",
    "from sklearn.metrics import silhouette_score"
   ]
  },
  {
   "cell_type": "code",
   "execution_count": 11,
   "id": "867cedeb",
   "metadata": {},
   "outputs": [],
   "source": [
    "# 1. Carica il DataFrame\n",
    "user = pd.read_csv(\n",
    "    '../../datasets/ml-100k/u.user',\n",
    "    sep='|',\n",
    "    names=['user_id', 'age', 'gender', 'occupation', 'zip_code']\n",
    ")"
   ]
  },
  {
   "cell_type": "code",
   "execution_count": 12,
   "id": "6d275115",
   "metadata": {},
   "outputs": [],
   "source": [
    "# 2. Prepara “sentences” per Word2Vec includendo anche zip_code\n",
    "sentences = user[['gender', 'occupation', 'zip_code']].astype(str).values.tolist()\n",
    "\n",
    "# 3. Allena il modello Word2Vec\n",
    "w2v = Word2Vec(\n",
    "    sentences,\n",
    "    vector_size=8,    # dimensione del vettore di embedding\n",
    "    window=2,\n",
    "    min_count=1,\n",
    "    epochs=100,\n",
    "    seed=42\n",
    ")"
   ]
  },
  {
   "cell_type": "code",
   "execution_count": 13,
   "id": "edd2f6fb",
   "metadata": {},
   "outputs": [],
   "source": [
    "# 4. Definisci funzione per calcolare embedding medio per riga\n",
    "def embed_row(row):\n",
    "    vecs = [w2v.wv[row['gender']], \n",
    "            w2v.wv[row['occupation']], \n",
    "            w2v.wv[row['zip_code']]]\n",
    "    # media vettoriale\n",
    "    return sum(vecs) / len(vecs)\n"
   ]
  },
  {
   "cell_type": "code",
   "execution_count": 14,
   "id": "5c71d9ab",
   "metadata": {},
   "outputs": [],
   "source": [
    "# 5. Applica embedding a tutto il DataFrame\n",
    "embeddings = user.apply(embed_row, axis=1)\n",
    "df_emb = pd.DataFrame(\n",
    "    embeddings.tolist(),\n",
    "    columns=[f'emb_{i}' for i in range(w2v.vector_size)]\n",
    ")\n",
    "# Aggiungiamo eventualmente altre feature numeriche (es. age)\n",
    "df_emb['age'] = user['age']"
   ]
  },
  {
   "cell_type": "code",
   "execution_count": 15,
   "id": "79e31b41",
   "metadata": {},
   "outputs": [
    {
     "name": "stdout",
     "output_type": "stream",
     "text": [
      "k = 2 → silhouette score = 0.6278\n",
      "k = 3 → silhouette score = 0.5485\n",
      "k = 4 → silhouette score = 0.5237\n",
      "k = 5 → silhouette score = 0.5299\n",
      "k = 6 → silhouette score = 0.5314\n",
      "k = 7 → silhouette score = 0.5213\n",
      "k = 8 → silhouette score = 0.5218\n",
      "k = 9 → silhouette score = 0.5160\n",
      "k = 10 → silhouette score = 0.5196\n",
      "k = 11 → silhouette score = 0.5205\n",
      "k = 12 → silhouette score = 0.5169\n",
      "k = 13 → silhouette score = 0.5203\n",
      "k = 14 → silhouette score = 0.5114\n",
      "k = 15 → silhouette score = 0.5076\n",
      "k = 16 → silhouette score = 0.5121\n",
      "k = 17 → silhouette score = 0.5207\n",
      "k = 18 → silhouette score = 0.5300\n",
      "k = 19 → silhouette score = 0.5448\n",
      "k = 20 → silhouette score = 0.5495\n",
      "k = 21 → silhouette score = 0.5323\n",
      "k = 22 → silhouette score = 0.5307\n",
      "k = 23 → silhouette score = 0.5364\n",
      "k = 24 → silhouette score = 0.5358\n",
      "k = 25 → silhouette score = 0.5323\n",
      "k = 26 → silhouette score = 0.5544\n",
      "k = 27 → silhouette score = 0.5644\n",
      "k = 28 → silhouette score = 0.5737\n",
      "k = 29 → silhouette score = 0.5831\n",
      "\n",
      "Numero ottimale di cluster: k = 2 (silhouette = 0.6278)\n"
     ]
    }
   ],
   "source": [
    "sil_scores = {}\n",
    "range_n_clusters = range(2, 30)\n",
    "for k in range_n_clusters:\n",
    "    km = KMeans(n_clusters=k, random_state=42)\n",
    "    labels = km.fit_predict(df_emb)\n",
    "    sil = silhouette_score(df_emb, labels)\n",
    "    sil_scores[k] = sil\n",
    "    print(f\"k = {k} → silhouette score = {sil:.4f}\")\n",
    "\n",
    "best_k = max(sil_scores, key=sil_scores.get)\n",
    "print(f\"\\nNumero ottimale di cluster: k = {best_k} (silhouette = {sil_scores[best_k]:.4f})\")"
   ]
  },
  {
   "cell_type": "code",
   "execution_count": 16,
   "id": "6b0ceecc",
   "metadata": {},
   "outputs": [],
   "source": [
    "# 6. Clustering sui vettori di embedding\n",
    "kmeans_final = KMeans(n_clusters=best_k, random_state=42)\n",
    "user['cluster_w2v'] = kmeans_final.fit_predict(df_emb)"
   ]
  },
  {
   "cell_type": "code",
   "execution_count": 17,
   "id": "25b3df8b",
   "metadata": {},
   "outputs": [],
   "source": [
    "# 7. Riduzione a 3D per visualizzazione\n",
    "pca = PCA(n_components=3, random_state=42)\n",
    "coords3d = pca.fit_transform(df_emb)\n",
    "df_plot = pd.DataFrame(coords3d, columns=['PC1', 'PC2', 'PC3'])\n",
    "df_plot['cluster'] = user['cluster_w2v'].astype(str)"
   ]
  },
  {
   "cell_type": "code",
   "execution_count": 18,
   "id": "d1e421e7",
   "metadata": {},
   "outputs": [
    {
     "data": {
      "application/vnd.plotly.v1+json": {
       "config": {
        "plotlyServerURL": "https://plot.ly"
       },
       "data": [
        {
         "hovertemplate": "Cluster=0<br>PC1=%{x}<br>PC2=%{y}<br>PC3=%{z}<extra></extra>",
         "legendgroup": "0",
         "marker": {
          "color": "#636efa",
          "size": 4,
          "symbol": "circle"
         },
         "mode": "markers",
         "name": "0",
         "scene": "scene",
         "showlegend": true,
         "type": "scatter3d",
         "x": {
          "bdata": "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",
          "dtype": "f8"
         },
         "y": {
          "bdata": "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",
          "dtype": "f8"
         },
         "z": {
          "bdata": "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",
          "dtype": "f8"
         }
        },
        {
         "hovertemplate": "Cluster=1<br>PC1=%{x}<br>PC2=%{y}<br>PC3=%{z}<extra></extra>",
         "legendgroup": "1",
         "marker": {
          "color": "#EF553B",
          "size": 4,
          "symbol": "circle"
         },
         "mode": "markers",
         "name": "1",
         "scene": "scene",
         "showlegend": true,
         "type": "scatter3d",
         "x": {
          "bdata": "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",
          "dtype": "f8"
         },
         "y": {
          "bdata": "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",
          "dtype": "f8"
         },
         "z": {
          "bdata": "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",
          "dtype": "f8"
         }
        }
       ],
       "layout": {
        "legend": {
         "title": {
          "text": "Cluster"
         },
         "tracegroupgap": 0
        },
        "scene": {
         "domain": {
          "x": [
           0,
           1
          ],
          "y": [
           0,
           1
          ]
         },
         "xaxis": {
          "title": {
           "text": "PC1"
          }
         },
         "yaxis": {
          "title": {
           "text": "PC2"
          }
         },
         "zaxis": {
          "title": {
           "text": "PC3"
          }
         }
        },
        "template": {
         "data": {
          "bar": [
           {
            "error_x": {
             "color": "#2a3f5f"
            },
            "error_y": {
             "color": "#2a3f5f"
            },
            "marker": {
             "line": {
              "color": "#E5ECF6",
              "width": 0.5
             },
             "pattern": {
              "fillmode": "overlay",
              "size": 10,
              "solidity": 0.2
             }
            },
            "type": "bar"
           }
          ],
          "barpolar": [
           {
            "marker": {
             "line": {
              "color": "#E5ECF6",
              "width": 0.5
             },
             "pattern": {
              "fillmode": "overlay",
              "size": 10,
              "solidity": 0.2
             }
            },
            "type": "barpolar"
           }
          ],
          "carpet": [
           {
            "aaxis": {
             "endlinecolor": "#2a3f5f",
             "gridcolor": "white",
             "linecolor": "white",
             "minorgridcolor": "white",
             "startlinecolor": "#2a3f5f"
            },
            "baxis": {
             "endlinecolor": "#2a3f5f",
             "gridcolor": "white",
             "linecolor": "white",
             "minorgridcolor": "white",
             "startlinecolor": "#2a3f5f"
            },
            "type": "carpet"
           }
          ],
          "choropleth": [
           {
            "colorbar": {
             "outlinewidth": 0,
             "ticks": ""
            },
            "type": "choropleth"
           }
          ],
          "contour": [
           {
            "colorbar": {
             "outlinewidth": 0,
             "ticks": ""
            },
            "colorscale": [
             [
              0,
              "#0d0887"
             ],
             [
              0.1111111111111111,
              "#46039f"
             ],
             [
              0.2222222222222222,
              "#7201a8"
             ],
             [
              0.3333333333333333,
              "#9c179e"
             ],
             [
              0.4444444444444444,
              "#bd3786"
             ],
             [
              0.5555555555555556,
              "#d8576b"
             ],
             [
              0.6666666666666666,
              "#ed7953"
             ],
             [
              0.7777777777777778,
              "#fb9f3a"
             ],
             [
              0.8888888888888888,
              "#fdca26"
             ],
             [
              1,
              "#f0f921"
             ]
            ],
            "type": "contour"
           }
          ],
          "contourcarpet": [
           {
            "colorbar": {
             "outlinewidth": 0,
             "ticks": ""
            },
            "type": "contourcarpet"
           }
          ],
          "heatmap": [
           {
            "colorbar": {
             "outlinewidth": 0,
             "ticks": ""
            },
            "colorscale": [
             [
              0,
              "#0d0887"
             ],
             [
              0.1111111111111111,
              "#46039f"
             ],
             [
              0.2222222222222222,
              "#7201a8"
             ],
             [
              0.3333333333333333,
              "#9c179e"
             ],
             [
              0.4444444444444444,
              "#bd3786"
             ],
             [
              0.5555555555555556,
              "#d8576b"
             ],
             [
              0.6666666666666666,
              "#ed7953"
             ],
             [
              0.7777777777777778,
              "#fb9f3a"
             ],
             [
              0.8888888888888888,
              "#fdca26"
             ],
             [
              1,
              "#f0f921"
             ]
            ],
            "type": "heatmap"
           }
          ],
          "histogram": [
           {
            "marker": {
             "pattern": {
              "fillmode": "overlay",
              "size": 10,
              "solidity": 0.2
             }
            },
            "type": "histogram"
           }
          ],
          "histogram2d": [
           {
            "colorbar": {
             "outlinewidth": 0,
             "ticks": ""
            },
            "colorscale": [
             [
              0,
              "#0d0887"
             ],
             [
              0.1111111111111111,
              "#46039f"
             ],
             [
              0.2222222222222222,
              "#7201a8"
             ],
             [
              0.3333333333333333,
              "#9c179e"
             ],
             [
              0.4444444444444444,
              "#bd3786"
             ],
             [
              0.5555555555555556,
              "#d8576b"
             ],
             [
              0.6666666666666666,
              "#ed7953"
             ],
             [
              0.7777777777777778,
              "#fb9f3a"
             ],
             [
              0.8888888888888888,
              "#fdca26"
             ],
             [
              1,
              "#f0f921"
             ]
            ],
            "type": "histogram2d"
           }
          ],
          "histogram2dcontour": [
           {
            "colorbar": {
             "outlinewidth": 0,
             "ticks": ""
            },
            "colorscale": [
             [
              0,
              "#0d0887"
             ],
             [
              0.1111111111111111,
              "#46039f"
             ],
             [
              0.2222222222222222,
              "#7201a8"
             ],
             [
              0.3333333333333333,
              "#9c179e"
             ],
             [
              0.4444444444444444,
              "#bd3786"
             ],
             [
              0.5555555555555556,
              "#d8576b"
             ],
             [
              0.6666666666666666,
              "#ed7953"
             ],
             [
              0.7777777777777778,
              "#fb9f3a"
             ],
             [
              0.8888888888888888,
              "#fdca26"
             ],
             [
              1,
              "#f0f921"
             ]
            ],
            "type": "histogram2dcontour"
           }
          ],
          "mesh3d": [
           {
            "colorbar": {
             "outlinewidth": 0,
             "ticks": ""
            },
            "type": "mesh3d"
           }
          ],
          "parcoords": [
           {
            "line": {
             "colorbar": {
              "outlinewidth": 0,
              "ticks": ""
             }
            },
            "type": "parcoords"
           }
          ],
          "pie": [
           {
            "automargin": true,
            "type": "pie"
           }
          ],
          "scatter": [
           {
            "fillpattern": {
             "fillmode": "overlay",
             "size": 10,
             "solidity": 0.2
            },
            "type": "scatter"
           }
          ],
          "scatter3d": [
           {
            "line": {
             "colorbar": {
              "outlinewidth": 0,
              "ticks": ""
             }
            },
            "marker": {
             "colorbar": {
              "outlinewidth": 0,
              "ticks": ""
             }
            },
            "type": "scatter3d"
           }
          ],
          "scattercarpet": [
           {
            "marker": {
             "colorbar": {
              "outlinewidth": 0,
              "ticks": ""
             }
            },
            "type": "scattercarpet"
           }
          ],
          "scattergeo": [
           {
            "marker": {
             "colorbar": {
              "outlinewidth": 0,
              "ticks": ""
             }
            },
            "type": "scattergeo"
           }
          ],
          "scattergl": [
           {
            "marker": {
             "colorbar": {
              "outlinewidth": 0,
              "ticks": ""
             }
            },
            "type": "scattergl"
           }
          ],
          "scattermap": [
           {
            "marker": {
             "colorbar": {
              "outlinewidth": 0,
              "ticks": ""
             }
            },
            "type": "scattermap"
           }
          ],
          "scattermapbox": [
           {
            "marker": {
             "colorbar": {
              "outlinewidth": 0,
              "ticks": ""
             }
            },
            "type": "scattermapbox"
           }
          ],
          "scatterpolar": [
           {
            "marker": {
             "colorbar": {
              "outlinewidth": 0,
              "ticks": ""
             }
            },
            "type": "scatterpolar"
           }
          ],
          "scatterpolargl": [
           {
            "marker": {
             "colorbar": {
              "outlinewidth": 0,
              "ticks": ""
             }
            },
            "type": "scatterpolargl"
           }
          ],
          "scatterternary": [
           {
            "marker": {
             "colorbar": {
              "outlinewidth": 0,
              "ticks": ""
             }
            },
            "type": "scatterternary"
           }
          ],
          "surface": [
           {
            "colorbar": {
             "outlinewidth": 0,
             "ticks": ""
            },
            "colorscale": [
             [
              0,
              "#0d0887"
             ],
             [
              0.1111111111111111,
              "#46039f"
             ],
             [
              0.2222222222222222,
              "#7201a8"
             ],
             [
              0.3333333333333333,
              "#9c179e"
             ],
             [
              0.4444444444444444,
              "#bd3786"
             ],
             [
              0.5555555555555556,
              "#d8576b"
             ],
             [
              0.6666666666666666,
              "#ed7953"
             ],
             [
              0.7777777777777778,
              "#fb9f3a"
             ],
             [
              0.8888888888888888,
              "#fdca26"
             ],
             [
              1,
              "#f0f921"
             ]
            ],
            "type": "surface"
           }
          ],
          "table": [
           {
            "cells": {
             "fill": {
              "color": "#EBF0F8"
             },
             "line": {
              "color": "white"
             }
            },
            "header": {
             "fill": {
              "color": "#C8D4E3"
             },
             "line": {
              "color": "white"
             }
            },
            "type": "table"
           }
          ]
         },
         "layout": {
          "annotationdefaults": {
           "arrowcolor": "#2a3f5f",
           "arrowhead": 0,
           "arrowwidth": 1
          },
          "autotypenumbers": "strict",
          "coloraxis": {
           "colorbar": {
            "outlinewidth": 0,
            "ticks": ""
           }
          },
          "colorscale": {
           "diverging": [
            [
             0,
             "#8e0152"
            ],
            [
             0.1,
             "#c51b7d"
            ],
            [
             0.2,
             "#de77ae"
            ],
            [
             0.3,
             "#f1b6da"
            ],
            [
             0.4,
             "#fde0ef"
            ],
            [
             0.5,
             "#f7f7f7"
            ],
            [
             0.6,
             "#e6f5d0"
            ],
            [
             0.7,
             "#b8e186"
            ],
            [
             0.8,
             "#7fbc41"
            ],
            [
             0.9,
             "#4d9221"
            ],
            [
             1,
             "#276419"
            ]
           ],
           "sequential": [
            [
             0,
             "#0d0887"
            ],
            [
             0.1111111111111111,
             "#46039f"
            ],
            [
             0.2222222222222222,
             "#7201a8"
            ],
            [
             0.3333333333333333,
             "#9c179e"
            ],
            [
             0.4444444444444444,
             "#bd3786"
            ],
            [
             0.5555555555555556,
             "#d8576b"
            ],
            [
             0.6666666666666666,
             "#ed7953"
            ],
            [
             0.7777777777777778,
             "#fb9f3a"
            ],
            [
             0.8888888888888888,
             "#fdca26"
            ],
            [
             1,
             "#f0f921"
            ]
           ],
           "sequentialminus": [
            [
             0,
             "#0d0887"
            ],
            [
             0.1111111111111111,
             "#46039f"
            ],
            [
             0.2222222222222222,
             "#7201a8"
            ],
            [
             0.3333333333333333,
             "#9c179e"
            ],
            [
             0.4444444444444444,
             "#bd3786"
            ],
            [
             0.5555555555555556,
             "#d8576b"
            ],
            [
             0.6666666666666666,
             "#ed7953"
            ],
            [
             0.7777777777777778,
             "#fb9f3a"
            ],
            [
             0.8888888888888888,
             "#fdca26"
            ],
            [
             1,
             "#f0f921"
            ]
           ]
          },
          "colorway": [
           "#636efa",
           "#EF553B",
           "#00cc96",
           "#ab63fa",
           "#FFA15A",
           "#19d3f3",
           "#FF6692",
           "#B6E880",
           "#FF97FF",
           "#FECB52"
          ],
          "font": {
           "color": "#2a3f5f"
          },
          "geo": {
           "bgcolor": "white",
           "lakecolor": "white",
           "landcolor": "#E5ECF6",
           "showlakes": true,
           "showland": true,
           "subunitcolor": "white"
          },
          "hoverlabel": {
           "align": "left"
          },
          "hovermode": "closest",
          "mapbox": {
           "style": "light"
          },
          "paper_bgcolor": "white",
          "plot_bgcolor": "#E5ECF6",
          "polar": {
           "angularaxis": {
            "gridcolor": "white",
            "linecolor": "white",
            "ticks": ""
           },
           "bgcolor": "#E5ECF6",
           "radialaxis": {
            "gridcolor": "white",
            "linecolor": "white",
            "ticks": ""
           }
          },
          "scene": {
           "xaxis": {
            "backgroundcolor": "#E5ECF6",
            "gridcolor": "white",
            "gridwidth": 2,
            "linecolor": "white",
            "showbackground": true,
            "ticks": "",
            "zerolinecolor": "white"
           },
           "yaxis": {
            "backgroundcolor": "#E5ECF6",
            "gridcolor": "white",
            "gridwidth": 2,
            "linecolor": "white",
            "showbackground": true,
            "ticks": "",
            "zerolinecolor": "white"
           },
           "zaxis": {
            "backgroundcolor": "#E5ECF6",
            "gridcolor": "white",
            "gridwidth": 2,
            "linecolor": "white",
            "showbackground": true,
            "ticks": "",
            "zerolinecolor": "white"
           }
          },
          "shapedefaults": {
           "line": {
            "color": "#2a3f5f"
           }
          },
          "ternary": {
           "aaxis": {
            "gridcolor": "white",
            "linecolor": "white",
            "ticks": ""
           },
           "baxis": {
            "gridcolor": "white",
            "linecolor": "white",
            "ticks": ""
           },
           "bgcolor": "#E5ECF6",
           "caxis": {
            "gridcolor": "white",
            "linecolor": "white",
            "ticks": ""
           }
          },
          "title": {
           "x": 0.05
          },
          "xaxis": {
           "automargin": true,
           "gridcolor": "white",
           "linecolor": "white",
           "ticks": "",
           "title": {
            "standoff": 15
           },
           "zerolinecolor": "white",
           "zerolinewidth": 2
          },
          "yaxis": {
           "automargin": true,
           "gridcolor": "white",
           "linecolor": "white",
           "ticks": "",
           "title": {
            "standoff": 15
           },
           "zerolinecolor": "white",
           "zerolinewidth": 2
          }
         }
        },
        "title": {
         "text": "Word2Vec Embedding + KMeans: visualizzazione 3D"
        }
       }
      }
     },
     "metadata": {},
     "output_type": "display_data"
    }
   ],
   "source": [
    "# 8. Grafico 3D interattivo con Plotly\n",
    "fig = px.scatter_3d(\n",
    "    df_plot,\n",
    "    x='PC1', y='PC2', z='PC3',\n",
    "    color='cluster',\n",
    "    title='Word2Vec Embedding + KMeans: visualizzazione 3D',\n",
    "    labels={'cluster':'Cluster'}\n",
    ")\n",
    "fig.update_traces(marker=dict(size=4))\n",
    "fig.show()"
   ]
  }
 ],
 "metadata": {
  "kernelspec": {
   "display_name": "FDSML",
   "language": "python",
   "name": "python3"
  },
  "language_info": {
   "codemirror_mode": {
    "name": "ipython",
    "version": 3
   },
   "file_extension": ".py",
   "mimetype": "text/x-python",
   "name": "python",
   "nbconvert_exporter": "python",
   "pygments_lexer": "ipython3",
   "version": "3.10.18"
  }
 },
 "nbformat": 4,
 "nbformat_minor": 5
}
