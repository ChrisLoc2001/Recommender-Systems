{
 "cells": [
  {
   "cell_type": "code",
   "execution_count": null,
   "id": "cbd6b1e7",
   "metadata": {},
   "outputs": [],
   "source": [
    "import pandas as pd\n",
    "from gensim.models import Word2Vec\n",
    "from sklearn.preprocessing import LabelEncoder\n",
    "from sklearn.cluster import KMeans\n",
    "from sklearn.decomposition import PCA\n",
    "import plotly.express as px\n",
    "from sklearn.metrics import silhouette_score"
   ]
  },
  {
   "cell_type": "code",
   "execution_count": null,
   "id": "867cedeb",
   "metadata": {},
   "outputs": [],
   "source": [
    "# 1. Carica il DataFrame\n",
    "user = pd.read_csv(\n",
    "    '../datasets/ml-100k/u.user',\n",
    "    sep='|',\n",
    "    names=['user_id', 'age', 'gender', 'occupation', 'zip_code']\n",
    ")"
   ]
  },
  {
   "cell_type": "code",
   "execution_count": null,
   "id": "6d275115",
   "metadata": {},
   "outputs": [],
   "source": [
    "# 2. Prepara “sentences” per Word2Vec includendo anche zip_code\n",
    "sentences = user[['gender', 'occupation', 'zip_code']].astype(str).values.tolist()\n",
    "\n",
    "# 3. Allena il modello Word2Vec\n",
    "w2v = Word2Vec(\n",
    "    sentences,\n",
    "    vector_size=8,    # dimensione del vettore di embedding\n",
    "    window=2,\n",
    "    min_count=1,\n",
    "    epochs=100,\n",
    "    seed=42\n",
    ")"
   ]
  },
  {
   "cell_type": "code",
   "execution_count": null,
   "id": "edd2f6fb",
   "metadata": {},
   "outputs": [],
   "source": [
    "# 4. Definisci funzione per calcolare embedding medio per riga\n",
    "def embed_row(row):\n",
    "    vecs = [w2v.wv[row['gender']], \n",
    "            w2v.wv[row['occupation']], \n",
    "            w2v.wv[row['zip_code']]]\n",
    "    # media vettoriale\n",
    "    return sum(vecs) / len(vecs)\n"
   ]
  },
  {
   "cell_type": "code",
   "execution_count": null,
   "id": "5c71d9ab",
   "metadata": {},
   "outputs": [],
   "source": [
    "# 5. Applica embedding a tutto il DataFrame\n",
    "embeddings = user.apply(embed_row, axis=1)\n",
    "df_emb = pd.DataFrame(\n",
    "    embeddings.tolist(),\n",
    "    columns=[f'emb_{i}' for i in range(w2v.vector_size)]\n",
    ")\n",
    "# Aggiungiamo eventualmente altre feature numeriche (es. age)\n",
    "df_emb['age'] = user['age']"
   ]
  },
  {
   "cell_type": "code",
   "execution_count": null,
   "id": "79e31b41",
   "metadata": {},
   "outputs": [],
   "source": [
    "sil_scores = {}\n",
    "range_n_clusters = range(2, 30)\n",
    "for k in range_n_clusters:\n",
    "    km = KMeans(n_clusters=k, random_state=42)\n",
    "    labels = km.fit_predict(df_emb)\n",
    "    sil = silhouette_score(df_emb, labels)\n",
    "    sil_scores[k] = sil\n",
    "    print(f\"k = {k} → silhouette score = {sil:.4f}\")\n",
    "\n",
    "best_k = max(sil_scores, key=sil_scores.get)\n",
    "print(f\"\\nNumero ottimale di cluster: k = {best_k} (silhouette = {sil_scores[best_k]:.4f})\")"
   ]
  },
  {
   "cell_type": "code",
   "execution_count": null,
   "id": "6b0ceecc",
   "metadata": {},
   "outputs": [],
   "source": [
    "# 6. Clustering sui vettori di embedding\n",
    "kmeans_final = KMeans(n_clusters=4, random_state=42)\n",
    "user['cluster_w2v'] = kmeans_final.fit_predict(df_emb)"
   ]
  },
  {
   "cell_type": "code",
   "execution_count": null,
   "id": "25b3df8b",
   "metadata": {},
   "outputs": [],
   "source": [
    "# 7. Riduzione a 3D per visualizzazione\n",
    "pca = PCA(n_components=3, random_state=42)\n",
    "coords3d = pca.fit_transform(df_emb)\n",
    "df_plot = pd.DataFrame(coords3d, columns=['PC1', 'PC2', 'PC3'])\n",
    "df_plot['cluster'] = user['cluster_w2v'].astype(str)"
   ]
  },
  {
   "cell_type": "code",
   "execution_count": null,
   "id": "d1e421e7",
   "metadata": {},
   "outputs": [],
   "source": [
    "# 8. Grafico 3D interattivo con Plotly\n",
    "fig = px.scatter_3d(\n",
    "    df_plot,\n",
    "    x='PC1', y='PC2', z='PC3',\n",
    "    color='cluster',\n",
    "    title='Word2Vec Embedding + KMeans: visualizzazione 3D',\n",
    "    labels={'cluster':'Cluster'}\n",
    ")\n",
    "fig.update_traces(marker=dict(size=4))\n",
    "fig.show()"
   ]
  }
 ],
 "metadata": {
  "kernelspec": {
   "display_name": "FDSML",
   "language": "python",
   "name": "python3"
  },
  "language_info": {
   "codemirror_mode": {
    "name": "ipython",
    "version": 3
   },
   "file_extension": ".py",
   "mimetype": "text/x-python",
   "name": "python",
   "nbconvert_exporter": "python",
   "pygments_lexer": "ipython3",
   "version": "3.10.18"
  }
 },
 "nbformat": 4,
 "nbformat_minor": 5
}
