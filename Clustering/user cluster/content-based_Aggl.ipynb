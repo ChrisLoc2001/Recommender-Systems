{
 "cells": [
  {
   "cell_type": "code",
   "execution_count": 10,
   "id": "7a98c5e6",
   "metadata": {},
   "outputs": [],
   "source": [
    "import pandas as pd\n",
    "from sklearn.preprocessing import StandardScaler\n",
    "from sklearn.cluster import AgglomerativeClustering\n",
    "from sklearn.metrics import silhouette_score\n",
    "from sklearn.decomposition import PCA\n",
    "import matplotlib.pyplot as plt\n",
    "import seaborn as sns\n",
    "from scipy.cluster.hierarchy import linkage, dendrogram\n",
    "from sklearn.preprocessing import LabelEncoder, OneHotEncoder\n",
    "from category_encoders import BinaryEncoder, TargetEncoder\n",
    "from sklearn.feature_extraction import FeatureHasher\n",
    "from kmodes.kprototypes import KPrototypes\n",
    "from sklearn.metrics import silhouette_score"
   ]
  },
  {
   "cell_type": "code",
   "execution_count": null,
   "id": "87e0ffd8",
   "metadata": {},
   "outputs": [],
   "source": [
    "ratings = pd.read_csv('../../datasets/ml-100k/u.user', \n",
    "                      sep='\\t', \n",
    "                      names=['user_id', 'item_id', 'rating', 'timestamp'])\n",
    "ratings = ratings.drop(columns='timestamp')\n",
    "\n",
    "user_item_dense = ratings.pivot(\n",
    "    index='user_id',\n",
    "    columns='item_id',\n",
    "    values='rating'\n",
    ").fillna(0)"
   ]
  },
  {
   "cell_type": "code",
   "execution_count": 12,
   "id": "5298fb78",
   "metadata": {},
   "outputs": [
    {
     "data": {
      "text/html": [
       "<div>\n",
       "<style scoped>\n",
       "    .dataframe tbody tr th:only-of-type {\n",
       "        vertical-align: middle;\n",
       "    }\n",
       "\n",
       "    .dataframe tbody tr th {\n",
       "        vertical-align: top;\n",
       "    }\n",
       "\n",
       "    .dataframe thead th {\n",
       "        text-align: right;\n",
       "    }\n",
       "</style>\n",
       "<table border=\"1\" class=\"dataframe\">\n",
       "  <thead>\n",
       "    <tr style=\"text-align: right;\">\n",
       "      <th></th>\n",
       "      <th>user_id</th>\n",
       "      <th>age</th>\n",
       "      <th>gender</th>\n",
       "      <th>occupation</th>\n",
       "      <th>zip_code</th>\n",
       "    </tr>\n",
       "  </thead>\n",
       "  <tbody>\n",
       "    <tr>\n",
       "      <th>0</th>\n",
       "      <td>1</td>\n",
       "      <td>24</td>\n",
       "      <td>M</td>\n",
       "      <td>technician</td>\n",
       "      <td>85711</td>\n",
       "    </tr>\n",
       "    <tr>\n",
       "      <th>1</th>\n",
       "      <td>2</td>\n",
       "      <td>53</td>\n",
       "      <td>F</td>\n",
       "      <td>other</td>\n",
       "      <td>94043</td>\n",
       "    </tr>\n",
       "    <tr>\n",
       "      <th>2</th>\n",
       "      <td>3</td>\n",
       "      <td>23</td>\n",
       "      <td>M</td>\n",
       "      <td>writer</td>\n",
       "      <td>32067</td>\n",
       "    </tr>\n",
       "    <tr>\n",
       "      <th>3</th>\n",
       "      <td>4</td>\n",
       "      <td>24</td>\n",
       "      <td>M</td>\n",
       "      <td>technician</td>\n",
       "      <td>43537</td>\n",
       "    </tr>\n",
       "    <tr>\n",
       "      <th>4</th>\n",
       "      <td>5</td>\n",
       "      <td>33</td>\n",
       "      <td>F</td>\n",
       "      <td>other</td>\n",
       "      <td>15213</td>\n",
       "    </tr>\n",
       "    <tr>\n",
       "      <th>...</th>\n",
       "      <td>...</td>\n",
       "      <td>...</td>\n",
       "      <td>...</td>\n",
       "      <td>...</td>\n",
       "      <td>...</td>\n",
       "    </tr>\n",
       "    <tr>\n",
       "      <th>938</th>\n",
       "      <td>939</td>\n",
       "      <td>26</td>\n",
       "      <td>F</td>\n",
       "      <td>student</td>\n",
       "      <td>33319</td>\n",
       "    </tr>\n",
       "    <tr>\n",
       "      <th>939</th>\n",
       "      <td>940</td>\n",
       "      <td>32</td>\n",
       "      <td>M</td>\n",
       "      <td>administrator</td>\n",
       "      <td>02215</td>\n",
       "    </tr>\n",
       "    <tr>\n",
       "      <th>940</th>\n",
       "      <td>941</td>\n",
       "      <td>20</td>\n",
       "      <td>M</td>\n",
       "      <td>student</td>\n",
       "      <td>97229</td>\n",
       "    </tr>\n",
       "    <tr>\n",
       "      <th>941</th>\n",
       "      <td>942</td>\n",
       "      <td>48</td>\n",
       "      <td>F</td>\n",
       "      <td>librarian</td>\n",
       "      <td>78209</td>\n",
       "    </tr>\n",
       "    <tr>\n",
       "      <th>942</th>\n",
       "      <td>943</td>\n",
       "      <td>22</td>\n",
       "      <td>M</td>\n",
       "      <td>student</td>\n",
       "      <td>77841</td>\n",
       "    </tr>\n",
       "  </tbody>\n",
       "</table>\n",
       "<p>943 rows × 5 columns</p>\n",
       "</div>"
      ],
      "text/plain": [
       "     user_id  age gender     occupation zip_code\n",
       "0          1   24      M     technician    85711\n",
       "1          2   53      F          other    94043\n",
       "2          3   23      M         writer    32067\n",
       "3          4   24      M     technician    43537\n",
       "4          5   33      F          other    15213\n",
       "..       ...  ...    ...            ...      ...\n",
       "938      939   26      F        student    33319\n",
       "939      940   32      M  administrator    02215\n",
       "940      941   20      M        student    97229\n",
       "941      942   48      F      librarian    78209\n",
       "942      943   22      M        student    77841\n",
       "\n",
       "[943 rows x 5 columns]"
      ]
     },
     "execution_count": 12,
     "metadata": {},
     "output_type": "execute_result"
    }
   ],
   "source": [
    "user = pd.read_csv('../datasets/ml-100k/u.user', \n",
    "                      sep='|', \n",
    "                      names=['user_id', 'age', 'gender', 'occupation', 'zip_code'])\n",
    "\n",
    "merged = user.merge(user_item_dense, on='user_id')\n",
    "\n",
    "user"
   ]
  },
  {
   "cell_type": "code",
   "execution_count": 13,
   "id": "fe3e16b6",
   "metadata": {},
   "outputs": [],
   "source": [
    "#  One-Hot Encoding sulle colonne categoriche\n",
    "user_encoded = pd.get_dummies(merged, columns=['gender', 'occupation', 'zip_code'])\n",
    "X = user_encoded.drop(columns=['user_id'])\n",
    "X.columns = X.columns.astype(str)"
   ]
  },
  {
   "cell_type": "code",
   "execution_count": 14,
   "id": "9cc3435c",
   "metadata": {},
   "outputs": [],
   "source": [
    "#LABEL ENCODER\n",
    "\n",
    "le_gender = LabelEncoder()\n",
    "le_occ = LabelEncoder()\n",
    "le_zip = LabelEncoder()\n",
    "user['gender_le'] = le_gender.fit_transform(user['gender'])\n",
    "user['occupation_le'] = le_occ.fit_transform(user['occupation'])\n",
    "user['zip_le'] = le_zip.fit_transform(user['zip_code'])\n",
    "df_le = user[['age','gender_le','occupation_le', 'zip_le']]\n",
    "#df_le"
   ]
  },
  {
   "cell_type": "code",
   "execution_count": 15,
   "id": "5eea4ea0",
   "metadata": {},
   "outputs": [],
   "source": [
    "#BINARY ENCODER\n",
    "be = BinaryEncoder(cols=['gender','occupation','zip_code'], return_df=True)\n",
    "df_be = be.fit_transform(user[['age', 'gender','occupation','zip_code']])\n",
    "#df_be"
   ]
  },
  {
   "cell_type": "code",
   "execution_count": 16,
   "id": "00e8b17d",
   "metadata": {},
   "outputs": [],
   "source": [
    "#HASHER \n",
    "user_dicts = user[['gender', 'occupation', 'zip_code']].astype(str).to_dict(orient='records')\n",
    "\n",
    "# 2. Hasher con input_type='dict'\n",
    "hasher = FeatureHasher(n_features=10, input_type='dict')\n",
    "hashed = hasher.transform(user_dicts)\n",
    "\n",
    "# 3. Converti in DataFrame\n",
    "#df_hash = pd.DataFrame(hashed.toarray(), columns=[f\"hash_{i}\" for i in range(10)])"
   ]
  },
  {
   "cell_type": "code",
   "execution_count": 17,
   "id": "c5aa7792",
   "metadata": {},
   "outputs": [],
   "source": [
    "#TARGET ENCODER\n",
    "\n",
    "te = TargetEncoder(cols=['gender', 'occupation', 'zip_code'])\n",
    "df_te = te.fit_transform(user[['gender', 'occupation', 'zip_code']], user['age'])\n",
    "df_te['age'] = user['age']\n",
    "#df_te"
   ]
  },
  {
   "cell_type": "code",
   "execution_count": 18,
   "id": "d711beee",
   "metadata": {},
   "outputs": [],
   "source": [
    "# 4. Standardizzazione\n",
    "scaler = StandardScaler()\n",
    "X_scaled = scaler.fit_transform(X)"
   ]
  },
  {
   "cell_type": "code",
   "execution_count": 19,
   "id": "7f75a2d1",
   "metadata": {},
   "outputs": [
    {
     "name": "stdout",
     "output_type": "stream",
     "text": [
      "Numero ottimale di cluster: 2\n"
     ]
    }
   ],
   "source": [
    "# 6. Trova numero ottimale di cluster via Silhouette Score\n",
    "sil_scores = []\n",
    "K_range = range(2, 11)\n",
    "for k in K_range:\n",
    "    agg = AgglomerativeClustering(n_clusters=k, linkage='ward')\n",
    "    labels = agg.fit_predict(X_scaled)\n",
    "    sil_scores.append(silhouette_score(X_scaled, labels))\n",
    "\n",
    "optimal_k = K_range[sil_scores.index(max(sil_scores))]\n",
    "print(f\"Numero ottimale di cluster: {optimal_k}\")"
   ]
  },
  {
   "cell_type": "code",
   "execution_count": 20,
   "id": "8d8cdc2f",
   "metadata": {},
   "outputs": [
    {
     "data": {
      "text/plain": [
       "0.22032825283895188"
      ]
     },
     "execution_count": 20,
     "metadata": {},
     "output_type": "execute_result"
    }
   ],
   "source": [
    "opt = sil_scores.index(max(sil_scores))\n",
    "sil_scores[opt]"
   ]
  },
  {
   "cell_type": "code",
   "execution_count": 21,
   "id": "b0a58b17",
   "metadata": {},
   "outputs": [
    {
     "data": {
      "text/plain": [
       "[0.22032825283895188,\n",
       " 0.21248664871982686,\n",
       " 0.21300695007579473,\n",
       " 0.21413465781370036,\n",
       " 0.21199234409838955,\n",
       " 0.21164422309319583,\n",
       " 0.21258818448801373,\n",
       " 0.20894583948677084,\n",
       " 0.20477745403754988]"
      ]
     },
     "execution_count": 21,
     "metadata": {},
     "output_type": "execute_result"
    }
   ],
   "source": [
    "sil_scores"
   ]
  },
  {
   "cell_type": "code",
   "execution_count": 22,
   "id": "d2e28f01",
   "metadata": {},
   "outputs": [],
   "source": [
    "# 7. Applica AgglomerativeClustering\n",
    "agg_final = AgglomerativeClustering(n_clusters=optimal_k, linkage='ward')\n",
    "user['cluster'] = agg_final.fit_predict(X_scaled)"
   ]
  },
  {
   "cell_type": "code",
   "execution_count": 23,
   "id": "3d4aac90",
   "metadata": {},
   "outputs": [],
   "source": [
    "pca = PCA(n_components=3)\n",
    "components = pca.fit_transform(X_scaled)\n",
    "user[['PCA1','PCA2','PCA3']] = components"
   ]
  },
  {
   "cell_type": "code",
   "execution_count": 24,
   "id": "c6e5f134",
   "metadata": {},
   "outputs": [
    {
     "data": {
      "image/png": "[encoded data removed]",
      "text/plain": [
       "<Figure size 1000x600 with 1 Axes>"
      ]
     },
     "metadata": {},
     "output_type": "display_data"
    }
   ],
   "source": [
    "# 9. Plot dei cluster\n",
    "plt.figure(figsize=(10,6))\n",
    "sns.scatterplot(data=user, x='PCA1', y='PCA2', hue='cluster', palette='Set1', s=60)\n",
    "plt.title('Cluster utenti con Agglomerative Clustering (PCA 2D)')\n",
    "plt.xlabel('PCA1')\n",
    "plt.ylabel('PCA2')\n",
    "plt.legend(title='Cluster')\n",
    "plt.grid(True)\n",
    "plt.tight_layout()\n",
    "plt.show()"
   ]
  },
  {
   "cell_type": "code",
   "execution_count": 25,
   "id": "44765928",
   "metadata": {},
   "outputs": [
    {
     "data": {
      "application/vnd.plotly.v1+json": {
       "config": {
        "plotlyServerURL": "https://plot.ly"
       },
       "data": [
        {
         "hovertemplate": "PCA1=%{x}<br>PCA2=%{y}<br>PCA3=%{z}<br>cluster=%{marker.color}<extra></extra>",
         "legendgroup": "",
         "marker": {
          "color": {
           "bdata": "AAEBAQEBAAEBAAEBAAEBAQEAAQEBAAEBAQEBAQEBAQEBAQEBAQABAQEAAQEBAQEBAAEBAQEBAQABAAAAAQABAQEBAQEBAQEBAQEBAQEBAQEBAQABAAEAAQEAAQABAAABAQEBAQEAAQEBAQEBAAABAQEBAQEBAQEBAQEBAQABAQEBAAEBAQEBAQEBAQEBAQEBAAEBAQEBAAEBAQEBAQABAQEBAQEBAQEBAQEBAQEBAQEBAQEBAQEBAAEBAQEBAQEBAQAAAQABAQAAAQEBAQEAAQEBAQEBAQEBAAEBAQAAAQEBAQEBAQEBAQEAAQEBAQABAQEBAAEAAQEBAQEBAQEBAAEBAQEBAQEBAQEAAAABAAEBAQEAAQEAAAEBAQEBAAEBAQEAAQABAAEBAQABAAEAAQABAQABAQAAAAABAQEBAQABAQEBAAAAAAEBAQEBAAEBAQEAAQEBAAEBAAEBAQEBAQEBAQEBAQEBAQEAAQEBAQEBAQEBAAABAQEAAAEBAQEBAAEAAQABAQEAAAEBAQAAAQEBAQEAAAABAAEBAQEBAQAAAQEBAQEBAQEAAQEAAQEBAQEAAQABAQEBAQEBAQEBAQEAAQABAQEAAAEBAQEBAQEBAQEBAQEBAAEAAQEBAQEBAQEBAAEAAAEBAQEBAQEAAQABAQEBAQEAAQABAQEBAQEBAQEBAQEBAQEBAQABAQABAQEBAAABAAEAAQEBAAEAAQABAQEBAQABAQEBAQEBAQEAAQEBAQEAAQEBAQEBAQEBAAEBAQEBAQEAAAEAAQEBAAEBAQEBAQEAAQEBAQEBAQABAQEBAQEBAQEBAAAAAAEBAQEAAQEBAQEBAQEBAQEBAAEAAAEBAQEAAQABAQEBAAEBAQABAQEBAQEAAQEBAQABAQEBAQEBAQEBAAEBAQEBAQEBAQEBAAEBAQEBAQEBAQEAAQABAAEBAAEBAQABAQEBAQEBAQEBAAEBAQEBAQEBAQEBAQEBAQEBAQEAAQABAQEBAQEBAQABAQEBAQEBAQEBAQEBAQABAQEBAQEBAQEBAQEBAQABAAEBAQEBAAEAAQEBAQEAAAEAAQEBAQEBAQABAQEBAQEBAQEBAAEBAQEBAQEBAQEBAQEAAQEBAQEAAQABAQABAQEBAQEBAQEBAQEAAQEBAQEAAQEBAQEBAQEBAAABAAEBAAABAAEBAAEAAQABAQEBAAEBAQEBAQEBAQEBAQEBAAEAAQEBAQEBAQEAAQEBAQABAAEAAQEBAQEBAA==",
           "dtype": "i1"
          },
          "coloraxis": "coloraxis",
          "symbol": "circle"
         },
         "mode": "markers",
         "name": "",
         "scene": "scene",
         "showlegend": false,
         "type": "scatter3d",
         "x": {
          "bdata": "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",
          "dtype": "f8"
         },
         "y": {
          "bdata": "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",
          "dtype": "f8"
         },
         "z": {
          "bdata": "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",
          "dtype": "f8"
         }
        }
       ],
       "layout": {
        "coloraxis": {
         "colorbar": {
          "title": {
           "text": "cluster"
          }
         },
         "colorscale": [
          [
           0,
           "#0d0887"
          ],
          [
           0.1111111111111111,
           "#46039f"
          ],
          [
           0.2222222222222222,
           "#7201a8"
          ],
          [
           0.3333333333333333,
           "#9c179e"
          ],
          [
           0.4444444444444444,
           "#bd3786"
          ],
          [
           0.5555555555555556,
           "#d8576b"
          ],
          [
           0.6666666666666666,
           "#ed7953"
          ],
          [
           0.7777777777777778,
           "#fb9f3a"
          ],
          [
           0.8888888888888888,
           "#fdca26"
          ],
          [
           1,
           "#f0f921"
          ]
         ]
        },
        "legend": {
         "title": {
          "text": "Cluster"
         },
         "tracegroupgap": 0
        },
        "margin": {
         "b": 0,
         "l": 0,
         "r": 0,
         "t": 40
        },
        "scene": {
         "domain": {
          "x": [
           0,
           1
          ],
          "y": [
           0,
           1
          ]
         },
         "xaxis": {
          "title": {
           "text": "PCA1"
          }
         },
         "yaxis": {
          "title": {
           "text": "PCA2"
          }
         },
         "zaxis": {
          "title": {
           "text": "PCA3"
          }
         }
        },
        "template": {
         "data": {
          "bar": [
           {
            "error_x": {
             "color": "#2a3f5f"
            },
            "error_y": {
             "color": "#2a3f5f"
            },
            "marker": {
             "line": {
              "color": "#E5ECF6",
              "width": 0.5
             },
             "pattern": {
              "fillmode": "overlay",
              "size": 10,
              "solidity": 0.2
             }
            },
            "type": "bar"
           }
          ],
          "barpolar": [
           {
            "marker": {
             "line": {
              "color": "#E5ECF6",
              "width": 0.5
             },
             "pattern": {
              "fillmode": "overlay",
              "size": 10,
              "solidity": 0.2
             }
            },
            "type": "barpolar"
           }
          ],
          "carpet": [
           {
            "aaxis": {
             "endlinecolor": "#2a3f5f",
             "gridcolor": "white",
             "linecolor": "white",
             "minorgridcolor": "white",
             "startlinecolor": "#2a3f5f"
            },
            "baxis": {
             "endlinecolor": "#2a3f5f",
             "gridcolor": "white",
             "linecolor": "white",
             "minorgridcolor": "white",
             "startlinecolor": "#2a3f5f"
            },
            "type": "carpet"
           }
          ],
          "choropleth": [
           {
            "colorbar": {
             "outlinewidth": 0,
             "ticks": ""
            },
            "type": "choropleth"
           }
          ],
          "contour": [
           {
            "colorbar": {
             "outlinewidth": 0,
             "ticks": ""
            },
            "colorscale": [
             [
              0,
              "#0d0887"
             ],
             [
              0.1111111111111111,
              "#46039f"
             ],
             [
              0.2222222222222222,
              "#7201a8"
             ],
             [
              0.3333333333333333,
              "#9c179e"
             ],
             [
              0.4444444444444444,
              "#bd3786"
             ],
             [
              0.5555555555555556,
              "#d8576b"
             ],
             [
              0.6666666666666666,
              "#ed7953"
             ],
             [
              0.7777777777777778,
              "#fb9f3a"
             ],
             [
              0.8888888888888888,
              "#fdca26"
             ],
             [
              1,
              "#f0f921"
             ]
            ],
            "type": "contour"
           }
          ],
          "contourcarpet": [
           {
            "colorbar": {
             "outlinewidth": 0,
             "ticks": ""
            },
            "type": "contourcarpet"
           }
          ],
          "heatmap": [
           {
            "colorbar": {
             "outlinewidth": 0,
             "ticks": ""
            },
            "colorscale": [
             [
              0,
              "#0d0887"
             ],
             [
              0.1111111111111111,
              "#46039f"
             ],
             [
              0.2222222222222222,
              "#7201a8"
             ],
             [
              0.3333333333333333,
              "#9c179e"
             ],
             [
              0.4444444444444444,
              "#bd3786"
             ],
             [
              0.5555555555555556,
              "#d8576b"
             ],
             [
              0.6666666666666666,
              "#ed7953"
             ],
             [
              0.7777777777777778,
              "#fb9f3a"
             ],
             [
              0.8888888888888888,
              "#fdca26"
             ],
             [
              1,
              "#f0f921"
             ]
            ],
            "type": "heatmap"
           }
          ],
          "histogram": [
           {
            "marker": {
             "pattern": {
              "fillmode": "overlay",
              "size": 10,
              "solidity": 0.2
             }
            },
            "type": "histogram"
           }
          ],
          "histogram2d": [
           {
            "colorbar": {
             "outlinewidth": 0,
             "ticks": ""
            },
            "colorscale": [
             [
              0,
              "#0d0887"
             ],
             [
              0.1111111111111111,
              "#46039f"
             ],
             [
              0.2222222222222222,
              "#7201a8"
             ],
             [
              0.3333333333333333,
              "#9c179e"
             ],
             [
              0.4444444444444444,
              "#bd3786"
             ],
             [
              0.5555555555555556,
              "#d8576b"
             ],
             [
              0.6666666666666666,
              "#ed7953"
             ],
             [
              0.7777777777777778,
              "#fb9f3a"
             ],
             [
              0.8888888888888888,
              "#fdca26"
             ],
             [
              1,
              "#f0f921"
             ]
            ],
            "type": "histogram2d"
           }
          ],
          "histogram2dcontour": [
           {
            "colorbar": {
             "outlinewidth": 0,
             "ticks": ""
            },
            "colorscale": [
             [
              0,
              "#0d0887"
             ],
             [
              0.1111111111111111,
              "#46039f"
             ],
             [
              0.2222222222222222,
              "#7201a8"
             ],
             [
              0.3333333333333333,
              "#9c179e"
             ],
             [
              0.4444444444444444,
              "#bd3786"
             ],
             [
              0.5555555555555556,
              "#d8576b"
             ],
             [
              0.6666666666666666,
              "#ed7953"
             ],
             [
              0.7777777777777778,
              "#fb9f3a"
             ],
             [
              0.8888888888888888,
              "#fdca26"
             ],
             [
              1,
              "#f0f921"
             ]
            ],
            "type": "histogram2dcontour"
           }
          ],
          "mesh3d": [
           {
            "colorbar": {
             "outlinewidth": 0,
             "ticks": ""
            },
            "type": "mesh3d"
           }
          ],
          "parcoords": [
           {
            "line": {
             "colorbar": {
              "outlinewidth": 0,
              "ticks": ""
             }
            },
            "type": "parcoords"
           }
          ],
          "pie": [
           {
            "automargin": true,
            "type": "pie"
           }
          ],
          "scatter": [
           {
            "fillpattern": {
             "fillmode": "overlay",
             "size": 10,
             "solidity": 0.2
            },
            "type": "scatter"
           }
          ],
          "scatter3d": [
           {
            "line": {
             "colorbar": {
              "outlinewidth": 0,
              "ticks": ""
             }
            },
            "marker": {
             "colorbar": {
              "outlinewidth": 0,
              "ticks": ""
             }
            },
            "type": "scatter3d"
           }
          ],
          "scattercarpet": [
           {
            "marker": {
             "colorbar": {
              "outlinewidth": 0,
              "ticks": ""
             }
            },
            "type": "scattercarpet"
           }
          ],
          "scattergeo": [
           {
            "marker": {
             "colorbar": {
              "outlinewidth": 0,
              "ticks": ""
             }
            },
            "type": "scattergeo"
           }
          ],
          "scattergl": [
           {
            "marker": {
             "colorbar": {
              "outlinewidth": 0,
              "ticks": ""
             }
            },
            "type": "scattergl"
           }
          ],
          "scattermap": [
           {
            "marker": {
             "colorbar": {
              "outlinewidth": 0,
              "ticks": ""
             }
            },
            "type": "scattermap"
           }
          ],
          "scattermapbox": [
           {
            "marker": {
             "colorbar": {
              "outlinewidth": 0,
              "ticks": ""
             }
            },
            "type": "scattermapbox"
           }
          ],
          "scatterpolar": [
           {
            "marker": {
             "colorbar": {
              "outlinewidth": 0,
              "ticks": ""
             }
            },
            "type": "scatterpolar"
           }
          ],
          "scatterpolargl": [
           {
            "marker": {
             "colorbar": {
              "outlinewidth": 0,
              "ticks": ""
             }
            },
            "type": "scatterpolargl"
           }
          ],
          "scatterternary": [
           {
            "marker": {
             "colorbar": {
              "outlinewidth": 0,
              "ticks": ""
             }
            },
            "type": "scatterternary"
           }
          ],
          "surface": [
           {
            "colorbar": {
             "outlinewidth": 0,
             "ticks": ""
            },
            "colorscale": [
             [
              0,
              "#0d0887"
             ],
             [
              0.1111111111111111,
              "#46039f"
             ],
             [
              0.2222222222222222,
              "#7201a8"
             ],
             [
              0.3333333333333333,
              "#9c179e"
             ],
             [
              0.4444444444444444,
              "#bd3786"
             ],
             [
              0.5555555555555556,
              "#d8576b"
             ],
             [
              0.6666666666666666,
              "#ed7953"
             ],
             [
              0.7777777777777778,
              "#fb9f3a"
             ],
             [
              0.8888888888888888,
              "#fdca26"
             ],
             [
              1,
              "#f0f921"
             ]
            ],
            "type": "surface"
           }
          ],
          "table": [
           {
            "cells": {
             "fill": {
              "color": "#EBF0F8"
             },
             "line": {
              "color": "white"
             }
            },
            "header": {
             "fill": {
              "color": "#C8D4E3"
             },
             "line": {
              "color": "white"
             }
            },
            "type": "table"
           }
          ]
         },
         "layout": {
          "annotationdefaults": {
           "arrowcolor": "#2a3f5f",
           "arrowhead": 0,
           "arrowwidth": 1
          },
          "autotypenumbers": "strict",
          "coloraxis": {
           "colorbar": {
            "outlinewidth": 0,
            "ticks": ""
           }
          },
          "colorscale": {
           "diverging": [
            [
             0,
             "#8e0152"
            ],
            [
             0.1,
             "#c51b7d"
            ],
            [
             0.2,
             "#de77ae"
            ],
            [
             0.3,
             "#f1b6da"
            ],
            [
             0.4,
             "#fde0ef"
            ],
            [
             0.5,
             "#f7f7f7"
            ],
            [
             0.6,
             "#e6f5d0"
            ],
            [
             0.7,
             "#b8e186"
            ],
            [
             0.8,
             "#7fbc41"
            ],
            [
             0.9,
             "#4d9221"
            ],
            [
             1,
             "#276419"
            ]
           ],
           "sequential": [
            [
             0,
             "#0d0887"
            ],
            [
             0.1111111111111111,
             "#46039f"
            ],
            [
             0.2222222222222222,
             "#7201a8"
            ],
            [
             0.3333333333333333,
             "#9c179e"
            ],
            [
             0.4444444444444444,
             "#bd3786"
            ],
            [
             0.5555555555555556,
             "#d8576b"
            ],
            [
             0.6666666666666666,
             "#ed7953"
            ],
            [
             0.7777777777777778,
             "#fb9f3a"
            ],
            [
             0.8888888888888888,
             "#fdca26"
            ],
            [
             1,
             "#f0f921"
            ]
           ],
           "sequentialminus": [
            [
             0,
             "#0d0887"
            ],
            [
             0.1111111111111111,
             "#46039f"
            ],
            [
             0.2222222222222222,
             "#7201a8"
            ],
            [
             0.3333333333333333,
             "#9c179e"
            ],
            [
             0.4444444444444444,
             "#bd3786"
            ],
            [
             0.5555555555555556,
             "#d8576b"
            ],
            [
             0.6666666666666666,
             "#ed7953"
            ],
            [
             0.7777777777777778,
             "#fb9f3a"
            ],
            [
             0.8888888888888888,
             "#fdca26"
            ],
            [
             1,
             "#f0f921"
            ]
           ]
          },
          "colorway": [
           "#636efa",
           "#EF553B",
           "#00cc96",
           "#ab63fa",
           "#FFA15A",
           "#19d3f3",
           "#FF6692",
           "#B6E880",
           "#FF97FF",
           "#FECB52"
          ],
          "font": {
           "color": "#2a3f5f"
          },
          "geo": {
           "bgcolor": "white",
           "lakecolor": "white",
           "landcolor": "#E5ECF6",
           "showlakes": true,
           "showland": true,
           "subunitcolor": "white"
          },
          "hoverlabel": {
           "align": "left"
          },
          "hovermode": "closest",
          "mapbox": {
           "style": "light"
          },
          "paper_bgcolor": "white",
          "plot_bgcolor": "#E5ECF6",
          "polar": {
           "angularaxis": {
            "gridcolor": "white",
            "linecolor": "white",
            "ticks": ""
           },
           "bgcolor": "#E5ECF6",
           "radialaxis": {
            "gridcolor": "white",
            "linecolor": "white",
            "ticks": ""
           }
          },
          "scene": {
           "xaxis": {
            "backgroundcolor": "#E5ECF6",
            "gridcolor": "white",
            "gridwidth": 2,
            "linecolor": "white",
            "showbackground": true,
            "ticks": "",
            "zerolinecolor": "white"
           },
           "yaxis": {
            "backgroundcolor": "#E5ECF6",
            "gridcolor": "white",
            "gridwidth": 2,
            "linecolor": "white",
            "showbackground": true,
            "ticks": "",
            "zerolinecolor": "white"
           },
           "zaxis": {
            "backgroundcolor": "#E5ECF6",
            "gridcolor": "white",
            "gridwidth": 2,
            "linecolor": "white",
            "showbackground": true,
            "ticks": "",
            "zerolinecolor": "white"
           }
          },
          "shapedefaults": {
           "line": {
            "color": "#2a3f5f"
           }
          },
          "ternary": {
           "aaxis": {
            "gridcolor": "white",
            "linecolor": "white",
            "ticks": ""
           },
           "baxis": {
            "gridcolor": "white",
            "linecolor": "white",
            "ticks": ""
           },
           "bgcolor": "#E5ECF6",
           "caxis": {
            "gridcolor": "white",
            "linecolor": "white",
            "ticks": ""
           }
          },
          "title": {
           "x": 0.05
          },
          "xaxis": {
           "automargin": true,
           "gridcolor": "white",
           "linecolor": "white",
           "ticks": "",
           "title": {
            "standoff": 15
           },
           "zerolinecolor": "white",
           "zerolinewidth": 2
          },
          "yaxis": {
           "automargin": true,
           "gridcolor": "white",
           "linecolor": "white",
           "ticks": "",
           "title": {
            "standoff": 15
           },
           "zerolinecolor": "white",
           "zerolinewidth": 2
          }
         }
        },
        "title": {
         "text": "Cluster utenti con K-Means (PCA 3D)"
        }
       }
      }
     },
     "metadata": {},
     "output_type": "display_data"
    }
   ],
   "source": [
    "import plotly.express as px\n",
    "\n",
    "\n",
    "fig = px.scatter_3d(\n",
    "    user,\n",
    "    x='PCA1',\n",
    "    y='PCA2',\n",
    "    z='PCA3',\n",
    "    color='cluster',\n",
    "    title='Cluster utenti con K-Means (PCA 3D)',\n",
    "    labels={'PCA1': 'PCA1', 'PCA2': 'PCA2', 'PCA3': 'PCA3'}\n",
    ")\n",
    "\n",
    "fig.update_layout(\n",
    "    margin=dict(l=0, r=0, b=0, t=40),\n",
    "    legend_title_text='Cluster'\n",
    ")\n",
    "\n",
    "fig.show()\n"
   ]
  }
 ],
 "metadata": {
  "kernelspec": {
   "display_name": "FDSML",
   "language": "python",
   "name": "python3"
  },
  "language_info": {
   "codemirror_mode": {
    "name": "ipython",
    "version": 3
   },
   "file_extension": ".py",
   "mimetype": "text/x-python",
   "name": "python",
   "nbconvert_exporter": "python",
   "pygments_lexer": "ipython3",
   "version": "3.10.18"
  }
 },
 "nbformat": 4,
 "nbformat_minor": 5
}
