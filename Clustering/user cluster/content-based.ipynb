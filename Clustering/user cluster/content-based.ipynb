{
 "cells": [
  {
   "cell_type": "code",
   "execution_count": 1,
   "id": "e87a43cf",
   "metadata": {},
   "outputs": [],
   "source": [
    "import pandas as pd\n",
    "from sklearn.preprocessing import StandardScaler\n",
    "from sklearn.cluster import KMeans\n",
    "from sklearn.metrics import silhouette_score\n",
    "from sklearn.decomposition import PCA\n",
    "import matplotlib.pyplot as plt\n",
    "import seaborn as sns\n",
    "from scipy.cluster.hierarchy import linkage, dendrogram\n",
    "from sklearn.preprocessing import LabelEncoder, OneHotEncoder\n",
    "from category_encoders import BinaryEncoder, TargetEncoder\n",
    "from sklearn.feature_extraction import FeatureHasher\n",
    "from kmodes.kprototypes import KPrototypes\n"
   ]
  },
  {
   "cell_type": "code",
   "execution_count": 2,
   "id": "3209fed1",
   "metadata": {},
   "outputs": [],
   "source": [
    "ratings = pd.read_csv('../../datasets/ml-100k/u.user', \n",
    "                      sep='\\t', \n",
    "                      names=['user_id', 'item_id', 'rating', 'timestamp'])\n",
    "ratings = ratings.drop(columns='timestamp')\n",
    "\n",
    "user_item_dense = ratings.pivot(\n",
    "    index='user_id',\n",
    "    columns='item_id',\n",
    "    values='rating'\n",
    ").fillna(0)"
   ]
  },
  {
   "cell_type": "code",
   "execution_count": 3,
   "id": "4a7299c0",
   "metadata": {},
   "outputs": [
    {
     "ename": "FileNotFoundError",
     "evalue": "[Errno 2] No such file or directory: '../datasets/ml-100k/u.user'",
     "output_type": "error",
     "traceback": [
      "\u001b[0;31m---------------------------------------------------------------------------\u001b[0m",
      "\u001b[0;31mFileNotFoundError\u001b[0m                         Traceback (most recent call last)",
      "Cell \u001b[0;32mIn[3], line 1\u001b[0m\n\u001b[0;32m----> 1\u001b[0m user \u001b[38;5;241m=\u001b[39m \u001b[43mpd\u001b[49m\u001b[38;5;241;43m.\u001b[39;49m\u001b[43mread_csv\u001b[49m\u001b[43m(\u001b[49m\u001b[38;5;124;43m'\u001b[39;49m\u001b[38;5;124;43m../datasets/ml-100k/u.user\u001b[39;49m\u001b[38;5;124;43m'\u001b[39;49m\u001b[43m,\u001b[49m\u001b[43m \u001b[49m\n\u001b[1;32m      2\u001b[0m \u001b[43m                      \u001b[49m\u001b[43msep\u001b[49m\u001b[38;5;241;43m=\u001b[39;49m\u001b[38;5;124;43m'\u001b[39;49m\u001b[38;5;124;43m|\u001b[39;49m\u001b[38;5;124;43m'\u001b[39;49m\u001b[43m,\u001b[49m\u001b[43m \u001b[49m\n\u001b[1;32m      3\u001b[0m \u001b[43m                      \u001b[49m\u001b[43mnames\u001b[49m\u001b[38;5;241;43m=\u001b[39;49m\u001b[43m[\u001b[49m\u001b[38;5;124;43m'\u001b[39;49m\u001b[38;5;124;43muser_id\u001b[39;49m\u001b[38;5;124;43m'\u001b[39;49m\u001b[43m,\u001b[49m\u001b[43m \u001b[49m\u001b[38;5;124;43m'\u001b[39;49m\u001b[38;5;124;43mage\u001b[39;49m\u001b[38;5;124;43m'\u001b[39;49m\u001b[43m,\u001b[49m\u001b[43m \u001b[49m\u001b[38;5;124;43m'\u001b[39;49m\u001b[38;5;124;43mgender\u001b[39;49m\u001b[38;5;124;43m'\u001b[39;49m\u001b[43m,\u001b[49m\u001b[43m \u001b[49m\u001b[38;5;124;43m'\u001b[39;49m\u001b[38;5;124;43moccupation\u001b[39;49m\u001b[38;5;124;43m'\u001b[39;49m\u001b[43m,\u001b[49m\u001b[43m \u001b[49m\u001b[38;5;124;43m'\u001b[39;49m\u001b[38;5;124;43mzip_code\u001b[39;49m\u001b[38;5;124;43m'\u001b[39;49m\u001b[43m]\u001b[49m\u001b[43m)\u001b[49m\n\u001b[1;32m      5\u001b[0m merged \u001b[38;5;241m=\u001b[39m user\u001b[38;5;241m.\u001b[39mmerge(user_item_dense, on\u001b[38;5;241m=\u001b[39m\u001b[38;5;124m'\u001b[39m\u001b[38;5;124muser_id\u001b[39m\u001b[38;5;124m'\u001b[39m)\n\u001b[1;32m      7\u001b[0m user\n",
      "File \u001b[0;32m/opt/anaconda3/envs/FDSML/lib/python3.10/site-packages/pandas/io/parsers/readers.py:1026\u001b[0m, in \u001b[0;36mread_csv\u001b[0;34m(filepath_or_buffer, sep, delimiter, header, names, index_col, usecols, dtype, engine, converters, true_values, false_values, skipinitialspace, skiprows, skipfooter, nrows, na_values, keep_default_na, na_filter, verbose, skip_blank_lines, parse_dates, infer_datetime_format, keep_date_col, date_parser, date_format, dayfirst, cache_dates, iterator, chunksize, compression, thousands, decimal, lineterminator, quotechar, quoting, doublequote, escapechar, comment, encoding, encoding_errors, dialect, on_bad_lines, delim_whitespace, low_memory, memory_map, float_precision, storage_options, dtype_backend)\u001b[0m\n\u001b[1;32m   1013\u001b[0m kwds_defaults \u001b[38;5;241m=\u001b[39m _refine_defaults_read(\n\u001b[1;32m   1014\u001b[0m     dialect,\n\u001b[1;32m   1015\u001b[0m     delimiter,\n\u001b[0;32m   (...)\u001b[0m\n\u001b[1;32m   1022\u001b[0m     dtype_backend\u001b[38;5;241m=\u001b[39mdtype_backend,\n\u001b[1;32m   1023\u001b[0m )\n\u001b[1;32m   1024\u001b[0m kwds\u001b[38;5;241m.\u001b[39mupdate(kwds_defaults)\n\u001b[0;32m-> 1026\u001b[0m \u001b[38;5;28;01mreturn\u001b[39;00m \u001b[43m_read\u001b[49m\u001b[43m(\u001b[49m\u001b[43mfilepath_or_buffer\u001b[49m\u001b[43m,\u001b[49m\u001b[43m \u001b[49m\u001b[43mkwds\u001b[49m\u001b[43m)\u001b[49m\n",
      "File \u001b[0;32m/opt/anaconda3/envs/FDSML/lib/python3.10/site-packages/pandas/io/parsers/readers.py:620\u001b[0m, in \u001b[0;36m_read\u001b[0;34m(filepath_or_buffer, kwds)\u001b[0m\n\u001b[1;32m    617\u001b[0m _validate_names(kwds\u001b[38;5;241m.\u001b[39mget(\u001b[38;5;124m\"\u001b[39m\u001b[38;5;124mnames\u001b[39m\u001b[38;5;124m\"\u001b[39m, \u001b[38;5;28;01mNone\u001b[39;00m))\n\u001b[1;32m    619\u001b[0m \u001b[38;5;66;03m# Create the parser.\u001b[39;00m\n\u001b[0;32m--> 620\u001b[0m parser \u001b[38;5;241m=\u001b[39m \u001b[43mTextFileReader\u001b[49m\u001b[43m(\u001b[49m\u001b[43mfilepath_or_buffer\u001b[49m\u001b[43m,\u001b[49m\u001b[43m \u001b[49m\u001b[38;5;241;43m*\u001b[39;49m\u001b[38;5;241;43m*\u001b[39;49m\u001b[43mkwds\u001b[49m\u001b[43m)\u001b[49m\n\u001b[1;32m    622\u001b[0m \u001b[38;5;28;01mif\u001b[39;00m chunksize \u001b[38;5;129;01mor\u001b[39;00m iterator:\n\u001b[1;32m    623\u001b[0m     \u001b[38;5;28;01mreturn\u001b[39;00m parser\n",
      "File \u001b[0;32m/opt/anaconda3/envs/FDSML/lib/python3.10/site-packages/pandas/io/parsers/readers.py:1620\u001b[0m, in \u001b[0;36mTextFileReader.__init__\u001b[0;34m(self, f, engine, **kwds)\u001b[0m\n\u001b[1;32m   1617\u001b[0m     \u001b[38;5;28mself\u001b[39m\u001b[38;5;241m.\u001b[39moptions[\u001b[38;5;124m\"\u001b[39m\u001b[38;5;124mhas_index_names\u001b[39m\u001b[38;5;124m\"\u001b[39m] \u001b[38;5;241m=\u001b[39m kwds[\u001b[38;5;124m\"\u001b[39m\u001b[38;5;124mhas_index_names\u001b[39m\u001b[38;5;124m\"\u001b[39m]\n\u001b[1;32m   1619\u001b[0m \u001b[38;5;28mself\u001b[39m\u001b[38;5;241m.\u001b[39mhandles: IOHandles \u001b[38;5;241m|\u001b[39m \u001b[38;5;28;01mNone\u001b[39;00m \u001b[38;5;241m=\u001b[39m \u001b[38;5;28;01mNone\u001b[39;00m\n\u001b[0;32m-> 1620\u001b[0m \u001b[38;5;28mself\u001b[39m\u001b[38;5;241m.\u001b[39m_engine \u001b[38;5;241m=\u001b[39m \u001b[38;5;28;43mself\u001b[39;49m\u001b[38;5;241;43m.\u001b[39;49m\u001b[43m_make_engine\u001b[49m\u001b[43m(\u001b[49m\u001b[43mf\u001b[49m\u001b[43m,\u001b[49m\u001b[43m \u001b[49m\u001b[38;5;28;43mself\u001b[39;49m\u001b[38;5;241;43m.\u001b[39;49m\u001b[43mengine\u001b[49m\u001b[43m)\u001b[49m\n",
      "File \u001b[0;32m/opt/anaconda3/envs/FDSML/lib/python3.10/site-packages/pandas/io/parsers/readers.py:1880\u001b[0m, in \u001b[0;36mTextFileReader._make_engine\u001b[0;34m(self, f, engine)\u001b[0m\n\u001b[1;32m   1878\u001b[0m     \u001b[38;5;28;01mif\u001b[39;00m \u001b[38;5;124m\"\u001b[39m\u001b[38;5;124mb\u001b[39m\u001b[38;5;124m\"\u001b[39m \u001b[38;5;129;01mnot\u001b[39;00m \u001b[38;5;129;01min\u001b[39;00m mode:\n\u001b[1;32m   1879\u001b[0m         mode \u001b[38;5;241m+\u001b[39m\u001b[38;5;241m=\u001b[39m \u001b[38;5;124m\"\u001b[39m\u001b[38;5;124mb\u001b[39m\u001b[38;5;124m\"\u001b[39m\n\u001b[0;32m-> 1880\u001b[0m \u001b[38;5;28mself\u001b[39m\u001b[38;5;241m.\u001b[39mhandles \u001b[38;5;241m=\u001b[39m \u001b[43mget_handle\u001b[49m\u001b[43m(\u001b[49m\n\u001b[1;32m   1881\u001b[0m \u001b[43m    \u001b[49m\u001b[43mf\u001b[49m\u001b[43m,\u001b[49m\n\u001b[1;32m   1882\u001b[0m \u001b[43m    \u001b[49m\u001b[43mmode\u001b[49m\u001b[43m,\u001b[49m\n\u001b[1;32m   1883\u001b[0m \u001b[43m    \u001b[49m\u001b[43mencoding\u001b[49m\u001b[38;5;241;43m=\u001b[39;49m\u001b[38;5;28;43mself\u001b[39;49m\u001b[38;5;241;43m.\u001b[39;49m\u001b[43moptions\u001b[49m\u001b[38;5;241;43m.\u001b[39;49m\u001b[43mget\u001b[49m\u001b[43m(\u001b[49m\u001b[38;5;124;43m\"\u001b[39;49m\u001b[38;5;124;43mencoding\u001b[39;49m\u001b[38;5;124;43m\"\u001b[39;49m\u001b[43m,\u001b[49m\u001b[43m \u001b[49m\u001b[38;5;28;43;01mNone\u001b[39;49;00m\u001b[43m)\u001b[49m\u001b[43m,\u001b[49m\n\u001b[1;32m   1884\u001b[0m \u001b[43m    \u001b[49m\u001b[43mcompression\u001b[49m\u001b[38;5;241;43m=\u001b[39;49m\u001b[38;5;28;43mself\u001b[39;49m\u001b[38;5;241;43m.\u001b[39;49m\u001b[43moptions\u001b[49m\u001b[38;5;241;43m.\u001b[39;49m\u001b[43mget\u001b[49m\u001b[43m(\u001b[49m\u001b[38;5;124;43m\"\u001b[39;49m\u001b[38;5;124;43mcompression\u001b[39;49m\u001b[38;5;124;43m\"\u001b[39;49m\u001b[43m,\u001b[49m\u001b[43m \u001b[49m\u001b[38;5;28;43;01mNone\u001b[39;49;00m\u001b[43m)\u001b[49m\u001b[43m,\u001b[49m\n\u001b[1;32m   1885\u001b[0m \u001b[43m    \u001b[49m\u001b[43mmemory_map\u001b[49m\u001b[38;5;241;43m=\u001b[39;49m\u001b[38;5;28;43mself\u001b[39;49m\u001b[38;5;241;43m.\u001b[39;49m\u001b[43moptions\u001b[49m\u001b[38;5;241;43m.\u001b[39;49m\u001b[43mget\u001b[49m\u001b[43m(\u001b[49m\u001b[38;5;124;43m\"\u001b[39;49m\u001b[38;5;124;43mmemory_map\u001b[39;49m\u001b[38;5;124;43m\"\u001b[39;49m\u001b[43m,\u001b[49m\u001b[43m \u001b[49m\u001b[38;5;28;43;01mFalse\u001b[39;49;00m\u001b[43m)\u001b[49m\u001b[43m,\u001b[49m\n\u001b[1;32m   1886\u001b[0m \u001b[43m    \u001b[49m\u001b[43mis_text\u001b[49m\u001b[38;5;241;43m=\u001b[39;49m\u001b[43mis_text\u001b[49m\u001b[43m,\u001b[49m\n\u001b[1;32m   1887\u001b[0m \u001b[43m    \u001b[49m\u001b[43merrors\u001b[49m\u001b[38;5;241;43m=\u001b[39;49m\u001b[38;5;28;43mself\u001b[39;49m\u001b[38;5;241;43m.\u001b[39;49m\u001b[43moptions\u001b[49m\u001b[38;5;241;43m.\u001b[39;49m\u001b[43mget\u001b[49m\u001b[43m(\u001b[49m\u001b[38;5;124;43m\"\u001b[39;49m\u001b[38;5;124;43mencoding_errors\u001b[39;49m\u001b[38;5;124;43m\"\u001b[39;49m\u001b[43m,\u001b[49m\u001b[43m \u001b[49m\u001b[38;5;124;43m\"\u001b[39;49m\u001b[38;5;124;43mstrict\u001b[39;49m\u001b[38;5;124;43m\"\u001b[39;49m\u001b[43m)\u001b[49m\u001b[43m,\u001b[49m\n\u001b[1;32m   1888\u001b[0m \u001b[43m    \u001b[49m\u001b[43mstorage_options\u001b[49m\u001b[38;5;241;43m=\u001b[39;49m\u001b[38;5;28;43mself\u001b[39;49m\u001b[38;5;241;43m.\u001b[39;49m\u001b[43moptions\u001b[49m\u001b[38;5;241;43m.\u001b[39;49m\u001b[43mget\u001b[49m\u001b[43m(\u001b[49m\u001b[38;5;124;43m\"\u001b[39;49m\u001b[38;5;124;43mstorage_options\u001b[39;49m\u001b[38;5;124;43m\"\u001b[39;49m\u001b[43m,\u001b[49m\u001b[43m \u001b[49m\u001b[38;5;28;43;01mNone\u001b[39;49;00m\u001b[43m)\u001b[49m\u001b[43m,\u001b[49m\n\u001b[1;32m   1889\u001b[0m \u001b[43m\u001b[49m\u001b[43m)\u001b[49m\n\u001b[1;32m   1890\u001b[0m \u001b[38;5;28;01massert\u001b[39;00m \u001b[38;5;28mself\u001b[39m\u001b[38;5;241m.\u001b[39mhandles \u001b[38;5;129;01mis\u001b[39;00m \u001b[38;5;129;01mnot\u001b[39;00m \u001b[38;5;28;01mNone\u001b[39;00m\n\u001b[1;32m   1891\u001b[0m f \u001b[38;5;241m=\u001b[39m \u001b[38;5;28mself\u001b[39m\u001b[38;5;241m.\u001b[39mhandles\u001b[38;5;241m.\u001b[39mhandle\n",
      "File \u001b[0;32m/opt/anaconda3/envs/FDSML/lib/python3.10/site-packages/pandas/io/common.py:873\u001b[0m, in \u001b[0;36mget_handle\u001b[0;34m(path_or_buf, mode, encoding, compression, memory_map, is_text, errors, storage_options)\u001b[0m\n\u001b[1;32m    868\u001b[0m \u001b[38;5;28;01melif\u001b[39;00m \u001b[38;5;28misinstance\u001b[39m(handle, \u001b[38;5;28mstr\u001b[39m):\n\u001b[1;32m    869\u001b[0m     \u001b[38;5;66;03m# Check whether the filename is to be opened in binary mode.\u001b[39;00m\n\u001b[1;32m    870\u001b[0m     \u001b[38;5;66;03m# Binary mode does not support 'encoding' and 'newline'.\u001b[39;00m\n\u001b[1;32m    871\u001b[0m     \u001b[38;5;28;01mif\u001b[39;00m ioargs\u001b[38;5;241m.\u001b[39mencoding \u001b[38;5;129;01mand\u001b[39;00m \u001b[38;5;124m\"\u001b[39m\u001b[38;5;124mb\u001b[39m\u001b[38;5;124m\"\u001b[39m \u001b[38;5;129;01mnot\u001b[39;00m \u001b[38;5;129;01min\u001b[39;00m ioargs\u001b[38;5;241m.\u001b[39mmode:\n\u001b[1;32m    872\u001b[0m         \u001b[38;5;66;03m# Encoding\u001b[39;00m\n\u001b[0;32m--> 873\u001b[0m         handle \u001b[38;5;241m=\u001b[39m \u001b[38;5;28;43mopen\u001b[39;49m\u001b[43m(\u001b[49m\n\u001b[1;32m    874\u001b[0m \u001b[43m            \u001b[49m\u001b[43mhandle\u001b[49m\u001b[43m,\u001b[49m\n\u001b[1;32m    875\u001b[0m \u001b[43m            \u001b[49m\u001b[43mioargs\u001b[49m\u001b[38;5;241;43m.\u001b[39;49m\u001b[43mmode\u001b[49m\u001b[43m,\u001b[49m\n\u001b[1;32m    876\u001b[0m \u001b[43m            \u001b[49m\u001b[43mencoding\u001b[49m\u001b[38;5;241;43m=\u001b[39;49m\u001b[43mioargs\u001b[49m\u001b[38;5;241;43m.\u001b[39;49m\u001b[43mencoding\u001b[49m\u001b[43m,\u001b[49m\n\u001b[1;32m    877\u001b[0m \u001b[43m            \u001b[49m\u001b[43merrors\u001b[49m\u001b[38;5;241;43m=\u001b[39;49m\u001b[43merrors\u001b[49m\u001b[43m,\u001b[49m\n\u001b[1;32m    878\u001b[0m \u001b[43m            \u001b[49m\u001b[43mnewline\u001b[49m\u001b[38;5;241;43m=\u001b[39;49m\u001b[38;5;124;43m\"\u001b[39;49m\u001b[38;5;124;43m\"\u001b[39;49m\u001b[43m,\u001b[49m\n\u001b[1;32m    879\u001b[0m \u001b[43m        \u001b[49m\u001b[43m)\u001b[49m\n\u001b[1;32m    880\u001b[0m     \u001b[38;5;28;01melse\u001b[39;00m:\n\u001b[1;32m    881\u001b[0m         \u001b[38;5;66;03m# Binary mode\u001b[39;00m\n\u001b[1;32m    882\u001b[0m         handle \u001b[38;5;241m=\u001b[39m \u001b[38;5;28mopen\u001b[39m(handle, ioargs\u001b[38;5;241m.\u001b[39mmode)\n",
      "\u001b[0;31mFileNotFoundError\u001b[0m: [Errno 2] No such file or directory: '../datasets/ml-100k/u.user'"
     ]
    }
   ],
   "source": [
    "user = pd.read_csv('../datasets/ml-100k/u.user', \n",
    "                      sep='|', \n",
    "                      names=['user_id', 'age', 'gender', 'occupation', 'zip_code'])\n",
    "\n",
    "merged = user.merge(user_item_dense, on='user_id')\n",
    "\n",
    "user"
   ]
  },
  {
   "cell_type": "code",
   "execution_count": null,
   "id": "0bac1f7a",
   "metadata": {},
   "outputs": [],
   "source": [
    "# 2. One-Hot Encoding sulle colonne categoriche (gender, occupation, zip_code)\n",
    "user_encoded = pd.get_dummies(user, columns=['gender', 'occupation', 'zip_code'])\n"
   ]
  },
  {
   "cell_type": "code",
   "execution_count": null,
   "id": "af1cc95d",
   "metadata": {},
   "outputs": [],
   "source": [
    "#LABEL ENCODER\n",
    "\n",
    "le_gender = LabelEncoder()\n",
    "le_occ = LabelEncoder()\n",
    "le_zip = LabelEncoder()\n",
    "user['gender_le'] = le_gender.fit_transform(user['gender'])\n",
    "user['occupation_le'] = le_occ.fit_transform(user['occupation'])\n",
    "user['zip_le'] = le_zip.fit_transform(user['zip_code'])\n",
    "df_le = user[['age','gender_le','occupation_le', 'zip_le']]\n",
    "#df_le"
   ]
  },
  {
   "cell_type": "code",
   "execution_count": null,
   "id": "3b33c7bd",
   "metadata": {},
   "outputs": [],
   "source": [
    "#BINARY ENCODER\n",
    "be = BinaryEncoder(cols=['gender','occupation','zip_code'], return_df=True)\n",
    "df_be = be.fit_transform(user[['age', 'gender','occupation','zip_code']])\n",
    "#df_be"
   ]
  },
  {
   "cell_type": "code",
   "execution_count": null,
   "id": "f2071e90",
   "metadata": {},
   "outputs": [],
   "source": [
    "#HASHER \n",
    "user_dicts = user[['gender', 'occupation', 'zip_code']].astype(str).to_dict(orient='records')\n",
    "\n",
    "# 2. Hasher con input_type='dict'\n",
    "hasher = FeatureHasher(n_features=10, input_type='dict')\n",
    "hashed = hasher.transform(user_dicts)\n",
    "\n",
    "# 3. Converti in DataFrame\n",
    "df_hash = pd.DataFrame(hashed.toarray(), columns=[f\"hash_{i}\" for i in range(10)])\n"
   ]
  },
  {
   "cell_type": "code",
   "execution_count": null,
   "id": "c3125869",
   "metadata": {},
   "outputs": [
    {
     "data": {
      "text/html": [
       "<div>\n",
       "<style scoped>\n",
       "    .dataframe tbody tr th:only-of-type {\n",
       "        vertical-align: middle;\n",
       "    }\n",
       "\n",
       "    .dataframe tbody tr th {\n",
       "        vertical-align: top;\n",
       "    }\n",
       "\n",
       "    .dataframe thead th {\n",
       "        text-align: right;\n",
       "    }\n",
       "</style>\n",
       "<table border=\"1\" class=\"dataframe\">\n",
       "  <thead>\n",
       "    <tr style=\"text-align: right;\">\n",
       "      <th></th>\n",
       "      <th>gender</th>\n",
       "      <th>occupation</th>\n",
       "      <th>zip_code</th>\n",
       "      <th>age</th>\n",
       "    </tr>\n",
       "  </thead>\n",
       "  <tbody>\n",
       "    <tr>\n",
       "      <th>0</th>\n",
       "      <td>34.149254</td>\n",
       "      <td>33.448045</td>\n",
       "      <td>33.689963</td>\n",
       "      <td>24</td>\n",
       "    </tr>\n",
       "    <tr>\n",
       "      <th>1</th>\n",
       "      <td>33.813187</td>\n",
       "      <td>34.523714</td>\n",
       "      <td>34.867750</td>\n",
       "      <td>53</td>\n",
       "    </tr>\n",
       "    <tr>\n",
       "      <th>2</th>\n",
       "      <td>34.149254</td>\n",
       "      <td>36.139736</td>\n",
       "      <td>32.614008</td>\n",
       "      <td>23</td>\n",
       "    </tr>\n",
       "    <tr>\n",
       "      <th>3</th>\n",
       "      <td>34.149254</td>\n",
       "      <td>33.448045</td>\n",
       "      <td>32.744116</td>\n",
       "      <td>24</td>\n",
       "    </tr>\n",
       "    <tr>\n",
       "      <th>4</th>\n",
       "      <td>33.813187</td>\n",
       "      <td>34.523714</td>\n",
       "      <td>33.915093</td>\n",
       "      <td>33</td>\n",
       "    </tr>\n",
       "    <tr>\n",
       "      <th>...</th>\n",
       "      <td>...</td>\n",
       "      <td>...</td>\n",
       "      <td>...</td>\n",
       "      <td>...</td>\n",
       "    </tr>\n",
       "    <tr>\n",
       "      <th>938</th>\n",
       "      <td>33.813187</td>\n",
       "      <td>22.081633</td>\n",
       "      <td>33.004333</td>\n",
       "      <td>26</td>\n",
       "    </tr>\n",
       "    <tr>\n",
       "      <th>939</th>\n",
       "      <td>34.149254</td>\n",
       "      <td>38.734009</td>\n",
       "      <td>32.602260</td>\n",
       "      <td>32</td>\n",
       "    </tr>\n",
       "    <tr>\n",
       "      <th>940</th>\n",
       "      <td>34.149254</td>\n",
       "      <td>22.081633</td>\n",
       "      <td>32.223683</td>\n",
       "      <td>20</td>\n",
       "    </tr>\n",
       "    <tr>\n",
       "      <th>941</th>\n",
       "      <td>33.813187</td>\n",
       "      <td>39.743596</td>\n",
       "      <td>35.866720</td>\n",
       "      <td>48</td>\n",
       "    </tr>\n",
       "    <tr>\n",
       "      <th>942</th>\n",
       "      <td>34.149254</td>\n",
       "      <td>22.081633</td>\n",
       "      <td>32.483899</td>\n",
       "      <td>22</td>\n",
       "    </tr>\n",
       "  </tbody>\n",
       "</table>\n",
       "<p>943 rows × 4 columns</p>\n",
       "</div>"
      ],
      "text/plain": [
       "        gender  occupation   zip_code  age\n",
       "0    34.149254   33.448045  33.689963   24\n",
       "1    33.813187   34.523714  34.867750   53\n",
       "2    34.149254   36.139736  32.614008   23\n",
       "3    34.149254   33.448045  32.744116   24\n",
       "4    33.813187   34.523714  33.915093   33\n",
       "..         ...         ...        ...  ...\n",
       "938  33.813187   22.081633  33.004333   26\n",
       "939  34.149254   38.734009  32.602260   32\n",
       "940  34.149254   22.081633  32.223683   20\n",
       "941  33.813187   39.743596  35.866720   48\n",
       "942  34.149254   22.081633  32.483899   22\n",
       "\n",
       "[943 rows x 4 columns]"
      ]
     },
     "execution_count": 100,
     "metadata": {},
     "output_type": "execute_result"
    }
   ],
   "source": [
    "#TARGET ENCODER\n",
    "\n",
    "te = TargetEncoder(cols=['gender', 'occupation', 'zip_code'])\n",
    "df_te = te.fit_transform(user[['gender', 'occupation', 'zip_code']], user['age'])\n",
    "df_te['age'] = user['age']\n",
    "df_te"
   ]
  },
  {
   "cell_type": "code",
   "execution_count": null,
   "id": "7ec421ca",
   "metadata": {},
   "outputs": [],
   "source": [
    "# 4. Standardizzazione dei dati\n",
    "scaler = StandardScaler()\n",
    "data_scaled = scaler.fit_transform(df_hash)"
   ]
  },
  {
   "cell_type": "code",
   "execution_count": null,
   "id": "7582f2ba",
   "metadata": {},
   "outputs": [
    {
     "name": "stdout",
     "output_type": "stream",
     "text": [
      "Numero ottimale di cluster trovato: 10 | \n"
     ]
    }
   ],
   "source": [
    "\n",
    "# 5. Trova il numero ottimale di cluster usando il silhouette score\n",
    "silhouette_scores = []\n",
    "K_range = range(2,11)\n",
    "for k in K_range:\n",
    "    kmeans = KMeans(n_clusters=k, random_state=42)\n",
    "    labels = kmeans.fit_predict(data_scaled)\n",
    "    score = silhouette_score(data_scaled, labels)\n",
    "    silhouette_scores.append(score)\n",
    "\n",
    "optimal_k = K_range[silhouette_scores.index(max(silhouette_scores))]\n",
    "print(f\"Numero ottimale di cluster trovato: {optimal_k} | \")\n"
   ]
  },
  {
   "cell_type": "code",
   "execution_count": null,
   "id": "39cba2e3",
   "metadata": {},
   "outputs": [
    {
     "data": {
      "text/plain": [
       "0.23013676475067327"
      ]
     },
     "execution_count": 103,
     "metadata": {},
     "output_type": "execute_result"
    }
   ],
   "source": [
    "opt = silhouette_scores.index(max(silhouette_scores))\n",
    "silhouette_scores[opt]"
   ]
  },
  {
   "cell_type": "code",
   "execution_count": null,
   "id": "1938f9a4",
   "metadata": {},
   "outputs": [
    {
     "data": {
      "text/plain": [
       "8"
      ]
     },
     "execution_count": 104,
     "metadata": {},
     "output_type": "execute_result"
    }
   ],
   "source": [
    "opt"
   ]
  },
  {
   "cell_type": "code",
   "execution_count": null,
   "id": "e5401f95",
   "metadata": {},
   "outputs": [
    {
     "data": {
      "text/plain": [
       "[0.10719593736474281,\n",
       " 0.12564968738254126,\n",
       " 0.1230836769571741,\n",
       " 0.14431221855119356,\n",
       " 0.14821296944339926,\n",
       " 0.17211414181824483,\n",
       " 0.20308085959144168,\n",
       " 0.22338969298165712,\n",
       " 0.23013676475067327]"
      ]
     },
     "execution_count": 105,
     "metadata": {},
     "output_type": "execute_result"
    }
   ],
   "source": [
    "silhouette_scores"
   ]
  },
  {
   "cell_type": "code",
   "execution_count": null,
   "id": "5021cac1",
   "metadata": {},
   "outputs": [],
   "source": [
    "# 6. Applica KMeans con il numero ottimale di cluster\n",
    "kmeans = KMeans(n_clusters=optimal_k, random_state=42)\n",
    "user['cluster'] = kmeans.fit_predict(data_scaled)"
   ]
  },
  {
   "cell_type": "code",
   "execution_count": null,
   "id": "655ba3dd",
   "metadata": {},
   "outputs": [],
   "source": [
    "pca = PCA(n_components=3)\n",
    "components = pca.fit_transform(data_scaled)\n",
    "user[['PCA1','PCA2','PCA3']] = components\n"
   ]
  },
  {
   "cell_type": "code",
   "execution_count": null,
   "id": "fd6d27bb",
   "metadata": {},
   "outputs": [
    {
     "data": {
      "image/png": "[encoded data removed]",
      "text/plain": [
       "<Figure size 1000x600 with 1 Axes>"
      ]
     },
     "metadata": {},
     "output_type": "display_data"
    }
   ],
   "source": [
    "# 8. Plot dei cluster\n",
    "plt.figure(figsize=(10, 6))\n",
    "sns.scatterplot(data=user, x='PCA1', y='PCA2', hue='cluster', palette='Set1', s=60)\n",
    "plt.title('Cluster utenti con K-Means (PCA 2D)')\n",
    "plt.xlabel('PCA1')\n",
    "plt.ylabel('PCA2')\n",
    "plt.legend(title='Cluster')\n",
    "plt.grid(True)\n",
    "plt.tight_layout()\n",
    "plt.show()"
   ]
  },
  {
   "cell_type": "code",
   "execution_count": null,
   "id": "90a5fc17",
   "metadata": {},
   "outputs": [
    {
     "data": {
      "application/vnd.plotly.v1+json": {
       "config": {
        "plotlyServerURL": "https://plot.ly"
       },
       "data": [
        {
         "hovertemplate": "PCA1=%{x}<br>PCA2=%{y}<br>PCA3=%{z}<br>cluster=%{marker.color}<extra></extra>",
         "legendgroup": "",
         "marker": {
          "color": {
           "bdata": "CQAAAAQAAAAAAAAAAgAAAAcAAAACAAAAAgAAAAEAAAABAAAACAAAAAEAAAAIAAAAAgAAAAIAAAAGAAAABgAAAAEAAAABAAAAAwAAAAYAAAAAAAAACAAAAAAAAAAGAAAAAQAAAAIAAAAJAAAAAAAAAAQAAAABAAAAAgAAAAUAAAACAAAABQAAAAYAAAAFAAAABQAAAAEAAAAGAAAAAgAAAAAAAAADAAAABAAAAAIAAAADAAAACAAAAAUAAAADAAAABQAAAAQAAAAIAAAABQAAAAQAAAACAAAAAwAAAAIAAAAFAAAAAwAAAAQAAAACAAAABgAAAAUAAAAHAAAABAAAAAkAAAAAAAAABQAAAAIAAAACAAAAAgAAAAIAAAAHAAAABgAAAAIAAAAGAAAAAgAAAAIAAAACAAAACQAAAAgAAAAGAAAAAwAAAAEAAAACAAAABAAAAAMAAAACAAAABQAAAAUAAAAEAAAAAQAAAAYAAAACAAAAAAAAAAIAAAAFAAAAAgAAAAUAAAAIAAAAAgAAAAUAAAAHAAAACAAAAAgAAAAEAAAAAwAAAAIAAAAEAAAACAAAAAAAAAACAAAABQAAAAIAAAADAAAAAgAAAAQAAAAIAAAABwAAAAMAAAAGAAAABwAAAAAAAAAFAAAAAAAAAAgAAAAIAAAAAgAAAAUAAAAFAAAAAgAAAAQAAAAJAAAAAgAAAAMAAAAJAAAAAQAAAAQAAAACAAAACAAAAAUAAAADAAAACQAAAAIAAAABAAAACAAAAAIAAAAFAAAAAgAAAAUAAAAFAAAABQAAAAQAAAABAAAABQAAAAEAAAAIAAAACAAAAAYAAAABAAAACQAAAAgAAAACAAAAAgAAAAQAAAAGAAAABAAAAAcAAAABAAAAAQAAAAQAAAAEAAAAAgAAAAEAAAAFAAAACAAAAAQAAAAGAAAAAQAAAAYAAAAFAAAABgAAAAMAAAACAAAAAgAAAAIAAAAFAAAACQAAAAkAAAACAAAAAgAAAAIAAAAEAAAAAwAAAAIAAAABAAAAAgAAAAIAAAAEAAAAAAAAAAMAAAAAAAAABAAAAAcAAAADAAAABwAAAAUAAAAHAAAACQAAAAQAAAACAAAAAQAAAAQAAAAJAAAABQAAAAMAAAACAAAAAQAAAAEAAAADAAAAAgAAAAUAAAAEAAAABQAAAAQAAAAIAAAABQAAAAIAAAAFAAAABAAAAAUAAAAIAAAAAwAAAAgAAAADAAAABAAAAAUAAAACAAAAAwAAAAIAAAAFAAAABQAAAAQAAAAEAAAAAgAAAAUAAAAGAAAAAgAAAAIAAAAFAAAACAAAAAIAAAACAAAABAAAAAQAAAAGAAAACQAAAAAAAAAFAAAABQAAAAUAAAAAAAAACAAAAAEAAAAAAAAABgAAAAkAAAAEAAAAAwAAAAYAAAAFAAAAAgAAAAIAAAABAAAABAAAAAIAAAAHAAAABQAAAAIAAAADAAAABAAAAAUAAAAFAAAACAAAAAIAAAADAAAAAwAAAAUAAAAFAAAAAgAAAAIAAAAFAAAAAwAAAAYAAAAJAAAABAAAAAYAAAAEAAAABgAAAAQAAAADAAAAAgAAAAQAAAAFAAAABQAAAAMAAAAJAAAABgAAAAYAAAACAAAABAAAAAIAAAABAAAAAwAAAAUAAAAEAAAAAQAAAAYAAAADAAAACQAAAAUAAAAEAAAAAAAAAAUAAAAFAAAAAgAAAAIAAAAEAAAABQAAAAkAAAAEAAAABgAAAAUAAAABAAAAAgAAAAcAAAACAAAABwAAAAUAAAAIAAAAAgAAAAgAAAABAAAAAAAAAAUAAAAFAAAAAQAAAAcAAAAFAAAAAwAAAAYAAAAEAAAAAwAAAAIAAAAAAAAAAAAAAAYAAAADAAAABAAAAAUAAAABAAAAAQAAAAYAAAAFAAAAAgAAAAgAAAAHAAAAAwAAAAUAAAAHAAAAAAAAAAQAAAAJAAAACQAAAAIAAAAGAAAAAQAAAAMAAAAFAAAAAwAAAAIAAAACAAAABAAAAAEAAAADAAAAAAAAAAMAAAAGAAAABgAAAAAAAAAIAAAABQAAAAAAAAAFAAAAAAAAAAEAAAACAAAABQAAAAYAAAACAAAABAAAAAQAAAADAAAAAQAAAAgAAAAEAAAACAAAAAkAAAAFAAAAAQAAAAIAAAAIAAAABAAAAAcAAAADAAAACQAAAAUAAAABAAAABQAAAAgAAAAHAAAAAwAAAAYAAAACAAAABgAAAAMAAAAIAAAAAgAAAAQAAAAFAAAAAgAAAAIAAAAHAAAAAgAAAAUAAAACAAAABQAAAAEAAAAFAAAABQAAAAYAAAACAAAACAAAAAUAAAAIAAAABwAAAAQAAAABAAAABgAAAAIAAAAEAAAABgAAAAIAAAAHAAAABAAAAAIAAAACAAAABQAAAAIAAAABAAAAAQAAAAAAAAAAAAAABAAAAAQAAAABAAAABQAAAAIAAAAAAAAABAAAAAMAAAAFAAAAAgAAAAAAAAAFAAAAAwAAAAAAAAAFAAAAAQAAAAQAAAADAAAAAwAAAAUAAAACAAAABQAAAAQAAAAIAAAABwAAAAIAAAABAAAABQAAAAAAAAAEAAAABwAAAAMAAAACAAAABAAAAAUAAAAAAAAAAwAAAAEAAAAIAAAAAAAAAAAAAAAAAAAAAQAAAAMAAAADAAAABAAAAAUAAAABAAAABwAAAAEAAAACAAAAAwAAAAIAAAACAAAABgAAAAMAAAAJAAAABAAAAAIAAAACAAAABQAAAAkAAAAFAAAAAgAAAAIAAAAAAAAABQAAAAQAAAAFAAAABwAAAAAAAAAEAAAABAAAAAIAAAACAAAAAgAAAAUAAAACAAAABQAAAAUAAAACAAAAAQAAAAIAAAACAAAABAAAAAkAAAADAAAABQAAAAQAAAABAAAABAAAAAIAAAAEAAAABwAAAAAAAAAAAAAAAgAAAAIAAAAHAAAABQAAAAUAAAADAAAABgAAAAkAAAAGAAAABAAAAAkAAAAJAAAABwAAAAQAAAADAAAABAAAAAgAAAACAAAABQAAAAAAAAAEAAAAAQAAAAQAAAAIAAAAAgAAAAUAAAAAAAAACAAAAAEAAAAFAAAACAAAAAQAAAAIAAAAAwAAAAQAAAAEAAAAAwAAAAgAAAABAAAABAAAAAAAAAADAAAABwAAAAEAAAABAAAABAAAAAIAAAAIAAAABAAAAAEAAAAFAAAAAgAAAAIAAAAEAAAABQAAAAQAAAAEAAAAAAAAAAAAAAAGAAAAAwAAAAQAAAAFAAAAAwAAAAQAAAAFAAAAAwAAAAIAAAACAAAAAgAAAAEAAAAEAAAAAQAAAAYAAAAEAAAAAgAAAAEAAAAEAAAACQAAAAkAAAACAAAABQAAAAUAAAAFAAAABAAAAAgAAAADAAAABQAAAAQAAAADAAAABAAAAAIAAAADAAAAAQAAAAIAAAAFAAAABAAAAAcAAAAFAAAAAwAAAAQAAAAFAAAACQAAAAgAAAABAAAAAgAAAAAAAAAFAAAABwAAAAAAAAABAAAABQAAAAMAAAABAAAABwAAAAUAAAAGAAAAAwAAAAEAAAAEAAAABQAAAAgAAAAFAAAAAwAAAAYAAAAEAAAABQAAAAIAAAAEAAAABQAAAAEAAAADAAAABAAAAAIAAAAJAAAABAAAAAAAAAABAAAAAQAAAAQAAAABAAAABQAAAAIAAAABAAAABAAAAAgAAAAFAAAABgAAAAUAAAAGAAAACQAAAAAAAAAHAAAABQAAAAEAAAACAAAAAgAAAAMAAAACAAAAAgAAAAEAAAAFAAAABgAAAAYAAAACAAAAAQAAAAIAAAAFAAAABQAAAAIAAAAFAAAAAQAAAAgAAAAFAAAAAQAAAAQAAAAEAAAABQAAAAkAAAACAAAAAwAAAAQAAAAEAAAABgAAAAMAAAACAAAAAQAAAAIAAAABAAAAAgAAAAEAAAACAAAAAQAAAAgAAAAFAAAABQAAAAQAAAAFAAAAAAAAAAIAAAAFAAAAAQAAAAUAAAACAAAAAQAAAAQAAAAFAAAAAQAAAAIAAAAJAAAAAgAAAAUAAAAGAAAAAAAAAAQAAAAAAAAAAgAAAAIAAAADAAAABQAAAAcAAAADAAAABQAAAAUAAAAJAAAAAQAAAAAAAAAFAAAAAAAAAAMAAAAEAAAABwAAAAQAAAABAAAAAwAAAAkAAAADAAAAAAAAAAEAAAAAAAAABQAAAAMAAAAGAAAABgAAAAcAAAAEAAAAAQAAAAUAAAAEAAAAAgAAAAQAAAABAAAABAAAAAIAAAAFAAAAAQAAAAEAAAABAAAABQAAAAIAAAAFAAAABQAAAAIAAAAFAAAAAgAAAAEAAAACAAAAAgAAAAYAAAAIAAAAAAAAAAMAAAABAAAAAgAAAAgAAAAEAAAABQAAAAIAAAAFAAAAAAAAAAYAAAACAAAAAgAAAAIAAAAGAAAAAgAAAAIAAAAIAAAABQAAAAIAAAAIAAAACAAAAAQAAAAFAAAAAgAAAAUAAAAGAAAABQAAAAUAAAACAAAAAQAAAAMAAAAFAAAAAgAAAAIAAAAIAAAAAgAAAAgAAAACAAAAAwAAAAgAAAAGAAAAAgAAAAUAAAAAAAAAAgAAAAUAAAABAAAAAQAAAAQAAAAFAAAAAAAAAAIAAAACAAAAAgAAAAIAAAABAAAABQAAAAUAAAAJAAAABAAAAAYAAAAFAAAACQAAAAIAAAAEAAAABwAAAAAAAAABAAAABgAAAAkAAAADAAAAAgAAAAQAAAAEAAAAAwAAAAEAAAACAAAAAQAAAAYAAAAEAAAABAAAAAAAAAABAAAABQAAAAkAAAAGAAAAAgAAAAMAAAACAAAAAQAAAAUAAAAFAAAABQAAAAAAAAABAAAABQAAAAYAAAADAAAAAgAAAAIAAAACAAAABAAAAAQAAAAFAAAAAgAAAAcAAAABAAAACQAAAAUAAAAGAAAAAgAAAAgAAAAFAAAAAgAAAA==",
           "dtype": "i4"
          },
          "coloraxis": "coloraxis",
          "symbol": "circle"
         },
         "mode": "markers",
         "name": "",
         "scene": "scene",
         "showlegend": false,
         "type": "scatter3d",
         "x": {
          "bdata": "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",
          "dtype": "f8"
         },
         "y": {
          "bdata": "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",
          "dtype": "f8"
         },
         "z": {
          "bdata": "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",
          "dtype": "f8"
         }
        }
       ],
       "layout": {
        "coloraxis": {
         "colorbar": {
          "title": {
           "text": "cluster"
          }
         },
         "colorscale": [
          [
           0,
           "#0d0887"
          ],
          [
           0.1111111111111111,
           "#46039f"
          ],
          [
           0.2222222222222222,
           "#7201a8"
          ],
          [
           0.3333333333333333,
           "#9c179e"
          ],
          [
           0.4444444444444444,
           "#bd3786"
          ],
          [
           0.5555555555555556,
           "#d8576b"
          ],
          [
           0.6666666666666666,
           "#ed7953"
          ],
          [
           0.7777777777777778,
           "#fb9f3a"
          ],
          [
           0.8888888888888888,
           "#fdca26"
          ],
          [
           1,
           "#f0f921"
          ]
         ]
        },
        "legend": {
         "title": {
          "text": "Cluster"
         },
         "tracegroupgap": 0
        },
        "margin": {
         "b": 0,
         "l": 0,
         "r": 0,
         "t": 40
        },
        "scene": {
         "domain": {
          "x": [
           0,
           1
          ],
          "y": [
           0,
           1
          ]
         },
         "xaxis": {
          "title": {
           "text": "PCA1"
          }
         },
         "yaxis": {
          "title": {
           "text": "PCA2"
          }
         },
         "zaxis": {
          "title": {
           "text": "PCA3"
          }
         }
        },
        "template": {
         "data": {
          "bar": [
           {
            "error_x": {
             "color": "#2a3f5f"
            },
            "error_y": {
             "color": "#2a3f5f"
            },
            "marker": {
             "line": {
              "color": "#E5ECF6",
              "width": 0.5
             },
             "pattern": {
              "fillmode": "overlay",
              "size": 10,
              "solidity": 0.2
             }
            },
            "type": "bar"
           }
          ],
          "barpolar": [
           {
            "marker": {
             "line": {
              "color": "#E5ECF6",
              "width": 0.5
             },
             "pattern": {
              "fillmode": "overlay",
              "size": 10,
              "solidity": 0.2
             }
            },
            "type": "barpolar"
           }
          ],
          "carpet": [
           {
            "aaxis": {
             "endlinecolor": "#2a3f5f",
             "gridcolor": "white",
             "linecolor": "white",
             "minorgridcolor": "white",
             "startlinecolor": "#2a3f5f"
            },
            "baxis": {
             "endlinecolor": "#2a3f5f",
             "gridcolor": "white",
             "linecolor": "white",
             "minorgridcolor": "white",
             "startlinecolor": "#2a3f5f"
            },
            "type": "carpet"
           }
          ],
          "choropleth": [
           {
            "colorbar": {
             "outlinewidth": 0,
             "ticks": ""
            },
            "type": "choropleth"
           }
          ],
          "contour": [
           {
            "colorbar": {
             "outlinewidth": 0,
             "ticks": ""
            },
            "colorscale": [
             [
              0,
              "#0d0887"
             ],
             [
              0.1111111111111111,
              "#46039f"
             ],
             [
              0.2222222222222222,
              "#7201a8"
             ],
             [
              0.3333333333333333,
              "#9c179e"
             ],
             [
              0.4444444444444444,
              "#bd3786"
             ],
             [
              0.5555555555555556,
              "#d8576b"
             ],
             [
              0.6666666666666666,
              "#ed7953"
             ],
             [
              0.7777777777777778,
              "#fb9f3a"
             ],
             [
              0.8888888888888888,
              "#fdca26"
             ],
             [
              1,
              "#f0f921"
             ]
            ],
            "type": "contour"
           }
          ],
          "contourcarpet": [
           {
            "colorbar": {
             "outlinewidth": 0,
             "ticks": ""
            },
            "type": "contourcarpet"
           }
          ],
          "heatmap": [
           {
            "colorbar": {
             "outlinewidth": 0,
             "ticks": ""
            },
            "colorscale": [
             [
              0,
              "#0d0887"
             ],
             [
              0.1111111111111111,
              "#46039f"
             ],
             [
              0.2222222222222222,
              "#7201a8"
             ],
             [
              0.3333333333333333,
              "#9c179e"
             ],
             [
              0.4444444444444444,
              "#bd3786"
             ],
             [
              0.5555555555555556,
              "#d8576b"
             ],
             [
              0.6666666666666666,
              "#ed7953"
             ],
             [
              0.7777777777777778,
              "#fb9f3a"
             ],
             [
              0.8888888888888888,
              "#fdca26"
             ],
             [
              1,
              "#f0f921"
             ]
            ],
            "type": "heatmap"
           }
          ],
          "histogram": [
           {
            "marker": {
             "pattern": {
              "fillmode": "overlay",
              "size": 10,
              "solidity": 0.2
             }
            },
            "type": "histogram"
           }
          ],
          "histogram2d": [
           {
            "colorbar": {
             "outlinewidth": 0,
             "ticks": ""
            },
            "colorscale": [
             [
              0,
              "#0d0887"
             ],
             [
              0.1111111111111111,
              "#46039f"
             ],
             [
              0.2222222222222222,
              "#7201a8"
             ],
             [
              0.3333333333333333,
              "#9c179e"
             ],
             [
              0.4444444444444444,
              "#bd3786"
             ],
             [
              0.5555555555555556,
              "#d8576b"
             ],
             [
              0.6666666666666666,
              "#ed7953"
             ],
             [
              0.7777777777777778,
              "#fb9f3a"
             ],
             [
              0.8888888888888888,
              "#fdca26"
             ],
             [
              1,
              "#f0f921"
             ]
            ],
            "type": "histogram2d"
           }
          ],
          "histogram2dcontour": [
           {
            "colorbar": {
             "outlinewidth": 0,
             "ticks": ""
            },
            "colorscale": [
             [
              0,
              "#0d0887"
             ],
             [
              0.1111111111111111,
              "#46039f"
             ],
             [
              0.2222222222222222,
              "#7201a8"
             ],
             [
              0.3333333333333333,
              "#9c179e"
             ],
             [
              0.4444444444444444,
              "#bd3786"
             ],
             [
              0.5555555555555556,
              "#d8576b"
             ],
             [
              0.6666666666666666,
              "#ed7953"
             ],
             [
              0.7777777777777778,
              "#fb9f3a"
             ],
             [
              0.8888888888888888,
              "#fdca26"
             ],
             [
              1,
              "#f0f921"
             ]
            ],
            "type": "histogram2dcontour"
           }
          ],
          "mesh3d": [
           {
            "colorbar": {
             "outlinewidth": 0,
             "ticks": ""
            },
            "type": "mesh3d"
           }
          ],
          "parcoords": [
           {
            "line": {
             "colorbar": {
              "outlinewidth": 0,
              "ticks": ""
             }
            },
            "type": "parcoords"
           }
          ],
          "pie": [
           {
            "automargin": true,
            "type": "pie"
           }
          ],
          "scatter": [
           {
            "fillpattern": {
             "fillmode": "overlay",
             "size": 10,
             "solidity": 0.2
            },
            "type": "scatter"
           }
          ],
          "scatter3d": [
           {
            "line": {
             "colorbar": {
              "outlinewidth": 0,
              "ticks": ""
             }
            },
            "marker": {
             "colorbar": {
              "outlinewidth": 0,
              "ticks": ""
             }
            },
            "type": "scatter3d"
           }
          ],
          "scattercarpet": [
           {
            "marker": {
             "colorbar": {
              "outlinewidth": 0,
              "ticks": ""
             }
            },
            "type": "scattercarpet"
           }
          ],
          "scattergeo": [
           {
            "marker": {
             "colorbar": {
              "outlinewidth": 0,
              "ticks": ""
             }
            },
            "type": "scattergeo"
           }
          ],
          "scattergl": [
           {
            "marker": {
             "colorbar": {
              "outlinewidth": 0,
              "ticks": ""
             }
            },
            "type": "scattergl"
           }
          ],
          "scattermap": [
           {
            "marker": {
             "colorbar": {
              "outlinewidth": 0,
              "ticks": ""
             }
            },
            "type": "scattermap"
           }
          ],
          "scattermapbox": [
           {
            "marker": {
             "colorbar": {
              "outlinewidth": 0,
              "ticks": ""
             }
            },
            "type": "scattermapbox"
           }
          ],
          "scatterpolar": [
           {
            "marker": {
             "colorbar": {
              "outlinewidth": 0,
              "ticks": ""
             }
            },
            "type": "scatterpolar"
           }
          ],
          "scatterpolargl": [
           {
            "marker": {
             "colorbar": {
              "outlinewidth": 0,
              "ticks": ""
             }
            },
            "type": "scatterpolargl"
           }
          ],
          "scatterternary": [
           {
            "marker": {
             "colorbar": {
              "outlinewidth": 0,
              "ticks": ""
             }
            },
            "type": "scatterternary"
           }
          ],
          "surface": [
           {
            "colorbar": {
             "outlinewidth": 0,
             "ticks": ""
            },
            "colorscale": [
             [
              0,
              "#0d0887"
             ],
             [
              0.1111111111111111,
              "#46039f"
             ],
             [
              0.2222222222222222,
              "#7201a8"
             ],
             [
              0.3333333333333333,
              "#9c179e"
             ],
             [
              0.4444444444444444,
              "#bd3786"
             ],
             [
              0.5555555555555556,
              "#d8576b"
             ],
             [
              0.6666666666666666,
              "#ed7953"
             ],
             [
              0.7777777777777778,
              "#fb9f3a"
             ],
             [
              0.8888888888888888,
              "#fdca26"
             ],
             [
              1,
              "#f0f921"
             ]
            ],
            "type": "surface"
           }
          ],
          "table": [
           {
            "cells": {
             "fill": {
              "color": "#EBF0F8"
             },
             "line": {
              "color": "white"
             }
            },
            "header": {
             "fill": {
              "color": "#C8D4E3"
             },
             "line": {
              "color": "white"
             }
            },
            "type": "table"
           }
          ]
         },
         "layout": {
          "annotationdefaults": {
           "arrowcolor": "#2a3f5f",
           "arrowhead": 0,
           "arrowwidth": 1
          },
          "autotypenumbers": "strict",
          "coloraxis": {
           "colorbar": {
            "outlinewidth": 0,
            "ticks": ""
           }
          },
          "colorscale": {
           "diverging": [
            [
             0,
             "#8e0152"
            ],
            [
             0.1,
             "#c51b7d"
            ],
            [
             0.2,
             "#de77ae"
            ],
            [
             0.3,
             "#f1b6da"
            ],
            [
             0.4,
             "#fde0ef"
            ],
            [
             0.5,
             "#f7f7f7"
            ],
            [
             0.6,
             "#e6f5d0"
            ],
            [
             0.7,
             "#b8e186"
            ],
            [
             0.8,
             "#7fbc41"
            ],
            [
             0.9,
             "#4d9221"
            ],
            [
             1,
             "#276419"
            ]
           ],
           "sequential": [
            [
             0,
             "#0d0887"
            ],
            [
             0.1111111111111111,
             "#46039f"
            ],
            [
             0.2222222222222222,
             "#7201a8"
            ],
            [
             0.3333333333333333,
             "#9c179e"
            ],
            [
             0.4444444444444444,
             "#bd3786"
            ],
            [
             0.5555555555555556,
             "#d8576b"
            ],
            [
             0.6666666666666666,
             "#ed7953"
            ],
            [
             0.7777777777777778,
             "#fb9f3a"
            ],
            [
             0.8888888888888888,
             "#fdca26"
            ],
            [
             1,
             "#f0f921"
            ]
           ],
           "sequentialminus": [
            [
             0,
             "#0d0887"
            ],
            [
             0.1111111111111111,
             "#46039f"
            ],
            [
             0.2222222222222222,
             "#7201a8"
            ],
            [
             0.3333333333333333,
             "#9c179e"
            ],
            [
             0.4444444444444444,
             "#bd3786"
            ],
            [
             0.5555555555555556,
             "#d8576b"
            ],
            [
             0.6666666666666666,
             "#ed7953"
            ],
            [
             0.7777777777777778,
             "#fb9f3a"
            ],
            [
             0.8888888888888888,
             "#fdca26"
            ],
            [
             1,
             "#f0f921"
            ]
           ]
          },
          "colorway": [
           "#636efa",
           "#EF553B",
           "#00cc96",
           "#ab63fa",
           "#FFA15A",
           "#19d3f3",
           "#FF6692",
           "#B6E880",
           "#FF97FF",
           "#FECB52"
          ],
          "font": {
           "color": "#2a3f5f"
          },
          "geo": {
           "bgcolor": "white",
           "lakecolor": "white",
           "landcolor": "#E5ECF6",
           "showlakes": true,
           "showland": true,
           "subunitcolor": "white"
          },
          "hoverlabel": {
           "align": "left"
          },
          "hovermode": "closest",
          "mapbox": {
           "style": "light"
          },
          "paper_bgcolor": "white",
          "plot_bgcolor": "#E5ECF6",
          "polar": {
           "angularaxis": {
            "gridcolor": "white",
            "linecolor": "white",
            "ticks": ""
           },
           "bgcolor": "#E5ECF6",
           "radialaxis": {
            "gridcolor": "white",
            "linecolor": "white",
            "ticks": ""
           }
          },
          "scene": {
           "xaxis": {
            "backgroundcolor": "#E5ECF6",
            "gridcolor": "white",
            "gridwidth": 2,
            "linecolor": "white",
            "showbackground": true,
            "ticks": "",
            "zerolinecolor": "white"
           },
           "yaxis": {
            "backgroundcolor": "#E5ECF6",
            "gridcolor": "white",
            "gridwidth": 2,
            "linecolor": "white",
            "showbackground": true,
            "ticks": "",
            "zerolinecolor": "white"
           },
           "zaxis": {
            "backgroundcolor": "#E5ECF6",
            "gridcolor": "white",
            "gridwidth": 2,
            "linecolor": "white",
            "showbackground": true,
            "ticks": "",
            "zerolinecolor": "white"
           }
          },
          "shapedefaults": {
           "line": {
            "color": "#2a3f5f"
           }
          },
          "ternary": {
           "aaxis": {
            "gridcolor": "white",
            "linecolor": "white",
            "ticks": ""
           },
           "baxis": {
            "gridcolor": "white",
            "linecolor": "white",
            "ticks": ""
           },
           "bgcolor": "#E5ECF6",
           "caxis": {
            "gridcolor": "white",
            "linecolor": "white",
            "ticks": ""
           }
          },
          "title": {
           "x": 0.05
          },
          "xaxis": {
           "automargin": true,
           "gridcolor": "white",
           "linecolor": "white",
           "ticks": "",
           "title": {
            "standoff": 15
           },
           "zerolinecolor": "white",
           "zerolinewidth": 2
          },
          "yaxis": {
           "automargin": true,
           "gridcolor": "white",
           "linecolor": "white",
           "ticks": "",
           "title": {
            "standoff": 15
           },
           "zerolinecolor": "white",
           "zerolinewidth": 2
          }
         }
        },
        "title": {
         "text": "Cluster utenti con K-Means (PCA 3D)"
        }
       }
      }
     },
     "metadata": {},
     "output_type": "display_data"
    }
   ],
   "source": [
    "import plotly.express as px\n",
    "\n",
    "fig = px.scatter_3d(\n",
    "    user,\n",
    "    x='PCA1',\n",
    "    y='PCA2',\n",
    "    z='PCA3',\n",
    "    color='cluster',\n",
    "    title='Cluster utenti con K-Means (PCA 3D)',\n",
    "    labels={'PCA1': 'PCA1', 'PCA2': 'PCA2', 'PCA3': 'PCA3'}\n",
    ")\n",
    "\n",
    "fig.update_layout(\n",
    "    margin=dict(l=0, r=0, b=0, t=40),\n",
    "    legend_title_text='Cluster'\n",
    ")\n",
    "\n",
    "fig.show()"
   ]
  }
 ],
 "metadata": {
  "kernelspec": {
   "display_name": "FDSML",
   "language": "python",
   "name": "python3"
  },
  "language_info": {
   "codemirror_mode": {
    "name": "ipython",
    "version": 3
   },
   "file_extension": ".py",
   "mimetype": "text/x-python",
   "name": "python",
   "nbconvert_exporter": "python",
   "pygments_lexer": "ipython3",
   "version": "3.10.18"
  }
 },
 "nbformat": 4,
 "nbformat_minor": 5
}
