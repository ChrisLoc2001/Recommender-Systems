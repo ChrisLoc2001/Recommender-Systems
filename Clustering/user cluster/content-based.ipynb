{
 "cells": [
  {
   "cell_type": "code",
   "execution_count": 20,
   "id": "e87a43cf",
   "metadata": {},
   "outputs": [],
   "source": [
    "import pandas as pd\n",
    "from sklearn.preprocessing import StandardScaler\n",
    "from sklearn.cluster import KMeans\n",
    "from sklearn.metrics import silhouette_score\n",
    "from sklearn.decomposition import PCA\n",
    "import matplotlib.pyplot as plt\n",
    "import seaborn as sns\n",
    "from scipy.cluster.hierarchy import linkage, dendrogram\n",
    "from sklearn.preprocessing import LabelEncoder, OneHotEncoder\n",
    "from category_encoders import BinaryEncoder, TargetEncoder\n",
    "from sklearn.feature_extraction import FeatureHasher\n",
    "from kmodes.kprototypes import KPrototypes\n"
   ]
  },
  {
   "cell_type": "code",
   "execution_count": 21,
   "id": "3209fed1",
   "metadata": {},
   "outputs": [],
   "source": [
    "ratings = pd.read_csv('../datasets/ml-100k/u.data', \n",
    "                      sep='\\t', \n",
    "                      names=['user_id', 'item_id', 'rating', 'timestamp'])\n",
    "ratings = ratings.drop(columns='timestamp')\n",
    "\n",
    "user_item_dense = ratings.pivot(\n",
    "    index='user_id',\n",
    "    columns='item_id',\n",
    "    values='rating'\n",
    ").fillna(0)"
   ]
  },
  {
   "cell_type": "code",
   "execution_count": 22,
   "id": "4a7299c0",
   "metadata": {},
   "outputs": [
    {
     "data": {
      "text/html": [
       "<div>\n",
       "<style scoped>\n",
       "    .dataframe tbody tr th:only-of-type {\n",
       "        vertical-align: middle;\n",
       "    }\n",
       "\n",
       "    .dataframe tbody tr th {\n",
       "        vertical-align: top;\n",
       "    }\n",
       "\n",
       "    .dataframe thead th {\n",
       "        text-align: right;\n",
       "    }\n",
       "</style>\n",
       "<table border=\"1\" class=\"dataframe\">\n",
       "  <thead>\n",
       "    <tr style=\"text-align: right;\">\n",
       "      <th></th>\n",
       "      <th>user_id</th>\n",
       "      <th>age</th>\n",
       "      <th>gender</th>\n",
       "      <th>occupation</th>\n",
       "      <th>zip_code</th>\n",
       "    </tr>\n",
       "  </thead>\n",
       "  <tbody>\n",
       "    <tr>\n",
       "      <th>0</th>\n",
       "      <td>1</td>\n",
       "      <td>24</td>\n",
       "      <td>M</td>\n",
       "      <td>technician</td>\n",
       "      <td>85711</td>\n",
       "    </tr>\n",
       "    <tr>\n",
       "      <th>1</th>\n",
       "      <td>2</td>\n",
       "      <td>53</td>\n",
       "      <td>F</td>\n",
       "      <td>other</td>\n",
       "      <td>94043</td>\n",
       "    </tr>\n",
       "    <tr>\n",
       "      <th>2</th>\n",
       "      <td>3</td>\n",
       "      <td>23</td>\n",
       "      <td>M</td>\n",
       "      <td>writer</td>\n",
       "      <td>32067</td>\n",
       "    </tr>\n",
       "    <tr>\n",
       "      <th>3</th>\n",
       "      <td>4</td>\n",
       "      <td>24</td>\n",
       "      <td>M</td>\n",
       "      <td>technician</td>\n",
       "      <td>43537</td>\n",
       "    </tr>\n",
       "    <tr>\n",
       "      <th>4</th>\n",
       "      <td>5</td>\n",
       "      <td>33</td>\n",
       "      <td>F</td>\n",
       "      <td>other</td>\n",
       "      <td>15213</td>\n",
       "    </tr>\n",
       "    <tr>\n",
       "      <th>...</th>\n",
       "      <td>...</td>\n",
       "      <td>...</td>\n",
       "      <td>...</td>\n",
       "      <td>...</td>\n",
       "      <td>...</td>\n",
       "    </tr>\n",
       "    <tr>\n",
       "      <th>938</th>\n",
       "      <td>939</td>\n",
       "      <td>26</td>\n",
       "      <td>F</td>\n",
       "      <td>student</td>\n",
       "      <td>33319</td>\n",
       "    </tr>\n",
       "    <tr>\n",
       "      <th>939</th>\n",
       "      <td>940</td>\n",
       "      <td>32</td>\n",
       "      <td>M</td>\n",
       "      <td>administrator</td>\n",
       "      <td>02215</td>\n",
       "    </tr>\n",
       "    <tr>\n",
       "      <th>940</th>\n",
       "      <td>941</td>\n",
       "      <td>20</td>\n",
       "      <td>M</td>\n",
       "      <td>student</td>\n",
       "      <td>97229</td>\n",
       "    </tr>\n",
       "    <tr>\n",
       "      <th>941</th>\n",
       "      <td>942</td>\n",
       "      <td>48</td>\n",
       "      <td>F</td>\n",
       "      <td>librarian</td>\n",
       "      <td>78209</td>\n",
       "    </tr>\n",
       "    <tr>\n",
       "      <th>942</th>\n",
       "      <td>943</td>\n",
       "      <td>22</td>\n",
       "      <td>M</td>\n",
       "      <td>student</td>\n",
       "      <td>77841</td>\n",
       "    </tr>\n",
       "  </tbody>\n",
       "</table>\n",
       "<p>943 rows × 5 columns</p>\n",
       "</div>"
      ],
      "text/plain": [
       "     user_id  age gender     occupation zip_code\n",
       "0          1   24      M     technician    85711\n",
       "1          2   53      F          other    94043\n",
       "2          3   23      M         writer    32067\n",
       "3          4   24      M     technician    43537\n",
       "4          5   33      F          other    15213\n",
       "..       ...  ...    ...            ...      ...\n",
       "938      939   26      F        student    33319\n",
       "939      940   32      M  administrator    02215\n",
       "940      941   20      M        student    97229\n",
       "941      942   48      F      librarian    78209\n",
       "942      943   22      M        student    77841\n",
       "\n",
       "[943 rows x 5 columns]"
      ]
     },
     "execution_count": 22,
     "metadata": {},
     "output_type": "execute_result"
    }
   ],
   "source": [
    "user = pd.read_csv('../datasets/ml-100k/u.user', \n",
    "                      sep='|', \n",
    "                      names=['user_id', 'age', 'gender', 'occupation', 'zip_code'])\n",
    "\n",
    "merged = user.merge(user_item_dense, on='user_id')\n",
    "\n",
    "user"
   ]
  },
  {
   "cell_type": "code",
   "execution_count": 23,
   "id": "0bac1f7a",
   "metadata": {},
   "outputs": [],
   "source": [
    "# 2. One-Hot Encoding sulle colonne categoriche (gender, occupation, zip_code)\n",
    "#user_encoded = pd.get_dummies(user, columns=['gender', 'occupation', 'zip_code'])\n",
    "#data_for_clustering.columns = data_for_clustering.columns.astype(str)\n"
   ]
  },
  {
   "cell_type": "code",
   "execution_count": 24,
   "id": "af1cc95d",
   "metadata": {},
   "outputs": [],
   "source": [
    "#LABEL ENCODER\n",
    "\n",
    "le_gender = LabelEncoder()\n",
    "le_occ = LabelEncoder()\n",
    "le_zip = LabelEncoder()\n",
    "user['gender_le'] = le_gender.fit_transform(user['gender'])\n",
    "user['occupation_le'] = le_occ.fit_transform(user['occupation'])\n",
    "user['zip_le'] = le_zip.fit_transform(user['zip_code'])\n",
    "df_le = user[['age','gender_le','occupation_le', 'zip_le']]\n",
    "#df_le"
   ]
  },
  {
   "cell_type": "code",
   "execution_count": 25,
   "id": "3b33c7bd",
   "metadata": {},
   "outputs": [],
   "source": [
    "#BINARY ENCODER\n",
    "be = BinaryEncoder(cols=['gender','occupation','zip_code'], return_df=True)\n",
    "df_be = be.fit_transform(user[['age', 'gender','occupation','zip_code']])\n",
    "#df_be"
   ]
  },
  {
   "cell_type": "code",
   "execution_count": 26,
   "id": "f2071e90",
   "metadata": {},
   "outputs": [],
   "source": [
    "#HASHER \n",
    "user_dicts = user[['gender', 'occupation', 'zip_code']].astype(str).to_dict(orient='records')\n",
    "\n",
    "# 2. Hasher con input_type='dict'\n",
    "hasher = FeatureHasher(n_features=10, input_type='dict')\n",
    "hashed = hasher.transform(user_dicts)\n",
    "\n",
    "# 3. Converti in DataFrame\n",
    "df_hash = pd.DataFrame(hashed.toarray(), columns=[f\"hash_{i}\" for i in range(10)])\n"
   ]
  },
  {
   "cell_type": "code",
   "execution_count": 27,
   "id": "c3125869",
   "metadata": {},
   "outputs": [
    {
     "data": {
      "text/html": [
       "<div>\n",
       "<style scoped>\n",
       "    .dataframe tbody tr th:only-of-type {\n",
       "        vertical-align: middle;\n",
       "    }\n",
       "\n",
       "    .dataframe tbody tr th {\n",
       "        vertical-align: top;\n",
       "    }\n",
       "\n",
       "    .dataframe thead th {\n",
       "        text-align: right;\n",
       "    }\n",
       "</style>\n",
       "<table border=\"1\" class=\"dataframe\">\n",
       "  <thead>\n",
       "    <tr style=\"text-align: right;\">\n",
       "      <th></th>\n",
       "      <th>gender</th>\n",
       "      <th>occupation</th>\n",
       "      <th>zip_code</th>\n",
       "      <th>age</th>\n",
       "    </tr>\n",
       "  </thead>\n",
       "  <tbody>\n",
       "    <tr>\n",
       "      <th>0</th>\n",
       "      <td>34.149254</td>\n",
       "      <td>33.448045</td>\n",
       "      <td>33.689963</td>\n",
       "      <td>24</td>\n",
       "    </tr>\n",
       "    <tr>\n",
       "      <th>1</th>\n",
       "      <td>33.813187</td>\n",
       "      <td>34.523714</td>\n",
       "      <td>34.867750</td>\n",
       "      <td>53</td>\n",
       "    </tr>\n",
       "    <tr>\n",
       "      <th>2</th>\n",
       "      <td>34.149254</td>\n",
       "      <td>36.139736</td>\n",
       "      <td>32.614008</td>\n",
       "      <td>23</td>\n",
       "    </tr>\n",
       "    <tr>\n",
       "      <th>3</th>\n",
       "      <td>34.149254</td>\n",
       "      <td>33.448045</td>\n",
       "      <td>32.744116</td>\n",
       "      <td>24</td>\n",
       "    </tr>\n",
       "    <tr>\n",
       "      <th>4</th>\n",
       "      <td>33.813187</td>\n",
       "      <td>34.523714</td>\n",
       "      <td>33.915093</td>\n",
       "      <td>33</td>\n",
       "    </tr>\n",
       "    <tr>\n",
       "      <th>...</th>\n",
       "      <td>...</td>\n",
       "      <td>...</td>\n",
       "      <td>...</td>\n",
       "      <td>...</td>\n",
       "    </tr>\n",
       "    <tr>\n",
       "      <th>938</th>\n",
       "      <td>33.813187</td>\n",
       "      <td>22.081633</td>\n",
       "      <td>33.004333</td>\n",
       "      <td>26</td>\n",
       "    </tr>\n",
       "    <tr>\n",
       "      <th>939</th>\n",
       "      <td>34.149254</td>\n",
       "      <td>38.734009</td>\n",
       "      <td>32.602260</td>\n",
       "      <td>32</td>\n",
       "    </tr>\n",
       "    <tr>\n",
       "      <th>940</th>\n",
       "      <td>34.149254</td>\n",
       "      <td>22.081633</td>\n",
       "      <td>32.223683</td>\n",
       "      <td>20</td>\n",
       "    </tr>\n",
       "    <tr>\n",
       "      <th>941</th>\n",
       "      <td>33.813187</td>\n",
       "      <td>39.743596</td>\n",
       "      <td>35.866720</td>\n",
       "      <td>48</td>\n",
       "    </tr>\n",
       "    <tr>\n",
       "      <th>942</th>\n",
       "      <td>34.149254</td>\n",
       "      <td>22.081633</td>\n",
       "      <td>32.483899</td>\n",
       "      <td>22</td>\n",
       "    </tr>\n",
       "  </tbody>\n",
       "</table>\n",
       "<p>943 rows × 4 columns</p>\n",
       "</div>"
      ],
      "text/plain": [
       "        gender  occupation   zip_code  age\n",
       "0    34.149254   33.448045  33.689963   24\n",
       "1    33.813187   34.523714  34.867750   53\n",
       "2    34.149254   36.139736  32.614008   23\n",
       "3    34.149254   33.448045  32.744116   24\n",
       "4    33.813187   34.523714  33.915093   33\n",
       "..         ...         ...        ...  ...\n",
       "938  33.813187   22.081633  33.004333   26\n",
       "939  34.149254   38.734009  32.602260   32\n",
       "940  34.149254   22.081633  32.223683   20\n",
       "941  33.813187   39.743596  35.866720   48\n",
       "942  34.149254   22.081633  32.483899   22\n",
       "\n",
       "[943 rows x 4 columns]"
      ]
     },
     "execution_count": 27,
     "metadata": {},
     "output_type": "execute_result"
    }
   ],
   "source": [
    "#TARGET ENCODER\n",
    "\n",
    "te = TargetEncoder(cols=['gender', 'occupation', 'zip_code'])\n",
    "df_te = te.fit_transform(user[['gender', 'occupation', 'zip_code']], user['age'])\n",
    "df_te['age'] = user['age']\n",
    "df_te"
   ]
  },
  {
   "cell_type": "code",
   "execution_count": 28,
   "id": "7ec421ca",
   "metadata": {},
   "outputs": [],
   "source": [
    "# 4. Standardizzazione dei dati\n",
    "scaler = StandardScaler()\n",
    "data_scaled = scaler.fit_transform(df_te)"
   ]
  },
  {
   "cell_type": "code",
   "execution_count": 29,
   "id": "7582f2ba",
   "metadata": {},
   "outputs": [
    {
     "name": "stdout",
     "output_type": "stream",
     "text": [
      "Numero ottimale di cluster trovato: 5 | \n"
     ]
    }
   ],
   "source": [
    "\n",
    "# 5. Trova il numero ottimale di cluster usando il silhouette score\n",
    "silhouette_scores = []\n",
    "K_range = range(2,11)\n",
    "for k in K_range:\n",
    "    kmeans = KMeans(n_clusters=k, random_state=42)\n",
    "    labels = kmeans.fit_predict(data_scaled)\n",
    "    score = silhouette_score(data_scaled, labels)\n",
    "    silhouette_scores.append(score)\n",
    "\n",
    "optimal_k = K_range[silhouette_scores.index(max(silhouette_scores))]\n",
    "print(f\"Numero ottimale di cluster trovato: {optimal_k} | \")\n"
   ]
  },
  {
   "cell_type": "code",
   "execution_count": 30,
   "id": "39cba2e3",
   "metadata": {},
   "outputs": [
    {
     "data": {
      "text/plain": [
       "0.4675826808445084"
      ]
     },
     "execution_count": 30,
     "metadata": {},
     "output_type": "execute_result"
    }
   ],
   "source": [
    "opt = silhouette_scores.index(max(silhouette_scores))\n",
    "silhouette_scores[opt]"
   ]
  },
  {
   "cell_type": "code",
   "execution_count": 31,
   "id": "1938f9a4",
   "metadata": {},
   "outputs": [
    {
     "data": {
      "text/plain": [
       "3"
      ]
     },
     "execution_count": 31,
     "metadata": {},
     "output_type": "execute_result"
    }
   ],
   "source": [
    "opt"
   ]
  },
  {
   "cell_type": "code",
   "execution_count": 32,
   "id": "e5401f95",
   "metadata": {},
   "outputs": [
    {
     "data": {
      "text/plain": [
       "[0.3423728308621057,\n",
       " 0.3833989601718213,\n",
       " 0.4596173332013154,\n",
       " 0.4675826808445084,\n",
       " 0.43377588335964945,\n",
       " 0.3779916261489586,\n",
       " 0.46527436329721894,\n",
       " 0.4394728023474113,\n",
       " 0.3980928494099358]"
      ]
     },
     "execution_count": 32,
     "metadata": {},
     "output_type": "execute_result"
    }
   ],
   "source": [
    "silhouette_scores"
   ]
  },
  {
   "cell_type": "code",
   "execution_count": 33,
   "id": "5021cac1",
   "metadata": {},
   "outputs": [],
   "source": [
    "# 6. Applica KMeans con il numero ottimale di cluster\n",
    "kmeans = KMeans(n_clusters=opt, random_state=42)\n",
    "user['cluster'] = kmeans.fit_predict(data_scaled)"
   ]
  },
  {
   "cell_type": "code",
   "execution_count": 34,
   "id": "655ba3dd",
   "metadata": {},
   "outputs": [],
   "source": [
    "pca = PCA(n_components=3)\n",
    "components = pca.fit_transform(data_scaled)\n",
    "user[['PCA1','PCA2','PCA3']] = components\n"
   ]
  },
  {
   "cell_type": "code",
   "execution_count": 35,
   "id": "fd6d27bb",
   "metadata": {},
   "outputs": [
    {
     "data": {
      "image/png": "[encoded data removed]",
      "text/plain": [
       "<Figure size 1000x600 with 1 Axes>"
      ]
     },
     "metadata": {},
     "output_type": "display_data"
    }
   ],
   "source": [
    "# 8. Plot dei cluster\n",
    "plt.figure(figsize=(10, 6))\n",
    "sns.scatterplot(data=user, x='PCA1', y='PCA2', hue='cluster', palette='Set1', s=60)\n",
    "plt.title('Cluster utenti con K-Means (PCA 2D)')\n",
    "plt.xlabel('PCA1')\n",
    "plt.ylabel('PCA2')\n",
    "plt.legend(title='Cluster')\n",
    "plt.grid(True)\n",
    "plt.tight_layout()\n",
    "plt.show()"
   ]
  },
  {
   "cell_type": "code",
   "execution_count": null,
   "id": "90a5fc17",
   "metadata": {},
   "outputs": [
    {
     "data": {
      "application/vnd.plotly.v1+json": {
       "config": {
        "plotlyServerURL": "https://plot.ly"
       },
       "data": [
        {
         "hovertemplate": "PCA1=%{x}<br>PCA2=%{y}<br>PCA3=%{z}<br>cluster=%{marker.color}<extra></extra>",
         "legendgroup": "",
         "marker": {
          "color": {
           "bdata": "AgAAAAAAAAACAAAAAgAAAAAAAAABAAAAAQAAAAEAAAACAAAAAQAAAAAAAAAAAAAAAQAAAAEAAAAAAAAAAgAAAAIAAAAAAAAAAQAAAAAAAAACAAAAAgAAAAAAAAACAAAAAQAAAAEAAAAAAAAAAQAAAAEAAAACAAAAAgAAAAIAAAACAAAAAAAAAAIAAAACAAAAAgAAAAAAAAABAAAAAQAAAAEAAAABAAAAAAAAAAIAAAACAAAAAAAAAAEAAAABAAAAAgAAAAIAAAABAAAAAgAAAAIAAAACAAAAAQAAAAIAAAACAAAAAgAAAAEAAAABAAAAAQAAAAAAAAACAAAAAQAAAAAAAAACAAAAAgAAAAIAAAACAAAAAgAAAAEAAAAAAAAAAgAAAAEAAAACAAAAAgAAAAIAAAACAAAAAAAAAAAAAAACAAAAAQAAAAEAAAABAAAAAQAAAAIAAAABAAAAAAAAAAAAAAABAAAAAQAAAAIAAAABAAAAAgAAAAEAAAAAAAAAAQAAAAAAAAACAAAAAQAAAAIAAAABAAAAAgAAAAIAAAABAAAAAQAAAAEAAAABAAAAAgAAAAIAAAABAAAAAgAAAAEAAAACAAAAAgAAAAEAAAACAAAAAgAAAAIAAAAAAAAAAQAAAAAAAAAAAAAAAgAAAAIAAAAAAAAAAgAAAAAAAAAAAAAAAgAAAAAAAAACAAAAAQAAAAIAAAACAAAAAQAAAAEAAAABAAAAAgAAAAIAAAABAAAAAgAAAAEAAAABAAAAAgAAAAEAAAAAAAAAAQAAAAAAAAAAAAAAAAAAAAAAAAACAAAAAgAAAAAAAAACAAAAAQAAAAEAAAACAAAAAgAAAAEAAAACAAAAAQAAAAEAAAACAAAAAQAAAAEAAAABAAAAAAAAAAAAAAAAAAAAAQAAAAEAAAAAAAAAAAAAAAIAAAACAAAAAgAAAAIAAAAAAAAAAgAAAAEAAAABAAAAAQAAAAAAAAAAAAAAAgAAAAEAAAACAAAAAQAAAAEAAAABAAAAAgAAAAEAAAABAAAAAQAAAAEAAAACAAAAAgAAAAEAAAACAAAAAAAAAAIAAAAAAAAAAQAAAAIAAAABAAAAAQAAAAAAAAABAAAAAQAAAAAAAAABAAAAAAAAAAEAAAACAAAAAgAAAAEAAAACAAAAAQAAAAIAAAACAAAAAgAAAAAAAAAAAAAAAgAAAAEAAAACAAAAAAAAAAIAAAABAAAAAQAAAAEAAAABAAAAAQAAAAAAAAABAAAAAAAAAAEAAAAAAAAAAgAAAAEAAAABAAAAAgAAAAIAAAACAAAAAgAAAAIAAAACAAAAAgAAAAIAAAABAAAAAAAAAAEAAAACAAAAAAAAAAIAAAACAAAAAgAAAAAAAAACAAAAAgAAAAEAAAAAAAAAAgAAAAAAAAACAAAAAgAAAAAAAAACAAAAAQAAAAIAAAAAAAAAAgAAAAEAAAACAAAAAAAAAAAAAAACAAAAAAAAAAIAAAACAAAAAgAAAAEAAAACAAAAAgAAAAIAAAABAAAAAgAAAAEAAAACAAAAAAAAAAIAAAABAAAAAQAAAAAAAAAAAAAAAQAAAAIAAAAAAAAAAgAAAAEAAAACAAAAAgAAAAIAAAABAAAAAgAAAAEAAAABAAAAAQAAAAIAAAABAAAAAQAAAAIAAAABAAAAAAAAAAIAAAABAAAAAQAAAAIAAAAAAAAAAgAAAAIAAAACAAAAAQAAAAEAAAACAAAAAQAAAAEAAAAAAAAAAQAAAAIAAAABAAAAAQAAAAEAAAACAAAAAQAAAAAAAAABAAAAAQAAAAIAAAAAAAAAAQAAAAAAAAAAAAAAAQAAAAIAAAACAAAAAQAAAAIAAAABAAAAAAAAAAIAAAAAAAAAAgAAAAAAAAACAAAAAQAAAAIAAAABAAAAAgAAAAAAAAACAAAAAQAAAAIAAAACAAAAAgAAAAIAAAACAAAAAQAAAAEAAAACAAAAAAAAAAEAAAACAAAAAAAAAAIAAAACAAAAAQAAAAEAAAACAAAAAQAAAAEAAAABAAAAAgAAAAEAAAACAAAAAgAAAAAAAAAAAAAAAgAAAAEAAAACAAAAAgAAAAEAAAABAAAAAgAAAAEAAAACAAAAAAAAAAAAAAACAAAAAQAAAAAAAAAAAAAAAQAAAAIAAAACAAAAAQAAAAAAAAABAAAAAgAAAAEAAAACAAAAAQAAAAIAAAAAAAAAAAAAAAEAAAABAAAAAAAAAAIAAAABAAAAAAAAAAIAAAABAAAAAQAAAAIAAAACAAAAAQAAAAIAAAACAAAAAgAAAAIAAAACAAAAAAAAAAAAAAAAAAAAAAAAAAIAAAABAAAAAgAAAAEAAAAAAAAAAgAAAAEAAAABAAAAAgAAAAIAAAAAAAAAAgAAAAEAAAACAAAAAQAAAAEAAAACAAAAAAAAAAEAAAACAAAAAAAAAAIAAAACAAAAAAAAAAEAAAACAAAAAgAAAAIAAAACAAAAAQAAAAIAAAACAAAAAgAAAAIAAAABAAAAAgAAAAIAAAACAAAAAgAAAAEAAAABAAAAAQAAAAIAAAACAAAAAgAAAAAAAAABAAAAAgAAAAEAAAABAAAAAAAAAAAAAAABAAAAAgAAAAAAAAACAAAAAgAAAAIAAAACAAAAAQAAAAIAAAACAAAAAgAAAAAAAAAAAAAAAAAAAAEAAAACAAAAAgAAAAIAAAABAAAAAgAAAAIAAAABAAAAAgAAAAEAAAAAAAAAAgAAAAAAAAACAAAAAQAAAAIAAAABAAAAAAAAAAEAAAAAAAAAAgAAAAEAAAACAAAAAAAAAAIAAAAAAAAAAgAAAAEAAAACAAAAAAAAAAEAAAABAAAAAgAAAAAAAAACAAAAAgAAAAIAAAABAAAAAAAAAAIAAAABAAAAAQAAAAEAAAABAAAAAgAAAAIAAAABAAAAAQAAAAEAAAAAAAAAAAAAAAAAAAAAAAAAAQAAAAIAAAACAAAAAAAAAAAAAAABAAAAAgAAAAIAAAACAAAAAQAAAAEAAAACAAAAAgAAAAEAAAABAAAAAQAAAAEAAAABAAAAAAAAAAEAAAABAAAAAgAAAAEAAAACAAAAAQAAAAIAAAABAAAAAgAAAAIAAAACAAAAAgAAAAEAAAAAAAAAAgAAAAAAAAABAAAAAgAAAAIAAAACAAAAAAAAAAIAAAABAAAAAgAAAAAAAAACAAAAAQAAAAEAAAACAAAAAAAAAAIAAAACAAAAAgAAAAEAAAABAAAAAAAAAAEAAAABAAAAAQAAAAAAAAACAAAAAgAAAAIAAAACAAAAAgAAAAAAAAACAAAAAgAAAAIAAAACAAAAAgAAAAAAAAAAAAAAAgAAAAIAAAACAAAAAQAAAAIAAAABAAAAAgAAAAEAAAAAAAAAAgAAAAIAAAACAAAAAQAAAAEAAAACAAAAAgAAAAEAAAABAAAAAgAAAAEAAAABAAAAAQAAAAEAAAACAAAAAAAAAAEAAAAAAAAAAgAAAAEAAAACAAAAAgAAAAEAAAACAAAAAgAAAAIAAAABAAAAAQAAAAAAAAACAAAAAgAAAAIAAAAAAAAAAQAAAAIAAAABAAAAAgAAAAIAAAABAAAAAgAAAAEAAAAAAAAAAgAAAAEAAAACAAAAAAAAAAEAAAAAAAAAAAAAAAIAAAABAAAAAQAAAAEAAAAAAAAAAQAAAAIAAAABAAAAAgAAAAAAAAABAAAAAgAAAAAAAAABAAAAAgAAAAAAAAACAAAAAgAAAAAAAAAAAAAAAgAAAAIAAAACAAAAAgAAAAAAAAACAAAAAgAAAAAAAAACAAAAAQAAAAAAAAAAAAAAAAAAAAAAAAACAAAAAQAAAAIAAAAAAAAAAgAAAAEAAAACAAAAAAAAAAAAAAAAAAAAAAAAAAAAAAAAAAAAAAAAAAEAAAABAAAAAQAAAAAAAAACAAAAAgAAAAIAAAABAAAAAQAAAAIAAAACAAAAAgAAAAEAAAACAAAAAAAAAAEAAAABAAAAAAAAAAAAAAAAAAAAAgAAAAIAAAACAAAAAAAAAAIAAAABAAAAAgAAAAAAAAACAAAAAQAAAAEAAAACAAAAAQAAAAIAAAACAAAAAQAAAAIAAAACAAAAAQAAAAEAAAABAAAAAgAAAAIAAAABAAAAAgAAAAIAAAACAAAAAQAAAAEAAAAAAAAAAgAAAAEAAAACAAAAAgAAAAEAAAABAAAAAgAAAAEAAAACAAAAAAAAAAAAAAAAAAAAAAAAAAIAAAACAAAAAQAAAAEAAAABAAAAAAAAAAIAAAAAAAAAAQAAAAAAAAAAAAAAAAAAAAIAAAACAAAAAgAAAAIAAAACAAAAAgAAAAEAAAABAAAAAgAAAAEAAAAAAAAAAgAAAAIAAAABAAAAAgAAAAAAAAACAAAAAQAAAAEAAAACAAAAAgAAAAEAAAACAAAAAAAAAAEAAAAAAAAAAgAAAAAAAAABAAAAAQAAAAEAAAABAAAAAgAAAAEAAAACAAAAAgAAAAEAAAACAAAAAQAAAAIAAAABAAAAAQAAAAIAAAABAAAAAAAAAAAAAAABAAAAAgAAAAEAAAAAAAAAAgAAAAIAAAACAAAAAgAAAAEAAAACAAAAAgAAAAIAAAACAAAAAQAAAAIAAAAAAAAAAQAAAAIAAAABAAAAAgAAAAAAAAAAAAAAAgAAAAEAAAABAAAAAQAAAAEAAAAAAAAAAgAAAAIAAAABAAAAAgAAAAIAAAAAAAAAAQAAAAIAAAABAAAAAAAAAAIAAAACAAAAAgAAAAIAAAABAAAAAQAAAAAAAAABAAAAAgAAAAIAAAABAAAAAAAAAAAAAAAAAAAAAgAAAAAAAAABAAAAAgAAAAAAAAABAAAAAgAAAAIAAAABAAAAAgAAAAAAAAACAAAAAAAAAAIAAAACAAAAAgAAAAEAAAACAAAAAgAAAAEAAAAAAAAAAQAAAAEAAAACAAAAAQAAAAEAAAACAAAAAQAAAAAAAAACAAAAAgAAAAIAAAAAAAAAAgAAAA==",
           "dtype": "i4"
          },
          "coloraxis": "coloraxis",
          "symbol": "circle"
         },
         "mode": "markers",
         "name": "",
         "scene": "scene",
         "showlegend": false,
         "type": "scatter3d",
         "x": {
          "bdata": "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",
          "dtype": "f8"
         },
         "y": {
          "bdata": "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",
          "dtype": "f8"
         },
         "z": {
          "bdata": "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",
          "dtype": "f8"
         }
        }
       ],
       "layout": {
        "coloraxis": {
         "colorbar": {
          "title": {
           "text": "cluster"
          }
         },
         "colorscale": [
          [
           0,
           "#0d0887"
          ],
          [
           0.1111111111111111,
           "#46039f"
          ],
          [
           0.2222222222222222,
           "#7201a8"
          ],
          [
           0.3333333333333333,
           "#9c179e"
          ],
          [
           0.4444444444444444,
           "#bd3786"
          ],
          [
           0.5555555555555556,
           "#d8576b"
          ],
          [
           0.6666666666666666,
           "#ed7953"
          ],
          [
           0.7777777777777778,
           "#fb9f3a"
          ],
          [
           0.8888888888888888,
           "#fdca26"
          ],
          [
           1,
           "#f0f921"
          ]
         ]
        },
        "legend": {
         "title": {
          "text": "Cluster"
         },
         "tracegroupgap": 0
        },
        "margin": {
         "b": 0,
         "l": 0,
         "r": 0,
         "t": 40
        },
        "scene": {
         "domain": {
          "x": [
           0,
           1
          ],
          "y": [
           0,
           1
          ]
         },
         "xaxis": {
          "title": {
           "text": "PCA1"
          }
         },
         "yaxis": {
          "title": {
           "text": "PCA2"
          }
         },
         "zaxis": {
          "title": {
           "text": "PCA3"
          }
         }
        },
        "template": {
         "data": {
          "bar": [
           {
            "error_x": {
             "color": "#2a3f5f"
            },
            "error_y": {
             "color": "#2a3f5f"
            },
            "marker": {
             "line": {
              "color": "#E5ECF6",
              "width": 0.5
             },
             "pattern": {
              "fillmode": "overlay",
              "size": 10,
              "solidity": 0.2
             }
            },
            "type": "bar"
           }
          ],
          "barpolar": [
           {
            "marker": {
             "line": {
              "color": "#E5ECF6",
              "width": 0.5
             },
             "pattern": {
              "fillmode": "overlay",
              "size": 10,
              "solidity": 0.2
             }
            },
            "type": "barpolar"
           }
          ],
          "carpet": [
           {
            "aaxis": {
             "endlinecolor": "#2a3f5f",
             "gridcolor": "white",
             "linecolor": "white",
             "minorgridcolor": "white",
             "startlinecolor": "#2a3f5f"
            },
            "baxis": {
             "endlinecolor": "#2a3f5f",
             "gridcolor": "white",
             "linecolor": "white",
             "minorgridcolor": "white",
             "startlinecolor": "#2a3f5f"
            },
            "type": "carpet"
           }
          ],
          "choropleth": [
           {
            "colorbar": {
             "outlinewidth": 0,
             "ticks": ""
            },
            "type": "choropleth"
           }
          ],
          "contour": [
           {
            "colorbar": {
             "outlinewidth": 0,
             "ticks": ""
            },
            "colorscale": [
             [
              0,
              "#0d0887"
             ],
             [
              0.1111111111111111,
              "#46039f"
             ],
             [
              0.2222222222222222,
              "#7201a8"
             ],
             [
              0.3333333333333333,
              "#9c179e"
             ],
             [
              0.4444444444444444,
              "#bd3786"
             ],
             [
              0.5555555555555556,
              "#d8576b"
             ],
             [
              0.6666666666666666,
              "#ed7953"
             ],
             [
              0.7777777777777778,
              "#fb9f3a"
             ],
             [
              0.8888888888888888,
              "#fdca26"
             ],
             [
              1,
              "#f0f921"
             ]
            ],
            "type": "contour"
           }
          ],
          "contourcarpet": [
           {
            "colorbar": {
             "outlinewidth": 0,
             "ticks": ""
            },
            "type": "contourcarpet"
           }
          ],
          "heatmap": [
           {
            "colorbar": {
             "outlinewidth": 0,
             "ticks": ""
            },
            "colorscale": [
             [
              0,
              "#0d0887"
             ],
             [
              0.1111111111111111,
              "#46039f"
             ],
             [
              0.2222222222222222,
              "#7201a8"
             ],
             [
              0.3333333333333333,
              "#9c179e"
             ],
             [
              0.4444444444444444,
              "#bd3786"
             ],
             [
              0.5555555555555556,
              "#d8576b"
             ],
             [
              0.6666666666666666,
              "#ed7953"
             ],
             [
              0.7777777777777778,
              "#fb9f3a"
             ],
             [
              0.8888888888888888,
              "#fdca26"
             ],
             [
              1,
              "#f0f921"
             ]
            ],
            "type": "heatmap"
           }
          ],
          "histogram": [
           {
            "marker": {
             "pattern": {
              "fillmode": "overlay",
              "size": 10,
              "solidity": 0.2
             }
            },
            "type": "histogram"
           }
          ],
          "histogram2d": [
           {
            "colorbar": {
             "outlinewidth": 0,
             "ticks": ""
            },
            "colorscale": [
             [
              0,
              "#0d0887"
             ],
             [
              0.1111111111111111,
              "#46039f"
             ],
             [
              0.2222222222222222,
              "#7201a8"
             ],
             [
              0.3333333333333333,
              "#9c179e"
             ],
             [
              0.4444444444444444,
              "#bd3786"
             ],
             [
              0.5555555555555556,
              "#d8576b"
             ],
             [
              0.6666666666666666,
              "#ed7953"
             ],
             [
              0.7777777777777778,
              "#fb9f3a"
             ],
             [
              0.8888888888888888,
              "#fdca26"
             ],
             [
              1,
              "#f0f921"
             ]
            ],
            "type": "histogram2d"
           }
          ],
          "histogram2dcontour": [
           {
            "colorbar": {
             "outlinewidth": 0,
             "ticks": ""
            },
            "colorscale": [
             [
              0,
              "#0d0887"
             ],
             [
              0.1111111111111111,
              "#46039f"
             ],
             [
              0.2222222222222222,
              "#7201a8"
             ],
             [
              0.3333333333333333,
              "#9c179e"
             ],
             [
              0.4444444444444444,
              "#bd3786"
             ],
             [
              0.5555555555555556,
              "#d8576b"
             ],
             [
              0.6666666666666666,
              "#ed7953"
             ],
             [
              0.7777777777777778,
              "#fb9f3a"
             ],
             [
              0.8888888888888888,
              "#fdca26"
             ],
             [
              1,
              "#f0f921"
             ]
            ],
            "type": "histogram2dcontour"
           }
          ],
          "mesh3d": [
           {
            "colorbar": {
             "outlinewidth": 0,
             "ticks": ""
            },
            "type": "mesh3d"
           }
          ],
          "parcoords": [
           {
            "line": {
             "colorbar": {
              "outlinewidth": 0,
              "ticks": ""
             }
            },
            "type": "parcoords"
           }
          ],
          "pie": [
           {
            "automargin": true,
            "type": "pie"
           }
          ],
          "scatter": [
           {
            "fillpattern": {
             "fillmode": "overlay",
             "size": 10,
             "solidity": 0.2
            },
            "type": "scatter"
           }
          ],
          "scatter3d": [
           {
            "line": {
             "colorbar": {
              "outlinewidth": 0,
              "ticks": ""
             }
            },
            "marker": {
             "colorbar": {
              "outlinewidth": 0,
              "ticks": ""
             }
            },
            "type": "scatter3d"
           }
          ],
          "scattercarpet": [
           {
            "marker": {
             "colorbar": {
              "outlinewidth": 0,
              "ticks": ""
             }
            },
            "type": "scattercarpet"
           }
          ],
          "scattergeo": [
           {
            "marker": {
             "colorbar": {
              "outlinewidth": 0,
              "ticks": ""
             }
            },
            "type": "scattergeo"
           }
          ],
          "scattergl": [
           {
            "marker": {
             "colorbar": {
              "outlinewidth": 0,
              "ticks": ""
             }
            },
            "type": "scattergl"
           }
          ],
          "scattermap": [
           {
            "marker": {
             "colorbar": {
              "outlinewidth": 0,
              "ticks": ""
             }
            },
            "type": "scattermap"
           }
          ],
          "scattermapbox": [
           {
            "marker": {
             "colorbar": {
              "outlinewidth": 0,
              "ticks": ""
             }
            },
            "type": "scattermapbox"
           }
          ],
          "scatterpolar": [
           {
            "marker": {
             "colorbar": {
              "outlinewidth": 0,
              "ticks": ""
             }
            },
            "type": "scatterpolar"
           }
          ],
          "scatterpolargl": [
           {
            "marker": {
             "colorbar": {
              "outlinewidth": 0,
              "ticks": ""
             }
            },
            "type": "scatterpolargl"
           }
          ],
          "scatterternary": [
           {
            "marker": {
             "colorbar": {
              "outlinewidth": 0,
              "ticks": ""
             }
            },
            "type": "scatterternary"
           }
          ],
          "surface": [
           {
            "colorbar": {
             "outlinewidth": 0,
             "ticks": ""
            },
            "colorscale": [
             [
              0,
              "#0d0887"
             ],
             [
              0.1111111111111111,
              "#46039f"
             ],
             [
              0.2222222222222222,
              "#7201a8"
             ],
             [
              0.3333333333333333,
              "#9c179e"
             ],
             [
              0.4444444444444444,
              "#bd3786"
             ],
             [
              0.5555555555555556,
              "#d8576b"
             ],
             [
              0.6666666666666666,
              "#ed7953"
             ],
             [
              0.7777777777777778,
              "#fb9f3a"
             ],
             [
              0.8888888888888888,
              "#fdca26"
             ],
             [
              1,
              "#f0f921"
             ]
            ],
            "type": "surface"
           }
          ],
          "table": [
           {
            "cells": {
             "fill": {
              "color": "#EBF0F8"
             },
             "line": {
              "color": "white"
             }
            },
            "header": {
             "fill": {
              "color": "#C8D4E3"
             },
             "line": {
              "color": "white"
             }
            },
            "type": "table"
           }
          ]
         },
         "layout": {
          "annotationdefaults": {
           "arrowcolor": "#2a3f5f",
           "arrowhead": 0,
           "arrowwidth": 1
          },
          "autotypenumbers": "strict",
          "coloraxis": {
           "colorbar": {
            "outlinewidth": 0,
            "ticks": ""
           }
          },
          "colorscale": {
           "diverging": [
            [
             0,
             "#8e0152"
            ],
            [
             0.1,
             "#c51b7d"
            ],
            [
             0.2,
             "#de77ae"
            ],
            [
             0.3,
             "#f1b6da"
            ],
            [
             0.4,
             "#fde0ef"
            ],
            [
             0.5,
             "#f7f7f7"
            ],
            [
             0.6,
             "#e6f5d0"
            ],
            [
             0.7,
             "#b8e186"
            ],
            [
             0.8,
             "#7fbc41"
            ],
            [
             0.9,
             "#4d9221"
            ],
            [
             1,
             "#276419"
            ]
           ],
           "sequential": [
            [
             0,
             "#0d0887"
            ],
            [
             0.1111111111111111,
             "#46039f"
            ],
            [
             0.2222222222222222,
             "#7201a8"
            ],
            [
             0.3333333333333333,
             "#9c179e"
            ],
            [
             0.4444444444444444,
             "#bd3786"
            ],
            [
             0.5555555555555556,
             "#d8576b"
            ],
            [
             0.6666666666666666,
             "#ed7953"
            ],
            [
             0.7777777777777778,
             "#fb9f3a"
            ],
            [
             0.8888888888888888,
             "#fdca26"
            ],
            [
             1,
             "#f0f921"
            ]
           ],
           "sequentialminus": [
            [
             0,
             "#0d0887"
            ],
            [
             0.1111111111111111,
             "#46039f"
            ],
            [
             0.2222222222222222,
             "#7201a8"
            ],
            [
             0.3333333333333333,
             "#9c179e"
            ],
            [
             0.4444444444444444,
             "#bd3786"
            ],
            [
             0.5555555555555556,
             "#d8576b"
            ],
            [
             0.6666666666666666,
             "#ed7953"
            ],
            [
             0.7777777777777778,
             "#fb9f3a"
            ],
            [
             0.8888888888888888,
             "#fdca26"
            ],
            [
             1,
             "#f0f921"
            ]
           ]
          },
          "colorway": [
           "#636efa",
           "#EF553B",
           "#00cc96",
           "#ab63fa",
           "#FFA15A",
           "#19d3f3",
           "#FF6692",
           "#B6E880",
           "#FF97FF",
           "#FECB52"
          ],
          "font": {
           "color": "#2a3f5f"
          },
          "geo": {
           "bgcolor": "white",
           "lakecolor": "white",
           "landcolor": "#E5ECF6",
           "showlakes": true,
           "showland": true,
           "subunitcolor": "white"
          },
          "hoverlabel": {
           "align": "left"
          },
          "hovermode": "closest",
          "mapbox": {
           "style": "light"
          },
          "paper_bgcolor": "white",
          "plot_bgcolor": "#E5ECF6",
          "polar": {
           "angularaxis": {
            "gridcolor": "white",
            "linecolor": "white",
            "ticks": ""
           },
           "bgcolor": "#E5ECF6",
           "radialaxis": {
            "gridcolor": "white",
            "linecolor": "white",
            "ticks": ""
           }
          },
          "scene": {
           "xaxis": {
            "backgroundcolor": "#E5ECF6",
            "gridcolor": "white",
            "gridwidth": 2,
            "linecolor": "white",
            "showbackground": true,
            "ticks": "",
            "zerolinecolor": "white"
           },
           "yaxis": {
            "backgroundcolor": "#E5ECF6",
            "gridcolor": "white",
            "gridwidth": 2,
            "linecolor": "white",
            "showbackground": true,
            "ticks": "",
            "zerolinecolor": "white"
           },
           "zaxis": {
            "backgroundcolor": "#E5ECF6",
            "gridcolor": "white",
            "gridwidth": 2,
            "linecolor": "white",
            "showbackground": true,
            "ticks": "",
            "zerolinecolor": "white"
           }
          },
          "shapedefaults": {
           "line": {
            "color": "#2a3f5f"
           }
          },
          "ternary": {
           "aaxis": {
            "gridcolor": "white",
            "linecolor": "white",
            "ticks": ""
           },
           "baxis": {
            "gridcolor": "white",
            "linecolor": "white",
            "ticks": ""
           },
           "bgcolor": "#E5ECF6",
           "caxis": {
            "gridcolor": "white",
            "linecolor": "white",
            "ticks": ""
           }
          },
          "title": {
           "x": 0.05
          },
          "xaxis": {
           "automargin": true,
           "gridcolor": "white",
           "linecolor": "white",
           "ticks": "",
           "title": {
            "standoff": 15
           },
           "zerolinecolor": "white",
           "zerolinewidth": 2
          },
          "yaxis": {
           "automargin": true,
           "gridcolor": "white",
           "linecolor": "white",
           "ticks": "",
           "title": {
            "standoff": 15
           },
           "zerolinecolor": "white",
           "zerolinewidth": 2
          }
         }
        },
        "title": {
         "text": "Cluster utenti con K-Means (PCA 3D)"
        }
       }
      }
     },
     "metadata": {},
     "output_type": "display_data"
    }
   ],
   "source": [
    "import plotly.express as px\n",
    "\n",
    "fig = px.scatter_3d(\n",
    "    user,\n",
    "    x='PCA1',\n",
    "    y='PCA2',\n",
    "    z='PCA3',\n",
    "    color='cluster',\n",
    "    title='Cluster utenti con K-Means (PCA 3D)',\n",
    "    labels={'PCA1': 'PCA1', 'PCA2': 'PCA2', 'PCA3': 'PCA3'}\n",
    ")\n",
    "\n",
    "fig.update_layout(\n",
    "    margin=dict(l=0, r=0, b=0, t=40),\n",
    "    legend_title_text='Cluster'\n",
    ")\n",
    "\n",
    "fig.show()"
   ]
  }
 ],
 "metadata": {
  "kernelspec": {
   "display_name": "FDSML",
   "language": "python",
   "name": "python3"
  },
  "language_info": {
   "codemirror_mode": {
    "name": "ipython",
    "version": 3
   },
   "file_extension": ".py",
   "mimetype": "text/x-python",
   "name": "python",
   "nbconvert_exporter": "python",
   "pygments_lexer": "ipython3",
   "version": "3.10.18"
  }
 },
 "nbformat": 4,
 "nbformat_minor": 5
}
