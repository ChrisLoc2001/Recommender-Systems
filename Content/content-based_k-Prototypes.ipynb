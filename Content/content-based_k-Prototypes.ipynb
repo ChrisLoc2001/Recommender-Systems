{
 "cells": [
  {
   "cell_type": "code",
   "execution_count": null,
   "id": "e87a43cf",
   "metadata": {},
   "outputs": [],
   "source": [
    "import pandas as pd\n",
    "from sklearn.preprocessing import StandardScaler\n",
    "from sklearn.cluster import KMeans\n",
    "from sklearn.metrics import silhouette_score\n",
    "from sklearn.decomposition import PCA\n",
    "import matplotlib.pyplot as plt\n",
    "import seaborn as sns\n",
    "from scipy.cluster.hierarchy import linkage, dendrogram\n",
    "from sklearn.preprocessing import LabelEncoder, OneHotEncoder\n",
    "from category_encoders import BinaryEncoder, TargetEncoder\n",
    "from sklearn.feature_extraction import FeatureHasher\n",
    "from kmodes.kprototypes import KPrototypes\n",
    "import plotly.express as px\n"
   ]
  },
  {
   "cell_type": "code",
   "execution_count": null,
   "id": "3209fed1",
   "metadata": {},
   "outputs": [],
   "source": [
    "ratings = pd.read_csv('../datasets/ml-100k/u.data', \n",
    "                      sep='\\t', \n",
    "                      names=['user_id', 'item_id', 'rating', 'timestamp'])\n",
    "ratings = ratings.drop(columns='timestamp')\n",
    "\n",
    "user_item_dense = ratings.pivot(\n",
    "    index='user_id',\n",
    "    columns='item_id',\n",
    "    values='rating'\n",
    ").fillna(0)"
   ]
  },
  {
   "cell_type": "code",
   "execution_count": null,
   "id": "4a7299c0",
   "metadata": {},
   "outputs": [],
   "source": [
    "user = pd.read_csv('../datasets/ml-100k/u.user', \n",
    "                      sep='|', \n",
    "                      names=['user_id', 'age', 'gender', 'occupation', 'zip_code'])\n",
    "\n",
    "merged = user.merge(user_item_dense, on='user_id')\n",
    "\n",
    "user"
   ]
  },
  {
   "cell_type": "code",
   "execution_count": null,
   "id": "631d720b",
   "metadata": {},
   "outputs": [],
   "source": [
    "# K-PROTOTYPE\n",
    "le_gender = LabelEncoder()\n",
    "le_occ    = LabelEncoder()\n",
    "le_zip    = LabelEncoder()\n",
    "\n",
    "user['gender_le']     = le_gender.fit_transform(user['gender'])\n",
    "user['occupation_le'] = le_occ.fit_transform(user['occupation'])\n",
    "user['zip_le']        = le_zip.fit_transform(user['zip_code'])\n",
    "\n",
    "\n",
    "matrix = user[['age', 'zip_le', 'gender_le', 'occupation_le']].to_numpy()\n"
   ]
  },
  {
   "cell_type": "code",
   "execution_count": null,
   "id": "b2e68590",
   "metadata": {},
   "outputs": [],
   "source": [
    "matrix"
   ]
  },
  {
   "cell_type": "code",
   "execution_count": null,
   "id": "7582f2ba",
   "metadata": {},
   "outputs": [],
   "source": [
    "sil_scores = {}\n",
    "range_n_clusters = range(2, 11)  # prova da 2 a 10 cluster\n",
    "\n",
    "for k in range_n_clusters:\n",
    "    # fit k‑Prototypes\n",
    "    kp = KPrototypes(n_clusters=k, init='Cao', verbose=0, random_state=42)\n",
    "    labels = kp.fit_predict(matrix, categorical=[1, 2, 3])\n",
    "    # silhouette score (usiamo distanza euclidea sulla matrice numerica codificata)\n",
    "    score = silhouette_score(matrix, labels, metric='euclidean')\n",
    "    sil_scores[k] = score\n",
    "    print(f\"k = {k} → silhouette score = {score:.4f}\")\n",
    "\n",
    "# Trova il k con il silhouette migliore\n",
    "best_k = max(sil_scores, key=sil_scores.get)\n",
    "best_score = sil_scores[best_k]\n",
    "print(f\"\\nNumero ottimale di cluster: k = {best_k} (silhouette = {best_score:.4f})\")"
   ]
  },
  {
   "cell_type": "code",
   "execution_count": null,
   "id": "89fec5cb",
   "metadata": {},
   "outputs": [],
   "source": [
    "kp = KPrototypes(n_clusters=best_k, init='Cao', verbose=1, random_state=42)\n",
    "clusters = kp.fit_predict(matrix, categorical=[1, 2, 3])  # zip_code, gender, occupation\n",
    "user['cluster_kp'] = clusters"
   ]
  },
  {
   "cell_type": "code",
   "execution_count": null,
   "id": "b5817857",
   "metadata": {},
   "outputs": [],
   "source": [
    "# 5. Riduzione a 3 dimensioni (PCA) per la visualizzazione\n",
    "pca = PCA(n_components=3)\n",
    "coords_3d = pca.fit_transform(matrix)\n",
    "df_plot = pd.DataFrame(coords_3d, columns=['PC1', 'PC2', 'PC3'])\n",
    "df_plot['cluster'] = clusters.astype(str)"
   ]
  },
  {
   "cell_type": "code",
   "execution_count": null,
   "id": "bde859b3",
   "metadata": {},
   "outputs": [],
   "source": [
    "# 6. Grafico 3D interattivo con Plotly\n",
    "fig = px.scatter_3d(\n",
    "    df_plot,\n",
    "    x='PC1', y='PC2', z='PC3',\n",
    "    color='cluster',\n",
    "    title='Visualizzazione 3D interattiva dei cluster k‑Prototypes',\n",
    "    labels={'cluster': 'Cluster'}\n",
    ")\n",
    "fig.update_traces(marker=dict(size=4))\n",
    "fig.show()"
   ]
  }
 ],
 "metadata": {
  "kernelspec": {
   "display_name": "FDSML",
   "language": "python",
   "name": "python3"
  },
  "language_info": {
   "codemirror_mode": {
    "name": "ipython",
    "version": 3
   },
   "file_extension": ".py",
   "mimetype": "text/x-python",
   "name": "python",
   "nbconvert_exporter": "python",
   "pygments_lexer": "ipython3",
   "version": "3.10.18"
  }
 },
 "nbformat": 4,
 "nbformat_minor": 5
}
