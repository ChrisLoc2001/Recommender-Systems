{
 "cells": [
  {
   "cell_type": "code",
   "execution_count": 12,
   "id": "e87a43cf",
   "metadata": {},
   "outputs": [],
   "source": [
    "import pandas as pd\n",
    "from sklearn.preprocessing import StandardScaler\n",
    "from sklearn.cluster import KMeans\n",
    "from sklearn.metrics import silhouette_score\n",
    "from sklearn.decomposition import PCA\n",
    "import matplotlib.pyplot as plt\n",
    "import seaborn as sns\n",
    "from scipy.cluster.hierarchy import linkage, dendrogram\n",
    "from sklearn.preprocessing import LabelEncoder, OneHotEncoder\n",
    "from category_encoders import BinaryEncoder, TargetEncoder\n",
    "from sklearn.feature_extraction import FeatureHasher\n",
    "from kmodes.kprototypes import KPrototypes\n",
    "import plotly.express as px\n"
   ]
  },
  {
   "cell_type": "code",
   "execution_count": 13,
   "id": "3209fed1",
   "metadata": {},
   "outputs": [],
   "source": [
    "ratings = pd.read_csv('../datasets/ml-100k/u.data', \n",
    "                      sep='\\t', \n",
    "                      names=['user_id', 'item_id', 'rating', 'timestamp'])\n",
    "ratings = ratings.drop(columns='timestamp')\n",
    "\n",
    "user_item_dense = ratings.pivot(\n",
    "    index='user_id',\n",
    "    columns='item_id',\n",
    "    values='rating'\n",
    ").fillna(0)"
   ]
  },
  {
   "cell_type": "code",
   "execution_count": 14,
   "id": "4a7299c0",
   "metadata": {},
   "outputs": [
    {
     "data": {
      "text/html": [
       "<div>\n",
       "<style scoped>\n",
       "    .dataframe tbody tr th:only-of-type {\n",
       "        vertical-align: middle;\n",
       "    }\n",
       "\n",
       "    .dataframe tbody tr th {\n",
       "        vertical-align: top;\n",
       "    }\n",
       "\n",
       "    .dataframe thead th {\n",
       "        text-align: right;\n",
       "    }\n",
       "</style>\n",
       "<table border=\"1\" class=\"dataframe\">\n",
       "  <thead>\n",
       "    <tr style=\"text-align: right;\">\n",
       "      <th></th>\n",
       "      <th>user_id</th>\n",
       "      <th>age</th>\n",
       "      <th>gender</th>\n",
       "      <th>occupation</th>\n",
       "      <th>zip_code</th>\n",
       "    </tr>\n",
       "  </thead>\n",
       "  <tbody>\n",
       "    <tr>\n",
       "      <th>0</th>\n",
       "      <td>1</td>\n",
       "      <td>24</td>\n",
       "      <td>M</td>\n",
       "      <td>technician</td>\n",
       "      <td>85711</td>\n",
       "    </tr>\n",
       "    <tr>\n",
       "      <th>1</th>\n",
       "      <td>2</td>\n",
       "      <td>53</td>\n",
       "      <td>F</td>\n",
       "      <td>other</td>\n",
       "      <td>94043</td>\n",
       "    </tr>\n",
       "    <tr>\n",
       "      <th>2</th>\n",
       "      <td>3</td>\n",
       "      <td>23</td>\n",
       "      <td>M</td>\n",
       "      <td>writer</td>\n",
       "      <td>32067</td>\n",
       "    </tr>\n",
       "    <tr>\n",
       "      <th>3</th>\n",
       "      <td>4</td>\n",
       "      <td>24</td>\n",
       "      <td>M</td>\n",
       "      <td>technician</td>\n",
       "      <td>43537</td>\n",
       "    </tr>\n",
       "    <tr>\n",
       "      <th>4</th>\n",
       "      <td>5</td>\n",
       "      <td>33</td>\n",
       "      <td>F</td>\n",
       "      <td>other</td>\n",
       "      <td>15213</td>\n",
       "    </tr>\n",
       "    <tr>\n",
       "      <th>...</th>\n",
       "      <td>...</td>\n",
       "      <td>...</td>\n",
       "      <td>...</td>\n",
       "      <td>...</td>\n",
       "      <td>...</td>\n",
       "    </tr>\n",
       "    <tr>\n",
       "      <th>938</th>\n",
       "      <td>939</td>\n",
       "      <td>26</td>\n",
       "      <td>F</td>\n",
       "      <td>student</td>\n",
       "      <td>33319</td>\n",
       "    </tr>\n",
       "    <tr>\n",
       "      <th>939</th>\n",
       "      <td>940</td>\n",
       "      <td>32</td>\n",
       "      <td>M</td>\n",
       "      <td>administrator</td>\n",
       "      <td>02215</td>\n",
       "    </tr>\n",
       "    <tr>\n",
       "      <th>940</th>\n",
       "      <td>941</td>\n",
       "      <td>20</td>\n",
       "      <td>M</td>\n",
       "      <td>student</td>\n",
       "      <td>97229</td>\n",
       "    </tr>\n",
       "    <tr>\n",
       "      <th>941</th>\n",
       "      <td>942</td>\n",
       "      <td>48</td>\n",
       "      <td>F</td>\n",
       "      <td>librarian</td>\n",
       "      <td>78209</td>\n",
       "    </tr>\n",
       "    <tr>\n",
       "      <th>942</th>\n",
       "      <td>943</td>\n",
       "      <td>22</td>\n",
       "      <td>M</td>\n",
       "      <td>student</td>\n",
       "      <td>77841</td>\n",
       "    </tr>\n",
       "  </tbody>\n",
       "</table>\n",
       "<p>943 rows × 5 columns</p>\n",
       "</div>"
      ],
      "text/plain": [
       "     user_id  age gender     occupation zip_code\n",
       "0          1   24      M     technician    85711\n",
       "1          2   53      F          other    94043\n",
       "2          3   23      M         writer    32067\n",
       "3          4   24      M     technician    43537\n",
       "4          5   33      F          other    15213\n",
       "..       ...  ...    ...            ...      ...\n",
       "938      939   26      F        student    33319\n",
       "939      940   32      M  administrator    02215\n",
       "940      941   20      M        student    97229\n",
       "941      942   48      F      librarian    78209\n",
       "942      943   22      M        student    77841\n",
       "\n",
       "[943 rows x 5 columns]"
      ]
     },
     "execution_count": 14,
     "metadata": {},
     "output_type": "execute_result"
    }
   ],
   "source": [
    "user = pd.read_csv('../datasets/ml-100k/u.user', \n",
    "                      sep='|', \n",
    "                      names=['user_id', 'age', 'gender', 'occupation', 'zip_code'])\n",
    "\n",
    "merged = user.merge(user_item_dense, on='user_id')\n",
    "\n",
    "user"
   ]
  },
  {
   "cell_type": "code",
   "execution_count": 15,
   "id": "631d720b",
   "metadata": {},
   "outputs": [
    {
     "name": "stdout",
     "output_type": "stream",
     "text": [
      "Initialization method and algorithm are deterministic. Setting n_init to 1.\n",
      "Init: initializing centroids\n",
      "Init: initializing clusters\n",
      "Starting iterations...\n",
      "Run: 1, iteration: 1/100, moves: 225, ncost: 25372.039284658833\n",
      "Run: 1, iteration: 2/100, moves: 86, ncost: 24715.597095701753\n",
      "Run: 1, iteration: 3/100, moves: 11, ncost: 24702.73069955004\n",
      "Run: 1, iteration: 4/100, moves: 0, ncost: 24702.73069955004\n",
      "Init: initializing centroids\n",
      "Init: initializing clusters\n",
      "Starting iterations...\n",
      "Run: 2, iteration: 1/100, moves: 108, ncost: 24726.16893718197\n",
      "Run: 2, iteration: 2/100, moves: 30, ncost: 24615.831376146245\n",
      "Run: 2, iteration: 3/100, moves: 3, ncost: 24614.475029632085\n",
      "Run: 2, iteration: 4/100, moves: 0, ncost: 24614.475029632085\n",
      "Init: initializing centroids\n",
      "Init: initializing clusters\n",
      "Starting iterations...\n",
      "Run: 3, iteration: 1/100, moves: 202, ncost: 26940.450766578033\n",
      "Run: 3, iteration: 2/100, moves: 90, ncost: 25344.09064644475\n",
      "Run: 3, iteration: 3/100, moves: 50, ncost: 24805.71277979186\n",
      "Run: 3, iteration: 4/100, moves: 22, ncost: 24700.278925301987\n",
      "Run: 3, iteration: 5/100, moves: 2, ncost: 24699.31496495074\n",
      "Run: 3, iteration: 6/100, moves: 0, ncost: 24699.31496495074\n",
      "Init: initializing centroids\n",
      "Init: initializing clusters\n",
      "Starting iterations...\n",
      "Run: 4, iteration: 1/100, moves: 171, ncost: 25970.720797476344\n",
      "Run: 4, iteration: 2/100, moves: 73, ncost: 24952.137081645596\n",
      "Run: 4, iteration: 3/100, moves: 32, ncost: 24709.218911598724\n",
      "Run: 4, iteration: 4/100, moves: 2, ncost: 24708.332899132263\n",
      "Run: 4, iteration: 5/100, moves: 0, ncost: 24708.332899132263\n",
      "Init: initializing centroids\n",
      "Init: initializing clusters\n",
      "Starting iterations...\n",
      "Run: 5, iteration: 1/100, moves: 192, ncost: 25742.03012001808\n",
      "Run: 5, iteration: 2/100, moves: 93, ncost: 24802.48753863567\n",
      "Run: 5, iteration: 3/100, moves: 63, ncost: 24497.220168657666\n",
      "Run: 5, iteration: 4/100, moves: 15, ncost: 24462.38391017019\n",
      "Run: 5, iteration: 5/100, moves: 0, ncost: 24462.38391017019\n",
      "Init: initializing centroids\n",
      "Init: initializing clusters\n",
      "Starting iterations...\n",
      "Run: 6, iteration: 1/100, moves: 87, ncost: 26037.714980100125\n",
      "Run: 6, iteration: 2/100, moves: 61, ncost: 25186.88118826786\n",
      "Run: 6, iteration: 3/100, moves: 47, ncost: 24814.564355426857\n",
      "Run: 6, iteration: 4/100, moves: 4, ncost: 24810.740222597677\n",
      "Run: 6, iteration: 5/100, moves: 2, ncost: 24809.978987536208\n",
      "Run: 6, iteration: 6/100, moves: 0, ncost: 24809.978987536208\n",
      "Init: initializing centroids\n",
      "Init: initializing clusters\n",
      "Starting iterations...\n",
      "Run: 7, iteration: 1/100, moves: 231, ncost: 26736.275876201515\n",
      "Run: 7, iteration: 2/100, moves: 119, ncost: 25052.394549536217\n",
      "Run: 7, iteration: 3/100, moves: 40, ncost: 24747.326043297802\n",
      "Run: 7, iteration: 4/100, moves: 16, ncost: 24699.31496495074\n",
      "Run: 7, iteration: 5/100, moves: 0, ncost: 24699.31496495074\n",
      "Init: initializing centroids\n",
      "Init: initializing clusters\n",
      "Starting iterations...\n",
      "Run: 8, iteration: 1/100, moves: 184, ncost: 26144.61691375978\n",
      "Run: 8, iteration: 2/100, moves: 93, ncost: 24945.121234506143\n",
      "Run: 8, iteration: 3/100, moves: 33, ncost: 24785.947960882884\n",
      "Run: 8, iteration: 4/100, moves: 5, ncost: 24781.584071984667\n",
      "Run: 8, iteration: 5/100, moves: 0, ncost: 24781.584071984667\n",
      "Init: initializing centroids\n",
      "Init: initializing clusters\n",
      "Starting iterations...\n",
      "Run: 9, iteration: 1/100, moves: 163, ncost: 25633.0232183459\n",
      "Run: 9, iteration: 2/100, moves: 77, ncost: 24902.931695318435\n",
      "Run: 9, iteration: 3/100, moves: 41, ncost: 24636.82184637954\n",
      "Run: 9, iteration: 4/100, moves: 21, ncost: 24563.74978259828\n",
      "Run: 9, iteration: 5/100, moves: 0, ncost: 24563.74978259828\n",
      "Init: initializing centroids\n",
      "Init: initializing clusters\n",
      "Starting iterations...\n",
      "Run: 10, iteration: 1/100, moves: 225, ncost: 25340.359882518416\n",
      "Run: 10, iteration: 2/100, moves: 83, ncost: 24689.2927786984\n",
      "Run: 10, iteration: 3/100, moves: 12, ncost: 24644.793545624045\n",
      "Run: 10, iteration: 4/100, moves: 1, ncost: 24644.326910947613\n",
      "Run: 10, iteration: 5/100, moves: 0, ncost: 24644.326910947613\n",
      "Best run was number 5\n"
     ]
    }
   ],
   "source": [
    "# K-PROTOTYPE\n",
    "le_gender = LabelEncoder()\n",
    "le_occ    = LabelEncoder()\n",
    "le_zip    = LabelEncoder()\n",
    "\n",
    "user['gender_le']     = le_gender.fit_transform(user['gender'])\n",
    "user['occupation_le'] = le_occ.fit_transform(user['occupation'])\n",
    "user['zip_le']        = le_zip.fit_transform(user['zip_code'])\n",
    "\n",
    "\n",
    "matrix = user[['age', 'zip_le', 'gender_le', 'occupation_le']].to_numpy()\n",
    "kp = KPrototypes(n_clusters=4, init='Cao', verbose=1, random_state=42)\n",
    "clusters = kp.fit_predict(matrix, categorical=[1, 2, 3])  # zip_code, gender, occupation\n",
    "user['cluster_kp'] = clusters"
   ]
  },
  {
   "cell_type": "code",
   "execution_count": 16,
   "id": "b5817857",
   "metadata": {},
   "outputs": [
    {
     "data": {
      "application/vnd.plotly.v1+json": {
       "config": {
        "plotlyServerURL": "https://plot.ly"
       },
       "data": [
        {
         "hovertemplate": "Cluster=0<br>PC1=%{x}<br>PC2=%{y}<br>PC3=%{z}<extra></extra>",
         "legendgroup": "0",
         "marker": {
          "color": "#636efa",
          "size": 4,
          "symbol": "circle"
         },
         "mode": "markers",
         "name": "0",
         "scene": "scene",
         "showlegend": true,
         "type": "scatter3d",
         "x": {
          "bdata": "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",
          "dtype": "f8"
         },
         "y": {
          "bdata": "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",
          "dtype": "f8"
         },
         "z": {
          "bdata": "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",
          "dtype": "f8"
         }
        },
        {
         "hovertemplate": "Cluster=2<br>PC1=%{x}<br>PC2=%{y}<br>PC3=%{z}<extra></extra>",
         "legendgroup": "2",
         "marker": {
          "color": "#EF553B",
          "size": 4,
          "symbol": "circle"
         },
         "mode": "markers",
         "name": "2",
         "scene": "scene",
         "showlegend": true,
         "type": "scatter3d",
         "x": {
          "bdata": "aCXSuFNLckAIY4GeT9ZvQMBDYN+Ptm5AH7dnXrFEdMCjFDNGuQR1wMiaS8I3pkDA4u8KP0mpZ8CIm1pPjWlswAQBeLtZ9mRAYW+G87P0d8DQ9rko97Q7QLAB6nZnlm5AdHeqaUmbd0DqYxU/2iRwwJgnYEhy1mVAutAQXlb7dUAQGt40dJZqQHpSRS1R6WnAgEm4is+sX0Ae/NbPiqlkwPBlJonDtDFAwGmyOlvVEkCUx84pe2lhwL3jsGZo6WfAlvU0J1/JZ8A6fTe2Sgt2QHRQHmDGlmFA2hkGHrN0csCQxSQe0FJewMBgwdt/2UtAQrTXaFBrc0Cw6SBjQrZmQAv9f3eHCWfATeFOg6cUc8Am3NllUPtzQPEdQWe1xHTA0ZPEc8+0dMA0rIE9GG1WQODYP4JDTTTApkASXFZbdkAKqlNt0xR4wInwYUGVpHPA6JVUrjslSsAAlRAVUltNQBiQLagz63JAFiMaWje7cUAMtiEFZ1ZlQAI62otiKWnA6wyLIMk0d8BOe440RRtwQLSdSsPLVHjANHm2kWu2a0AUCZhqP5NRwECNo/g/bS1AAODzvZfU0r847Uvsw6xRQKwlNGRO63VAWPvvTV8Lc0DQgCa2WfZlQO46IptBG3JACA1UUlQbd0B41CllAZNXwJhg3mhzJUrANqj2qzBLc0ABCfGzJclkwDCw/SEcSzjARhIQcLTkcsCIIzNOyVRxwBnuiyjOBHbAgE74Hs30dsCYImZKWhZoQLa8WUXF1HDApHeVPWt7dEDkCZh5vuxXQKwzBUeTLVpAmJ4Aj9XUcsD+sxVTpylqwMYJrcRJG3NAiJtaT41pbMDwtrmbnEs7wABAo6CYzfS/3IfXeTVLd0BgWtg8dBZpQFQ8AYJFi3BAmJbloWmWZ0AArCImUpQqwFAPXufobFFA/I1xjnLtWkCUffJdtYR2wFjr8XYYLVVAH8LiO27JbcBgQBaDV9ZtQJhMnGqNSWfAfPrxC+msVkAWk/y4sUR1wCrH5hhRq3NAIBFXFW5aSkAkn7QBm1ZvQFNJMgZxiW3AF+K18mwJb8A45z9JOLtyQCdaRtldSWnAuP2bj7GWb0AAVstFDO1XQHkFO7jcxHjAvjJekCVpZcAJPCCntRR4wKJDHW/PlHXA8NfWRC1WZUBSxitjW2lgwEj7qWCidmhAUEyGoGmTVcBCtDlUJBt2QJKGpk+09HXA1CLPgNZUc8CA9yYUyEs/wBaAHNo5W3ZAjy6Ve89EdsArOQPAXQluwICe3RzXYgLAX9bovajkdMB02VTsAO1TQGjvxhRLE1zA6V+s0c8UdcAgl30LoqlnwA==",
          "dtype": "f8"
         },
         "y": {
          "bdata": "8HINuVYDMkA6RCXhbwE5QIwgkQzx8zJAHhXfujoxMkDOmY6quDwwQMz1R3ePUTJArOhuwtM/LUAA1KEaTDkyQBYLlTIiJztAmiP0IMgaNEAC/pLCxCo5QOq3p3/BCThA4pYzel6/M0BUCtc8+LE6QCKtCrIRHzRAYBdko9sZMEAe2E5FA3gxQD4j4toVhzFAXqVyUPT6N0DaBDQJmUgxQMDs5izT2y9AbFtqjLzmMECwkotZyj4zQLIA0ZTdMjRAUu2IDkGwNECgANpfr8MyQA4oQCaobzJAksr4+ex5MUD2ugLG2rQ9QDaKlFuLFTNArhKCYspVOED2PeNil9I9QKZyt5cVATJAEKhR18udLUAKbfBj61Y4QPoOtISE3zxAgg93bhLlMkDkjeOn4f0/QCTp+S8HCDxASv4CT5waMEC8yYkUl409QEALkwQYHy5AME+TLQ2iMECc279eq3wuQF7Fp/oHEThA+MbWMd9xM0Amgy2OIE02QA5Kf9Xu8zNA8MVrATAYNEDi+p8TQ6w8QPioPvzhBjZA5CtyljmvMkAgmYtHvQUzQCh3ADDwCitAmNoCQg/kMEAUvYRfiTE4QNRi2H+X7DVAGEiRIgEhN0Ci6WgXIyg7QGRZBuxTwTFAUDiV/cJzNUBdxYiJl2BCQFrg93oWyTNAztkj92NPOEAMoPt6LGIqQJIu6D/cVjJAuDOXMIZxMkCasUY01+k7QIZoh8bj6TFA2BhdcB4CN0AQZfCnrhc1QMK3cWqNOzFABHq4fTPPLEBqoHIpJi05QASqFX7wJTNAVWtH5+J3QUAIwjG8u901QPiitM2LLz1AANShGkw5MkAo90iVNO8/QEweOlUHMDdA+w7q7PEmQUBOChHugXYxQCKgHoaNmjZA/msykuhWNUAgBwyTjdcyQDL7l/oAZjFAXHHXfBMAL0AQhM5jAdw8QFKGMGR1cTBAxnJRpZNqNECScIrK7RU2QIyoX69wPjJATtavo7VoMUCUYob2vEE4QKBhb3wf9zNAak8h3RmtMEBqE53878UwQFqD8ow7YzVAWElg3hQKMEC6wvUB6404QPTz7xBxFThALKhFmwAvNECeetKhTnY4QHGF5ujFK0JAuC/K/Q9hKkBkAubrhSU7QA5KBN5Q4zJA9/60N4zKQkDwrsb8378uQFQgNOAf6DNA/O0NxZ3HOkBOXg9H+l0/QJAzcQdzazJAcrlD47rUPUBbdhHoyu9AQNRGYyghijFAIEX1Ut3hMkDckgHSrBA4QEgoJe/4XDFAOJjY+p2HL0A8KVLHHewwQP6dnekCBDtAJjMnyNX2OEBW/iD9OLU7QA==",
          "dtype": "f8"
         },
         "z": {
          "bdata": "tIufTUHoGUAAekO1OpsUwLhqTpvvAwVAAKQ6SQS0E0BAvELZhQ3VP+APQ0ZKDAzA3EvGO7QfHEDk9FzavgwLwJCmkbxkafe/ZNqjzsbGFUCu+m0EbQYlQGBPVA/KNPS/sIULxvUKDkAMa93o4GcRwNBo4y7XcwHAWI2Sl53YF0B4Rnn9Bi8PwNzwL4eLDh9AECPYKoMF878UurYrRUkNwIAWkLFhYgBA3G5kW+GqGUCAF7lpXZPtP6yyguJoSxVA8LRF4P4EHkBwXPfz/jcMQMIFPIqmwilAsHf9RN+LDUAA4MHyTo8pQMC8byYJ5RnA3MkxYkswJEA8ZHBRoz4PwFAjkEUzgAPAzPDKVzeFGEDuAqkuZy0kQMbAprruZidArLAgB0HpGMAa68rB/lAoQAAUB46BrPG/GIQxqMLUF0BgSCYsNXHiPwT1Bv8j1CpACP8i4Ia0HUAaa6nDTlwqQAAKp4zbyfS/0BRpIpGwC8DQUOqZzVgFwMBfu8qdMBlAnNd3pv55BsCCOFouRUwiQHA+frgpiQLABtmp5MWIEsCw+nmDE5QZwLjJpkgRgydAwI73Vx9gAkBgED9ymP4AwMh2Wg/Pnx1AYI8X6vnmLUCQguxj9H33v+BXR9neZum/dMJGtbOrIkCIQADWK/QqQPQHIYrmtRxAMJimS3EwAsDw4+mPm6wpQPDVRohB8xJAyOgOx7eBD0C4lj3sEnAJQMggFmVO1RnACHzBlZW4AMCUCROCNlAYwGAk6GufwwzAaBoJjqyKKUBwrsZ9vmP+v9yxi8TROCxA8LWoXhBFD0D8xUAHfVcWwB4AVa72mSZA5PRc2r4MC8A0Bb1flXYoQHjj/6nrjgLAoKOMxxF5HUCAIfU/mx8PwNDs6Nc9LhJAHDkK38hcB8CqJqZhORImQLCodbSAfQ7Ami0cTZkcIEAAgd6T7W8nQAD+SjrOm68/YKUHDbWHEUBUzTguWHcXwIjINfduQQvAVHlkoT+SDsAEv90yfRAjQGD9xgIXyhtA4JYrJNHfCUDwNCdtX+EIQASYohe6eRJA8FwaVVXc8z8g2iR8iE3sP+wUptsa1SRAhLCmUgdHJEBId5osrocUQFDfC6xjJAJAIhmrMMavKUBQ5ixzlZAkQHDw6C1C4BjAQOy3UeuG/78Y5DuTnFEQQEynxGluExxARpEJPUbTEcAQm+a1Pmj5v3CaTVbtxg9AABu4s1VJ3L9cb/HGu2wpQNgf2Xia7w/A3Oy9m0/cGMCEBwQnUOEkQOTKXEP6IA7AmFg+K2WRGUBgAWgiA/n9v0CUJdvAmfS/cO2wO98K+r8ABGth5KKcvw==",
          "dtype": "f8"
         }
        },
        {
         "hovertemplate": "Cluster=3<br>PC1=%{x}<br>PC2=%{y}<br>PC3=%{z}<extra></extra>",
         "legendgroup": "3",
         "marker": {
          "color": "#00cc96",
          "size": 4,
          "symbol": "circle"
         },
         "mode": "markers",
         "name": "3",
         "scene": "scene",
         "showlegend": true,
         "type": "scatter3d",
         "x": {
          "bdata": "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",
          "dtype": "f8"
         },
         "y": {
          "bdata": "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",
          "dtype": "f8"
         },
         "z": {
          "bdata": "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",
          "dtype": "f8"
         }
        },
        {
         "hovertemplate": "Cluster=1<br>PC1=%{x}<br>PC2=%{y}<br>PC3=%{z}<extra></extra>",
         "legendgroup": "1",
         "marker": {
          "color": "#ab63fa",
          "size": 4,
          "symbol": "circle"
         },
         "mode": "markers",
         "name": "1",
         "scene": "scene",
         "showlegend": true,
         "type": "scatter3d",
         "x": {
          "bdata": "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",
          "dtype": "f8"
         },
         "y": {
          "bdata": "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",
          "dtype": "f8"
         },
         "z": {
          "bdata": "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",
          "dtype": "f8"
         }
        }
       ],
       "layout": {
        "legend": {
         "title": {
          "text": "Cluster"
         },
         "tracegroupgap": 0
        },
        "scene": {
         "domain": {
          "x": [
           0,
           1
          ],
          "y": [
           0,
           1
          ]
         },
         "xaxis": {
          "title": {
           "text": "PC1"
          }
         },
         "yaxis": {
          "title": {
           "text": "PC2"
          }
         },
         "zaxis": {
          "title": {
           "text": "PC3"
          }
         }
        },
        "template": {
         "data": {
          "bar": [
           {
            "error_x": {
             "color": "#2a3f5f"
            },
            "error_y": {
             "color": "#2a3f5f"
            },
            "marker": {
             "line": {
              "color": "#E5ECF6",
              "width": 0.5
             },
             "pattern": {
              "fillmode": "overlay",
              "size": 10,
              "solidity": 0.2
             }
            },
            "type": "bar"
           }
          ],
          "barpolar": [
           {
            "marker": {
             "line": {
              "color": "#E5ECF6",
              "width": 0.5
             },
             "pattern": {
              "fillmode": "overlay",
              "size": 10,
              "solidity": 0.2
             }
            },
            "type": "barpolar"
           }
          ],
          "carpet": [
           {
            "aaxis": {
             "endlinecolor": "#2a3f5f",
             "gridcolor": "white",
             "linecolor": "white",
             "minorgridcolor": "white",
             "startlinecolor": "#2a3f5f"
            },
            "baxis": {
             "endlinecolor": "#2a3f5f",
             "gridcolor": "white",
             "linecolor": "white",
             "minorgridcolor": "white",
             "startlinecolor": "#2a3f5f"
            },
            "type": "carpet"
           }
          ],
          "choropleth": [
           {
            "colorbar": {
             "outlinewidth": 0,
             "ticks": ""
            },
            "type": "choropleth"
           }
          ],
          "contour": [
           {
            "colorbar": {
             "outlinewidth": 0,
             "ticks": ""
            },
            "colorscale": [
             [
              0,
              "#0d0887"
             ],
             [
              0.1111111111111111,
              "#46039f"
             ],
             [
              0.2222222222222222,
              "#7201a8"
             ],
             [
              0.3333333333333333,
              "#9c179e"
             ],
             [
              0.4444444444444444,
              "#bd3786"
             ],
             [
              0.5555555555555556,
              "#d8576b"
             ],
             [
              0.6666666666666666,
              "#ed7953"
             ],
             [
              0.7777777777777778,
              "#fb9f3a"
             ],
             [
              0.8888888888888888,
              "#fdca26"
             ],
             [
              1,
              "#f0f921"
             ]
            ],
            "type": "contour"
           }
          ],
          "contourcarpet": [
           {
            "colorbar": {
             "outlinewidth": 0,
             "ticks": ""
            },
            "type": "contourcarpet"
           }
          ],
          "heatmap": [
           {
            "colorbar": {
             "outlinewidth": 0,
             "ticks": ""
            },
            "colorscale": [
             [
              0,
              "#0d0887"
             ],
             [
              0.1111111111111111,
              "#46039f"
             ],
             [
              0.2222222222222222,
              "#7201a8"
             ],
             [
              0.3333333333333333,
              "#9c179e"
             ],
             [
              0.4444444444444444,
              "#bd3786"
             ],
             [
              0.5555555555555556,
              "#d8576b"
             ],
             [
              0.6666666666666666,
              "#ed7953"
             ],
             [
              0.7777777777777778,
              "#fb9f3a"
             ],
             [
              0.8888888888888888,
              "#fdca26"
             ],
             [
              1,
              "#f0f921"
             ]
            ],
            "type": "heatmap"
           }
          ],
          "histogram": [
           {
            "marker": {
             "pattern": {
              "fillmode": "overlay",
              "size": 10,
              "solidity": 0.2
             }
            },
            "type": "histogram"
           }
          ],
          "histogram2d": [
           {
            "colorbar": {
             "outlinewidth": 0,
             "ticks": ""
            },
            "colorscale": [
             [
              0,
              "#0d0887"
             ],
             [
              0.1111111111111111,
              "#46039f"
             ],
             [
              0.2222222222222222,
              "#7201a8"
             ],
             [
              0.3333333333333333,
              "#9c179e"
             ],
             [
              0.4444444444444444,
              "#bd3786"
             ],
             [
              0.5555555555555556,
              "#d8576b"
             ],
             [
              0.6666666666666666,
              "#ed7953"
             ],
             [
              0.7777777777777778,
              "#fb9f3a"
             ],
             [
              0.8888888888888888,
              "#fdca26"
             ],
             [
              1,
              "#f0f921"
             ]
            ],
            "type": "histogram2d"
           }
          ],
          "histogram2dcontour": [
           {
            "colorbar": {
             "outlinewidth": 0,
             "ticks": ""
            },
            "colorscale": [
             [
              0,
              "#0d0887"
             ],
             [
              0.1111111111111111,
              "#46039f"
             ],
             [
              0.2222222222222222,
              "#7201a8"
             ],
             [
              0.3333333333333333,
              "#9c179e"
             ],
             [
              0.4444444444444444,
              "#bd3786"
             ],
             [
              0.5555555555555556,
              "#d8576b"
             ],
             [
              0.6666666666666666,
              "#ed7953"
             ],
             [
              0.7777777777777778,
              "#fb9f3a"
             ],
             [
              0.8888888888888888,
              "#fdca26"
             ],
             [
              1,
              "#f0f921"
             ]
            ],
            "type": "histogram2dcontour"
           }
          ],
          "mesh3d": [
           {
            "colorbar": {
             "outlinewidth": 0,
             "ticks": ""
            },
            "type": "mesh3d"
           }
          ],
          "parcoords": [
           {
            "line": {
             "colorbar": {
              "outlinewidth": 0,
              "ticks": ""
             }
            },
            "type": "parcoords"
           }
          ],
          "pie": [
           {
            "automargin": true,
            "type": "pie"
           }
          ],
          "scatter": [
           {
            "fillpattern": {
             "fillmode": "overlay",
             "size": 10,
             "solidity": 0.2
            },
            "type": "scatter"
           }
          ],
          "scatter3d": [
           {
            "line": {
             "colorbar": {
              "outlinewidth": 0,
              "ticks": ""
             }
            },
            "marker": {
             "colorbar": {
              "outlinewidth": 0,
              "ticks": ""
             }
            },
            "type": "scatter3d"
           }
          ],
          "scattercarpet": [
           {
            "marker": {
             "colorbar": {
              "outlinewidth": 0,
              "ticks": ""
             }
            },
            "type": "scattercarpet"
           }
          ],
          "scattergeo": [
           {
            "marker": {
             "colorbar": {
              "outlinewidth": 0,
              "ticks": ""
             }
            },
            "type": "scattergeo"
           }
          ],
          "scattergl": [
           {
            "marker": {
             "colorbar": {
              "outlinewidth": 0,
              "ticks": ""
             }
            },
            "type": "scattergl"
           }
          ],
          "scattermap": [
           {
            "marker": {
             "colorbar": {
              "outlinewidth": 0,
              "ticks": ""
             }
            },
            "type": "scattermap"
           }
          ],
          "scattermapbox": [
           {
            "marker": {
             "colorbar": {
              "outlinewidth": 0,
              "ticks": ""
             }
            },
            "type": "scattermapbox"
           }
          ],
          "scatterpolar": [
           {
            "marker": {
             "colorbar": {
              "outlinewidth": 0,
              "ticks": ""
             }
            },
            "type": "scatterpolar"
           }
          ],
          "scatterpolargl": [
           {
            "marker": {
             "colorbar": {
              "outlinewidth": 0,
              "ticks": ""
             }
            },
            "type": "scatterpolargl"
           }
          ],
          "scatterternary": [
           {
            "marker": {
             "colorbar": {
              "outlinewidth": 0,
              "ticks": ""
             }
            },
            "type": "scatterternary"
           }
          ],
          "surface": [
           {
            "colorbar": {
             "outlinewidth": 0,
             "ticks": ""
            },
            "colorscale": [
             [
              0,
              "#0d0887"
             ],
             [
              0.1111111111111111,
              "#46039f"
             ],
             [
              0.2222222222222222,
              "#7201a8"
             ],
             [
              0.3333333333333333,
              "#9c179e"
             ],
             [
              0.4444444444444444,
              "#bd3786"
             ],
             [
              0.5555555555555556,
              "#d8576b"
             ],
             [
              0.6666666666666666,
              "#ed7953"
             ],
             [
              0.7777777777777778,
              "#fb9f3a"
             ],
             [
              0.8888888888888888,
              "#fdca26"
             ],
             [
              1,
              "#f0f921"
             ]
            ],
            "type": "surface"
           }
          ],
          "table": [
           {
            "cells": {
             "fill": {
              "color": "#EBF0F8"
             },
             "line": {
              "color": "white"
             }
            },
            "header": {
             "fill": {
              "color": "#C8D4E3"
             },
             "line": {
              "color": "white"
             }
            },
            "type": "table"
           }
          ]
         },
         "layout": {
          "annotationdefaults": {
           "arrowcolor": "#2a3f5f",
           "arrowhead": 0,
           "arrowwidth": 1
          },
          "autotypenumbers": "strict",
          "coloraxis": {
           "colorbar": {
            "outlinewidth": 0,
            "ticks": ""
           }
          },
          "colorscale": {
           "diverging": [
            [
             0,
             "#8e0152"
            ],
            [
             0.1,
             "#c51b7d"
            ],
            [
             0.2,
             "#de77ae"
            ],
            [
             0.3,
             "#f1b6da"
            ],
            [
             0.4,
             "#fde0ef"
            ],
            [
             0.5,
             "#f7f7f7"
            ],
            [
             0.6,
             "#e6f5d0"
            ],
            [
             0.7,
             "#b8e186"
            ],
            [
             0.8,
             "#7fbc41"
            ],
            [
             0.9,
             "#4d9221"
            ],
            [
             1,
             "#276419"
            ]
           ],
           "sequential": [
            [
             0,
             "#0d0887"
            ],
            [
             0.1111111111111111,
             "#46039f"
            ],
            [
             0.2222222222222222,
             "#7201a8"
            ],
            [
             0.3333333333333333,
             "#9c179e"
            ],
            [
             0.4444444444444444,
             "#bd3786"
            ],
            [
             0.5555555555555556,
             "#d8576b"
            ],
            [
             0.6666666666666666,
             "#ed7953"
            ],
            [
             0.7777777777777778,
             "#fb9f3a"
            ],
            [
             0.8888888888888888,
             "#fdca26"
            ],
            [
             1,
             "#f0f921"
            ]
           ],
           "sequentialminus": [
            [
             0,
             "#0d0887"
            ],
            [
             0.1111111111111111,
             "#46039f"
            ],
            [
             0.2222222222222222,
             "#7201a8"
            ],
            [
             0.3333333333333333,
             "#9c179e"
            ],
            [
             0.4444444444444444,
             "#bd3786"
            ],
            [
             0.5555555555555556,
             "#d8576b"
            ],
            [
             0.6666666666666666,
             "#ed7953"
            ],
            [
             0.7777777777777778,
             "#fb9f3a"
            ],
            [
             0.8888888888888888,
             "#fdca26"
            ],
            [
             1,
             "#f0f921"
            ]
           ]
          },
          "colorway": [
           "#636efa",
           "#EF553B",
           "#00cc96",
           "#ab63fa",
           "#FFA15A",
           "#19d3f3",
           "#FF6692",
           "#B6E880",
           "#FF97FF",
           "#FECB52"
          ],
          "font": {
           "color": "#2a3f5f"
          },
          "geo": {
           "bgcolor": "white",
           "lakecolor": "white",
           "landcolor": "#E5ECF6",
           "showlakes": true,
           "showland": true,
           "subunitcolor": "white"
          },
          "hoverlabel": {
           "align": "left"
          },
          "hovermode": "closest",
          "mapbox": {
           "style": "light"
          },
          "paper_bgcolor": "white",
          "plot_bgcolor": "#E5ECF6",
          "polar": {
           "angularaxis": {
            "gridcolor": "white",
            "linecolor": "white",
            "ticks": ""
           },
           "bgcolor": "#E5ECF6",
           "radialaxis": {
            "gridcolor": "white",
            "linecolor": "white",
            "ticks": ""
           }
          },
          "scene": {
           "xaxis": {
            "backgroundcolor": "#E5ECF6",
            "gridcolor": "white",
            "gridwidth": 2,
            "linecolor": "white",
            "showbackground": true,
            "ticks": "",
            "zerolinecolor": "white"
           },
           "yaxis": {
            "backgroundcolor": "#E5ECF6",
            "gridcolor": "white",
            "gridwidth": 2,
            "linecolor": "white",
            "showbackground": true,
            "ticks": "",
            "zerolinecolor": "white"
           },
           "zaxis": {
            "backgroundcolor": "#E5ECF6",
            "gridcolor": "white",
            "gridwidth": 2,
            "linecolor": "white",
            "showbackground": true,
            "ticks": "",
            "zerolinecolor": "white"
           }
          },
          "shapedefaults": {
           "line": {
            "color": "#2a3f5f"
           }
          },
          "ternary": {
           "aaxis": {
            "gridcolor": "white",
            "linecolor": "white",
            "ticks": ""
           },
           "baxis": {
            "gridcolor": "white",
            "linecolor": "white",
            "ticks": ""
           },
           "bgcolor": "#E5ECF6",
           "caxis": {
            "gridcolor": "white",
            "linecolor": "white",
            "ticks": ""
           }
          },
          "title": {
           "x": 0.05
          },
          "xaxis": {
           "automargin": true,
           "gridcolor": "white",
           "linecolor": "white",
           "ticks": "",
           "title": {
            "standoff": 15
           },
           "zerolinecolor": "white",
           "zerolinewidth": 2
          },
          "yaxis": {
           "automargin": true,
           "gridcolor": "white",
           "linecolor": "white",
           "ticks": "",
           "title": {
            "standoff": 15
           },
           "zerolinecolor": "white",
           "zerolinewidth": 2
          }
         }
        },
        "title": {
         "text": "Visualizzazione 3D interattiva dei cluster k‑Prototypes"
        }
       }
      }
     },
     "metadata": {},
     "output_type": "display_data"
    }
   ],
   "source": [
    "# 5. Riduzione a 3 dimensioni (PCA) per la visualizzazione\n",
    "pca = PCA(n_components=3)\n",
    "coords_3d = pca.fit_transform(matrix)\n",
    "df_plot = pd.DataFrame(coords_3d, columns=['PC1', 'PC2', 'PC3'])\n",
    "df_plot['cluster'] = clusters.astype(str)\n",
    "\n",
    "# 6. Grafico 3D interattivo con Plotly\n",
    "fig = px.scatter_3d(\n",
    "    df_plot,\n",
    "    x='PC1', y='PC2', z='PC3',\n",
    "    color='cluster',\n",
    "    title='Visualizzazione 3D interattiva dei cluster k‑Prototypes',\n",
    "    labels={'cluster': 'Cluster'}\n",
    ")\n",
    "fig.update_traces(marker=dict(size=4))\n",
    "fig.show()"
   ]
  },
  {
   "cell_type": "code",
   "execution_count": null,
   "id": "7582f2ba",
   "metadata": {},
   "outputs": [],
   "source": [
    "sil_scores = {}\n",
    "range_n_clusters = range(2, 11)  # prova da 2 a 10 cluster\n",
    "\n",
    "for k in range_n_clusters:\n",
    "    # fit k‑Prototypes\n",
    "    kp = KPrototypes(n_clusters=k, init='Cao', verbose=0, random_state=42)\n",
    "    labels = kp.fit_predict(matrix, categorical=[1, 2, 3])\n",
    "    # silhouette score (usiamo distanza euclidea sulla matrice numerica codificata)\n",
    "    score = silhouette_score(matrix, labels, metric='euclidean')\n",
    "    sil_scores[k] = score\n",
    "    print(f\"k = {k} → silhouette score = {score:.4f}\")\n",
    "\n",
    "# Trova il k con il silhouette migliore\n",
    "best_k = max(sil_scores, key=sil_scores.get)\n",
    "best_score = sil_scores[best_k]\n",
    "print(f\"\\nNumero ottimale di cluster: k = {best_k} (silhouette = {best_score:.4f})\")"
   ]
  },
  {
   "cell_type": "code",
   "execution_count": null,
   "id": "39cba2e3",
   "metadata": {},
   "outputs": [],
   "source": [
    "opt = silhouette_scores.index(max(silhouette_scores))\n",
    "silhouette_scores[opt]"
   ]
  },
  {
   "cell_type": "code",
   "execution_count": null,
   "id": "1938f9a4",
   "metadata": {},
   "outputs": [],
   "source": [
    "opt"
   ]
  },
  {
   "cell_type": "code",
   "execution_count": null,
   "id": "e5401f95",
   "metadata": {},
   "outputs": [],
   "source": [
    "silhouette_scores"
   ]
  },
  {
   "cell_type": "code",
   "execution_count": null,
   "id": "5021cac1",
   "metadata": {},
   "outputs": [],
   "source": [
    "# 6. Applica KMeans con il numero ottimale di cluster\n",
    "#kmeans = KMeans(n_clusters=opt, random_state=42)\n",
    "#user['cluster'] = kmeans.fit_predict(data_scaled)"
   ]
  },
  {
   "cell_type": "code",
   "execution_count": null,
   "id": "655ba3dd",
   "metadata": {},
   "outputs": [],
   "source": [
    "pca = PCA(n_components=3)\n",
    "components = pca.fit_transform(data_scaled)\n",
    "user[['PCA1','PCA2','PCA3']] = components\n"
   ]
  },
  {
   "cell_type": "code",
   "execution_count": null,
   "id": "90a5fc17",
   "metadata": {},
   "outputs": [
    {
     "ename": "ValueError",
     "evalue": "Value of 'x' is not the name of a column in 'data_frame'. Expected one of ['user_id', 'age', 'gender', 'occupation', 'zip_code', 'gender_le', 'occupation_le', 'zip_le', 'cluster_kp'] but received: PCA1",
     "output_type": "error",
     "traceback": [
      "\u001b[0;31m---------------------------------------------------------------------------\u001b[0m",
      "\u001b[0;31mValueError\u001b[0m                                Traceback (most recent call last)",
      "Cell \u001b[0;32mIn[11], line 7\u001b[0m\n\u001b[1;32m      1\u001b[0m \u001b[38;5;28;01mimport\u001b[39;00m\u001b[38;5;250m \u001b[39m\u001b[38;5;21;01mplotly\u001b[39;00m\u001b[38;5;21;01m.\u001b[39;00m\u001b[38;5;21;01mexpress\u001b[39;00m\u001b[38;5;250m \u001b[39m\u001b[38;5;28;01mas\u001b[39;00m\u001b[38;5;250m \u001b[39m\u001b[38;5;21;01mpx\u001b[39;00m\n\u001b[1;32m      3\u001b[0m \u001b[38;5;66;03m# Sostituisci questa parte con il tuo caricamento del DataFrame\u001b[39;00m\n\u001b[1;32m      4\u001b[0m \u001b[38;5;66;03m# import pandas as pd\u001b[39;00m\n\u001b[1;32m      5\u001b[0m \u001b[38;5;66;03m# user = pd.read_csv('tuo_file.csv')\u001b[39;00m\n\u001b[0;32m----> 7\u001b[0m fig \u001b[38;5;241m=\u001b[39m \u001b[43mpx\u001b[49m\u001b[38;5;241;43m.\u001b[39;49m\u001b[43mscatter_3d\u001b[49m\u001b[43m(\u001b[49m\n\u001b[1;32m      8\u001b[0m \u001b[43m    \u001b[49m\u001b[43muser\u001b[49m\u001b[43m,\u001b[49m\n\u001b[1;32m      9\u001b[0m \u001b[43m    \u001b[49m\u001b[43mx\u001b[49m\u001b[38;5;241;43m=\u001b[39;49m\u001b[38;5;124;43m'\u001b[39;49m\u001b[38;5;124;43mPCA1\u001b[39;49m\u001b[38;5;124;43m'\u001b[39;49m\u001b[43m,\u001b[49m\n\u001b[1;32m     10\u001b[0m \u001b[43m    \u001b[49m\u001b[43my\u001b[49m\u001b[38;5;241;43m=\u001b[39;49m\u001b[38;5;124;43m'\u001b[39;49m\u001b[38;5;124;43mPCA2\u001b[39;49m\u001b[38;5;124;43m'\u001b[39;49m\u001b[43m,\u001b[49m\n\u001b[1;32m     11\u001b[0m \u001b[43m    \u001b[49m\u001b[43mz\u001b[49m\u001b[38;5;241;43m=\u001b[39;49m\u001b[38;5;124;43m'\u001b[39;49m\u001b[38;5;124;43mPCA3\u001b[39;49m\u001b[38;5;124;43m'\u001b[39;49m\u001b[43m,\u001b[49m\n\u001b[1;32m     12\u001b[0m \u001b[43m    \u001b[49m\u001b[43mcolor\u001b[49m\u001b[38;5;241;43m=\u001b[39;49m\u001b[38;5;124;43m'\u001b[39;49m\u001b[38;5;124;43mcluster\u001b[39;49m\u001b[38;5;124;43m'\u001b[39;49m\u001b[43m,\u001b[49m\n\u001b[1;32m     13\u001b[0m \u001b[43m    \u001b[49m\u001b[43mtitle\u001b[49m\u001b[38;5;241;43m=\u001b[39;49m\u001b[38;5;124;43m'\u001b[39;49m\u001b[38;5;124;43mCluster utenti con K-Means (PCA 3D)\u001b[39;49m\u001b[38;5;124;43m'\u001b[39;49m\u001b[43m,\u001b[49m\n\u001b[1;32m     14\u001b[0m \u001b[43m    \u001b[49m\u001b[43mlabels\u001b[49m\u001b[38;5;241;43m=\u001b[39;49m\u001b[43m{\u001b[49m\u001b[38;5;124;43m'\u001b[39;49m\u001b[38;5;124;43mPCA1\u001b[39;49m\u001b[38;5;124;43m'\u001b[39;49m\u001b[43m:\u001b[49m\u001b[43m \u001b[49m\u001b[38;5;124;43m'\u001b[39;49m\u001b[38;5;124;43mPCA1\u001b[39;49m\u001b[38;5;124;43m'\u001b[39;49m\u001b[43m,\u001b[49m\u001b[43m \u001b[49m\u001b[38;5;124;43m'\u001b[39;49m\u001b[38;5;124;43mPCA2\u001b[39;49m\u001b[38;5;124;43m'\u001b[39;49m\u001b[43m:\u001b[49m\u001b[43m \u001b[49m\u001b[38;5;124;43m'\u001b[39;49m\u001b[38;5;124;43mPCA2\u001b[39;49m\u001b[38;5;124;43m'\u001b[39;49m\u001b[43m,\u001b[49m\u001b[43m \u001b[49m\u001b[38;5;124;43m'\u001b[39;49m\u001b[38;5;124;43mPCA3\u001b[39;49m\u001b[38;5;124;43m'\u001b[39;49m\u001b[43m:\u001b[49m\u001b[43m \u001b[49m\u001b[38;5;124;43m'\u001b[39;49m\u001b[38;5;124;43mPCA3\u001b[39;49m\u001b[38;5;124;43m'\u001b[39;49m\u001b[43m}\u001b[49m\n\u001b[1;32m     15\u001b[0m \u001b[43m)\u001b[49m\n\u001b[1;32m     17\u001b[0m fig\u001b[38;5;241m.\u001b[39mupdate_layout(\n\u001b[1;32m     18\u001b[0m     margin\u001b[38;5;241m=\u001b[39m\u001b[38;5;28mdict\u001b[39m(l\u001b[38;5;241m=\u001b[39m\u001b[38;5;241m0\u001b[39m, r\u001b[38;5;241m=\u001b[39m\u001b[38;5;241m0\u001b[39m, b\u001b[38;5;241m=\u001b[39m\u001b[38;5;241m0\u001b[39m, t\u001b[38;5;241m=\u001b[39m\u001b[38;5;241m40\u001b[39m),\n\u001b[1;32m     19\u001b[0m     legend_title_text\u001b[38;5;241m=\u001b[39m\u001b[38;5;124m'\u001b[39m\u001b[38;5;124mCluster\u001b[39m\u001b[38;5;124m'\u001b[39m\n\u001b[1;32m     20\u001b[0m )\n\u001b[1;32m     22\u001b[0m fig\u001b[38;5;241m.\u001b[39mshow()\n",
      "File \u001b[0;32m/opt/anaconda3/envs/FDSML/lib/python3.10/site-packages/plotly/express/_chart_types.py:791\u001b[0m, in \u001b[0;36mscatter_3d\u001b[0;34m(data_frame, x, y, z, color, symbol, size, text, hover_name, hover_data, custom_data, error_x, error_x_minus, error_y, error_y_minus, error_z, error_z_minus, animation_frame, animation_group, category_orders, labels, size_max, color_discrete_sequence, color_discrete_map, color_continuous_scale, range_color, color_continuous_midpoint, symbol_sequence, symbol_map, opacity, log_x, log_y, log_z, range_x, range_y, range_z, title, subtitle, template, width, height)\u001b[0m\n\u001b[1;32m    744\u001b[0m \u001b[38;5;28;01mdef\u001b[39;00m\u001b[38;5;250m \u001b[39m\u001b[38;5;21mscatter_3d\u001b[39m(\n\u001b[1;32m    745\u001b[0m     data_frame\u001b[38;5;241m=\u001b[39m\u001b[38;5;28;01mNone\u001b[39;00m,\n\u001b[1;32m    746\u001b[0m     x\u001b[38;5;241m=\u001b[39m\u001b[38;5;28;01mNone\u001b[39;00m,\n\u001b[0;32m   (...)\u001b[0m\n\u001b[1;32m    785\u001b[0m     height\u001b[38;5;241m=\u001b[39m\u001b[38;5;28;01mNone\u001b[39;00m,\n\u001b[1;32m    786\u001b[0m ) \u001b[38;5;241m-\u001b[39m\u001b[38;5;241m>\u001b[39m go\u001b[38;5;241m.\u001b[39mFigure:\n\u001b[1;32m    787\u001b[0m \u001b[38;5;250m    \u001b[39m\u001b[38;5;124;03m\"\"\"\u001b[39;00m\n\u001b[1;32m    788\u001b[0m \u001b[38;5;124;03m    In a 3D scatter plot, each row of `data_frame` is represented by a\u001b[39;00m\n\u001b[1;32m    789\u001b[0m \u001b[38;5;124;03m    symbol mark in 3D space.\u001b[39;00m\n\u001b[1;32m    790\u001b[0m \u001b[38;5;124;03m    \"\"\"\u001b[39;00m\n\u001b[0;32m--> 791\u001b[0m     \u001b[38;5;28;01mreturn\u001b[39;00m \u001b[43mmake_figure\u001b[49m\u001b[43m(\u001b[49m\u001b[43margs\u001b[49m\u001b[38;5;241;43m=\u001b[39;49m\u001b[38;5;28;43mlocals\u001b[39;49m\u001b[43m(\u001b[49m\u001b[43m)\u001b[49m\u001b[43m,\u001b[49m\u001b[43m \u001b[49m\u001b[43mconstructor\u001b[49m\u001b[38;5;241;43m=\u001b[39;49m\u001b[43mgo\u001b[49m\u001b[38;5;241;43m.\u001b[39;49m\u001b[43mScatter3d\u001b[49m\u001b[43m)\u001b[49m\n",
      "File \u001b[0;32m/opt/anaconda3/envs/FDSML/lib/python3.10/site-packages/plotly/express/_core.py:2491\u001b[0m, in \u001b[0;36mmake_figure\u001b[0;34m(args, constructor, trace_patch, layout_patch)\u001b[0m\n\u001b[1;32m   2488\u001b[0m layout_patch \u001b[38;5;241m=\u001b[39m layout_patch \u001b[38;5;129;01mor\u001b[39;00m {}\n\u001b[1;32m   2489\u001b[0m apply_default_cascade(args)\n\u001b[0;32m-> 2491\u001b[0m args \u001b[38;5;241m=\u001b[39m \u001b[43mbuild_dataframe\u001b[49m\u001b[43m(\u001b[49m\u001b[43margs\u001b[49m\u001b[43m,\u001b[49m\u001b[43m \u001b[49m\u001b[43mconstructor\u001b[49m\u001b[43m)\u001b[49m\n\u001b[1;32m   2492\u001b[0m \u001b[38;5;28;01mif\u001b[39;00m constructor \u001b[38;5;129;01min\u001b[39;00m [go\u001b[38;5;241m.\u001b[39mTreemap, go\u001b[38;5;241m.\u001b[39mSunburst, go\u001b[38;5;241m.\u001b[39mIcicle] \u001b[38;5;129;01mand\u001b[39;00m args[\u001b[38;5;124m\"\u001b[39m\u001b[38;5;124mpath\u001b[39m\u001b[38;5;124m\"\u001b[39m] \u001b[38;5;129;01mis\u001b[39;00m \u001b[38;5;129;01mnot\u001b[39;00m \u001b[38;5;28;01mNone\u001b[39;00m:\n\u001b[1;32m   2493\u001b[0m     args \u001b[38;5;241m=\u001b[39m process_dataframe_hierarchy(args)\n",
      "File \u001b[0;32m/opt/anaconda3/envs/FDSML/lib/python3.10/site-packages/plotly/express/_core.py:1737\u001b[0m, in \u001b[0;36mbuild_dataframe\u001b[0;34m(args, constructor)\u001b[0m\n\u001b[1;32m   1734\u001b[0m     args[\u001b[38;5;124m\"\u001b[39m\u001b[38;5;124mcolor\u001b[39m\u001b[38;5;124m\"\u001b[39m] \u001b[38;5;241m=\u001b[39m \u001b[38;5;28;01mNone\u001b[39;00m\n\u001b[1;32m   1735\u001b[0m \u001b[38;5;66;03m# now that things have been prepped, we do the systematic rewriting of `args`\u001b[39;00m\n\u001b[0;32m-> 1737\u001b[0m df_output, wide_id_vars \u001b[38;5;241m=\u001b[39m \u001b[43mprocess_args_into_dataframe\u001b[49m\u001b[43m(\u001b[49m\n\u001b[1;32m   1738\u001b[0m \u001b[43m    \u001b[49m\u001b[43margs\u001b[49m\u001b[43m,\u001b[49m\n\u001b[1;32m   1739\u001b[0m \u001b[43m    \u001b[49m\u001b[43mwide_mode\u001b[49m\u001b[43m,\u001b[49m\n\u001b[1;32m   1740\u001b[0m \u001b[43m    \u001b[49m\u001b[43mvar_name\u001b[49m\u001b[43m,\u001b[49m\n\u001b[1;32m   1741\u001b[0m \u001b[43m    \u001b[49m\u001b[43mvalue_name\u001b[49m\u001b[43m,\u001b[49m\n\u001b[1;32m   1742\u001b[0m \u001b[43m    \u001b[49m\u001b[43mis_pd_like\u001b[49m\u001b[43m,\u001b[49m\n\u001b[1;32m   1743\u001b[0m \u001b[43m    \u001b[49m\u001b[43mnative_namespace\u001b[49m\u001b[43m,\u001b[49m\n\u001b[1;32m   1744\u001b[0m \u001b[43m\u001b[49m\u001b[43m)\u001b[49m\n\u001b[1;32m   1745\u001b[0m df_output: nw\u001b[38;5;241m.\u001b[39mDataFrame\n\u001b[1;32m   1746\u001b[0m \u001b[38;5;66;03m# now that `df_output` exists and `args` contains only references, we complete\u001b[39;00m\n\u001b[1;32m   1747\u001b[0m \u001b[38;5;66;03m# the special-case and wide-mode handling by further rewriting args and/or mutating\u001b[39;00m\n\u001b[1;32m   1748\u001b[0m \u001b[38;5;66;03m# df_output\u001b[39;00m\n",
      "File \u001b[0;32m/opt/anaconda3/envs/FDSML/lib/python3.10/site-packages/plotly/express/_core.py:1338\u001b[0m, in \u001b[0;36mprocess_args_into_dataframe\u001b[0;34m(args, wide_mode, var_name, value_name, is_pd_like, native_namespace)\u001b[0m\n\u001b[1;32m   1336\u001b[0m         \u001b[38;5;28;01mif\u001b[39;00m argument \u001b[38;5;241m==\u001b[39m \u001b[38;5;124m\"\u001b[39m\u001b[38;5;124mindex\u001b[39m\u001b[38;5;124m\"\u001b[39m:\n\u001b[1;32m   1337\u001b[0m             err_msg \u001b[38;5;241m+\u001b[39m\u001b[38;5;241m=\u001b[39m \u001b[38;5;124m\"\u001b[39m\u001b[38;5;130;01m\\n\u001b[39;00m\u001b[38;5;124m To use the index, pass it in directly as `df.index`.\u001b[39m\u001b[38;5;124m\"\u001b[39m\n\u001b[0;32m-> 1338\u001b[0m         \u001b[38;5;28;01mraise\u001b[39;00m \u001b[38;5;167;01mValueError\u001b[39;00m(err_msg)\n\u001b[1;32m   1339\u001b[0m \u001b[38;5;28;01melif\u001b[39;00m length \u001b[38;5;129;01mand\u001b[39;00m (actual_len \u001b[38;5;241m:=\u001b[39m \u001b[38;5;28mlen\u001b[39m(df_input)) \u001b[38;5;241m!=\u001b[39m length:\n\u001b[1;32m   1340\u001b[0m     \u001b[38;5;28;01mraise\u001b[39;00m \u001b[38;5;167;01mValueError\u001b[39;00m(\n\u001b[1;32m   1341\u001b[0m         \u001b[38;5;124m\"\u001b[39m\u001b[38;5;124mAll arguments should have the same length. \u001b[39m\u001b[38;5;124m\"\u001b[39m\n\u001b[1;32m   1342\u001b[0m         \u001b[38;5;124m\"\u001b[39m\u001b[38;5;124mThe length of column argument `df[\u001b[39m\u001b[38;5;132;01m%s\u001b[39;00m\u001b[38;5;124m]` is \u001b[39m\u001b[38;5;132;01m%d\u001b[39;00m\u001b[38;5;124m, whereas the \u001b[39m\u001b[38;5;124m\"\u001b[39m\n\u001b[0;32m   (...)\u001b[0m\n\u001b[1;32m   1349\u001b[0m         )\n\u001b[1;32m   1350\u001b[0m     )\n",
      "\u001b[0;31mValueError\u001b[0m: Value of 'x' is not the name of a column in 'data_frame'. Expected one of ['user_id', 'age', 'gender', 'occupation', 'zip_code', 'gender_le', 'occupation_le', 'zip_le', 'cluster_kp'] but received: PCA1"
     ]
    }
   ],
   "source": [
    "import plotly.express as px\n",
    "\n",
    "# Sostituisci questa parte con il tuo caricamento del DataFrame\n",
    "# import pandas as pd\n",
    "# user = pd.read_csv('tuo_file.csv')\n",
    "\n",
    "fig = px.scatter_3d(\n",
    "    user,\n",
    "    x='PCA1',\n",
    "    y='PCA2',\n",
    "    z='PCA3',\n",
    "    color='cluster',\n",
    "    title='Cluster utenti con K-Means (PCA 3D)',\n",
    "    labels={'PCA1': 'PCA1', 'PCA2': 'PCA2', 'PCA3': 'PCA3'}\n",
    ")\n",
    "\n",
    "fig.update_layout(\n",
    "    margin=dict(l=0, r=0, b=0, t=40),\n",
    "    legend_title_text='Cluster'\n",
    ")\n",
    "\n",
    "fig.show()\n"
   ]
  }
 ],
 "metadata": {
  "kernelspec": {
   "display_name": "FDSML",
   "language": "python",
   "name": "python3"
  },
  "language_info": {
   "codemirror_mode": {
    "name": "ipython",
    "version": 3
   },
   "file_extension": ".py",
   "mimetype": "text/x-python",
   "name": "python",
   "nbconvert_exporter": "python",
   "pygments_lexer": "ipython3",
   "version": "3.10.18"
  }
 },
 "nbformat": 4,
 "nbformat_minor": 5
}
