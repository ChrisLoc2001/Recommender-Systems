{
 "cells": [
  {
   "cell_type": "code",
   "execution_count": 27,
   "id": "e87a43cf",
   "metadata": {},
   "outputs": [],
   "source": [
    "import pandas as pd\n",
    "from sklearn.preprocessing import StandardScaler\n",
    "from sklearn.cluster import KMeans\n",
    "from sklearn.metrics import silhouette_score\n",
    "from sklearn.decomposition import PCA\n",
    "import matplotlib.pyplot as plt\n",
    "import seaborn as sns\n",
    "from scipy.cluster.hierarchy import linkage, dendrogram\n",
    "from sklearn.preprocessing import LabelEncoder, OneHotEncoder\n",
    "from category_encoders import BinaryEncoder, TargetEncoder\n",
    "from sklearn.feature_extraction import FeatureHasher\n",
    "from kmodes.kprototypes import KPrototypes\n",
    "import plotly.express as px\n"
   ]
  },
  {
   "cell_type": "code",
   "execution_count": 28,
   "id": "3209fed1",
   "metadata": {},
   "outputs": [],
   "source": [
    "ratings = pd.read_csv('../datasets/ml-100k/u.data', \n",
    "                      sep='\\t', \n",
    "                      names=['user_id', 'item_id', 'rating', 'timestamp'])\n",
    "ratings = ratings.drop(columns='timestamp')\n",
    "\n",
    "user_item_dense = ratings.pivot(\n",
    "    index='user_id',\n",
    "    columns='item_id',\n",
    "    values='rating'\n",
    ").fillna(0)"
   ]
  },
  {
   "cell_type": "code",
   "execution_count": 29,
   "id": "4a7299c0",
   "metadata": {},
   "outputs": [
    {
     "data": {
      "text/html": [
       "<div>\n",
       "<style scoped>\n",
       "    .dataframe tbody tr th:only-of-type {\n",
       "        vertical-align: middle;\n",
       "    }\n",
       "\n",
       "    .dataframe tbody tr th {\n",
       "        vertical-align: top;\n",
       "    }\n",
       "\n",
       "    .dataframe thead th {\n",
       "        text-align: right;\n",
       "    }\n",
       "</style>\n",
       "<table border=\"1\" class=\"dataframe\">\n",
       "  <thead>\n",
       "    <tr style=\"text-align: right;\">\n",
       "      <th></th>\n",
       "      <th>user_id</th>\n",
       "      <th>age</th>\n",
       "      <th>gender</th>\n",
       "      <th>occupation</th>\n",
       "      <th>zip_code</th>\n",
       "    </tr>\n",
       "  </thead>\n",
       "  <tbody>\n",
       "    <tr>\n",
       "      <th>0</th>\n",
       "      <td>1</td>\n",
       "      <td>24</td>\n",
       "      <td>M</td>\n",
       "      <td>technician</td>\n",
       "      <td>85711</td>\n",
       "    </tr>\n",
       "    <tr>\n",
       "      <th>1</th>\n",
       "      <td>2</td>\n",
       "      <td>53</td>\n",
       "      <td>F</td>\n",
       "      <td>other</td>\n",
       "      <td>94043</td>\n",
       "    </tr>\n",
       "    <tr>\n",
       "      <th>2</th>\n",
       "      <td>3</td>\n",
       "      <td>23</td>\n",
       "      <td>M</td>\n",
       "      <td>writer</td>\n",
       "      <td>32067</td>\n",
       "    </tr>\n",
       "    <tr>\n",
       "      <th>3</th>\n",
       "      <td>4</td>\n",
       "      <td>24</td>\n",
       "      <td>M</td>\n",
       "      <td>technician</td>\n",
       "      <td>43537</td>\n",
       "    </tr>\n",
       "    <tr>\n",
       "      <th>4</th>\n",
       "      <td>5</td>\n",
       "      <td>33</td>\n",
       "      <td>F</td>\n",
       "      <td>other</td>\n",
       "      <td>15213</td>\n",
       "    </tr>\n",
       "    <tr>\n",
       "      <th>...</th>\n",
       "      <td>...</td>\n",
       "      <td>...</td>\n",
       "      <td>...</td>\n",
       "      <td>...</td>\n",
       "      <td>...</td>\n",
       "    </tr>\n",
       "    <tr>\n",
       "      <th>938</th>\n",
       "      <td>939</td>\n",
       "      <td>26</td>\n",
       "      <td>F</td>\n",
       "      <td>student</td>\n",
       "      <td>33319</td>\n",
       "    </tr>\n",
       "    <tr>\n",
       "      <th>939</th>\n",
       "      <td>940</td>\n",
       "      <td>32</td>\n",
       "      <td>M</td>\n",
       "      <td>administrator</td>\n",
       "      <td>02215</td>\n",
       "    </tr>\n",
       "    <tr>\n",
       "      <th>940</th>\n",
       "      <td>941</td>\n",
       "      <td>20</td>\n",
       "      <td>M</td>\n",
       "      <td>student</td>\n",
       "      <td>97229</td>\n",
       "    </tr>\n",
       "    <tr>\n",
       "      <th>941</th>\n",
       "      <td>942</td>\n",
       "      <td>48</td>\n",
       "      <td>F</td>\n",
       "      <td>librarian</td>\n",
       "      <td>78209</td>\n",
       "    </tr>\n",
       "    <tr>\n",
       "      <th>942</th>\n",
       "      <td>943</td>\n",
       "      <td>22</td>\n",
       "      <td>M</td>\n",
       "      <td>student</td>\n",
       "      <td>77841</td>\n",
       "    </tr>\n",
       "  </tbody>\n",
       "</table>\n",
       "<p>943 rows × 5 columns</p>\n",
       "</div>"
      ],
      "text/plain": [
       "     user_id  age gender     occupation zip_code\n",
       "0          1   24      M     technician    85711\n",
       "1          2   53      F          other    94043\n",
       "2          3   23      M         writer    32067\n",
       "3          4   24      M     technician    43537\n",
       "4          5   33      F          other    15213\n",
       "..       ...  ...    ...            ...      ...\n",
       "938      939   26      F        student    33319\n",
       "939      940   32      M  administrator    02215\n",
       "940      941   20      M        student    97229\n",
       "941      942   48      F      librarian    78209\n",
       "942      943   22      M        student    77841\n",
       "\n",
       "[943 rows x 5 columns]"
      ]
     },
     "execution_count": 29,
     "metadata": {},
     "output_type": "execute_result"
    }
   ],
   "source": [
    "user = pd.read_csv('../datasets/ml-100k/u.user', \n",
    "                      sep='|', \n",
    "                      names=['user_id', 'age', 'gender', 'occupation', 'zip_code'])\n",
    "\n",
    "merged = user.merge(user_item_dense, on='user_id')\n",
    "\n",
    "user"
   ]
  },
  {
   "cell_type": "code",
   "execution_count": 30,
   "id": "d66fb90b",
   "metadata": {},
   "outputs": [
    {
     "data": {
      "text/plain": [
       "2"
      ]
     },
     "execution_count": 30,
     "metadata": {},
     "output_type": "execute_result"
    }
   ],
   "source": [
    "best_k"
   ]
  },
  {
   "cell_type": "code",
   "execution_count": 31,
   "id": "00294cad",
   "metadata": {},
   "outputs": [
    {
     "data": {
      "text/plain": [
       "0.03218405460267304"
      ]
     },
     "execution_count": 31,
     "metadata": {},
     "output_type": "execute_result"
    }
   ],
   "source": [
    "best_score"
   ]
  },
  {
   "cell_type": "code",
   "execution_count": 32,
   "id": "631d720b",
   "metadata": {},
   "outputs": [],
   "source": [
    "# K-PROTOTYPE\n",
    "le_gender = LabelEncoder()\n",
    "le_occ    = LabelEncoder()\n",
    "le_zip    = LabelEncoder()\n",
    "\n",
    "user['gender_le']     = le_gender.fit_transform(user['gender'])\n",
    "user['occupation_le'] = le_occ.fit_transform(user['occupation'])\n",
    "user['zip_le']        = le_zip.fit_transform(user['zip_code'])\n",
    "\n",
    "\n",
    "matrix = user[['age', 'zip_le', 'gender_le', 'occupation_le']].to_numpy()\n"
   ]
  },
  {
   "cell_type": "code",
   "execution_count": 33,
   "id": "7582f2ba",
   "metadata": {},
   "outputs": [
    {
     "name": "stdout",
     "output_type": "stream",
     "text": [
      "k = 2 → silhouette score = 0.0322\n",
      "k = 3 → silhouette score = -0.0103\n",
      "k = 4 → silhouette score = -0.0335\n",
      "k = 5 → silhouette score = -0.0374\n",
      "k = 6 → silhouette score = -0.0482\n",
      "k = 7 → silhouette score = -0.0670\n",
      "k = 8 → silhouette score = -0.0728\n",
      "k = 9 → silhouette score = -0.0764\n",
      "k = 10 → silhouette score = -0.0894\n",
      "\n",
      "Numero ottimale di cluster: k = 2 (silhouette = 0.0322)\n"
     ]
    }
   ],
   "source": [
    "sil_scores = {}\n",
    "range_n_clusters = range(2, 11)  # prova da 2 a 10 cluster\n",
    "\n",
    "for k in range_n_clusters:\n",
    "    # fit k‑Prototypes\n",
    "    kp = KPrototypes(n_clusters=k, init='Cao', verbose=0, random_state=42)\n",
    "    labels = kp.fit_predict(matrix, categorical=[1, 2, 3])\n",
    "    # silhouette score (usiamo distanza euclidea sulla matrice numerica codificata)\n",
    "    score = silhouette_score(matrix, labels, metric='euclidean')\n",
    "    sil_scores[k] = score\n",
    "    print(f\"k = {k} → silhouette score = {score:.4f}\")\n",
    "\n",
    "# Trova il k con il silhouette migliore\n",
    "best_k = max(sil_scores, key=sil_scores.get)\n",
    "best_score = sil_scores[best_k]\n",
    "print(f\"\\nNumero ottimale di cluster: k = {best_k} (silhouette = {best_score:.4f})\")"
   ]
  },
  {
   "cell_type": "code",
   "execution_count": 34,
   "id": "89fec5cb",
   "metadata": {},
   "outputs": [
    {
     "name": "stdout",
     "output_type": "stream",
     "text": [
      "Initialization method and algorithm are deterministic. Setting n_init to 1.\n",
      "Init: initializing centroids\n",
      "Init: initializing clusters\n",
      "Starting iterations...\n",
      "Run: 1, iteration: 1/100, moves: 48, ncost: 51207.88267390665\n",
      "Run: 1, iteration: 2/100, moves: 12, ncost: 51130.4130074675\n",
      "Run: 1, iteration: 3/100, moves: 0, ncost: 51130.4130074675\n",
      "Init: initializing centroids\n",
      "Init: initializing clusters\n",
      "Starting iterations...\n",
      "Run: 2, iteration: 1/100, moves: 33, ncost: 51149.4980275898\n",
      "Run: 2, iteration: 2/100, moves: 6, ncost: 51130.4130074675\n",
      "Run: 2, iteration: 3/100, moves: 0, ncost: 51130.4130074675\n",
      "Init: initializing centroids\n",
      "Init: initializing clusters\n",
      "Starting iterations...\n",
      "Run: 3, iteration: 1/100, moves: 30, ncost: 51245.5194240735\n",
      "Run: 3, iteration: 2/100, moves: 15, ncost: 51122.87982118437\n",
      "Run: 3, iteration: 3/100, moves: 0, ncost: 51122.87982118437\n",
      "Init: initializing centroids\n",
      "Init: initializing clusters\n",
      "Starting iterations...\n",
      "Run: 4, iteration: 1/100, moves: 17, ncost: 51130.4130074675\n",
      "Run: 4, iteration: 2/100, moves: 0, ncost: 51130.4130074675\n",
      "Init: initializing centroids\n",
      "Init: initializing clusters\n",
      "Starting iterations...\n",
      "Run: 5, iteration: 1/100, moves: 46, ncost: 51277.94378952118\n",
      "Run: 5, iteration: 2/100, moves: 17, ncost: 51122.87982118437\n",
      "Run: 5, iteration: 3/100, moves: 0, ncost: 51122.87982118437\n",
      "Init: initializing centroids\n",
      "Init: initializing clusters\n",
      "Starting iterations...\n",
      "Run: 6, iteration: 1/100, moves: 48, ncost: 51207.88267390665\n",
      "Run: 6, iteration: 2/100, moves: 12, ncost: 51130.4130074675\n",
      "Run: 6, iteration: 3/100, moves: 0, ncost: 51130.4130074675\n",
      "Init: initializing centroids\n",
      "Init: initializing clusters\n",
      "Starting iterations...\n",
      "Run: 7, iteration: 1/100, moves: 37, ncost: 51122.87982118437\n",
      "Run: 7, iteration: 2/100, moves: 0, ncost: 51122.87982118437\n",
      "Init: initializing centroids\n",
      "Init: initializing clusters\n",
      "Starting iterations...\n",
      "Run: 8, iteration: 1/100, moves: 92, ncost: 52139.851907642\n",
      "Run: 8, iteration: 2/100, moves: 43, ncost: 51156.45124688802\n",
      "Run: 8, iteration: 3/100, moves: 7, ncost: 51130.4130074675\n",
      "Run: 8, iteration: 4/100, moves: 0, ncost: 51130.4130074675\n",
      "Init: initializing centroids\n",
      "Init: initializing clusters\n",
      "Starting iterations...\n",
      "Run: 9, iteration: 1/100, moves: 33, ncost: 51149.4980275898\n",
      "Run: 9, iteration: 2/100, moves: 6, ncost: 51130.4130074675\n",
      "Run: 9, iteration: 3/100, moves: 0, ncost: 51130.4130074675\n",
      "Init: initializing centroids\n",
      "Init: initializing clusters\n",
      "Starting iterations...\n",
      "Run: 10, iteration: 1/100, moves: 34, ncost: 51122.87982118437\n",
      "Run: 10, iteration: 2/100, moves: 0, ncost: 51122.87982118437\n",
      "Best run was number 3\n"
     ]
    }
   ],
   "source": [
    "kp = KPrototypes(n_clusters=best_k, init='Cao', verbose=1, random_state=42)\n",
    "clusters = kp.fit_predict(matrix, categorical=[1, 2, 3])  # zip_code, gender, occupation\n",
    "user['cluster_kp'] = clusters"
   ]
  },
  {
   "cell_type": "code",
   "execution_count": null,
   "id": "b5817857",
   "metadata": {},
   "outputs": [],
   "source": [
    "# 5. Riduzione a 3 dimensioni (PCA) per la visualizzazione\n",
    "pca = PCA(n_components=3)\n",
    "coords_3d = pca.fit_transform(matrix)\n",
    "df_plot = pd.DataFrame(coords_3d, columns=['PC1', 'PC2', 'PC3'])\n",
    "df_plot['cluster'] = clusters.astype(str)"
   ]
  },
  {
   "cell_type": "code",
   "execution_count": null,
   "id": "bde859b3",
   "metadata": {},
   "outputs": [
    {
     "data": {
      "application/vnd.plotly.v1+json": {
       "config": {
        "plotlyServerURL": "https://plot.ly"
       },
       "data": [
        {
         "hovertemplate": "Cluster=1<br>PC1=%{x}<br>PC2=%{y}<br>PC3=%{z}<extra></extra>",
         "legendgroup": "1",
         "marker": {
          "color": "#636efa",
          "size": 4,
          "symbol": "circle"
         },
         "mode": "markers",
         "name": "1",
         "scene": "scene",
         "showlegend": true,
         "type": "scatter3d",
         "x": {
          "bdata": "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",
          "dtype": "f8"
         },
         "y": {
          "bdata": "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",
          "dtype": "f8"
         },
         "z": {
          "bdata": "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",
          "dtype": "f8"
         }
        },
        {
         "hovertemplate": "Cluster=0<br>PC1=%{x}<br>PC2=%{y}<br>PC3=%{z}<extra></extra>",
         "legendgroup": "0",
         "marker": {
          "color": "#EF553B",
          "size": 4,
          "symbol": "circle"
         },
         "mode": "markers",
         "name": "0",
         "scene": "scene",
         "showlegend": true,
         "type": "scatter3d",
         "x": {
          "bdata": "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",
          "dtype": "f8"
         },
         "y": {
          "bdata": "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",
          "dtype": "f8"
         },
         "z": {
          "bdata": "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",
          "dtype": "f8"
         }
        }
       ],
       "layout": {
        "legend": {
         "title": {
          "text": "Cluster"
         },
         "tracegroupgap": 0
        },
        "scene": {
         "domain": {
          "x": [
           0,
           1
          ],
          "y": [
           0,
           1
          ]
         },
         "xaxis": {
          "title": {
           "text": "PC1"
          }
         },
         "yaxis": {
          "title": {
           "text": "PC2"
          }
         },
         "zaxis": {
          "title": {
           "text": "PC3"
          }
         }
        },
        "template": {
         "data": {
          "bar": [
           {
            "error_x": {
             "color": "#2a3f5f"
            },
            "error_y": {
             "color": "#2a3f5f"
            },
            "marker": {
             "line": {
              "color": "#E5ECF6",
              "width": 0.5
             },
             "pattern": {
              "fillmode": "overlay",
              "size": 10,
              "solidity": 0.2
             }
            },
            "type": "bar"
           }
          ],
          "barpolar": [
           {
            "marker": {
             "line": {
              "color": "#E5ECF6",
              "width": 0.5
             },
             "pattern": {
              "fillmode": "overlay",
              "size": 10,
              "solidity": 0.2
             }
            },
            "type": "barpolar"
           }
          ],
          "carpet": [
           {
            "aaxis": {
             "endlinecolor": "#2a3f5f",
             "gridcolor": "white",
             "linecolor": "white",
             "minorgridcolor": "white",
             "startlinecolor": "#2a3f5f"
            },
            "baxis": {
             "endlinecolor": "#2a3f5f",
             "gridcolor": "white",
             "linecolor": "white",
             "minorgridcolor": "white",
             "startlinecolor": "#2a3f5f"
            },
            "type": "carpet"
           }
          ],
          "choropleth": [
           {
            "colorbar": {
             "outlinewidth": 0,
             "ticks": ""
            },
            "type": "choropleth"
           }
          ],
          "contour": [
           {
            "colorbar": {
             "outlinewidth": 0,
             "ticks": ""
            },
            "colorscale": [
             [
              0,
              "#0d0887"
             ],
             [
              0.1111111111111111,
              "#46039f"
             ],
             [
              0.2222222222222222,
              "#7201a8"
             ],
             [
              0.3333333333333333,
              "#9c179e"
             ],
             [
              0.4444444444444444,
              "#bd3786"
             ],
             [
              0.5555555555555556,
              "#d8576b"
             ],
             [
              0.6666666666666666,
              "#ed7953"
             ],
             [
              0.7777777777777778,
              "#fb9f3a"
             ],
             [
              0.8888888888888888,
              "#fdca26"
             ],
             [
              1,
              "#f0f921"
             ]
            ],
            "type": "contour"
           }
          ],
          "contourcarpet": [
           {
            "colorbar": {
             "outlinewidth": 0,
             "ticks": ""
            },
            "type": "contourcarpet"
           }
          ],
          "heatmap": [
           {
            "colorbar": {
             "outlinewidth": 0,
             "ticks": ""
            },
            "colorscale": [
             [
              0,
              "#0d0887"
             ],
             [
              0.1111111111111111,
              "#46039f"
             ],
             [
              0.2222222222222222,
              "#7201a8"
             ],
             [
              0.3333333333333333,
              "#9c179e"
             ],
             [
              0.4444444444444444,
              "#bd3786"
             ],
             [
              0.5555555555555556,
              "#d8576b"
             ],
             [
              0.6666666666666666,
              "#ed7953"
             ],
             [
              0.7777777777777778,
              "#fb9f3a"
             ],
             [
              0.8888888888888888,
              "#fdca26"
             ],
             [
              1,
              "#f0f921"
             ]
            ],
            "type": "heatmap"
           }
          ],
          "histogram": [
           {
            "marker": {
             "pattern": {
              "fillmode": "overlay",
              "size": 10,
              "solidity": 0.2
             }
            },
            "type": "histogram"
           }
          ],
          "histogram2d": [
           {
            "colorbar": {
             "outlinewidth": 0,
             "ticks": ""
            },
            "colorscale": [
             [
              0,
              "#0d0887"
             ],
             [
              0.1111111111111111,
              "#46039f"
             ],
             [
              0.2222222222222222,
              "#7201a8"
             ],
             [
              0.3333333333333333,
              "#9c179e"
             ],
             [
              0.4444444444444444,
              "#bd3786"
             ],
             [
              0.5555555555555556,
              "#d8576b"
             ],
             [
              0.6666666666666666,
              "#ed7953"
             ],
             [
              0.7777777777777778,
              "#fb9f3a"
             ],
             [
              0.8888888888888888,
              "#fdca26"
             ],
             [
              1,
              "#f0f921"
             ]
            ],
            "type": "histogram2d"
           }
          ],
          "histogram2dcontour": [
           {
            "colorbar": {
             "outlinewidth": 0,
             "ticks": ""
            },
            "colorscale": [
             [
              0,
              "#0d0887"
             ],
             [
              0.1111111111111111,
              "#46039f"
             ],
             [
              0.2222222222222222,
              "#7201a8"
             ],
             [
              0.3333333333333333,
              "#9c179e"
             ],
             [
              0.4444444444444444,
              "#bd3786"
             ],
             [
              0.5555555555555556,
              "#d8576b"
             ],
             [
              0.6666666666666666,
              "#ed7953"
             ],
             [
              0.7777777777777778,
              "#fb9f3a"
             ],
             [
              0.8888888888888888,
              "#fdca26"
             ],
             [
              1,
              "#f0f921"
             ]
            ],
            "type": "histogram2dcontour"
           }
          ],
          "mesh3d": [
           {
            "colorbar": {
             "outlinewidth": 0,
             "ticks": ""
            },
            "type": "mesh3d"
           }
          ],
          "parcoords": [
           {
            "line": {
             "colorbar": {
              "outlinewidth": 0,
              "ticks": ""
             }
            },
            "type": "parcoords"
           }
          ],
          "pie": [
           {
            "automargin": true,
            "type": "pie"
           }
          ],
          "scatter": [
           {
            "fillpattern": {
             "fillmode": "overlay",
             "size": 10,
             "solidity": 0.2
            },
            "type": "scatter"
           }
          ],
          "scatter3d": [
           {
            "line": {
             "colorbar": {
              "outlinewidth": 0,
              "ticks": ""
             }
            },
            "marker": {
             "colorbar": {
              "outlinewidth": 0,
              "ticks": ""
             }
            },
            "type": "scatter3d"
           }
          ],
          "scattercarpet": [
           {
            "marker": {
             "colorbar": {
              "outlinewidth": 0,
              "ticks": ""
             }
            },
            "type": "scattercarpet"
           }
          ],
          "scattergeo": [
           {
            "marker": {
             "colorbar": {
              "outlinewidth": 0,
              "ticks": ""
             }
            },
            "type": "scattergeo"
           }
          ],
          "scattergl": [
           {
            "marker": {
             "colorbar": {
              "outlinewidth": 0,
              "ticks": ""
             }
            },
            "type": "scattergl"
           }
          ],
          "scattermap": [
           {
            "marker": {
             "colorbar": {
              "outlinewidth": 0,
              "ticks": ""
             }
            },
            "type": "scattermap"
           }
          ],
          "scattermapbox": [
           {
            "marker": {
             "colorbar": {
              "outlinewidth": 0,
              "ticks": ""
             }
            },
            "type": "scattermapbox"
           }
          ],
          "scatterpolar": [
           {
            "marker": {
             "colorbar": {
              "outlinewidth": 0,
              "ticks": ""
             }
            },
            "type": "scatterpolar"
           }
          ],
          "scatterpolargl": [
           {
            "marker": {
             "colorbar": {
              "outlinewidth": 0,
              "ticks": ""
             }
            },
            "type": "scatterpolargl"
           }
          ],
          "scatterternary": [
           {
            "marker": {
             "colorbar": {
              "outlinewidth": 0,
              "ticks": ""
             }
            },
            "type": "scatterternary"
           }
          ],
          "surface": [
           {
            "colorbar": {
             "outlinewidth": 0,
             "ticks": ""
            },
            "colorscale": [
             [
              0,
              "#0d0887"
             ],
             [
              0.1111111111111111,
              "#46039f"
             ],
             [
              0.2222222222222222,
              "#7201a8"
             ],
             [
              0.3333333333333333,
              "#9c179e"
             ],
             [
              0.4444444444444444,
              "#bd3786"
             ],
             [
              0.5555555555555556,
              "#d8576b"
             ],
             [
              0.6666666666666666,
              "#ed7953"
             ],
             [
              0.7777777777777778,
              "#fb9f3a"
             ],
             [
              0.8888888888888888,
              "#fdca26"
             ],
             [
              1,
              "#f0f921"
             ]
            ],
            "type": "surface"
           }
          ],
          "table": [
           {
            "cells": {
             "fill": {
              "color": "#EBF0F8"
             },
             "line": {
              "color": "white"
             }
            },
            "header": {
             "fill": {
              "color": "#C8D4E3"
             },
             "line": {
              "color": "white"
             }
            },
            "type": "table"
           }
          ]
         },
         "layout": {
          "annotationdefaults": {
           "arrowcolor": "#2a3f5f",
           "arrowhead": 0,
           "arrowwidth": 1
          },
          "autotypenumbers": "strict",
          "coloraxis": {
           "colorbar": {
            "outlinewidth": 0,
            "ticks": ""
           }
          },
          "colorscale": {
           "diverging": [
            [
             0,
             "#8e0152"
            ],
            [
             0.1,
             "#c51b7d"
            ],
            [
             0.2,
             "#de77ae"
            ],
            [
             0.3,
             "#f1b6da"
            ],
            [
             0.4,
             "#fde0ef"
            ],
            [
             0.5,
             "#f7f7f7"
            ],
            [
             0.6,
             "#e6f5d0"
            ],
            [
             0.7,
             "#b8e186"
            ],
            [
             0.8,
             "#7fbc41"
            ],
            [
             0.9,
             "#4d9221"
            ],
            [
             1,
             "#276419"
            ]
           ],
           "sequential": [
            [
             0,
             "#0d0887"
            ],
            [
             0.1111111111111111,
             "#46039f"
            ],
            [
             0.2222222222222222,
             "#7201a8"
            ],
            [
             0.3333333333333333,
             "#9c179e"
            ],
            [
             0.4444444444444444,
             "#bd3786"
            ],
            [
             0.5555555555555556,
             "#d8576b"
            ],
            [
             0.6666666666666666,
             "#ed7953"
            ],
            [
             0.7777777777777778,
             "#fb9f3a"
            ],
            [
             0.8888888888888888,
             "#fdca26"
            ],
            [
             1,
             "#f0f921"
            ]
           ],
           "sequentialminus": [
            [
             0,
             "#0d0887"
            ],
            [
             0.1111111111111111,
             "#46039f"
            ],
            [
             0.2222222222222222,
             "#7201a8"
            ],
            [
             0.3333333333333333,
             "#9c179e"
            ],
            [
             0.4444444444444444,
             "#bd3786"
            ],
            [
             0.5555555555555556,
             "#d8576b"
            ],
            [
             0.6666666666666666,
             "#ed7953"
            ],
            [
             0.7777777777777778,
             "#fb9f3a"
            ],
            [
             0.8888888888888888,
             "#fdca26"
            ],
            [
             1,
             "#f0f921"
            ]
           ]
          },
          "colorway": [
           "#636efa",
           "#EF553B",
           "#00cc96",
           "#ab63fa",
           "#FFA15A",
           "#19d3f3",
           "#FF6692",
           "#B6E880",
           "#FF97FF",
           "#FECB52"
          ],
          "font": {
           "color": "#2a3f5f"
          },
          "geo": {
           "bgcolor": "white",
           "lakecolor": "white",
           "landcolor": "#E5ECF6",
           "showlakes": true,
           "showland": true,
           "subunitcolor": "white"
          },
          "hoverlabel": {
           "align": "left"
          },
          "hovermode": "closest",
          "mapbox": {
           "style": "light"
          },
          "paper_bgcolor": "white",
          "plot_bgcolor": "#E5ECF6",
          "polar": {
           "angularaxis": {
            "gridcolor": "white",
            "linecolor": "white",
            "ticks": ""
           },
           "bgcolor": "#E5ECF6",
           "radialaxis": {
            "gridcolor": "white",
            "linecolor": "white",
            "ticks": ""
           }
          },
          "scene": {
           "xaxis": {
            "backgroundcolor": "#E5ECF6",
            "gridcolor": "white",
            "gridwidth": 2,
            "linecolor": "white",
            "showbackground": true,
            "ticks": "",
            "zerolinecolor": "white"
           },
           "yaxis": {
            "backgroundcolor": "#E5ECF6",
            "gridcolor": "white",
            "gridwidth": 2,
            "linecolor": "white",
            "showbackground": true,
            "ticks": "",
            "zerolinecolor": "white"
           },
           "zaxis": {
            "backgroundcolor": "#E5ECF6",
            "gridcolor": "white",
            "gridwidth": 2,
            "linecolor": "white",
            "showbackground": true,
            "ticks": "",
            "zerolinecolor": "white"
           }
          },
          "shapedefaults": {
           "line": {
            "color": "#2a3f5f"
           }
          },
          "ternary": {
           "aaxis": {
            "gridcolor": "white",
            "linecolor": "white",
            "ticks": ""
           },
           "baxis": {
            "gridcolor": "white",
            "linecolor": "white",
            "ticks": ""
           },
           "bgcolor": "#E5ECF6",
           "caxis": {
            "gridcolor": "white",
            "linecolor": "white",
            "ticks": ""
           }
          },
          "title": {
           "x": 0.05
          },
          "xaxis": {
           "automargin": true,
           "gridcolor": "white",
           "linecolor": "white",
           "ticks": "",
           "title": {
            "standoff": 15
           },
           "zerolinecolor": "white",
           "zerolinewidth": 2
          },
          "yaxis": {
           "automargin": true,
           "gridcolor": "white",
           "linecolor": "white",
           "ticks": "",
           "title": {
            "standoff": 15
           },
           "zerolinecolor": "white",
           "zerolinewidth": 2
          }
         }
        },
        "title": {
         "text": "Visualizzazione 3D interattiva dei cluster k‑Prototypes"
        }
       }
      }
     },
     "metadata": {},
     "output_type": "display_data"
    }
   ],
   "source": [
    "# 6. Grafico 3D interattivo con Plotly\n",
    "fig = px.scatter_3d(\n",
    "    df_plot,\n",
    "    x='PC1', y='PC2', z='PC3',\n",
    "    color='cluster',\n",
    "    title='Visualizzazione 3D interattiva dei cluster k‑Prototypes',\n",
    "    labels={'cluster': 'Cluster'}\n",
    ")\n",
    "fig.update_traces(marker=dict(size=4))\n",
    "fig.show()"
   ]
  }
 ],
 "metadata": {
  "kernelspec": {
   "display_name": "FDSML",
   "language": "python",
   "name": "python3"
  },
  "language_info": {
   "codemirror_mode": {
    "name": "ipython",
    "version": 3
   },
   "file_extension": ".py",
   "mimetype": "text/x-python",
   "name": "python",
   "nbconvert_exporter": "python",
   "pygments_lexer": "ipython3",
   "version": "3.10.18"
  }
 },
 "nbformat": 4,
 "nbformat_minor": 5
}
