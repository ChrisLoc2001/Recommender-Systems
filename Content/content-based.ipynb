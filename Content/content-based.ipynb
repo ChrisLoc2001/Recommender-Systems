{
 "cells": [
  {
   "cell_type": "code",
   "execution_count": 917,
   "id": "e87a43cf",
   "metadata": {},
   "outputs": [],
   "source": [
    "import pandas as pd\n",
    "from sklearn.preprocessing import StandardScaler\n",
    "from sklearn.cluster import KMeans\n",
    "from sklearn.metrics import silhouette_score\n",
    "from sklearn.decomposition import PCA\n",
    "import matplotlib.pyplot as plt\n",
    "import seaborn as sns\n",
    "from scipy.cluster.hierarchy import linkage, dendrogram\n",
    "from sklearn.preprocessing import LabelEncoder, OneHotEncoder\n",
    "from category_encoders import BinaryEncoder, TargetEncoder\n",
    "from sklearn.feature_extraction import FeatureHasher\n",
    "from kmodes.kprototypes import KPrototypes\n"
   ]
  },
  {
   "cell_type": "code",
   "execution_count": 918,
   "id": "3209fed1",
   "metadata": {},
   "outputs": [],
   "source": [
    "ratings = pd.read_csv('../datasets/ml-100k/u.data', \n",
    "                      sep='\\t', \n",
    "                      names=['user_id', 'item_id', 'rating', 'timestamp'])\n",
    "ratings = ratings.drop(columns='timestamp')\n",
    "\n",
    "user_item_dense = ratings.pivot(\n",
    "    index='user_id',\n",
    "    columns='item_id',\n",
    "    values='rating'\n",
    ").fillna(0)"
   ]
  },
  {
   "cell_type": "code",
   "execution_count": 919,
   "id": "4a7299c0",
   "metadata": {},
   "outputs": [
    {
     "data": {
      "text/html": [
       "<div>\n",
       "<style scoped>\n",
       "    .dataframe tbody tr th:only-of-type {\n",
       "        vertical-align: middle;\n",
       "    }\n",
       "\n",
       "    .dataframe tbody tr th {\n",
       "        vertical-align: top;\n",
       "    }\n",
       "\n",
       "    .dataframe thead th {\n",
       "        text-align: right;\n",
       "    }\n",
       "</style>\n",
       "<table border=\"1\" class=\"dataframe\">\n",
       "  <thead>\n",
       "    <tr style=\"text-align: right;\">\n",
       "      <th></th>\n",
       "      <th>user_id</th>\n",
       "      <th>age</th>\n",
       "      <th>gender</th>\n",
       "      <th>occupation</th>\n",
       "      <th>zip_code</th>\n",
       "    </tr>\n",
       "  </thead>\n",
       "  <tbody>\n",
       "    <tr>\n",
       "      <th>0</th>\n",
       "      <td>1</td>\n",
       "      <td>24</td>\n",
       "      <td>M</td>\n",
       "      <td>technician</td>\n",
       "      <td>85711</td>\n",
       "    </tr>\n",
       "    <tr>\n",
       "      <th>1</th>\n",
       "      <td>2</td>\n",
       "      <td>53</td>\n",
       "      <td>F</td>\n",
       "      <td>other</td>\n",
       "      <td>94043</td>\n",
       "    </tr>\n",
       "    <tr>\n",
       "      <th>2</th>\n",
       "      <td>3</td>\n",
       "      <td>23</td>\n",
       "      <td>M</td>\n",
       "      <td>writer</td>\n",
       "      <td>32067</td>\n",
       "    </tr>\n",
       "    <tr>\n",
       "      <th>3</th>\n",
       "      <td>4</td>\n",
       "      <td>24</td>\n",
       "      <td>M</td>\n",
       "      <td>technician</td>\n",
       "      <td>43537</td>\n",
       "    </tr>\n",
       "    <tr>\n",
       "      <th>4</th>\n",
       "      <td>5</td>\n",
       "      <td>33</td>\n",
       "      <td>F</td>\n",
       "      <td>other</td>\n",
       "      <td>15213</td>\n",
       "    </tr>\n",
       "    <tr>\n",
       "      <th>...</th>\n",
       "      <td>...</td>\n",
       "      <td>...</td>\n",
       "      <td>...</td>\n",
       "      <td>...</td>\n",
       "      <td>...</td>\n",
       "    </tr>\n",
       "    <tr>\n",
       "      <th>938</th>\n",
       "      <td>939</td>\n",
       "      <td>26</td>\n",
       "      <td>F</td>\n",
       "      <td>student</td>\n",
       "      <td>33319</td>\n",
       "    </tr>\n",
       "    <tr>\n",
       "      <th>939</th>\n",
       "      <td>940</td>\n",
       "      <td>32</td>\n",
       "      <td>M</td>\n",
       "      <td>administrator</td>\n",
       "      <td>02215</td>\n",
       "    </tr>\n",
       "    <tr>\n",
       "      <th>940</th>\n",
       "      <td>941</td>\n",
       "      <td>20</td>\n",
       "      <td>M</td>\n",
       "      <td>student</td>\n",
       "      <td>97229</td>\n",
       "    </tr>\n",
       "    <tr>\n",
       "      <th>941</th>\n",
       "      <td>942</td>\n",
       "      <td>48</td>\n",
       "      <td>F</td>\n",
       "      <td>librarian</td>\n",
       "      <td>78209</td>\n",
       "    </tr>\n",
       "    <tr>\n",
       "      <th>942</th>\n",
       "      <td>943</td>\n",
       "      <td>22</td>\n",
       "      <td>M</td>\n",
       "      <td>student</td>\n",
       "      <td>77841</td>\n",
       "    </tr>\n",
       "  </tbody>\n",
       "</table>\n",
       "<p>943 rows × 5 columns</p>\n",
       "</div>"
      ],
      "text/plain": [
       "     user_id  age gender     occupation zip_code\n",
       "0          1   24      M     technician    85711\n",
       "1          2   53      F          other    94043\n",
       "2          3   23      M         writer    32067\n",
       "3          4   24      M     technician    43537\n",
       "4          5   33      F          other    15213\n",
       "..       ...  ...    ...            ...      ...\n",
       "938      939   26      F        student    33319\n",
       "939      940   32      M  administrator    02215\n",
       "940      941   20      M        student    97229\n",
       "941      942   48      F      librarian    78209\n",
       "942      943   22      M        student    77841\n",
       "\n",
       "[943 rows x 5 columns]"
      ]
     },
     "execution_count": 919,
     "metadata": {},
     "output_type": "execute_result"
    }
   ],
   "source": [
    "user = pd.read_csv('../datasets/ml-100k/u.user', \n",
    "                      sep='|', \n",
    "                      names=['user_id', 'age', 'gender', 'occupation', 'zip_code'])\n",
    "\n",
    "merged = user.merge(user_item_dense, on='user_id')\n",
    "\n",
    "user"
   ]
  },
  {
   "cell_type": "code",
   "execution_count": 920,
   "id": "0bac1f7a",
   "metadata": {},
   "outputs": [],
   "source": [
    "# 2. One-Hot Encoding sulle colonne categoriche (gender, occupation, zip_code)\n",
    "#user_encoded = pd.get_dummies(user, columns=['gender', 'occupation', 'zip_code'])\n",
    "#data_for_clustering.columns = data_for_clustering.columns.astype(str)\n"
   ]
  },
  {
   "cell_type": "code",
   "execution_count": 921,
   "id": "af1cc95d",
   "metadata": {},
   "outputs": [],
   "source": [
    "#LABEL ENCODER\n",
    "\n",
    "le_gender = LabelEncoder()\n",
    "le_occ = LabelEncoder()\n",
    "le_zip = LabelEncoder()\n",
    "user['gender_le'] = le_gender.fit_transform(user['gender'])\n",
    "user['occupation_le'] = le_occ.fit_transform(user['occupation'])\n",
    "user['zip_le'] = le_zip.fit_transform(user['zip_code'])\n",
    "df_le = user[['user_id','age','gender_le','occupation_le', 'zip_le']]\n",
    "#df_le"
   ]
  },
  {
   "cell_type": "code",
   "execution_count": 922,
   "id": "3b33c7bd",
   "metadata": {},
   "outputs": [],
   "source": [
    "#BINARY ENCODER\n",
    "be = BinaryEncoder(cols=['gender','occupation','zip_code'], return_df=True)\n",
    "df_be = be.fit_transform(user[['user_id','age', 'gender','occupation','zip_code']])\n",
    "#df_be"
   ]
  },
  {
   "cell_type": "code",
   "execution_count": 923,
   "id": "f2071e90",
   "metadata": {},
   "outputs": [],
   "source": [
    "#HASHER \n",
    "user_dicts = user[['gender', 'occupation', 'zip_code']].astype(str).to_dict(orient='records')\n",
    "\n",
    "# 2. Hasher con input_type='dict'\n",
    "hasher = FeatureHasher(n_features=10, input_type='dict')\n",
    "hashed = hasher.transform(user_dicts)\n",
    "\n",
    "# 3. Converti in DataFrame\n",
    "df_hash = pd.DataFrame(hashed.toarray(), columns=[f\"hash_{i}\" for i in range(10)])\n"
   ]
  },
  {
   "cell_type": "code",
   "execution_count": 924,
   "id": "c3125869",
   "metadata": {},
   "outputs": [
    {
     "data": {
      "text/html": [
       "<div>\n",
       "<style scoped>\n",
       "    .dataframe tbody tr th:only-of-type {\n",
       "        vertical-align: middle;\n",
       "    }\n",
       "\n",
       "    .dataframe tbody tr th {\n",
       "        vertical-align: top;\n",
       "    }\n",
       "\n",
       "    .dataframe thead th {\n",
       "        text-align: right;\n",
       "    }\n",
       "</style>\n",
       "<table border=\"1\" class=\"dataframe\">\n",
       "  <thead>\n",
       "    <tr style=\"text-align: right;\">\n",
       "      <th></th>\n",
       "      <th>gender</th>\n",
       "      <th>occupation</th>\n",
       "      <th>zip_code</th>\n",
       "      <th>age</th>\n",
       "    </tr>\n",
       "  </thead>\n",
       "  <tbody>\n",
       "    <tr>\n",
       "      <th>0</th>\n",
       "      <td>34.149254</td>\n",
       "      <td>33.448045</td>\n",
       "      <td>33.689963</td>\n",
       "      <td>24</td>\n",
       "    </tr>\n",
       "    <tr>\n",
       "      <th>1</th>\n",
       "      <td>33.813187</td>\n",
       "      <td>34.523714</td>\n",
       "      <td>34.867750</td>\n",
       "      <td>53</td>\n",
       "    </tr>\n",
       "    <tr>\n",
       "      <th>2</th>\n",
       "      <td>34.149254</td>\n",
       "      <td>36.139736</td>\n",
       "      <td>32.614008</td>\n",
       "      <td>23</td>\n",
       "    </tr>\n",
       "    <tr>\n",
       "      <th>3</th>\n",
       "      <td>34.149254</td>\n",
       "      <td>33.448045</td>\n",
       "      <td>32.744116</td>\n",
       "      <td>24</td>\n",
       "    </tr>\n",
       "    <tr>\n",
       "      <th>4</th>\n",
       "      <td>33.813187</td>\n",
       "      <td>34.523714</td>\n",
       "      <td>33.915093</td>\n",
       "      <td>33</td>\n",
       "    </tr>\n",
       "    <tr>\n",
       "      <th>...</th>\n",
       "      <td>...</td>\n",
       "      <td>...</td>\n",
       "      <td>...</td>\n",
       "      <td>...</td>\n",
       "    </tr>\n",
       "    <tr>\n",
       "      <th>938</th>\n",
       "      <td>33.813187</td>\n",
       "      <td>22.081633</td>\n",
       "      <td>33.004333</td>\n",
       "      <td>26</td>\n",
       "    </tr>\n",
       "    <tr>\n",
       "      <th>939</th>\n",
       "      <td>34.149254</td>\n",
       "      <td>38.734009</td>\n",
       "      <td>32.602260</td>\n",
       "      <td>32</td>\n",
       "    </tr>\n",
       "    <tr>\n",
       "      <th>940</th>\n",
       "      <td>34.149254</td>\n",
       "      <td>22.081633</td>\n",
       "      <td>32.223683</td>\n",
       "      <td>20</td>\n",
       "    </tr>\n",
       "    <tr>\n",
       "      <th>941</th>\n",
       "      <td>33.813187</td>\n",
       "      <td>39.743596</td>\n",
       "      <td>35.866720</td>\n",
       "      <td>48</td>\n",
       "    </tr>\n",
       "    <tr>\n",
       "      <th>942</th>\n",
       "      <td>34.149254</td>\n",
       "      <td>22.081633</td>\n",
       "      <td>32.483899</td>\n",
       "      <td>22</td>\n",
       "    </tr>\n",
       "  </tbody>\n",
       "</table>\n",
       "<p>943 rows × 4 columns</p>\n",
       "</div>"
      ],
      "text/plain": [
       "        gender  occupation   zip_code  age\n",
       "0    34.149254   33.448045  33.689963   24\n",
       "1    33.813187   34.523714  34.867750   53\n",
       "2    34.149254   36.139736  32.614008   23\n",
       "3    34.149254   33.448045  32.744116   24\n",
       "4    33.813187   34.523714  33.915093   33\n",
       "..         ...         ...        ...  ...\n",
       "938  33.813187   22.081633  33.004333   26\n",
       "939  34.149254   38.734009  32.602260   32\n",
       "940  34.149254   22.081633  32.223683   20\n",
       "941  33.813187   39.743596  35.866720   48\n",
       "942  34.149254   22.081633  32.483899   22\n",
       "\n",
       "[943 rows x 4 columns]"
      ]
     },
     "execution_count": 924,
     "metadata": {},
     "output_type": "execute_result"
    }
   ],
   "source": [
    "#TARGET ENCODER\n",
    "\n",
    "te = TargetEncoder(cols=['gender', 'occupation', 'zip_code'])\n",
    "df_te = te.fit_transform(user[['gender', 'occupation', 'zip_code']], user['age'])\n",
    "df_te['age'] = user['age']\n",
    "df_te\n"
   ]
  },
  {
   "cell_type": "code",
   "execution_count": 925,
   "id": "01dee495",
   "metadata": {},
   "outputs": [
    {
     "name": "stdout",
     "output_type": "stream",
     "text": [
      "int64\n"
     ]
    }
   ],
   "source": [
    "print(df_be['zip_code_1'].dtype)"
   ]
  },
  {
   "cell_type": "code",
   "execution_count": 926,
   "id": "8c394860",
   "metadata": {},
   "outputs": [
    {
     "data": {
      "text/html": [
       "<div>\n",
       "<style scoped>\n",
       "    .dataframe tbody tr th:only-of-type {\n",
       "        vertical-align: middle;\n",
       "    }\n",
       "\n",
       "    .dataframe tbody tr th {\n",
       "        vertical-align: top;\n",
       "    }\n",
       "\n",
       "    .dataframe thead th {\n",
       "        text-align: right;\n",
       "    }\n",
       "</style>\n",
       "<table border=\"1\" class=\"dataframe\">\n",
       "  <thead>\n",
       "    <tr style=\"text-align: right;\">\n",
       "      <th></th>\n",
       "      <th>gender</th>\n",
       "      <th>occupation</th>\n",
       "      <th>zip_code</th>\n",
       "      <th>age</th>\n",
       "    </tr>\n",
       "  </thead>\n",
       "  <tbody>\n",
       "    <tr>\n",
       "      <th>0</th>\n",
       "      <td>34.149254</td>\n",
       "      <td>33.448045</td>\n",
       "      <td>33.689963</td>\n",
       "      <td>24</td>\n",
       "    </tr>\n",
       "    <tr>\n",
       "      <th>1</th>\n",
       "      <td>33.813187</td>\n",
       "      <td>34.523714</td>\n",
       "      <td>34.867750</td>\n",
       "      <td>53</td>\n",
       "    </tr>\n",
       "    <tr>\n",
       "      <th>2</th>\n",
       "      <td>34.149254</td>\n",
       "      <td>36.139736</td>\n",
       "      <td>32.614008</td>\n",
       "      <td>23</td>\n",
       "    </tr>\n",
       "    <tr>\n",
       "      <th>3</th>\n",
       "      <td>34.149254</td>\n",
       "      <td>33.448045</td>\n",
       "      <td>32.744116</td>\n",
       "      <td>24</td>\n",
       "    </tr>\n",
       "    <tr>\n",
       "      <th>4</th>\n",
       "      <td>33.813187</td>\n",
       "      <td>34.523714</td>\n",
       "      <td>33.915093</td>\n",
       "      <td>33</td>\n",
       "    </tr>\n",
       "    <tr>\n",
       "      <th>...</th>\n",
       "      <td>...</td>\n",
       "      <td>...</td>\n",
       "      <td>...</td>\n",
       "      <td>...</td>\n",
       "    </tr>\n",
       "    <tr>\n",
       "      <th>938</th>\n",
       "      <td>33.813187</td>\n",
       "      <td>22.081633</td>\n",
       "      <td>33.004333</td>\n",
       "      <td>26</td>\n",
       "    </tr>\n",
       "    <tr>\n",
       "      <th>939</th>\n",
       "      <td>34.149254</td>\n",
       "      <td>38.734009</td>\n",
       "      <td>32.602260</td>\n",
       "      <td>32</td>\n",
       "    </tr>\n",
       "    <tr>\n",
       "      <th>940</th>\n",
       "      <td>34.149254</td>\n",
       "      <td>22.081633</td>\n",
       "      <td>32.223683</td>\n",
       "      <td>20</td>\n",
       "    </tr>\n",
       "    <tr>\n",
       "      <th>941</th>\n",
       "      <td>33.813187</td>\n",
       "      <td>39.743596</td>\n",
       "      <td>35.866720</td>\n",
       "      <td>48</td>\n",
       "    </tr>\n",
       "    <tr>\n",
       "      <th>942</th>\n",
       "      <td>34.149254</td>\n",
       "      <td>22.081633</td>\n",
       "      <td>32.483899</td>\n",
       "      <td>22</td>\n",
       "    </tr>\n",
       "  </tbody>\n",
       "</table>\n",
       "<p>943 rows × 4 columns</p>\n",
       "</div>"
      ],
      "text/plain": [
       "        gender  occupation   zip_code  age\n",
       "0    34.149254   33.448045  33.689963   24\n",
       "1    33.813187   34.523714  34.867750   53\n",
       "2    34.149254   36.139736  32.614008   23\n",
       "3    34.149254   33.448045  32.744116   24\n",
       "4    33.813187   34.523714  33.915093   33\n",
       "..         ...         ...        ...  ...\n",
       "938  33.813187   22.081633  33.004333   26\n",
       "939  34.149254   38.734009  32.602260   32\n",
       "940  34.149254   22.081633  32.223683   20\n",
       "941  33.813187   39.743596  35.866720   48\n",
       "942  34.149254   22.081633  32.483899   22\n",
       "\n",
       "[943 rows x 4 columns]"
      ]
     },
     "execution_count": 926,
     "metadata": {},
     "output_type": "execute_result"
    }
   ],
   "source": [
    "# 3. Rimuovi l'ID utente (non utile per clustering)\n",
    "#data_for_clustering = df_be.drop(columns=['user_id'])\n",
    "data_for_clustering = df_te\n",
    "data_for_clustering"
   ]
  },
  {
   "cell_type": "code",
   "execution_count": 927,
   "id": "7ec421ca",
   "metadata": {},
   "outputs": [],
   "source": [
    "# 4. Standardizzazione dei dati\n",
    "scaler = StandardScaler()\n",
    "data_scaled = scaler.fit_transform(data_for_clustering)"
   ]
  },
  {
   "cell_type": "code",
   "execution_count": 928,
   "id": "7582f2ba",
   "metadata": {},
   "outputs": [
    {
     "name": "stdout",
     "output_type": "stream",
     "text": [
      "Numero ottimale di cluster trovato: 5 | \n"
     ]
    },
    {
     "name": "stderr",
     "output_type": "stream",
     "text": [
      "/opt/anaconda3/envs/FDSML/lib/python3.10/site-packages/sklearn/utils/extmath.py:203: RuntimeWarning:\n",
      "\n",
      "divide by zero encountered in matmul\n",
      "\n",
      "/opt/anaconda3/envs/FDSML/lib/python3.10/site-packages/sklearn/utils/extmath.py:203: RuntimeWarning:\n",
      "\n",
      "overflow encountered in matmul\n",
      "\n",
      "/opt/anaconda3/envs/FDSML/lib/python3.10/site-packages/sklearn/utils/extmath.py:203: RuntimeWarning:\n",
      "\n",
      "invalid value encountered in matmul\n",
      "\n",
      "/opt/anaconda3/envs/FDSML/lib/python3.10/site-packages/sklearn/cluster/_kmeans.py:237: RuntimeWarning:\n",
      "\n",
      "divide by zero encountered in matmul\n",
      "\n",
      "/opt/anaconda3/envs/FDSML/lib/python3.10/site-packages/sklearn/cluster/_kmeans.py:237: RuntimeWarning:\n",
      "\n",
      "overflow encountered in matmul\n",
      "\n",
      "/opt/anaconda3/envs/FDSML/lib/python3.10/site-packages/sklearn/cluster/_kmeans.py:237: RuntimeWarning:\n",
      "\n",
      "invalid value encountered in matmul\n",
      "\n",
      "/opt/anaconda3/envs/FDSML/lib/python3.10/site-packages/sklearn/utils/extmath.py:203: RuntimeWarning:\n",
      "\n",
      "divide by zero encountered in matmul\n",
      "\n",
      "/opt/anaconda3/envs/FDSML/lib/python3.10/site-packages/sklearn/utils/extmath.py:203: RuntimeWarning:\n",
      "\n",
      "overflow encountered in matmul\n",
      "\n",
      "/opt/anaconda3/envs/FDSML/lib/python3.10/site-packages/sklearn/utils/extmath.py:203: RuntimeWarning:\n",
      "\n",
      "invalid value encountered in matmul\n",
      "\n",
      "/opt/anaconda3/envs/FDSML/lib/python3.10/site-packages/sklearn/cluster/_kmeans.py:237: RuntimeWarning:\n",
      "\n",
      "divide by zero encountered in matmul\n",
      "\n",
      "/opt/anaconda3/envs/FDSML/lib/python3.10/site-packages/sklearn/cluster/_kmeans.py:237: RuntimeWarning:\n",
      "\n",
      "overflow encountered in matmul\n",
      "\n",
      "/opt/anaconda3/envs/FDSML/lib/python3.10/site-packages/sklearn/cluster/_kmeans.py:237: RuntimeWarning:\n",
      "\n",
      "invalid value encountered in matmul\n",
      "\n",
      "/opt/anaconda3/envs/FDSML/lib/python3.10/site-packages/sklearn/utils/extmath.py:203: RuntimeWarning:\n",
      "\n",
      "divide by zero encountered in matmul\n",
      "\n",
      "/opt/anaconda3/envs/FDSML/lib/python3.10/site-packages/sklearn/utils/extmath.py:203: RuntimeWarning:\n",
      "\n",
      "overflow encountered in matmul\n",
      "\n",
      "/opt/anaconda3/envs/FDSML/lib/python3.10/site-packages/sklearn/utils/extmath.py:203: RuntimeWarning:\n",
      "\n",
      "invalid value encountered in matmul\n",
      "\n",
      "/opt/anaconda3/envs/FDSML/lib/python3.10/site-packages/sklearn/utils/extmath.py:203: RuntimeWarning:\n",
      "\n",
      "divide by zero encountered in matmul\n",
      "\n",
      "/opt/anaconda3/envs/FDSML/lib/python3.10/site-packages/sklearn/utils/extmath.py:203: RuntimeWarning:\n",
      "\n",
      "overflow encountered in matmul\n",
      "\n",
      "/opt/anaconda3/envs/FDSML/lib/python3.10/site-packages/sklearn/utils/extmath.py:203: RuntimeWarning:\n",
      "\n",
      "invalid value encountered in matmul\n",
      "\n",
      "/opt/anaconda3/envs/FDSML/lib/python3.10/site-packages/sklearn/cluster/_kmeans.py:237: RuntimeWarning:\n",
      "\n",
      "divide by zero encountered in matmul\n",
      "\n",
      "/opt/anaconda3/envs/FDSML/lib/python3.10/site-packages/sklearn/cluster/_kmeans.py:237: RuntimeWarning:\n",
      "\n",
      "overflow encountered in matmul\n",
      "\n",
      "/opt/anaconda3/envs/FDSML/lib/python3.10/site-packages/sklearn/cluster/_kmeans.py:237: RuntimeWarning:\n",
      "\n",
      "invalid value encountered in matmul\n",
      "\n",
      "/opt/anaconda3/envs/FDSML/lib/python3.10/site-packages/sklearn/utils/extmath.py:203: RuntimeWarning:\n",
      "\n",
      "divide by zero encountered in matmul\n",
      "\n",
      "/opt/anaconda3/envs/FDSML/lib/python3.10/site-packages/sklearn/utils/extmath.py:203: RuntimeWarning:\n",
      "\n",
      "overflow encountered in matmul\n",
      "\n",
      "/opt/anaconda3/envs/FDSML/lib/python3.10/site-packages/sklearn/utils/extmath.py:203: RuntimeWarning:\n",
      "\n",
      "invalid value encountered in matmul\n",
      "\n",
      "/opt/anaconda3/envs/FDSML/lib/python3.10/site-packages/sklearn/utils/extmath.py:203: RuntimeWarning:\n",
      "\n",
      "divide by zero encountered in matmul\n",
      "\n",
      "/opt/anaconda3/envs/FDSML/lib/python3.10/site-packages/sklearn/utils/extmath.py:203: RuntimeWarning:\n",
      "\n",
      "overflow encountered in matmul\n",
      "\n",
      "/opt/anaconda3/envs/FDSML/lib/python3.10/site-packages/sklearn/utils/extmath.py:203: RuntimeWarning:\n",
      "\n",
      "invalid value encountered in matmul\n",
      "\n",
      "/opt/anaconda3/envs/FDSML/lib/python3.10/site-packages/sklearn/cluster/_kmeans.py:237: RuntimeWarning:\n",
      "\n",
      "divide by zero encountered in matmul\n",
      "\n",
      "/opt/anaconda3/envs/FDSML/lib/python3.10/site-packages/sklearn/cluster/_kmeans.py:237: RuntimeWarning:\n",
      "\n",
      "overflow encountered in matmul\n",
      "\n",
      "/opt/anaconda3/envs/FDSML/lib/python3.10/site-packages/sklearn/cluster/_kmeans.py:237: RuntimeWarning:\n",
      "\n",
      "invalid value encountered in matmul\n",
      "\n",
      "/opt/anaconda3/envs/FDSML/lib/python3.10/site-packages/sklearn/utils/extmath.py:203: RuntimeWarning:\n",
      "\n",
      "divide by zero encountered in matmul\n",
      "\n",
      "/opt/anaconda3/envs/FDSML/lib/python3.10/site-packages/sklearn/utils/extmath.py:203: RuntimeWarning:\n",
      "\n",
      "overflow encountered in matmul\n",
      "\n",
      "/opt/anaconda3/envs/FDSML/lib/python3.10/site-packages/sklearn/utils/extmath.py:203: RuntimeWarning:\n",
      "\n",
      "invalid value encountered in matmul\n",
      "\n",
      "/opt/anaconda3/envs/FDSML/lib/python3.10/site-packages/sklearn/utils/extmath.py:203: RuntimeWarning:\n",
      "\n",
      "divide by zero encountered in matmul\n",
      "\n",
      "/opt/anaconda3/envs/FDSML/lib/python3.10/site-packages/sklearn/utils/extmath.py:203: RuntimeWarning:\n",
      "\n",
      "overflow encountered in matmul\n",
      "\n",
      "/opt/anaconda3/envs/FDSML/lib/python3.10/site-packages/sklearn/utils/extmath.py:203: RuntimeWarning:\n",
      "\n",
      "invalid value encountered in matmul\n",
      "\n",
      "/opt/anaconda3/envs/FDSML/lib/python3.10/site-packages/sklearn/cluster/_kmeans.py:237: RuntimeWarning:\n",
      "\n",
      "divide by zero encountered in matmul\n",
      "\n",
      "/opt/anaconda3/envs/FDSML/lib/python3.10/site-packages/sklearn/cluster/_kmeans.py:237: RuntimeWarning:\n",
      "\n",
      "overflow encountered in matmul\n",
      "\n",
      "/opt/anaconda3/envs/FDSML/lib/python3.10/site-packages/sklearn/cluster/_kmeans.py:237: RuntimeWarning:\n",
      "\n",
      "invalid value encountered in matmul\n",
      "\n",
      "/opt/anaconda3/envs/FDSML/lib/python3.10/site-packages/sklearn/utils/extmath.py:203: RuntimeWarning:\n",
      "\n",
      "divide by zero encountered in matmul\n",
      "\n",
      "/opt/anaconda3/envs/FDSML/lib/python3.10/site-packages/sklearn/utils/extmath.py:203: RuntimeWarning:\n",
      "\n",
      "overflow encountered in matmul\n",
      "\n",
      "/opt/anaconda3/envs/FDSML/lib/python3.10/site-packages/sklearn/utils/extmath.py:203: RuntimeWarning:\n",
      "\n",
      "invalid value encountered in matmul\n",
      "\n",
      "/opt/anaconda3/envs/FDSML/lib/python3.10/site-packages/sklearn/utils/extmath.py:203: RuntimeWarning:\n",
      "\n",
      "divide by zero encountered in matmul\n",
      "\n",
      "/opt/anaconda3/envs/FDSML/lib/python3.10/site-packages/sklearn/utils/extmath.py:203: RuntimeWarning:\n",
      "\n",
      "overflow encountered in matmul\n",
      "\n",
      "/opt/anaconda3/envs/FDSML/lib/python3.10/site-packages/sklearn/utils/extmath.py:203: RuntimeWarning:\n",
      "\n",
      "invalid value encountered in matmul\n",
      "\n",
      "/opt/anaconda3/envs/FDSML/lib/python3.10/site-packages/sklearn/cluster/_kmeans.py:237: RuntimeWarning:\n",
      "\n",
      "divide by zero encountered in matmul\n",
      "\n",
      "/opt/anaconda3/envs/FDSML/lib/python3.10/site-packages/sklearn/cluster/_kmeans.py:237: RuntimeWarning:\n",
      "\n",
      "overflow encountered in matmul\n",
      "\n",
      "/opt/anaconda3/envs/FDSML/lib/python3.10/site-packages/sklearn/cluster/_kmeans.py:237: RuntimeWarning:\n",
      "\n",
      "invalid value encountered in matmul\n",
      "\n",
      "/opt/anaconda3/envs/FDSML/lib/python3.10/site-packages/sklearn/utils/extmath.py:203: RuntimeWarning:\n",
      "\n",
      "divide by zero encountered in matmul\n",
      "\n",
      "/opt/anaconda3/envs/FDSML/lib/python3.10/site-packages/sklearn/utils/extmath.py:203: RuntimeWarning:\n",
      "\n",
      "overflow encountered in matmul\n",
      "\n",
      "/opt/anaconda3/envs/FDSML/lib/python3.10/site-packages/sklearn/utils/extmath.py:203: RuntimeWarning:\n",
      "\n",
      "invalid value encountered in matmul\n",
      "\n",
      "/opt/anaconda3/envs/FDSML/lib/python3.10/site-packages/sklearn/cluster/_kmeans.py:237: RuntimeWarning:\n",
      "\n",
      "divide by zero encountered in matmul\n",
      "\n",
      "/opt/anaconda3/envs/FDSML/lib/python3.10/site-packages/sklearn/cluster/_kmeans.py:237: RuntimeWarning:\n",
      "\n",
      "overflow encountered in matmul\n",
      "\n",
      "/opt/anaconda3/envs/FDSML/lib/python3.10/site-packages/sklearn/cluster/_kmeans.py:237: RuntimeWarning:\n",
      "\n",
      "invalid value encountered in matmul\n",
      "\n",
      "/opt/anaconda3/envs/FDSML/lib/python3.10/site-packages/sklearn/utils/extmath.py:203: RuntimeWarning:\n",
      "\n",
      "divide by zero encountered in matmul\n",
      "\n",
      "/opt/anaconda3/envs/FDSML/lib/python3.10/site-packages/sklearn/utils/extmath.py:203: RuntimeWarning:\n",
      "\n",
      "overflow encountered in matmul\n",
      "\n",
      "/opt/anaconda3/envs/FDSML/lib/python3.10/site-packages/sklearn/utils/extmath.py:203: RuntimeWarning:\n",
      "\n",
      "invalid value encountered in matmul\n",
      "\n",
      "/opt/anaconda3/envs/FDSML/lib/python3.10/site-packages/sklearn/utils/extmath.py:203: RuntimeWarning:\n",
      "\n",
      "divide by zero encountered in matmul\n",
      "\n",
      "/opt/anaconda3/envs/FDSML/lib/python3.10/site-packages/sklearn/utils/extmath.py:203: RuntimeWarning:\n",
      "\n",
      "overflow encountered in matmul\n",
      "\n",
      "/opt/anaconda3/envs/FDSML/lib/python3.10/site-packages/sklearn/utils/extmath.py:203: RuntimeWarning:\n",
      "\n",
      "invalid value encountered in matmul\n",
      "\n",
      "/opt/anaconda3/envs/FDSML/lib/python3.10/site-packages/sklearn/cluster/_kmeans.py:237: RuntimeWarning:\n",
      "\n",
      "divide by zero encountered in matmul\n",
      "\n",
      "/opt/anaconda3/envs/FDSML/lib/python3.10/site-packages/sklearn/cluster/_kmeans.py:237: RuntimeWarning:\n",
      "\n",
      "overflow encountered in matmul\n",
      "\n",
      "/opt/anaconda3/envs/FDSML/lib/python3.10/site-packages/sklearn/cluster/_kmeans.py:237: RuntimeWarning:\n",
      "\n",
      "invalid value encountered in matmul\n",
      "\n",
      "/opt/anaconda3/envs/FDSML/lib/python3.10/site-packages/sklearn/utils/extmath.py:203: RuntimeWarning:\n",
      "\n",
      "divide by zero encountered in matmul\n",
      "\n",
      "/opt/anaconda3/envs/FDSML/lib/python3.10/site-packages/sklearn/utils/extmath.py:203: RuntimeWarning:\n",
      "\n",
      "overflow encountered in matmul\n",
      "\n",
      "/opt/anaconda3/envs/FDSML/lib/python3.10/site-packages/sklearn/utils/extmath.py:203: RuntimeWarning:\n",
      "\n",
      "invalid value encountered in matmul\n",
      "\n",
      "/opt/anaconda3/envs/FDSML/lib/python3.10/site-packages/sklearn/utils/extmath.py:203: RuntimeWarning:\n",
      "\n",
      "divide by zero encountered in matmul\n",
      "\n",
      "/opt/anaconda3/envs/FDSML/lib/python3.10/site-packages/sklearn/utils/extmath.py:203: RuntimeWarning:\n",
      "\n",
      "overflow encountered in matmul\n",
      "\n",
      "/opt/anaconda3/envs/FDSML/lib/python3.10/site-packages/sklearn/utils/extmath.py:203: RuntimeWarning:\n",
      "\n",
      "invalid value encountered in matmul\n",
      "\n",
      "/opt/anaconda3/envs/FDSML/lib/python3.10/site-packages/sklearn/cluster/_kmeans.py:237: RuntimeWarning:\n",
      "\n",
      "divide by zero encountered in matmul\n",
      "\n",
      "/opt/anaconda3/envs/FDSML/lib/python3.10/site-packages/sklearn/cluster/_kmeans.py:237: RuntimeWarning:\n",
      "\n",
      "overflow encountered in matmul\n",
      "\n",
      "/opt/anaconda3/envs/FDSML/lib/python3.10/site-packages/sklearn/cluster/_kmeans.py:237: RuntimeWarning:\n",
      "\n",
      "invalid value encountered in matmul\n",
      "\n",
      "/opt/anaconda3/envs/FDSML/lib/python3.10/site-packages/sklearn/utils/extmath.py:203: RuntimeWarning:\n",
      "\n",
      "divide by zero encountered in matmul\n",
      "\n",
      "/opt/anaconda3/envs/FDSML/lib/python3.10/site-packages/sklearn/utils/extmath.py:203: RuntimeWarning:\n",
      "\n",
      "overflow encountered in matmul\n",
      "\n",
      "/opt/anaconda3/envs/FDSML/lib/python3.10/site-packages/sklearn/utils/extmath.py:203: RuntimeWarning:\n",
      "\n",
      "invalid value encountered in matmul\n",
      "\n"
     ]
    }
   ],
   "source": [
    "\n",
    "# 5. Trova il numero ottimale di cluster usando il silhouette score\n",
    "silhouette_scores = []\n",
    "K_range = range(2,11)\n",
    "for k in K_range:\n",
    "    kmeans = KMeans(n_clusters=k, random_state=42)\n",
    "    labels = kmeans.fit_predict(data_scaled)\n",
    "    score = silhouette_score(data_scaled, labels)\n",
    "    silhouette_scores.append(score)\n",
    "\n",
    "optimal_k = K_range[silhouette_scores.index(max(silhouette_scores))]\n",
    "print(f\"Numero ottimale di cluster trovato: {optimal_k} | \")\n"
   ]
  },
  {
   "cell_type": "code",
   "execution_count": 929,
   "id": "39cba2e3",
   "metadata": {},
   "outputs": [
    {
     "data": {
      "text/plain": [
       "0.4675826808445084"
      ]
     },
     "execution_count": 929,
     "metadata": {},
     "output_type": "execute_result"
    }
   ],
   "source": [
    "opt = silhouette_scores.index(max(silhouette_scores))\n",
    "silhouette_scores[opt]"
   ]
  },
  {
   "cell_type": "code",
   "execution_count": 930,
   "id": "1938f9a4",
   "metadata": {},
   "outputs": [
    {
     "data": {
      "text/plain": [
       "3"
      ]
     },
     "execution_count": 930,
     "metadata": {},
     "output_type": "execute_result"
    }
   ],
   "source": [
    "opt"
   ]
  },
  {
   "cell_type": "code",
   "execution_count": 931,
   "id": "e5401f95",
   "metadata": {},
   "outputs": [
    {
     "data": {
      "text/plain": [
       "[0.3423728308621057,\n",
       " 0.3833989601718213,\n",
       " 0.4596173332013154,\n",
       " 0.4675826808445084,\n",
       " 0.43377588335964945,\n",
       " 0.3779916261489586,\n",
       " 0.46527436329721894,\n",
       " 0.4394728023474113,\n",
       " 0.3980928494099358]"
      ]
     },
     "execution_count": 931,
     "metadata": {},
     "output_type": "execute_result"
    }
   ],
   "source": [
    "silhouette_scores"
   ]
  },
  {
   "cell_type": "code",
   "execution_count": 932,
   "id": "5021cac1",
   "metadata": {},
   "outputs": [
    {
     "name": "stderr",
     "output_type": "stream",
     "text": [
      "/opt/anaconda3/envs/FDSML/lib/python3.10/site-packages/sklearn/utils/extmath.py:203: RuntimeWarning:\n",
      "\n",
      "divide by zero encountered in matmul\n",
      "\n",
      "/opt/anaconda3/envs/FDSML/lib/python3.10/site-packages/sklearn/utils/extmath.py:203: RuntimeWarning:\n",
      "\n",
      "overflow encountered in matmul\n",
      "\n",
      "/opt/anaconda3/envs/FDSML/lib/python3.10/site-packages/sklearn/utils/extmath.py:203: RuntimeWarning:\n",
      "\n",
      "invalid value encountered in matmul\n",
      "\n",
      "/opt/anaconda3/envs/FDSML/lib/python3.10/site-packages/sklearn/cluster/_kmeans.py:237: RuntimeWarning:\n",
      "\n",
      "divide by zero encountered in matmul\n",
      "\n",
      "/opt/anaconda3/envs/FDSML/lib/python3.10/site-packages/sklearn/cluster/_kmeans.py:237: RuntimeWarning:\n",
      "\n",
      "overflow encountered in matmul\n",
      "\n",
      "/opt/anaconda3/envs/FDSML/lib/python3.10/site-packages/sklearn/cluster/_kmeans.py:237: RuntimeWarning:\n",
      "\n",
      "invalid value encountered in matmul\n",
      "\n"
     ]
    }
   ],
   "source": [
    "# 6. Applica KMeans con il numero ottimale di cluster\n",
    "kmeans = KMeans(n_clusters=opt, random_state=42)\n",
    "user['cluster'] = kmeans.fit_predict(data_scaled)"
   ]
  },
  {
   "cell_type": "code",
   "execution_count": 933,
   "id": "655ba3dd",
   "metadata": {},
   "outputs": [
    {
     "name": "stderr",
     "output_type": "stream",
     "text": [
      "/opt/anaconda3/envs/FDSML/lib/python3.10/site-packages/sklearn/decomposition/_base.py:148: RuntimeWarning:\n",
      "\n",
      "divide by zero encountered in matmul\n",
      "\n",
      "/opt/anaconda3/envs/FDSML/lib/python3.10/site-packages/sklearn/decomposition/_base.py:148: RuntimeWarning:\n",
      "\n",
      "overflow encountered in matmul\n",
      "\n",
      "/opt/anaconda3/envs/FDSML/lib/python3.10/site-packages/sklearn/decomposition/_base.py:148: RuntimeWarning:\n",
      "\n",
      "invalid value encountered in matmul\n",
      "\n"
     ]
    }
   ],
   "source": [
    "pca = PCA(n_components=3)\n",
    "components = pca.fit_transform(data_scaled)\n",
    "user[['PCA1','PCA2','PCA3']] = components\n"
   ]
  },
  {
   "cell_type": "code",
   "execution_count": 934,
   "id": "fd6d27bb",
   "metadata": {},
   "outputs": [
    {
     "data": {
      "image/png": "[encoded data removed]",
      "text/plain": [
       "<Figure size 1000x600 with 1 Axes>"
      ]
     },
     "metadata": {},
     "output_type": "display_data"
    }
   ],
   "source": [
    "# 8. Plot dei cluster\n",
    "plt.figure(figsize=(10, 6))\n",
    "sns.scatterplot(data=user, x='PCA1', y='PCA2', hue='cluster', palette='Set1', s=60)\n",
    "plt.title('Cluster utenti con K-Means (PCA 2D)')\n",
    "plt.xlabel('PCA1')\n",
    "plt.ylabel('PCA2')\n",
    "plt.legend(title='Cluster')\n",
    "plt.grid(True)\n",
    "plt.tight_layout()\n",
    "plt.show()"
   ]
  },
  {
   "cell_type": "code",
   "execution_count": 935,
   "id": "90a5fc17",
   "metadata": {},
   "outputs": [
    {
     "data": {
      "application/vnd.plotly.v1+json": {
       "config": {
        "plotlyServerURL": "https://plot.ly"
       },
       "data": [
        {
         "hovertemplate": "PCA1=%{x}<br>PCA2=%{y}<br>PCA3=%{z}<br>cluster=%{marker.color}<extra></extra>",
         "legendgroup": "",
         "marker": {
          "color": {
           "bdata": "AgAAAAAAAAACAAAAAgAAAAAAAAABAAAAAQAAAAEAAAACAAAAAQAAAAAAAAAAAAAAAQAAAAEAAAAAAAAAAgAAAAIAAAAAAAAAAQAAAAAAAAACAAAAAgAAAAAAAAACAAAAAQAAAAEAAAAAAAAAAQAAAAEAAAACAAAAAgAAAAIAAAACAAAAAAAAAAIAAAACAAAAAgAAAAAAAAABAAAAAQAAAAEAAAABAAAAAAAAAAIAAAACAAAAAAAAAAEAAAABAAAAAgAAAAIAAAABAAAAAgAAAAIAAAACAAAAAQAAAAIAAAACAAAAAgAAAAEAAAABAAAAAQAAAAAAAAACAAAAAQAAAAAAAAACAAAAAgAAAAIAAAACAAAAAgAAAAEAAAAAAAAAAgAAAAEAAAACAAAAAgAAAAIAAAACAAAAAAAAAAAAAAACAAAAAQAAAAEAAAABAAAAAQAAAAIAAAABAAAAAAAAAAAAAAABAAAAAQAAAAIAAAABAAAAAgAAAAEAAAAAAAAAAQAAAAAAAAACAAAAAQAAAAIAAAABAAAAAgAAAAIAAAABAAAAAQAAAAEAAAABAAAAAgAAAAIAAAABAAAAAgAAAAEAAAACAAAAAgAAAAEAAAACAAAAAgAAAAIAAAAAAAAAAQAAAAAAAAAAAAAAAgAAAAIAAAAAAAAAAgAAAAAAAAAAAAAAAgAAAAAAAAACAAAAAQAAAAIAAAACAAAAAQAAAAEAAAABAAAAAgAAAAIAAAABAAAAAgAAAAEAAAABAAAAAgAAAAEAAAAAAAAAAQAAAAAAAAAAAAAAAAAAAAAAAAACAAAAAgAAAAAAAAACAAAAAQAAAAEAAAACAAAAAgAAAAEAAAACAAAAAQAAAAEAAAACAAAAAQAAAAEAAAABAAAAAAAAAAAAAAAAAAAAAQAAAAEAAAAAAAAAAAAAAAIAAAACAAAAAgAAAAIAAAAAAAAAAgAAAAEAAAABAAAAAQAAAAAAAAAAAAAAAgAAAAEAAAACAAAAAQAAAAEAAAABAAAAAgAAAAEAAAABAAAAAQAAAAEAAAACAAAAAgAAAAEAAAACAAAAAAAAAAIAAAAAAAAAAQAAAAIAAAABAAAAAQAAAAAAAAABAAAAAQAAAAAAAAABAAAAAAAAAAEAAAACAAAAAgAAAAEAAAACAAAAAQAAAAIAAAACAAAAAgAAAAAAAAAAAAAAAgAAAAEAAAACAAAAAAAAAAIAAAABAAAAAQAAAAEAAAABAAAAAQAAAAAAAAABAAAAAAAAAAEAAAAAAAAAAgAAAAEAAAABAAAAAgAAAAIAAAACAAAAAgAAAAIAAAACAAAAAgAAAAIAAAABAAAAAAAAAAEAAAACAAAAAAAAAAIAAAACAAAAAgAAAAAAAAACAAAAAgAAAAEAAAAAAAAAAgAAAAAAAAACAAAAAgAAAAAAAAACAAAAAQAAAAIAAAAAAAAAAgAAAAEAAAACAAAAAAAAAAAAAAACAAAAAAAAAAIAAAACAAAAAgAAAAEAAAACAAAAAgAAAAIAAAABAAAAAgAAAAEAAAACAAAAAAAAAAIAAAABAAAAAQAAAAAAAAAAAAAAAQAAAAIAAAAAAAAAAgAAAAEAAAACAAAAAgAAAAIAAAABAAAAAgAAAAEAAAABAAAAAQAAAAIAAAABAAAAAQAAAAIAAAABAAAAAAAAAAIAAAABAAAAAQAAAAIAAAAAAAAAAgAAAAIAAAACAAAAAQAAAAEAAAACAAAAAQAAAAEAAAAAAAAAAQAAAAIAAAABAAAAAQAAAAEAAAACAAAAAQAAAAAAAAABAAAAAQAAAAIAAAAAAAAAAQAAAAAAAAAAAAAAAQAAAAIAAAACAAAAAQAAAAIAAAABAAAAAAAAAAIAAAAAAAAAAgAAAAAAAAACAAAAAQAAAAIAAAABAAAAAgAAAAAAAAACAAAAAQAAAAIAAAACAAAAAgAAAAIAAAACAAAAAQAAAAEAAAACAAAAAAAAAAEAAAACAAAAAAAAAAIAAAACAAAAAQAAAAEAAAACAAAAAQAAAAEAAAABAAAAAgAAAAEAAAACAAAAAgAAAAAAAAAAAAAAAgAAAAEAAAACAAAAAgAAAAEAAAABAAAAAgAAAAEAAAACAAAAAAAAAAAAAAACAAAAAQAAAAAAAAAAAAAAAQAAAAIAAAACAAAAAQAAAAAAAAABAAAAAgAAAAEAAAACAAAAAQAAAAIAAAAAAAAAAAAAAAEAAAABAAAAAAAAAAIAAAABAAAAAAAAAAIAAAABAAAAAQAAAAIAAAACAAAAAQAAAAIAAAACAAAAAgAAAAIAAAACAAAAAAAAAAAAAAAAAAAAAAAAAAIAAAABAAAAAgAAAAEAAAAAAAAAAgAAAAEAAAABAAAAAgAAAAIAAAAAAAAAAgAAAAEAAAACAAAAAQAAAAEAAAACAAAAAAAAAAEAAAACAAAAAAAAAAIAAAACAAAAAAAAAAEAAAACAAAAAgAAAAIAAAACAAAAAQAAAAIAAAACAAAAAgAAAAIAAAABAAAAAgAAAAIAAAACAAAAAgAAAAEAAAABAAAAAQAAAAIAAAACAAAAAgAAAAAAAAABAAAAAgAAAAEAAAABAAAAAAAAAAAAAAABAAAAAgAAAAAAAAACAAAAAgAAAAIAAAACAAAAAQAAAAIAAAACAAAAAgAAAAAAAAAAAAAAAAAAAAEAAAACAAAAAgAAAAIAAAABAAAAAgAAAAIAAAABAAAAAgAAAAEAAAAAAAAAAgAAAAAAAAACAAAAAQAAAAIAAAABAAAAAAAAAAEAAAAAAAAAAgAAAAEAAAACAAAAAAAAAAIAAAAAAAAAAgAAAAEAAAACAAAAAAAAAAEAAAABAAAAAgAAAAAAAAACAAAAAgAAAAIAAAABAAAAAAAAAAIAAAABAAAAAQAAAAEAAAABAAAAAgAAAAIAAAABAAAAAQAAAAEAAAAAAAAAAAAAAAAAAAAAAAAAAQAAAAIAAAACAAAAAAAAAAAAAAABAAAAAgAAAAIAAAACAAAAAQAAAAEAAAACAAAAAgAAAAEAAAABAAAAAQAAAAEAAAABAAAAAAAAAAEAAAABAAAAAgAAAAEAAAACAAAAAQAAAAIAAAABAAAAAgAAAAIAAAACAAAAAgAAAAEAAAAAAAAAAgAAAAAAAAABAAAAAgAAAAIAAAACAAAAAAAAAAIAAAABAAAAAgAAAAAAAAACAAAAAQAAAAEAAAACAAAAAAAAAAIAAAACAAAAAgAAAAEAAAABAAAAAAAAAAEAAAABAAAAAQAAAAAAAAACAAAAAgAAAAIAAAACAAAAAgAAAAAAAAACAAAAAgAAAAIAAAACAAAAAgAAAAAAAAAAAAAAAgAAAAIAAAACAAAAAQAAAAIAAAABAAAAAgAAAAEAAAAAAAAAAgAAAAIAAAACAAAAAQAAAAEAAAACAAAAAgAAAAEAAAABAAAAAgAAAAEAAAABAAAAAQAAAAEAAAACAAAAAAAAAAEAAAAAAAAAAgAAAAEAAAACAAAAAgAAAAEAAAACAAAAAgAAAAIAAAABAAAAAQAAAAAAAAACAAAAAgAAAAIAAAAAAAAAAQAAAAIAAAABAAAAAgAAAAIAAAABAAAAAgAAAAEAAAAAAAAAAgAAAAEAAAACAAAAAAAAAAEAAAAAAAAAAAAAAAIAAAABAAAAAQAAAAEAAAAAAAAAAQAAAAIAAAABAAAAAgAAAAAAAAABAAAAAgAAAAAAAAABAAAAAgAAAAAAAAACAAAAAgAAAAAAAAAAAAAAAgAAAAIAAAACAAAAAgAAAAAAAAACAAAAAgAAAAAAAAACAAAAAQAAAAAAAAAAAAAAAAAAAAAAAAACAAAAAQAAAAIAAAAAAAAAAgAAAAEAAAACAAAAAAAAAAAAAAAAAAAAAAAAAAAAAAAAAAAAAAAAAAEAAAABAAAAAQAAAAAAAAACAAAAAgAAAAIAAAABAAAAAQAAAAIAAAACAAAAAgAAAAEAAAACAAAAAAAAAAEAAAABAAAAAAAAAAAAAAAAAAAAAgAAAAIAAAACAAAAAAAAAAIAAAABAAAAAgAAAAAAAAACAAAAAQAAAAEAAAACAAAAAQAAAAIAAAACAAAAAQAAAAIAAAACAAAAAQAAAAEAAAABAAAAAgAAAAIAAAABAAAAAgAAAAIAAAACAAAAAQAAAAEAAAAAAAAAAgAAAAEAAAACAAAAAgAAAAEAAAABAAAAAgAAAAEAAAACAAAAAAAAAAAAAAAAAAAAAAAAAAIAAAACAAAAAQAAAAEAAAABAAAAAAAAAAIAAAAAAAAAAQAAAAAAAAAAAAAAAAAAAAIAAAACAAAAAgAAAAIAAAACAAAAAgAAAAEAAAABAAAAAgAAAAEAAAAAAAAAAgAAAAIAAAABAAAAAgAAAAAAAAACAAAAAQAAAAEAAAACAAAAAgAAAAEAAAACAAAAAAAAAAEAAAAAAAAAAgAAAAAAAAABAAAAAQAAAAEAAAABAAAAAgAAAAEAAAACAAAAAgAAAAEAAAACAAAAAQAAAAIAAAABAAAAAQAAAAIAAAABAAAAAAAAAAAAAAABAAAAAgAAAAEAAAAAAAAAAgAAAAIAAAACAAAAAgAAAAEAAAACAAAAAgAAAAIAAAACAAAAAQAAAAIAAAAAAAAAAQAAAAIAAAABAAAAAgAAAAAAAAAAAAAAAgAAAAEAAAABAAAAAQAAAAEAAAAAAAAAAgAAAAIAAAABAAAAAgAAAAIAAAAAAAAAAQAAAAIAAAABAAAAAAAAAAIAAAACAAAAAgAAAAIAAAABAAAAAQAAAAAAAAABAAAAAgAAAAIAAAABAAAAAAAAAAAAAAAAAAAAAgAAAAAAAAABAAAAAgAAAAAAAAABAAAAAgAAAAIAAAABAAAAAgAAAAAAAAACAAAAAAAAAAIAAAACAAAAAgAAAAEAAAACAAAAAgAAAAEAAAAAAAAAAQAAAAEAAAACAAAAAQAAAAEAAAACAAAAAQAAAAAAAAACAAAAAgAAAAIAAAAAAAAAAgAAAA==",
           "dtype": "i4"
          },
          "coloraxis": "coloraxis",
          "symbol": "circle"
         },
         "mode": "markers",
         "name": "",
         "scene": "scene",
         "showlegend": false,
         "type": "scatter3d",
         "x": {
          "bdata": "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",
          "dtype": "f8"
         },
         "y": {
          "bdata": "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",
          "dtype": "f8"
         },
         "z": {
          "bdata": "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",
          "dtype": "f8"
         }
        }
       ],
       "layout": {
        "coloraxis": {
         "colorbar": {
          "title": {
           "text": "cluster"
          }
         },
         "colorscale": [
          [
           0,
           "#0d0887"
          ],
          [
           0.1111111111111111,
           "#46039f"
          ],
          [
           0.2222222222222222,
           "#7201a8"
          ],
          [
           0.3333333333333333,
           "#9c179e"
          ],
          [
           0.4444444444444444,
           "#bd3786"
          ],
          [
           0.5555555555555556,
           "#d8576b"
          ],
          [
           0.6666666666666666,
           "#ed7953"
          ],
          [
           0.7777777777777778,
           "#fb9f3a"
          ],
          [
           0.8888888888888888,
           "#fdca26"
          ],
          [
           1,
           "#f0f921"
          ]
         ]
        },
        "legend": {
         "title": {
          "text": "Cluster"
         },
         "tracegroupgap": 0
        },
        "margin": {
         "b": 0,
         "l": 0,
         "r": 0,
         "t": 40
        },
        "scene": {
         "domain": {
          "x": [
           0,
           1
          ],
          "y": [
           0,
           1
          ]
         },
         "xaxis": {
          "title": {
           "text": "PCA1"
          }
         },
         "yaxis": {
          "title": {
           "text": "PCA2"
          }
         },
         "zaxis": {
          "title": {
           "text": "PCA3"
          }
         }
        },
        "template": {
         "data": {
          "bar": [
           {
            "error_x": {
             "color": "#2a3f5f"
            },
            "error_y": {
             "color": "#2a3f5f"
            },
            "marker": {
             "line": {
              "color": "#E5ECF6",
              "width": 0.5
             },
             "pattern": {
              "fillmode": "overlay",
              "size": 10,
              "solidity": 0.2
             }
            },
            "type": "bar"
           }
          ],
          "barpolar": [
           {
            "marker": {
             "line": {
              "color": "#E5ECF6",
              "width": 0.5
             },
             "pattern": {
              "fillmode": "overlay",
              "size": 10,
              "solidity": 0.2
             }
            },
            "type": "barpolar"
           }
          ],
          "carpet": [
           {
            "aaxis": {
             "endlinecolor": "#2a3f5f",
             "gridcolor": "white",
             "linecolor": "white",
             "minorgridcolor": "white",
             "startlinecolor": "#2a3f5f"
            },
            "baxis": {
             "endlinecolor": "#2a3f5f",
             "gridcolor": "white",
             "linecolor": "white",
             "minorgridcolor": "white",
             "startlinecolor": "#2a3f5f"
            },
            "type": "carpet"
           }
          ],
          "choropleth": [
           {
            "colorbar": {
             "outlinewidth": 0,
             "ticks": ""
            },
            "type": "choropleth"
           }
          ],
          "contour": [
           {
            "colorbar": {
             "outlinewidth": 0,
             "ticks": ""
            },
            "colorscale": [
             [
              0,
              "#0d0887"
             ],
             [
              0.1111111111111111,
              "#46039f"
             ],
             [
              0.2222222222222222,
              "#7201a8"
             ],
             [
              0.3333333333333333,
              "#9c179e"
             ],
             [
              0.4444444444444444,
              "#bd3786"
             ],
             [
              0.5555555555555556,
              "#d8576b"
             ],
             [
              0.6666666666666666,
              "#ed7953"
             ],
             [
              0.7777777777777778,
              "#fb9f3a"
             ],
             [
              0.8888888888888888,
              "#fdca26"
             ],
             [
              1,
              "#f0f921"
             ]
            ],
            "type": "contour"
           }
          ],
          "contourcarpet": [
           {
            "colorbar": {
             "outlinewidth": 0,
             "ticks": ""
            },
            "type": "contourcarpet"
           }
          ],
          "heatmap": [
           {
            "colorbar": {
             "outlinewidth": 0,
             "ticks": ""
            },
            "colorscale": [
             [
              0,
              "#0d0887"
             ],
             [
              0.1111111111111111,
              "#46039f"
             ],
             [
              0.2222222222222222,
              "#7201a8"
             ],
             [
              0.3333333333333333,
              "#9c179e"
             ],
             [
              0.4444444444444444,
              "#bd3786"
             ],
             [
              0.5555555555555556,
              "#d8576b"
             ],
             [
              0.6666666666666666,
              "#ed7953"
             ],
             [
              0.7777777777777778,
              "#fb9f3a"
             ],
             [
              0.8888888888888888,
              "#fdca26"
             ],
             [
              1,
              "#f0f921"
             ]
            ],
            "type": "heatmap"
           }
          ],
          "histogram": [
           {
            "marker": {
             "pattern": {
              "fillmode": "overlay",
              "size": 10,
              "solidity": 0.2
             }
            },
            "type": "histogram"
           }
          ],
          "histogram2d": [
           {
            "colorbar": {
             "outlinewidth": 0,
             "ticks": ""
            },
            "colorscale": [
             [
              0,
              "#0d0887"
             ],
             [
              0.1111111111111111,
              "#46039f"
             ],
             [
              0.2222222222222222,
              "#7201a8"
             ],
             [
              0.3333333333333333,
              "#9c179e"
             ],
             [
              0.4444444444444444,
              "#bd3786"
             ],
             [
              0.5555555555555556,
              "#d8576b"
             ],
             [
              0.6666666666666666,
              "#ed7953"
             ],
             [
              0.7777777777777778,
              "#fb9f3a"
             ],
             [
              0.8888888888888888,
              "#fdca26"
             ],
             [
              1,
              "#f0f921"
             ]
            ],
            "type": "histogram2d"
           }
          ],
          "histogram2dcontour": [
           {
            "colorbar": {
             "outlinewidth": 0,
             "ticks": ""
            },
            "colorscale": [
             [
              0,
              "#0d0887"
             ],
             [
              0.1111111111111111,
              "#46039f"
             ],
             [
              0.2222222222222222,
              "#7201a8"
             ],
             [
              0.3333333333333333,
              "#9c179e"
             ],
             [
              0.4444444444444444,
              "#bd3786"
             ],
             [
              0.5555555555555556,
              "#d8576b"
             ],
             [
              0.6666666666666666,
              "#ed7953"
             ],
             [
              0.7777777777777778,
              "#fb9f3a"
             ],
             [
              0.8888888888888888,
              "#fdca26"
             ],
             [
              1,
              "#f0f921"
             ]
            ],
            "type": "histogram2dcontour"
           }
          ],
          "mesh3d": [
           {
            "colorbar": {
             "outlinewidth": 0,
             "ticks": ""
            },
            "type": "mesh3d"
           }
          ],
          "parcoords": [
           {
            "line": {
             "colorbar": {
              "outlinewidth": 0,
              "ticks": ""
             }
            },
            "type": "parcoords"
           }
          ],
          "pie": [
           {
            "automargin": true,
            "type": "pie"
           }
          ],
          "scatter": [
           {
            "fillpattern": {
             "fillmode": "overlay",
             "size": 10,
             "solidity": 0.2
            },
            "type": "scatter"
           }
          ],
          "scatter3d": [
           {
            "line": {
             "colorbar": {
              "outlinewidth": 0,
              "ticks": ""
             }
            },
            "marker": {
             "colorbar": {
              "outlinewidth": 0,
              "ticks": ""
             }
            },
            "type": "scatter3d"
           }
          ],
          "scattercarpet": [
           {
            "marker": {
             "colorbar": {
              "outlinewidth": 0,
              "ticks": ""
             }
            },
            "type": "scattercarpet"
           }
          ],
          "scattergeo": [
           {
            "marker": {
             "colorbar": {
              "outlinewidth": 0,
              "ticks": ""
             }
            },
            "type": "scattergeo"
           }
          ],
          "scattergl": [
           {
            "marker": {
             "colorbar": {
              "outlinewidth": 0,
              "ticks": ""
             }
            },
            "type": "scattergl"
           }
          ],
          "scattermap": [
           {
            "marker": {
             "colorbar": {
              "outlinewidth": 0,
              "ticks": ""
             }
            },
            "type": "scattermap"
           }
          ],
          "scattermapbox": [
           {
            "marker": {
             "colorbar": {
              "outlinewidth": 0,
              "ticks": ""
             }
            },
            "type": "scattermapbox"
           }
          ],
          "scatterpolar": [
           {
            "marker": {
             "colorbar": {
              "outlinewidth": 0,
              "ticks": ""
             }
            },
            "type": "scatterpolar"
           }
          ],
          "scatterpolargl": [
           {
            "marker": {
             "colorbar": {
              "outlinewidth": 0,
              "ticks": ""
             }
            },
            "type": "scatterpolargl"
           }
          ],
          "scatterternary": [
           {
            "marker": {
             "colorbar": {
              "outlinewidth": 0,
              "ticks": ""
             }
            },
            "type": "scatterternary"
           }
          ],
          "surface": [
           {
            "colorbar": {
             "outlinewidth": 0,
             "ticks": ""
            },
            "colorscale": [
             [
              0,
              "#0d0887"
             ],
             [
              0.1111111111111111,
              "#46039f"
             ],
             [
              0.2222222222222222,
              "#7201a8"
             ],
             [
              0.3333333333333333,
              "#9c179e"
             ],
             [
              0.4444444444444444,
              "#bd3786"
             ],
             [
              0.5555555555555556,
              "#d8576b"
             ],
             [
              0.6666666666666666,
              "#ed7953"
             ],
             [
              0.7777777777777778,
              "#fb9f3a"
             ],
             [
              0.8888888888888888,
              "#fdca26"
             ],
             [
              1,
              "#f0f921"
             ]
            ],
            "type": "surface"
           }
          ],
          "table": [
           {
            "cells": {
             "fill": {
              "color": "#EBF0F8"
             },
             "line": {
              "color": "white"
             }
            },
            "header": {
             "fill": {
              "color": "#C8D4E3"
             },
             "line": {
              "color": "white"
             }
            },
            "type": "table"
           }
          ]
         },
         "layout": {
          "annotationdefaults": {
           "arrowcolor": "#2a3f5f",
           "arrowhead": 0,
           "arrowwidth": 1
          },
          "autotypenumbers": "strict",
          "coloraxis": {
           "colorbar": {
            "outlinewidth": 0,
            "ticks": ""
           }
          },
          "colorscale": {
           "diverging": [
            [
             0,
             "#8e0152"
            ],
            [
             0.1,
             "#c51b7d"
            ],
            [
             0.2,
             "#de77ae"
            ],
            [
             0.3,
             "#f1b6da"
            ],
            [
             0.4,
             "#fde0ef"
            ],
            [
             0.5,
             "#f7f7f7"
            ],
            [
             0.6,
             "#e6f5d0"
            ],
            [
             0.7,
             "#b8e186"
            ],
            [
             0.8,
             "#7fbc41"
            ],
            [
             0.9,
             "#4d9221"
            ],
            [
             1,
             "#276419"
            ]
           ],
           "sequential": [
            [
             0,
             "#0d0887"
            ],
            [
             0.1111111111111111,
             "#46039f"
            ],
            [
             0.2222222222222222,
             "#7201a8"
            ],
            [
             0.3333333333333333,
             "#9c179e"
            ],
            [
             0.4444444444444444,
             "#bd3786"
            ],
            [
             0.5555555555555556,
             "#d8576b"
            ],
            [
             0.6666666666666666,
             "#ed7953"
            ],
            [
             0.7777777777777778,
             "#fb9f3a"
            ],
            [
             0.8888888888888888,
             "#fdca26"
            ],
            [
             1,
             "#f0f921"
            ]
           ],
           "sequentialminus": [
            [
             0,
             "#0d0887"
            ],
            [
             0.1111111111111111,
             "#46039f"
            ],
            [
             0.2222222222222222,
             "#7201a8"
            ],
            [
             0.3333333333333333,
             "#9c179e"
            ],
            [
             0.4444444444444444,
             "#bd3786"
            ],
            [
             0.5555555555555556,
             "#d8576b"
            ],
            [
             0.6666666666666666,
             "#ed7953"
            ],
            [
             0.7777777777777778,
             "#fb9f3a"
            ],
            [
             0.8888888888888888,
             "#fdca26"
            ],
            [
             1,
             "#f0f921"
            ]
           ]
          },
          "colorway": [
           "#636efa",
           "#EF553B",
           "#00cc96",
           "#ab63fa",
           "#FFA15A",
           "#19d3f3",
           "#FF6692",
           "#B6E880",
           "#FF97FF",
           "#FECB52"
          ],
          "font": {
           "color": "#2a3f5f"
          },
          "geo": {
           "bgcolor": "white",
           "lakecolor": "white",
           "landcolor": "#E5ECF6",
           "showlakes": true,
           "showland": true,
           "subunitcolor": "white"
          },
          "hoverlabel": {
           "align": "left"
          },
          "hovermode": "closest",
          "mapbox": {
           "style": "light"
          },
          "paper_bgcolor": "white",
          "plot_bgcolor": "#E5ECF6",
          "polar": {
           "angularaxis": {
            "gridcolor": "white",
            "linecolor": "white",
            "ticks": ""
           },
           "bgcolor": "#E5ECF6",
           "radialaxis": {
            "gridcolor": "white",
            "linecolor": "white",
            "ticks": ""
           }
          },
          "scene": {
           "xaxis": {
            "backgroundcolor": "#E5ECF6",
            "gridcolor": "white",
            "gridwidth": 2,
            "linecolor": "white",
            "showbackground": true,
            "ticks": "",
            "zerolinecolor": "white"
           },
           "yaxis": {
            "backgroundcolor": "#E5ECF6",
            "gridcolor": "white",
            "gridwidth": 2,
            "linecolor": "white",
            "showbackground": true,
            "ticks": "",
            "zerolinecolor": "white"
           },
           "zaxis": {
            "backgroundcolor": "#E5ECF6",
            "gridcolor": "white",
            "gridwidth": 2,
            "linecolor": "white",
            "showbackground": true,
            "ticks": "",
            "zerolinecolor": "white"
           }
          },
          "shapedefaults": {
           "line": {
            "color": "#2a3f5f"
           }
          },
          "ternary": {
           "aaxis": {
            "gridcolor": "white",
            "linecolor": "white",
            "ticks": ""
           },
           "baxis": {
            "gridcolor": "white",
            "linecolor": "white",
            "ticks": ""
           },
           "bgcolor": "#E5ECF6",
           "caxis": {
            "gridcolor": "white",
            "linecolor": "white",
            "ticks": ""
           }
          },
          "title": {
           "x": 0.05
          },
          "xaxis": {
           "automargin": true,
           "gridcolor": "white",
           "linecolor": "white",
           "ticks": "",
           "title": {
            "standoff": 15
           },
           "zerolinecolor": "white",
           "zerolinewidth": 2
          },
          "yaxis": {
           "automargin": true,
           "gridcolor": "white",
           "linecolor": "white",
           "ticks": "",
           "title": {
            "standoff": 15
           },
           "zerolinecolor": "white",
           "zerolinewidth": 2
          }
         }
        },
        "title": {
         "text": "Cluster utenti con K-Means (PCA 3D)"
        }
       }
      }
     },
     "metadata": {},
     "output_type": "display_data"
    }
   ],
   "source": [
    "import plotly.express as px\n",
    "\n",
    "# Sostituisci questa parte con il tuo caricamento del DataFrame\n",
    "# import pandas as pd\n",
    "# user = pd.read_csv('tuo_file.csv')\n",
    "\n",
    "fig = px.scatter_3d(\n",
    "    user,\n",
    "    x='PCA1',\n",
    "    y='PCA2',\n",
    "    z='PCA3',\n",
    "    color='cluster',\n",
    "    title='Cluster utenti con K-Means (PCA 3D)',\n",
    "    labels={'PCA1': 'PCA1', 'PCA2': 'PCA2', 'PCA3': 'PCA3'}\n",
    ")\n",
    "\n",
    "fig.update_layout(\n",
    "    margin=dict(l=0, r=0, b=0, t=40),\n",
    "    legend_title_text='Cluster'\n",
    ")\n",
    "\n",
    "fig.show()\n"
   ]
  }
 ],
 "metadata": {
  "kernelspec": {
   "display_name": "FDSML",
   "language": "python",
   "name": "python3"
  },
  "language_info": {
   "codemirror_mode": {
    "name": "ipython",
    "version": 3
   },
   "file_extension": ".py",
   "mimetype": "text/x-python",
   "name": "python",
   "nbconvert_exporter": "python",
   "pygments_lexer": "ipython3",
   "version": "3.10.18"
  }
 },
 "nbformat": 4,
 "nbformat_minor": 5
}
