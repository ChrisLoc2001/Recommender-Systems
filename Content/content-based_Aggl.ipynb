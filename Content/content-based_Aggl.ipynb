{
 "cells": [
  {
   "cell_type": "code",
   "execution_count": 244,
   "id": "7a98c5e6",
   "metadata": {},
   "outputs": [],
   "source": [
    "import pandas as pd\n",
    "from sklearn.preprocessing import StandardScaler\n",
    "from sklearn.cluster import AgglomerativeClustering\n",
    "from sklearn.metrics import silhouette_score\n",
    "from sklearn.decomposition import PCA\n",
    "import matplotlib.pyplot as plt\n",
    "import seaborn as sns\n",
    "from scipy.cluster.hierarchy import linkage, dendrogram\n",
    "from sklearn.preprocessing import LabelEncoder, OneHotEncoder\n",
    "from category_encoders import BinaryEncoder, TargetEncoder\n",
    "from sklearn.feature_extraction import FeatureHasher\n",
    "from kmodes.kprototypes import KPrototypes\n",
    "from sklearn.metrics import silhouette_score\n"
   ]
  },
  {
   "cell_type": "code",
   "execution_count": 245,
   "id": "87e0ffd8",
   "metadata": {},
   "outputs": [],
   "source": [
    "ratings = pd.read_csv('../datasets/ml-100k/u.data', \n",
    "                      sep='\\t', \n",
    "                      names=['user_id', 'item_id', 'rating', 'timestamp'])\n",
    "ratings = ratings.drop(columns='timestamp')\n",
    "\n",
    "user_item_dense = ratings.pivot(\n",
    "    index='user_id',\n",
    "    columns='item_id',\n",
    "    values='rating'\n",
    ").fillna(0)"
   ]
  },
  {
   "cell_type": "code",
   "execution_count": 246,
   "id": "5298fb78",
   "metadata": {},
   "outputs": [
    {
     "data": {
      "text/html": [
       "<div>\n",
       "<style scoped>\n",
       "    .dataframe tbody tr th:only-of-type {\n",
       "        vertical-align: middle;\n",
       "    }\n",
       "\n",
       "    .dataframe tbody tr th {\n",
       "        vertical-align: top;\n",
       "    }\n",
       "\n",
       "    .dataframe thead th {\n",
       "        text-align: right;\n",
       "    }\n",
       "</style>\n",
       "<table border=\"1\" class=\"dataframe\">\n",
       "  <thead>\n",
       "    <tr style=\"text-align: right;\">\n",
       "      <th></th>\n",
       "      <th>user_id</th>\n",
       "      <th>age</th>\n",
       "      <th>gender</th>\n",
       "      <th>occupation</th>\n",
       "      <th>zip_code</th>\n",
       "    </tr>\n",
       "  </thead>\n",
       "  <tbody>\n",
       "    <tr>\n",
       "      <th>0</th>\n",
       "      <td>1</td>\n",
       "      <td>24</td>\n",
       "      <td>M</td>\n",
       "      <td>technician</td>\n",
       "      <td>85711</td>\n",
       "    </tr>\n",
       "    <tr>\n",
       "      <th>1</th>\n",
       "      <td>2</td>\n",
       "      <td>53</td>\n",
       "      <td>F</td>\n",
       "      <td>other</td>\n",
       "      <td>94043</td>\n",
       "    </tr>\n",
       "    <tr>\n",
       "      <th>2</th>\n",
       "      <td>3</td>\n",
       "      <td>23</td>\n",
       "      <td>M</td>\n",
       "      <td>writer</td>\n",
       "      <td>32067</td>\n",
       "    </tr>\n",
       "    <tr>\n",
       "      <th>3</th>\n",
       "      <td>4</td>\n",
       "      <td>24</td>\n",
       "      <td>M</td>\n",
       "      <td>technician</td>\n",
       "      <td>43537</td>\n",
       "    </tr>\n",
       "    <tr>\n",
       "      <th>4</th>\n",
       "      <td>5</td>\n",
       "      <td>33</td>\n",
       "      <td>F</td>\n",
       "      <td>other</td>\n",
       "      <td>15213</td>\n",
       "    </tr>\n",
       "    <tr>\n",
       "      <th>...</th>\n",
       "      <td>...</td>\n",
       "      <td>...</td>\n",
       "      <td>...</td>\n",
       "      <td>...</td>\n",
       "      <td>...</td>\n",
       "    </tr>\n",
       "    <tr>\n",
       "      <th>938</th>\n",
       "      <td>939</td>\n",
       "      <td>26</td>\n",
       "      <td>F</td>\n",
       "      <td>student</td>\n",
       "      <td>33319</td>\n",
       "    </tr>\n",
       "    <tr>\n",
       "      <th>939</th>\n",
       "      <td>940</td>\n",
       "      <td>32</td>\n",
       "      <td>M</td>\n",
       "      <td>administrator</td>\n",
       "      <td>02215</td>\n",
       "    </tr>\n",
       "    <tr>\n",
       "      <th>940</th>\n",
       "      <td>941</td>\n",
       "      <td>20</td>\n",
       "      <td>M</td>\n",
       "      <td>student</td>\n",
       "      <td>97229</td>\n",
       "    </tr>\n",
       "    <tr>\n",
       "      <th>941</th>\n",
       "      <td>942</td>\n",
       "      <td>48</td>\n",
       "      <td>F</td>\n",
       "      <td>librarian</td>\n",
       "      <td>78209</td>\n",
       "    </tr>\n",
       "    <tr>\n",
       "      <th>942</th>\n",
       "      <td>943</td>\n",
       "      <td>22</td>\n",
       "      <td>M</td>\n",
       "      <td>student</td>\n",
       "      <td>77841</td>\n",
       "    </tr>\n",
       "  </tbody>\n",
       "</table>\n",
       "<p>943 rows × 5 columns</p>\n",
       "</div>"
      ],
      "text/plain": [
       "     user_id  age gender     occupation zip_code\n",
       "0          1   24      M     technician    85711\n",
       "1          2   53      F          other    94043\n",
       "2          3   23      M         writer    32067\n",
       "3          4   24      M     technician    43537\n",
       "4          5   33      F          other    15213\n",
       "..       ...  ...    ...            ...      ...\n",
       "938      939   26      F        student    33319\n",
       "939      940   32      M  administrator    02215\n",
       "940      941   20      M        student    97229\n",
       "941      942   48      F      librarian    78209\n",
       "942      943   22      M        student    77841\n",
       "\n",
       "[943 rows x 5 columns]"
      ]
     },
     "execution_count": 246,
     "metadata": {},
     "output_type": "execute_result"
    }
   ],
   "source": [
    "user = pd.read_csv('../datasets/ml-100k/u.user', \n",
    "                      sep='|', \n",
    "                      names=['user_id', 'age', 'gender', 'occupation', 'zip_code'])\n",
    "\n",
    "merged = user.merge(user_item_dense, on='user_id')\n",
    "\n",
    "user"
   ]
  },
  {
   "cell_type": "code",
   "execution_count": 247,
   "id": "fe3e16b6",
   "metadata": {},
   "outputs": [],
   "source": [
    "#  One-Hot Encoding sulle colonne categoriche\n",
    "#user_encoded = pd.get_dummies(merged, columns=['gender', 'occupation', 'zip_code'])\n",
    "#X = user_encoded.drop(columns=['user_id'])\n",
    "#X.columns = X.columns.astype(str)"
   ]
  },
  {
   "cell_type": "code",
   "execution_count": 248,
   "id": "9cc3435c",
   "metadata": {},
   "outputs": [],
   "source": [
    "#LABEL ENCODER\n",
    "\n",
    "le_gender = LabelEncoder()\n",
    "le_occ = LabelEncoder()\n",
    "le_zip = LabelEncoder()\n",
    "user['gender_le'] = le_gender.fit_transform(user['gender'])\n",
    "user['occupation_le'] = le_occ.fit_transform(user['occupation'])\n",
    "user['zip_le'] = le_zip.fit_transform(user['zip_code'])\n",
    "df_le = user[['age','gender_le','occupation_le', 'zip_le']]\n",
    "#df_le"
   ]
  },
  {
   "cell_type": "code",
   "execution_count": 249,
   "id": "5eea4ea0",
   "metadata": {},
   "outputs": [],
   "source": [
    "#BINARY ENCODER\n",
    "be = BinaryEncoder(cols=['gender','occupation','zip_code'], return_df=True)\n",
    "df_be = be.fit_transform(user[['age', 'gender','occupation','zip_code']])\n",
    "#df_be"
   ]
  },
  {
   "cell_type": "code",
   "execution_count": 250,
   "id": "00e8b17d",
   "metadata": {},
   "outputs": [],
   "source": [
    "#HASHER \n",
    "user_dicts = user[['gender', 'occupation', 'zip_code']].astype(str).to_dict(orient='records')\n",
    "\n",
    "# 2. Hasher con input_type='dict'\n",
    "hasher = FeatureHasher(n_features=10, input_type='dict')\n",
    "hashed = hasher.transform(user_dicts)\n",
    "\n",
    "# 3. Converti in DataFrame\n",
    "df_hash = pd.DataFrame(hashed.toarray(), columns=[f\"hash_{i}\" for i in range(10)])"
   ]
  },
  {
   "cell_type": "code",
   "execution_count": 251,
   "id": "c5aa7792",
   "metadata": {},
   "outputs": [
    {
     "data": {
      "text/html": [
       "<div>\n",
       "<style scoped>\n",
       "    .dataframe tbody tr th:only-of-type {\n",
       "        vertical-align: middle;\n",
       "    }\n",
       "\n",
       "    .dataframe tbody tr th {\n",
       "        vertical-align: top;\n",
       "    }\n",
       "\n",
       "    .dataframe thead th {\n",
       "        text-align: right;\n",
       "    }\n",
       "</style>\n",
       "<table border=\"1\" class=\"dataframe\">\n",
       "  <thead>\n",
       "    <tr style=\"text-align: right;\">\n",
       "      <th></th>\n",
       "      <th>gender</th>\n",
       "      <th>occupation</th>\n",
       "      <th>zip_code</th>\n",
       "      <th>age</th>\n",
       "    </tr>\n",
       "  </thead>\n",
       "  <tbody>\n",
       "    <tr>\n",
       "      <th>0</th>\n",
       "      <td>34.149254</td>\n",
       "      <td>33.448045</td>\n",
       "      <td>33.689963</td>\n",
       "      <td>24</td>\n",
       "    </tr>\n",
       "    <tr>\n",
       "      <th>1</th>\n",
       "      <td>33.813187</td>\n",
       "      <td>34.523714</td>\n",
       "      <td>34.867750</td>\n",
       "      <td>53</td>\n",
       "    </tr>\n",
       "    <tr>\n",
       "      <th>2</th>\n",
       "      <td>34.149254</td>\n",
       "      <td>36.139736</td>\n",
       "      <td>32.614008</td>\n",
       "      <td>23</td>\n",
       "    </tr>\n",
       "    <tr>\n",
       "      <th>3</th>\n",
       "      <td>34.149254</td>\n",
       "      <td>33.448045</td>\n",
       "      <td>32.744116</td>\n",
       "      <td>24</td>\n",
       "    </tr>\n",
       "    <tr>\n",
       "      <th>4</th>\n",
       "      <td>33.813187</td>\n",
       "      <td>34.523714</td>\n",
       "      <td>33.915093</td>\n",
       "      <td>33</td>\n",
       "    </tr>\n",
       "    <tr>\n",
       "      <th>...</th>\n",
       "      <td>...</td>\n",
       "      <td>...</td>\n",
       "      <td>...</td>\n",
       "      <td>...</td>\n",
       "    </tr>\n",
       "    <tr>\n",
       "      <th>938</th>\n",
       "      <td>33.813187</td>\n",
       "      <td>22.081633</td>\n",
       "      <td>33.004333</td>\n",
       "      <td>26</td>\n",
       "    </tr>\n",
       "    <tr>\n",
       "      <th>939</th>\n",
       "      <td>34.149254</td>\n",
       "      <td>38.734009</td>\n",
       "      <td>32.602260</td>\n",
       "      <td>32</td>\n",
       "    </tr>\n",
       "    <tr>\n",
       "      <th>940</th>\n",
       "      <td>34.149254</td>\n",
       "      <td>22.081633</td>\n",
       "      <td>32.223683</td>\n",
       "      <td>20</td>\n",
       "    </tr>\n",
       "    <tr>\n",
       "      <th>941</th>\n",
       "      <td>33.813187</td>\n",
       "      <td>39.743596</td>\n",
       "      <td>35.866720</td>\n",
       "      <td>48</td>\n",
       "    </tr>\n",
       "    <tr>\n",
       "      <th>942</th>\n",
       "      <td>34.149254</td>\n",
       "      <td>22.081633</td>\n",
       "      <td>32.483899</td>\n",
       "      <td>22</td>\n",
       "    </tr>\n",
       "  </tbody>\n",
       "</table>\n",
       "<p>943 rows × 4 columns</p>\n",
       "</div>"
      ],
      "text/plain": [
       "        gender  occupation   zip_code  age\n",
       "0    34.149254   33.448045  33.689963   24\n",
       "1    33.813187   34.523714  34.867750   53\n",
       "2    34.149254   36.139736  32.614008   23\n",
       "3    34.149254   33.448045  32.744116   24\n",
       "4    33.813187   34.523714  33.915093   33\n",
       "..         ...         ...        ...  ...\n",
       "938  33.813187   22.081633  33.004333   26\n",
       "939  34.149254   38.734009  32.602260   32\n",
       "940  34.149254   22.081633  32.223683   20\n",
       "941  33.813187   39.743596  35.866720   48\n",
       "942  34.149254   22.081633  32.483899   22\n",
       "\n",
       "[943 rows x 4 columns]"
      ]
     },
     "execution_count": 251,
     "metadata": {},
     "output_type": "execute_result"
    }
   ],
   "source": [
    "#TARGET ENCODER\n",
    "\n",
    "te = TargetEncoder(cols=['gender', 'occupation', 'zip_code'])\n",
    "df_te = te.fit_transform(user[['gender', 'occupation', 'zip_code']], user['age'])\n",
    "df_te['age'] = user['age']\n",
    "df_te"
   ]
  },
  {
   "cell_type": "code",
   "execution_count": 252,
   "id": "d711beee",
   "metadata": {},
   "outputs": [],
   "source": [
    "# 4. Standardizzazione\n",
    "scaler = StandardScaler()\n",
    "X_scaled = scaler.fit_transform(df_be)"
   ]
  },
  {
   "cell_type": "code",
   "execution_count": 253,
   "id": "7f75a2d1",
   "metadata": {},
   "outputs": [
    {
     "name": "stdout",
     "output_type": "stream",
     "text": [
      "Numero ottimale di cluster: 3\n"
     ]
    }
   ],
   "source": [
    "# 6. Trova numero ottimale di cluster via Silhouette Score\n",
    "sil_scores = []\n",
    "K_range = range(2, 11)\n",
    "for k in K_range:\n",
    "    agg = AgglomerativeClustering(n_clusters=k, linkage='ward')\n",
    "    labels = agg.fit_predict(X_scaled)\n",
    "    sil_scores.append(silhouette_score(X_scaled, labels))\n",
    "\n",
    "optimal_k = K_range[sil_scores.index(max(sil_scores))]\n",
    "print(f\"Numero ottimale di cluster: {optimal_k}\")"
   ]
  },
  {
   "cell_type": "code",
   "execution_count": 254,
   "id": "8d8cdc2f",
   "metadata": {},
   "outputs": [
    {
     "data": {
      "text/plain": [
       "0.1361319504026027"
      ]
     },
     "execution_count": 254,
     "metadata": {},
     "output_type": "execute_result"
    }
   ],
   "source": [
    "opt = sil_scores.index(max(sil_scores))\n",
    "sil_scores[opt]"
   ]
  },
  {
   "cell_type": "code",
   "execution_count": 255,
   "id": "b0a58b17",
   "metadata": {},
   "outputs": [
    {
     "data": {
      "text/plain": [
       "[0.1216003349869017,\n",
       " 0.1361319504026027,\n",
       " 0.08407738565619406,\n",
       " 0.08060295063253399,\n",
       " 0.06838171948685783,\n",
       " 0.06745142775952816,\n",
       " 0.07159095679435051,\n",
       " 0.0750586986837974,\n",
       " 0.07654942569172976]"
      ]
     },
     "execution_count": 255,
     "metadata": {},
     "output_type": "execute_result"
    }
   ],
   "source": [
    "sil_scores"
   ]
  },
  {
   "cell_type": "code",
   "execution_count": 256,
   "id": "d2e28f01",
   "metadata": {},
   "outputs": [],
   "source": [
    "# 7. Applica AgglomerativeClustering\n",
    "agg_final = AgglomerativeClustering(n_clusters=optimal_k, linkage='ward')\n",
    "user['cluster'] = agg_final.fit_predict(X_scaled)"
   ]
  },
  {
   "cell_type": "code",
   "execution_count": 257,
   "id": "3d4aac90",
   "metadata": {},
   "outputs": [],
   "source": [
    "pca = PCA(n_components=3)\n",
    "components = pca.fit_transform(X_scaled)\n",
    "user[['PCA1','PCA2','PCA3']] = components"
   ]
  },
  {
   "cell_type": "code",
   "execution_count": 258,
   "id": "c6e5f134",
   "metadata": {},
   "outputs": [
    {
     "data": {
      "image/png": "[encoded data removed]",
      "text/plain": [
       "<Figure size 1000x600 with 1 Axes>"
      ]
     },
     "metadata": {},
     "output_type": "display_data"
    }
   ],
   "source": [
    "# 9. Plot dei cluster\n",
    "plt.figure(figsize=(10,6))\n",
    "sns.scatterplot(data=user, x='PCA1', y='PCA2', hue='cluster', palette='Set1', s=60)\n",
    "plt.title('Cluster utenti con Agglomerative Clustering (PCA 2D)')\n",
    "plt.xlabel('PCA1')\n",
    "plt.ylabel('PCA2')\n",
    "plt.legend(title='Cluster')\n",
    "plt.grid(True)\n",
    "plt.tight_layout()\n",
    "plt.show()"
   ]
  },
  {
   "cell_type": "code",
   "execution_count": 259,
   "id": "44765928",
   "metadata": {},
   "outputs": [
    {
     "data": {
      "application/vnd.plotly.v1+json": {
       "config": {
        "plotlyServerURL": "https://plot.ly"
       },
       "data": [
        {
         "hovertemplate": "PCA1=%{x}<br>PCA2=%{y}<br>PCA3=%{z}<br>cluster=%{marker.color}<extra></extra>",
         "legendgroup": "",
         "marker": {
          "color": {
           "bdata": "AAEAAAEAAAAAAAEBAAABAAABAAEAAAEBAAABAAAAAAEAAQEBAAEAAAAAAQAAAgIAAQAAAQAAAAACAAACAAECAAEAAAAAAAABAAAAAAAAAQEAAAAAAAAAAQEAAgAAAAABAAEAAAAAAAAAAgAAAAAAAgAAAAIAAAABAAEBAAABAgICAgEAAAAAAAACAAEAAAAAAAABAAIBAQEAAAEAAAABAAAAAAIBAAAAAQIBAgABAQAAAAABAAAAAAEBAAAAAAAAAAAAAAABAAAAAQEBAAECAAEAAgEAAQAAAAAAAAAAAQEBAAABAQEAAAACAAEAAQABAQAAAAAAAAAAAAIAAQAAAgABAAEAAQABAAEAAAEBAAABAQAAAQEAAQEAAAAAAAICAgAAAQAAAAEBAAIBAAAAAQAAAAIAAAAAAgEAAQACAAABAAABAAAAAAABAAAAAAACAAEAAAEBAAEBAAABAgAAAQABAAEAAAAAAAEAAAABAAAAAAABAAAAAQAAAAAAAAAAAAIAAAEBAAAAAAAAAAAAAQIAAAECAAAAAAEAAAAAAAEBAgAAAQAAAgAAAgAAAAIAAAEAAQEBAQAAAAIBAAAAAAABAAAAAAAAAgAAAQABAgAAAAAAAAAAAAAAAAABAAACAgEAAAEAAAAAAQEAAAEAAQAAAAAAAAEBAQABAgAAAAAAAAIBAAEAAgAAAQABAgAAAQACAAAAAQAAAAEAAQAAAQAAAAAAAQAAAAABAQEBAAAAAQECAAAAAAAAAAACAAIAAQAAAAAAAAAAAAABAAABAAEAAAAAAgEAAQEAAAAAAgABAAAAAgAAAAEBAAEAAAEAAAAAAgECAQAAAAAAAAABAAABAAIAAQAAAAACAAABAgACAAAAAAAAAAAAAAEAAAABAAEAAAAAAQACAAAAAQACAQACAAACAAAAAAEAAAEAAAEBAAEBAAABAQEAAAEAAAEBAQEAAAABAAAAAQEBAQECAQAAAAEAAAACAAAAAAAAAQICAQECAAABAQAAAAEAAAAAAAAAAAAAAAAAAAAAAAECAAABAQAAAAAAAAAAAQEBAQAAAAAAAQICAgIBAQABAAAAAAAAAAABAAAAAAEAAAAAAAAAAQABAAEAAgAAAAIAAAABAAAAAAEAAgEAAQIBAAAAAAAAAAAAAAEBAAEAAAEBAAIAAAABAAEAAAABAAAAAQAAAAACAAEAAQAAAQEBAgEAAAEAAAEAAAEBAQAAAgAAAAABAAAAAAIAAAEBAAABAA==",
           "dtype": "i1"
          },
          "coloraxis": "coloraxis",
          "symbol": "circle"
         },
         "mode": "markers",
         "name": "",
         "scene": "scene",
         "showlegend": false,
         "type": "scatter3d",
         "x": {
          "bdata": "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",
          "dtype": "f8"
         },
         "y": {
          "bdata": "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",
          "dtype": "f8"
         },
         "z": {
          "bdata": "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",
          "dtype": "f8"
         }
        }
       ],
       "layout": {
        "coloraxis": {
         "colorbar": {
          "title": {
           "text": "cluster"
          }
         },
         "colorscale": [
          [
           0,
           "#0d0887"
          ],
          [
           0.1111111111111111,
           "#46039f"
          ],
          [
           0.2222222222222222,
           "#7201a8"
          ],
          [
           0.3333333333333333,
           "#9c179e"
          ],
          [
           0.4444444444444444,
           "#bd3786"
          ],
          [
           0.5555555555555556,
           "#d8576b"
          ],
          [
           0.6666666666666666,
           "#ed7953"
          ],
          [
           0.7777777777777778,
           "#fb9f3a"
          ],
          [
           0.8888888888888888,
           "#fdca26"
          ],
          [
           1,
           "#f0f921"
          ]
         ]
        },
        "legend": {
         "title": {
          "text": "Cluster"
         },
         "tracegroupgap": 0
        },
        "margin": {
         "b": 0,
         "l": 0,
         "r": 0,
         "t": 40
        },
        "scene": {
         "domain": {
          "x": [
           0,
           1
          ],
          "y": [
           0,
           1
          ]
         },
         "xaxis": {
          "title": {
           "text": "PCA1"
          }
         },
         "yaxis": {
          "title": {
           "text": "PCA2"
          }
         },
         "zaxis": {
          "title": {
           "text": "PCA3"
          }
         }
        },
        "template": {
         "data": {
          "bar": [
           {
            "error_x": {
             "color": "#2a3f5f"
            },
            "error_y": {
             "color": "#2a3f5f"
            },
            "marker": {
             "line": {
              "color": "#E5ECF6",
              "width": 0.5
             },
             "pattern": {
              "fillmode": "overlay",
              "size": 10,
              "solidity": 0.2
             }
            },
            "type": "bar"
           }
          ],
          "barpolar": [
           {
            "marker": {
             "line": {
              "color": "#E5ECF6",
              "width": 0.5
             },
             "pattern": {
              "fillmode": "overlay",
              "size": 10,
              "solidity": 0.2
             }
            },
            "type": "barpolar"
           }
          ],
          "carpet": [
           {
            "aaxis": {
             "endlinecolor": "#2a3f5f",
             "gridcolor": "white",
             "linecolor": "white",
             "minorgridcolor": "white",
             "startlinecolor": "#2a3f5f"
            },
            "baxis": {
             "endlinecolor": "#2a3f5f",
             "gridcolor": "white",
             "linecolor": "white",
             "minorgridcolor": "white",
             "startlinecolor": "#2a3f5f"
            },
            "type": "carpet"
           }
          ],
          "choropleth": [
           {
            "colorbar": {
             "outlinewidth": 0,
             "ticks": ""
            },
            "type": "choropleth"
           }
          ],
          "contour": [
           {
            "colorbar": {
             "outlinewidth": 0,
             "ticks": ""
            },
            "colorscale": [
             [
              0,
              "#0d0887"
             ],
             [
              0.1111111111111111,
              "#46039f"
             ],
             [
              0.2222222222222222,
              "#7201a8"
             ],
             [
              0.3333333333333333,
              "#9c179e"
             ],
             [
              0.4444444444444444,
              "#bd3786"
             ],
             [
              0.5555555555555556,
              "#d8576b"
             ],
             [
              0.6666666666666666,
              "#ed7953"
             ],
             [
              0.7777777777777778,
              "#fb9f3a"
             ],
             [
              0.8888888888888888,
              "#fdca26"
             ],
             [
              1,
              "#f0f921"
             ]
            ],
            "type": "contour"
           }
          ],
          "contourcarpet": [
           {
            "colorbar": {
             "outlinewidth": 0,
             "ticks": ""
            },
            "type": "contourcarpet"
           }
          ],
          "heatmap": [
           {
            "colorbar": {
             "outlinewidth": 0,
             "ticks": ""
            },
            "colorscale": [
             [
              0,
              "#0d0887"
             ],
             [
              0.1111111111111111,
              "#46039f"
             ],
             [
              0.2222222222222222,
              "#7201a8"
             ],
             [
              0.3333333333333333,
              "#9c179e"
             ],
             [
              0.4444444444444444,
              "#bd3786"
             ],
             [
              0.5555555555555556,
              "#d8576b"
             ],
             [
              0.6666666666666666,
              "#ed7953"
             ],
             [
              0.7777777777777778,
              "#fb9f3a"
             ],
             [
              0.8888888888888888,
              "#fdca26"
             ],
             [
              1,
              "#f0f921"
             ]
            ],
            "type": "heatmap"
           }
          ],
          "histogram": [
           {
            "marker": {
             "pattern": {
              "fillmode": "overlay",
              "size": 10,
              "solidity": 0.2
             }
            },
            "type": "histogram"
           }
          ],
          "histogram2d": [
           {
            "colorbar": {
             "outlinewidth": 0,
             "ticks": ""
            },
            "colorscale": [
             [
              0,
              "#0d0887"
             ],
             [
              0.1111111111111111,
              "#46039f"
             ],
             [
              0.2222222222222222,
              "#7201a8"
             ],
             [
              0.3333333333333333,
              "#9c179e"
             ],
             [
              0.4444444444444444,
              "#bd3786"
             ],
             [
              0.5555555555555556,
              "#d8576b"
             ],
             [
              0.6666666666666666,
              "#ed7953"
             ],
             [
              0.7777777777777778,
              "#fb9f3a"
             ],
             [
              0.8888888888888888,
              "#fdca26"
             ],
             [
              1,
              "#f0f921"
             ]
            ],
            "type": "histogram2d"
           }
          ],
          "histogram2dcontour": [
           {
            "colorbar": {
             "outlinewidth": 0,
             "ticks": ""
            },
            "colorscale": [
             [
              0,
              "#0d0887"
             ],
             [
              0.1111111111111111,
              "#46039f"
             ],
             [
              0.2222222222222222,
              "#7201a8"
             ],
             [
              0.3333333333333333,
              "#9c179e"
             ],
             [
              0.4444444444444444,
              "#bd3786"
             ],
             [
              0.5555555555555556,
              "#d8576b"
             ],
             [
              0.6666666666666666,
              "#ed7953"
             ],
             [
              0.7777777777777778,
              "#fb9f3a"
             ],
             [
              0.8888888888888888,
              "#fdca26"
             ],
             [
              1,
              "#f0f921"
             ]
            ],
            "type": "histogram2dcontour"
           }
          ],
          "mesh3d": [
           {
            "colorbar": {
             "outlinewidth": 0,
             "ticks": ""
            },
            "type": "mesh3d"
           }
          ],
          "parcoords": [
           {
            "line": {
             "colorbar": {
              "outlinewidth": 0,
              "ticks": ""
             }
            },
            "type": "parcoords"
           }
          ],
          "pie": [
           {
            "automargin": true,
            "type": "pie"
           }
          ],
          "scatter": [
           {
            "fillpattern": {
             "fillmode": "overlay",
             "size": 10,
             "solidity": 0.2
            },
            "type": "scatter"
           }
          ],
          "scatter3d": [
           {
            "line": {
             "colorbar": {
              "outlinewidth": 0,
              "ticks": ""
             }
            },
            "marker": {
             "colorbar": {
              "outlinewidth": 0,
              "ticks": ""
             }
            },
            "type": "scatter3d"
           }
          ],
          "scattercarpet": [
           {
            "marker": {
             "colorbar": {
              "outlinewidth": 0,
              "ticks": ""
             }
            },
            "type": "scattercarpet"
           }
          ],
          "scattergeo": [
           {
            "marker": {
             "colorbar": {
              "outlinewidth": 0,
              "ticks": ""
             }
            },
            "type": "scattergeo"
           }
          ],
          "scattergl": [
           {
            "marker": {
             "colorbar": {
              "outlinewidth": 0,
              "ticks": ""
             }
            },
            "type": "scattergl"
           }
          ],
          "scattermap": [
           {
            "marker": {
             "colorbar": {
              "outlinewidth": 0,
              "ticks": ""
             }
            },
            "type": "scattermap"
           }
          ],
          "scattermapbox": [
           {
            "marker": {
             "colorbar": {
              "outlinewidth": 0,
              "ticks": ""
             }
            },
            "type": "scattermapbox"
           }
          ],
          "scatterpolar": [
           {
            "marker": {
             "colorbar": {
              "outlinewidth": 0,
              "ticks": ""
             }
            },
            "type": "scatterpolar"
           }
          ],
          "scatterpolargl": [
           {
            "marker": {
             "colorbar": {
              "outlinewidth": 0,
              "ticks": ""
             }
            },
            "type": "scatterpolargl"
           }
          ],
          "scatterternary": [
           {
            "marker": {
             "colorbar": {
              "outlinewidth": 0,
              "ticks": ""
             }
            },
            "type": "scatterternary"
           }
          ],
          "surface": [
           {
            "colorbar": {
             "outlinewidth": 0,
             "ticks": ""
            },
            "colorscale": [
             [
              0,
              "#0d0887"
             ],
             [
              0.1111111111111111,
              "#46039f"
             ],
             [
              0.2222222222222222,
              "#7201a8"
             ],
             [
              0.3333333333333333,
              "#9c179e"
             ],
             [
              0.4444444444444444,
              "#bd3786"
             ],
             [
              0.5555555555555556,
              "#d8576b"
             ],
             [
              0.6666666666666666,
              "#ed7953"
             ],
             [
              0.7777777777777778,
              "#fb9f3a"
             ],
             [
              0.8888888888888888,
              "#fdca26"
             ],
             [
              1,
              "#f0f921"
             ]
            ],
            "type": "surface"
           }
          ],
          "table": [
           {
            "cells": {
             "fill": {
              "color": "#EBF0F8"
             },
             "line": {
              "color": "white"
             }
            },
            "header": {
             "fill": {
              "color": "#C8D4E3"
             },
             "line": {
              "color": "white"
             }
            },
            "type": "table"
           }
          ]
         },
         "layout": {
          "annotationdefaults": {
           "arrowcolor": "#2a3f5f",
           "arrowhead": 0,
           "arrowwidth": 1
          },
          "autotypenumbers": "strict",
          "coloraxis": {
           "colorbar": {
            "outlinewidth": 0,
            "ticks": ""
           }
          },
          "colorscale": {
           "diverging": [
            [
             0,
             "#8e0152"
            ],
            [
             0.1,
             "#c51b7d"
            ],
            [
             0.2,
             "#de77ae"
            ],
            [
             0.3,
             "#f1b6da"
            ],
            [
             0.4,
             "#fde0ef"
            ],
            [
             0.5,
             "#f7f7f7"
            ],
            [
             0.6,
             "#e6f5d0"
            ],
            [
             0.7,
             "#b8e186"
            ],
            [
             0.8,
             "#7fbc41"
            ],
            [
             0.9,
             "#4d9221"
            ],
            [
             1,
             "#276419"
            ]
           ],
           "sequential": [
            [
             0,
             "#0d0887"
            ],
            [
             0.1111111111111111,
             "#46039f"
            ],
            [
             0.2222222222222222,
             "#7201a8"
            ],
            [
             0.3333333333333333,
             "#9c179e"
            ],
            [
             0.4444444444444444,
             "#bd3786"
            ],
            [
             0.5555555555555556,
             "#d8576b"
            ],
            [
             0.6666666666666666,
             "#ed7953"
            ],
            [
             0.7777777777777778,
             "#fb9f3a"
            ],
            [
             0.8888888888888888,
             "#fdca26"
            ],
            [
             1,
             "#f0f921"
            ]
           ],
           "sequentialminus": [
            [
             0,
             "#0d0887"
            ],
            [
             0.1111111111111111,
             "#46039f"
            ],
            [
             0.2222222222222222,
             "#7201a8"
            ],
            [
             0.3333333333333333,
             "#9c179e"
            ],
            [
             0.4444444444444444,
             "#bd3786"
            ],
            [
             0.5555555555555556,
             "#d8576b"
            ],
            [
             0.6666666666666666,
             "#ed7953"
            ],
            [
             0.7777777777777778,
             "#fb9f3a"
            ],
            [
             0.8888888888888888,
             "#fdca26"
            ],
            [
             1,
             "#f0f921"
            ]
           ]
          },
          "colorway": [
           "#636efa",
           "#EF553B",
           "#00cc96",
           "#ab63fa",
           "#FFA15A",
           "#19d3f3",
           "#FF6692",
           "#B6E880",
           "#FF97FF",
           "#FECB52"
          ],
          "font": {
           "color": "#2a3f5f"
          },
          "geo": {
           "bgcolor": "white",
           "lakecolor": "white",
           "landcolor": "#E5ECF6",
           "showlakes": true,
           "showland": true,
           "subunitcolor": "white"
          },
          "hoverlabel": {
           "align": "left"
          },
          "hovermode": "closest",
          "mapbox": {
           "style": "light"
          },
          "paper_bgcolor": "white",
          "plot_bgcolor": "#E5ECF6",
          "polar": {
           "angularaxis": {
            "gridcolor": "white",
            "linecolor": "white",
            "ticks": ""
           },
           "bgcolor": "#E5ECF6",
           "radialaxis": {
            "gridcolor": "white",
            "linecolor": "white",
            "ticks": ""
           }
          },
          "scene": {
           "xaxis": {
            "backgroundcolor": "#E5ECF6",
            "gridcolor": "white",
            "gridwidth": 2,
            "linecolor": "white",
            "showbackground": true,
            "ticks": "",
            "zerolinecolor": "white"
           },
           "yaxis": {
            "backgroundcolor": "#E5ECF6",
            "gridcolor": "white",
            "gridwidth": 2,
            "linecolor": "white",
            "showbackground": true,
            "ticks": "",
            "zerolinecolor": "white"
           },
           "zaxis": {
            "backgroundcolor": "#E5ECF6",
            "gridcolor": "white",
            "gridwidth": 2,
            "linecolor": "white",
            "showbackground": true,
            "ticks": "",
            "zerolinecolor": "white"
           }
          },
          "shapedefaults": {
           "line": {
            "color": "#2a3f5f"
           }
          },
          "ternary": {
           "aaxis": {
            "gridcolor": "white",
            "linecolor": "white",
            "ticks": ""
           },
           "baxis": {
            "gridcolor": "white",
            "linecolor": "white",
            "ticks": ""
           },
           "bgcolor": "#E5ECF6",
           "caxis": {
            "gridcolor": "white",
            "linecolor": "white",
            "ticks": ""
           }
          },
          "title": {
           "x": 0.05
          },
          "xaxis": {
           "automargin": true,
           "gridcolor": "white",
           "linecolor": "white",
           "ticks": "",
           "title": {
            "standoff": 15
           },
           "zerolinecolor": "white",
           "zerolinewidth": 2
          },
          "yaxis": {
           "automargin": true,
           "gridcolor": "white",
           "linecolor": "white",
           "ticks": "",
           "title": {
            "standoff": 15
           },
           "zerolinecolor": "white",
           "zerolinewidth": 2
          }
         }
        },
        "title": {
         "text": "Cluster utenti con K-Means (PCA 3D)"
        }
       }
      }
     },
     "metadata": {},
     "output_type": "display_data"
    }
   ],
   "source": [
    "import plotly.express as px\n",
    "\n",
    "\n",
    "fig = px.scatter_3d(\n",
    "    user,\n",
    "    x='PCA1',\n",
    "    y='PCA2',\n",
    "    z='PCA3',\n",
    "    color='cluster',\n",
    "    title='Cluster utenti con K-Means (PCA 3D)',\n",
    "    labels={'PCA1': 'PCA1', 'PCA2': 'PCA2', 'PCA3': 'PCA3'}\n",
    ")\n",
    "\n",
    "fig.update_layout(\n",
    "    margin=dict(l=0, r=0, b=0, t=40),\n",
    "    legend_title_text='Cluster'\n",
    ")\n",
    "\n",
    "fig.show()\n"
   ]
  }
 ],
 "metadata": {
  "kernelspec": {
   "display_name": "FDSML",
   "language": "python",
   "name": "python3"
  },
  "language_info": {
   "codemirror_mode": {
    "name": "ipython",
    "version": 3
   },
   "file_extension": ".py",
   "mimetype": "text/x-python",
   "name": "python",
   "nbconvert_exporter": "python",
   "pygments_lexer": "ipython3",
   "version": "3.10.18"
  }
 },
 "nbformat": 4,
 "nbformat_minor": 5
}
