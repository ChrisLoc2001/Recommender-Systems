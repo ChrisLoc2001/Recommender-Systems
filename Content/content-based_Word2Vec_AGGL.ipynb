{
 "cells": [
  {
   "cell_type": "code",
   "execution_count": 358,
   "id": "72f3c30f",
   "metadata": {},
   "outputs": [],
   "source": [
    "import pandas as pd\n",
    "from gensim.models import Word2Vec\n",
    "from sklearn.cluster import AgglomerativeClustering\n",
    "from sklearn.decomposition import PCA\n",
    "import plotly.express as px\n",
    "from tqdm import tqdm\n",
    "from itertools import product\n",
    "from sklearn.metrics import silhouette_score\n"
   ]
  },
  {
   "cell_type": "code",
   "execution_count": 359,
   "id": "cedb3483",
   "metadata": {},
   "outputs": [],
   "source": [
    "# Oppure\n",
    "metric = 'manhattan'\n",
    "linkage = 'complete'"
   ]
  },
  {
   "cell_type": "code",
   "execution_count": 360,
   "id": "cd22b7a9",
   "metadata": {},
   "outputs": [],
   "source": [
    "metric = 'euclidean'\n",
    "linkage = 'ward'"
   ]
  },
  {
   "cell_type": "code",
   "execution_count": 361,
   "id": "360e3a34",
   "metadata": {},
   "outputs": [],
   "source": [
    "# 1. Carica il DataFrame\n",
    "user = pd.read_csv(\n",
    "    '../datasets/ml-100k/u.user',\n",
    "    sep='|',\n",
    "    names=['user_id', 'age', 'gender', 'occupation', 'zip_code']\n",
    ")"
   ]
  },
  {
   "cell_type": "code",
   "execution_count": 362,
   "id": "43f23507",
   "metadata": {},
   "outputs": [],
   "source": [
    "# 2. Prepara “sentences” per Word2Vec\n",
    "sentences = user[['gender', 'occupation', 'zip_code']].astype(str).values.tolist()\n",
    "\n",
    "# 3. Allena il modello Word2Vec\n",
    "w2v = Word2Vec(\n",
    "    sentences,\n",
    "    vector_size=8,    # dimensione embedding\n",
    "    window=2,\n",
    "    min_count=1,\n",
    "    epochs=100,\n",
    "    seed=42\n",
    ")"
   ]
  },
  {
   "cell_type": "code",
   "execution_count": 363,
   "id": "d4507d2b",
   "metadata": {},
   "outputs": [],
   "source": [
    "# 4. Funzione per embedding medio per riga\n",
    "def embed_row(row):\n",
    "    vecs = [\n",
    "        w2v.wv[row['gender']],\n",
    "        w2v.wv[row['occupation']],\n",
    "        w2v.wv[row['zip_code']]\n",
    "    ]\n",
    "    return sum(vecs) / len(vecs)"
   ]
  },
  {
   "cell_type": "code",
   "execution_count": 364,
   "id": "f91cb2ab",
   "metadata": {},
   "outputs": [],
   "source": [
    "# 5. Calcola gli embedding e componi il DataFrame\n",
    "embeddings = user.apply(embed_row, axis=1)\n",
    "df_emb = pd.DataFrame(\n",
    "    embeddings.tolist(),\n",
    "    columns=[f'emb_{i}' for i in range(w2v.vector_size)]\n",
    ")\n",
    "# Aggiungiamo l’età come ulteriore feature numerica (opzionale)\n",
    "df_emb['age'] = user['age']"
   ]
  },
  {
   "cell_type": "code",
   "execution_count": 365,
   "id": "d679838e",
   "metadata": {},
   "outputs": [
    {
     "name": "stdout",
     "output_type": "stream",
     "text": [
      "k = 2 → silhouette = 0.5166\n",
      "k = 3 → silhouette = 0.5499\n",
      "k = 4 → silhouette = 0.4846\n",
      "k = 5 → silhouette = 0.5014\n",
      "k = 6 → silhouette = 0.4983\n",
      "k = 7 → silhouette = 0.5016\n",
      "k = 8 → silhouette = 0.4929\n",
      "k = 9 → silhouette = 0.4840\n",
      "k = 10 → silhouette = 0.5082\n",
      "\n",
      "→ k ottimale = 3, silhouette = 0.5499\n",
      "\n"
     ]
    }
   ],
   "source": [
    "# 6) Ricerca k ottimale via Silhouette Score\n",
    "sil_scores = {}\n",
    "for k in range(2, 11):\n",
    "    agg = AgglomerativeClustering(n_clusters=k,\n",
    "                                  metric=metric,\n",
    "                                  linkage=linkage)\n",
    "    labels = agg.fit_predict(df_emb)\n",
    "    sil = silhouette_score(df_emb, labels, metric='euclidean')\n",
    "    sil_scores[k] = sil\n",
    "    print(f\"k = {k} → silhouette = {sil:.4f}\")\n",
    "\n",
    "best_k = max(sil_scores, key=sil_scores.get)\n",
    "print(f\"\\n→ k ottimale = {best_k}, silhouette = {sil_scores[best_k]:.4f}\\n\")"
   ]
  },
  {
   "cell_type": "code",
   "execution_count": 366,
   "id": "85e40ac8",
   "metadata": {},
   "outputs": [],
   "source": [
    "# 7) Addestra AgglomerativeClustering col k ottimale\n",
    "agg_final = AgglomerativeClustering(n_clusters=best_k,\n",
    "                                    metric=metric,\n",
    "                                    linkage=linkage)\n",
    "user['cluster_agg'] = agg_final.fit_predict(df_emb)\n"
   ]
  },
  {
   "cell_type": "code",
   "execution_count": 367,
   "id": "4421abcb",
   "metadata": {},
   "outputs": [
    {
     "data": {
      "application/vnd.plotly.v1+json": {
       "config": {
        "plotlyServerURL": "https://plot.ly"
       },
       "data": [
        {
         "hovertemplate": "cluster=1<br>PC1=%{x}<br>PC2=%{y}<br>PC3=%{z}<extra></extra>",
         "legendgroup": "1",
         "marker": {
          "color": "#636efa",
          "size": 4,
          "symbol": "circle"
         },
         "mode": "markers",
         "name": "1",
         "scene": "scene",
         "showlegend": true,
         "type": "scatter3d",
         "x": {
          "bdata": "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",
          "dtype": "f8"
         },
         "y": {
          "bdata": "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",
          "dtype": "f8"
         },
         "z": {
          "bdata": "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",
          "dtype": "f8"
         }
        },
        {
         "hovertemplate": "cluster=2<br>PC1=%{x}<br>PC2=%{y}<br>PC3=%{z}<extra></extra>",
         "legendgroup": "2",
         "marker": {
          "color": "#EF553B",
          "size": 4,
          "symbol": "circle"
         },
         "mode": "markers",
         "name": "2",
         "scene": "scene",
         "showlegend": true,
         "type": "scatter3d",
         "x": {
          "bdata": "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",
          "dtype": "f8"
         },
         "y": {
          "bdata": "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",
          "dtype": "f8"
         },
         "z": {
          "bdata": "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",
          "dtype": "f8"
         }
        },
        {
         "hovertemplate": "cluster=0<br>PC1=%{x}<br>PC2=%{y}<br>PC3=%{z}<extra></extra>",
         "legendgroup": "0",
         "marker": {
          "color": "#00cc96",
          "size": 4,
          "symbol": "circle"
         },
         "mode": "markers",
         "name": "0",
         "scene": "scene",
         "showlegend": true,
         "type": "scatter3d",
         "x": {
          "bdata": "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",
          "dtype": "f8"
         },
         "y": {
          "bdata": "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",
          "dtype": "f8"
         },
         "z": {
          "bdata": "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",
          "dtype": "f8"
         }
        }
       ],
       "layout": {
        "legend": {
         "title": {
          "text": "cluster"
         },
         "tracegroupgap": 0
        },
        "scene": {
         "domain": {
          "x": [
           0,
           1
          ],
          "y": [
           0,
           1
          ]
         },
         "xaxis": {
          "title": {
           "text": "PC1"
          }
         },
         "yaxis": {
          "title": {
           "text": "PC2"
          }
         },
         "zaxis": {
          "title": {
           "text": "PC3"
          }
         }
        },
        "template": {
         "data": {
          "bar": [
           {
            "error_x": {
             "color": "#2a3f5f"
            },
            "error_y": {
             "color": "#2a3f5f"
            },
            "marker": {
             "line": {
              "color": "#E5ECF6",
              "width": 0.5
             },
             "pattern": {
              "fillmode": "overlay",
              "size": 10,
              "solidity": 0.2
             }
            },
            "type": "bar"
           }
          ],
          "barpolar": [
           {
            "marker": {
             "line": {
              "color": "#E5ECF6",
              "width": 0.5
             },
             "pattern": {
              "fillmode": "overlay",
              "size": 10,
              "solidity": 0.2
             }
            },
            "type": "barpolar"
           }
          ],
          "carpet": [
           {
            "aaxis": {
             "endlinecolor": "#2a3f5f",
             "gridcolor": "white",
             "linecolor": "white",
             "minorgridcolor": "white",
             "startlinecolor": "#2a3f5f"
            },
            "baxis": {
             "endlinecolor": "#2a3f5f",
             "gridcolor": "white",
             "linecolor": "white",
             "minorgridcolor": "white",
             "startlinecolor": "#2a3f5f"
            },
            "type": "carpet"
           }
          ],
          "choropleth": [
           {
            "colorbar": {
             "outlinewidth": 0,
             "ticks": ""
            },
            "type": "choropleth"
           }
          ],
          "contour": [
           {
            "colorbar": {
             "outlinewidth": 0,
             "ticks": ""
            },
            "colorscale": [
             [
              0,
              "#0d0887"
             ],
             [
              0.1111111111111111,
              "#46039f"
             ],
             [
              0.2222222222222222,
              "#7201a8"
             ],
             [
              0.3333333333333333,
              "#9c179e"
             ],
             [
              0.4444444444444444,
              "#bd3786"
             ],
             [
              0.5555555555555556,
              "#d8576b"
             ],
             [
              0.6666666666666666,
              "#ed7953"
             ],
             [
              0.7777777777777778,
              "#fb9f3a"
             ],
             [
              0.8888888888888888,
              "#fdca26"
             ],
             [
              1,
              "#f0f921"
             ]
            ],
            "type": "contour"
           }
          ],
          "contourcarpet": [
           {
            "colorbar": {
             "outlinewidth": 0,
             "ticks": ""
            },
            "type": "contourcarpet"
           }
          ],
          "heatmap": [
           {
            "colorbar": {
             "outlinewidth": 0,
             "ticks": ""
            },
            "colorscale": [
             [
              0,
              "#0d0887"
             ],
             [
              0.1111111111111111,
              "#46039f"
             ],
             [
              0.2222222222222222,
              "#7201a8"
             ],
             [
              0.3333333333333333,
              "#9c179e"
             ],
             [
              0.4444444444444444,
              "#bd3786"
             ],
             [
              0.5555555555555556,
              "#d8576b"
             ],
             [
              0.6666666666666666,
              "#ed7953"
             ],
             [
              0.7777777777777778,
              "#fb9f3a"
             ],
             [
              0.8888888888888888,
              "#fdca26"
             ],
             [
              1,
              "#f0f921"
             ]
            ],
            "type": "heatmap"
           }
          ],
          "histogram": [
           {
            "marker": {
             "pattern": {
              "fillmode": "overlay",
              "size": 10,
              "solidity": 0.2
             }
            },
            "type": "histogram"
           }
          ],
          "histogram2d": [
           {
            "colorbar": {
             "outlinewidth": 0,
             "ticks": ""
            },
            "colorscale": [
             [
              0,
              "#0d0887"
             ],
             [
              0.1111111111111111,
              "#46039f"
             ],
             [
              0.2222222222222222,
              "#7201a8"
             ],
             [
              0.3333333333333333,
              "#9c179e"
             ],
             [
              0.4444444444444444,
              "#bd3786"
             ],
             [
              0.5555555555555556,
              "#d8576b"
             ],
             [
              0.6666666666666666,
              "#ed7953"
             ],
             [
              0.7777777777777778,
              "#fb9f3a"
             ],
             [
              0.8888888888888888,
              "#fdca26"
             ],
             [
              1,
              "#f0f921"
             ]
            ],
            "type": "histogram2d"
           }
          ],
          "histogram2dcontour": [
           {
            "colorbar": {
             "outlinewidth": 0,
             "ticks": ""
            },
            "colorscale": [
             [
              0,
              "#0d0887"
             ],
             [
              0.1111111111111111,
              "#46039f"
             ],
             [
              0.2222222222222222,
              "#7201a8"
             ],
             [
              0.3333333333333333,
              "#9c179e"
             ],
             [
              0.4444444444444444,
              "#bd3786"
             ],
             [
              0.5555555555555556,
              "#d8576b"
             ],
             [
              0.6666666666666666,
              "#ed7953"
             ],
             [
              0.7777777777777778,
              "#fb9f3a"
             ],
             [
              0.8888888888888888,
              "#fdca26"
             ],
             [
              1,
              "#f0f921"
             ]
            ],
            "type": "histogram2dcontour"
           }
          ],
          "mesh3d": [
           {
            "colorbar": {
             "outlinewidth": 0,
             "ticks": ""
            },
            "type": "mesh3d"
           }
          ],
          "parcoords": [
           {
            "line": {
             "colorbar": {
              "outlinewidth": 0,
              "ticks": ""
             }
            },
            "type": "parcoords"
           }
          ],
          "pie": [
           {
            "automargin": true,
            "type": "pie"
           }
          ],
          "scatter": [
           {
            "fillpattern": {
             "fillmode": "overlay",
             "size": 10,
             "solidity": 0.2
            },
            "type": "scatter"
           }
          ],
          "scatter3d": [
           {
            "line": {
             "colorbar": {
              "outlinewidth": 0,
              "ticks": ""
             }
            },
            "marker": {
             "colorbar": {
              "outlinewidth": 0,
              "ticks": ""
             }
            },
            "type": "scatter3d"
           }
          ],
          "scattercarpet": [
           {
            "marker": {
             "colorbar": {
              "outlinewidth": 0,
              "ticks": ""
             }
            },
            "type": "scattercarpet"
           }
          ],
          "scattergeo": [
           {
            "marker": {
             "colorbar": {
              "outlinewidth": 0,
              "ticks": ""
             }
            },
            "type": "scattergeo"
           }
          ],
          "scattergl": [
           {
            "marker": {
             "colorbar": {
              "outlinewidth": 0,
              "ticks": ""
             }
            },
            "type": "scattergl"
           }
          ],
          "scattermap": [
           {
            "marker": {
             "colorbar": {
              "outlinewidth": 0,
              "ticks": ""
             }
            },
            "type": "scattermap"
           }
          ],
          "scattermapbox": [
           {
            "marker": {
             "colorbar": {
              "outlinewidth": 0,
              "ticks": ""
             }
            },
            "type": "scattermapbox"
           }
          ],
          "scatterpolar": [
           {
            "marker": {
             "colorbar": {
              "outlinewidth": 0,
              "ticks": ""
             }
            },
            "type": "scatterpolar"
           }
          ],
          "scatterpolargl": [
           {
            "marker": {
             "colorbar": {
              "outlinewidth": 0,
              "ticks": ""
             }
            },
            "type": "scatterpolargl"
           }
          ],
          "scatterternary": [
           {
            "marker": {
             "colorbar": {
              "outlinewidth": 0,
              "ticks": ""
             }
            },
            "type": "scatterternary"
           }
          ],
          "surface": [
           {
            "colorbar": {
             "outlinewidth": 0,
             "ticks": ""
            },
            "colorscale": [
             [
              0,
              "#0d0887"
             ],
             [
              0.1111111111111111,
              "#46039f"
             ],
             [
              0.2222222222222222,
              "#7201a8"
             ],
             [
              0.3333333333333333,
              "#9c179e"
             ],
             [
              0.4444444444444444,
              "#bd3786"
             ],
             [
              0.5555555555555556,
              "#d8576b"
             ],
             [
              0.6666666666666666,
              "#ed7953"
             ],
             [
              0.7777777777777778,
              "#fb9f3a"
             ],
             [
              0.8888888888888888,
              "#fdca26"
             ],
             [
              1,
              "#f0f921"
             ]
            ],
            "type": "surface"
           }
          ],
          "table": [
           {
            "cells": {
             "fill": {
              "color": "#EBF0F8"
             },
             "line": {
              "color": "white"
             }
            },
            "header": {
             "fill": {
              "color": "#C8D4E3"
             },
             "line": {
              "color": "white"
             }
            },
            "type": "table"
           }
          ]
         },
         "layout": {
          "annotationdefaults": {
           "arrowcolor": "#2a3f5f",
           "arrowhead": 0,
           "arrowwidth": 1
          },
          "autotypenumbers": "strict",
          "coloraxis": {
           "colorbar": {
            "outlinewidth": 0,
            "ticks": ""
           }
          },
          "colorscale": {
           "diverging": [
            [
             0,
             "#8e0152"
            ],
            [
             0.1,
             "#c51b7d"
            ],
            [
             0.2,
             "#de77ae"
            ],
            [
             0.3,
             "#f1b6da"
            ],
            [
             0.4,
             "#fde0ef"
            ],
            [
             0.5,
             "#f7f7f7"
            ],
            [
             0.6,
             "#e6f5d0"
            ],
            [
             0.7,
             "#b8e186"
            ],
            [
             0.8,
             "#7fbc41"
            ],
            [
             0.9,
             "#4d9221"
            ],
            [
             1,
             "#276419"
            ]
           ],
           "sequential": [
            [
             0,
             "#0d0887"
            ],
            [
             0.1111111111111111,
             "#46039f"
            ],
            [
             0.2222222222222222,
             "#7201a8"
            ],
            [
             0.3333333333333333,
             "#9c179e"
            ],
            [
             0.4444444444444444,
             "#bd3786"
            ],
            [
             0.5555555555555556,
             "#d8576b"
            ],
            [
             0.6666666666666666,
             "#ed7953"
            ],
            [
             0.7777777777777778,
             "#fb9f3a"
            ],
            [
             0.8888888888888888,
             "#fdca26"
            ],
            [
             1,
             "#f0f921"
            ]
           ],
           "sequentialminus": [
            [
             0,
             "#0d0887"
            ],
            [
             0.1111111111111111,
             "#46039f"
            ],
            [
             0.2222222222222222,
             "#7201a8"
            ],
            [
             0.3333333333333333,
             "#9c179e"
            ],
            [
             0.4444444444444444,
             "#bd3786"
            ],
            [
             0.5555555555555556,
             "#d8576b"
            ],
            [
             0.6666666666666666,
             "#ed7953"
            ],
            [
             0.7777777777777778,
             "#fb9f3a"
            ],
            [
             0.8888888888888888,
             "#fdca26"
            ],
            [
             1,
             "#f0f921"
            ]
           ]
          },
          "colorway": [
           "#636efa",
           "#EF553B",
           "#00cc96",
           "#ab63fa",
           "#FFA15A",
           "#19d3f3",
           "#FF6692",
           "#B6E880",
           "#FF97FF",
           "#FECB52"
          ],
          "font": {
           "color": "#2a3f5f"
          },
          "geo": {
           "bgcolor": "white",
           "lakecolor": "white",
           "landcolor": "#E5ECF6",
           "showlakes": true,
           "showland": true,
           "subunitcolor": "white"
          },
          "hoverlabel": {
           "align": "left"
          },
          "hovermode": "closest",
          "mapbox": {
           "style": "light"
          },
          "paper_bgcolor": "white",
          "plot_bgcolor": "#E5ECF6",
          "polar": {
           "angularaxis": {
            "gridcolor": "white",
            "linecolor": "white",
            "ticks": ""
           },
           "bgcolor": "#E5ECF6",
           "radialaxis": {
            "gridcolor": "white",
            "linecolor": "white",
            "ticks": ""
           }
          },
          "scene": {
           "xaxis": {
            "backgroundcolor": "#E5ECF6",
            "gridcolor": "white",
            "gridwidth": 2,
            "linecolor": "white",
            "showbackground": true,
            "ticks": "",
            "zerolinecolor": "white"
           },
           "yaxis": {
            "backgroundcolor": "#E5ECF6",
            "gridcolor": "white",
            "gridwidth": 2,
            "linecolor": "white",
            "showbackground": true,
            "ticks": "",
            "zerolinecolor": "white"
           },
           "zaxis": {
            "backgroundcolor": "#E5ECF6",
            "gridcolor": "white",
            "gridwidth": 2,
            "linecolor": "white",
            "showbackground": true,
            "ticks": "",
            "zerolinecolor": "white"
           }
          },
          "shapedefaults": {
           "line": {
            "color": "#2a3f5f"
           }
          },
          "ternary": {
           "aaxis": {
            "gridcolor": "white",
            "linecolor": "white",
            "ticks": ""
           },
           "baxis": {
            "gridcolor": "white",
            "linecolor": "white",
            "ticks": ""
           },
           "bgcolor": "#E5ECF6",
           "caxis": {
            "gridcolor": "white",
            "linecolor": "white",
            "ticks": ""
           }
          },
          "title": {
           "x": 0.05
          },
          "xaxis": {
           "automargin": true,
           "gridcolor": "white",
           "linecolor": "white",
           "ticks": "",
           "title": {
            "standoff": 15
           },
           "zerolinecolor": "white",
           "zerolinewidth": 2
          },
          "yaxis": {
           "automargin": true,
           "gridcolor": "white",
           "linecolor": "white",
           "ticks": "",
           "title": {
            "standoff": 15
           },
           "zerolinecolor": "white",
           "zerolinewidth": 2
          }
         }
        },
        "title": {
         "text": "Agglomerative Clustering (k=3) su Word2Vec Embedding"
        }
       }
      }
     },
     "metadata": {},
     "output_type": "display_data"
    }
   ],
   "source": [
    "pca = PCA(n_components=3, random_state=42)\n",
    "coords3d = pca.fit_transform(df_emb)\n",
    "df_plot = pd.DataFrame(coords3d, columns=['PC1','PC2','PC3'])\n",
    "df_plot['cluster'] = user['cluster_agg'].astype(str)\n",
    "\n",
    "fig = px.scatter_3d(df_plot,\n",
    "                    x='PC1', y='PC2', z='PC3',\n",
    "                    color='cluster',\n",
    "                    title=f'Agglomerative Clustering (k={best_k}) su Word2Vec Embedding')\n",
    "fig.update_traces(marker=dict(size=4))\n",
    "fig.show()\n"
   ]
  },
  {
   "cell_type": "code",
   "execution_count": 368,
   "id": "3b4a2e11",
   "metadata": {},
   "outputs": [],
   "source": [
    "import pandas as pd\n",
    "from sklearn.cluster import AgglomerativeClustering\n",
    "from sklearn.metrics import silhouette_score\n",
    "from itertools import product\n",
    "from tqdm import tqdm\n",
    "\n",
    "def agglomerative_grid_search(\n",
    "    data: pd.DataFrame,\n",
    "    k_range=range(2, 21),\n",
    "    linkage_options=('ward', 'average', 'complete'),\n",
    "    metric_options=('euclidean', 'manhattan', 'cosine')\n",
    ") -> pd.DataFrame:\n",
    "    \"\"\"\n",
    "    Esegue una ricerca a griglia sugli iperparametri di Agglomerative Clustering\n",
    "    e restituisce un DataFrame ordinato per silhouette score decrescente.\n",
    "    \"\"\"\n",
    "    # 1) Verifica che 'data' sia numerico\n",
    "    if not all(dt.kind in 'fi' for dt in pd.DataFrame(data).dtypes):\n",
    "        raise ValueError(\"Il DataFrame 'data' deve contenere solo colonne numeriche.\")\n",
    "\n",
    "    results = []\n",
    "\n",
    "    # 2) Genera tutte le combinazioni valide\n",
    "    for linkage, metric in tqdm(list(product(linkage_options, metric_options)),\n",
    "                                desc=\"Testing linkage/metric\"):\n",
    "        # Il linkage 'ward' richiede metrica euclidea\n",
    "        if linkage == 'ward' and metric != 'euclidean':\n",
    "            continue\n",
    "\n",
    "        for k in k_range:\n",
    "            try:\n",
    "                model = AgglomerativeClustering(\n",
    "                    n_clusters=k,\n",
    "                    linkage=linkage,\n",
    "                    metric=metric  \n",
    "                )\n",
    "                labels = model.fit_predict(data)\n",
    "\n",
    "                # Serve almeno 2 cluster distinti per silhouette_score\n",
    "                if len(set(labels)) < 2:\n",
    "                    continue\n",
    "\n",
    "                score = silhouette_score(data, labels, metric=metric)\n",
    "                results.append({\n",
    "                    'n_clusters': k,\n",
    "                    'linkage': linkage,\n",
    "                    'metric': metric,\n",
    "                    'silhouette_score': score\n",
    "                })\n",
    "            except Exception:\n",
    "                # Ignora combinazioni non valide o errori interni\n",
    "                continue\n",
    "\n",
    "    # 3) Costruisci il DataFrame con i risultati\n",
    "    result_df = pd.DataFrame(results,\n",
    "                             columns=['n_clusters', 'linkage', 'metric', 'silhouette_score'])\n",
    "\n",
    "    # 4) Se non ho risultati validi, restituisco un DataFrame vuoto con le colonne giuste\n",
    "    if result_df.empty:\n",
    "        return result_df\n",
    "\n",
    "    # 5) Ordino per silhouette_score e resetto l’indice\n",
    "    return (result_df\n",
    "            .sort_values(by='silhouette_score', ascending=False)\n",
    "            .reset_index(drop=True))\n"
   ]
  },
  {
   "cell_type": "code",
   "execution_count": 369,
   "id": "70d14a4d",
   "metadata": {},
   "outputs": [
    {
     "name": "stderr",
     "output_type": "stream",
     "text": [
      "Testing linkage/metric:   0%|          | 0/9 [00:00<?, ?it/s]"
     ]
    },
    {
     "name": "stderr",
     "output_type": "stream",
     "text": [
      "Testing linkage/metric: 100%|██████████| 9/9 [00:03<00:00,  2.74it/s]"
     ]
    },
    {
     "name": "stdout",
     "output_type": "stream",
     "text": [
      "   n_clusters   linkage     metric  silhouette_score\n",
      "0           2   average     cosine          0.934277\n",
      "1           2  complete     cosine          0.934277\n",
      "2           3   average     cosine          0.911290\n",
      "3           4   average     cosine          0.636708\n",
      "4           3  complete     cosine          0.634701\n",
      "5           5   average     cosine          0.632799\n",
      "6           4  complete     cosine          0.632065\n",
      "7           2  complete  manhattan          0.606042\n",
      "8           5  complete     cosine          0.590806\n",
      "9           2  complete  euclidean          0.588775\n"
     ]
    },
    {
     "name": "stderr",
     "output_type": "stream",
     "text": [
      "\n"
     ]
    }
   ],
   "source": [
    "# Supponendo tu abbia già costruito il DataFrame df_emb (solo colonne numeriche!)\n",
    "result = agglomerative_grid_search(df_emb)\n",
    "\n",
    "if result.empty:\n",
    "    print(\"Nessuna combinazione valida trovata: controlla i tuoi dati.\")\n",
    "else:\n",
    "    print(result.head(10))"
   ]
  },
  {
   "cell_type": "code",
   "execution_count": null,
   "id": "2edbb2a7",
   "metadata": {},
   "outputs": [],
   "source": []
  }
 ],
 "metadata": {
  "kernelspec": {
   "display_name": "FDSML",
   "language": "python",
   "name": "python3"
  },
  "language_info": {
   "codemirror_mode": {
    "name": "ipython",
    "version": 3
   },
   "file_extension": ".py",
   "mimetype": "text/x-python",
   "name": "python",
   "nbconvert_exporter": "python",
   "pygments_lexer": "ipython3",
   "version": "3.10.18"
  }
 },
 "nbformat": 4,
 "nbformat_minor": 5
}
