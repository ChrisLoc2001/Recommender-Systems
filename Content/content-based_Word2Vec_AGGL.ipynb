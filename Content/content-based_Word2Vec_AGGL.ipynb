{
 "cells": [
  {
   "cell_type": "code",
   "execution_count": 112,
   "id": "72f3c30f",
   "metadata": {},
   "outputs": [],
   "source": [
    "import pandas as pd\n",
    "from gensim.models import Word2Vec\n",
    "from sklearn.cluster import AgglomerativeClustering\n",
    "from sklearn.decomposition import PCA\n",
    "import plotly.express as px\n",
    "from tqdm import tqdm\n",
    "from itertools import product\n",
    "from sklearn.metrics import silhouette_score\n"
   ]
  },
  {
   "cell_type": "code",
   "execution_count": null,
   "id": "cd22b7a9",
   "metadata": {},
   "outputs": [],
   "source": [
    "metric = 'cosine'\n",
    "linkage = 'complete'\n",
    "n_clusters = 3"
   ]
  },
  {
   "cell_type": "code",
   "execution_count": 113,
   "id": "360e3a34",
   "metadata": {},
   "outputs": [],
   "source": [
    "# 1. Carica il DataFrame\n",
    "user = pd.read_csv(\n",
    "    '../datasets/ml-100k/u.user',\n",
    "    sep='|',\n",
    "    names=['user_id', 'age', 'gender', 'occupation', 'zip_code']\n",
    ")"
   ]
  },
  {
   "cell_type": "code",
   "execution_count": 114,
   "id": "43f23507",
   "metadata": {},
   "outputs": [],
   "source": [
    "# 2. Prepara “sentences” per Word2Vec\n",
    "sentences = user[['gender', 'occupation', 'zip_code']].astype(str).values.tolist()\n",
    "\n",
    "# 3. Allena il modello Word2Vec\n",
    "w2v = Word2Vec(\n",
    "    sentences,\n",
    "    vector_size=8,    # dimensione embedding\n",
    "    window=2,\n",
    "    min_count=1,\n",
    "    epochs=100,\n",
    "    seed=42\n",
    ")"
   ]
  },
  {
   "cell_type": "code",
   "execution_count": 115,
   "id": "d4507d2b",
   "metadata": {},
   "outputs": [],
   "source": [
    "# 4. Funzione per embedding medio per riga\n",
    "def embed_row(row):\n",
    "    vecs = [\n",
    "        w2v.wv[row['gender']],\n",
    "        w2v.wv[row['occupation']],\n",
    "        w2v.wv[row['zip_code']]\n",
    "    ]\n",
    "    return sum(vecs) / len(vecs)"
   ]
  },
  {
   "cell_type": "code",
   "execution_count": 116,
   "id": "f91cb2ab",
   "metadata": {},
   "outputs": [],
   "source": [
    "# 5. Calcola gli embedding e componi il DataFrame\n",
    "embeddings = user.apply(embed_row, axis=1)\n",
    "df_emb = pd.DataFrame(\n",
    "    embeddings.tolist(),\n",
    "    columns=[f'emb_{i}' for i in range(w2v.vector_size)]\n",
    ")\n",
    "# Aggiungiamo l’età come ulteriore feature numerica (opzionale)\n",
    "df_emb['age'] = user['age']"
   ]
  },
  {
   "cell_type": "code",
   "execution_count": null,
   "id": "d679838e",
   "metadata": {},
   "outputs": [
    {
     "name": "stdout",
     "output_type": "stream",
     "text": [
      "k = 2 → silhouette = 0.3257\n",
      "k = 3 → silhouette = 0.1872\n",
      "k = 4 → silhouette = 0.1795\n",
      "k = 5 → silhouette = 0.3793\n",
      "k = 6 → silhouette = 0.3465\n",
      "k = 7 → silhouette = 0.3434\n",
      "k = 8 → silhouette = 0.3368\n",
      "k = 9 → silhouette = 0.2734\n",
      "k = 10 → silhouette = 0.2739\n",
      "\n",
      "→ k ottimale = 5, silhouette = 0.3793\n",
      "\n"
     ]
    }
   ],
   "source": [
    "# 6) Ricerca k ottimale via Silhouette Score\n",
    "sil_scores = {}\n",
    "for k in range(2, 11):\n",
    "    agg = AgglomerativeClustering(n_clusters=k,\n",
    "                                  metric=metric,\n",
    "                                  linkage=linkage)\n",
    "    labels = agg.fit_predict(df_emb)\n",
    "    sil = silhouette_score(df_emb, labels, metric='euclidean')\n",
    "    sil_scores[k] = sil\n",
    "    print(f\"k = {k} → silhouette = {sil:.4f}\")\n",
    "\n",
    "best_k = max(sil_scores, key=sil_scores.get)\n",
    "print(f\"\\n→ k ottimale = {best_k}, silhouette = {sil_scores[best_k]:.4f}\\n\")"
   ]
  },
  {
   "cell_type": "code",
   "execution_count": null,
   "id": "85e40ac8",
   "metadata": {},
   "outputs": [],
   "source": [
    "# 7) Addestra AgglomerativeClustering col k ottimale\n",
    "agg_final = AgglomerativeClustering(n_clusters=best_k,\n",
    "                                    metric='cosine',\n",
    "                                    linkage='complete')\n",
    "user['cluster_agg'] = agg_final.fit_predict(df_emb)\n"
   ]
  },
  {
   "cell_type": "code",
   "execution_count": 119,
   "id": "4421abcb",
   "metadata": {},
   "outputs": [
    {
     "data": {
      "application/vnd.plotly.v1+json": {
       "config": {
        "plotlyServerURL": "https://plot.ly"
       },
       "data": [
        {
         "hovertemplate": "cluster=1<br>PC1=%{x}<br>PC2=%{y}<br>PC3=%{z}<extra></extra>",
         "legendgroup": "1",
         "marker": {
          "color": "#636efa",
          "size": 4,
          "symbol": "circle"
         },
         "mode": "markers",
         "name": "1",
         "scene": "scene",
         "showlegend": true,
         "type": "scatter3d",
         "x": {
          "bdata": "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",
          "dtype": "f8"
         },
         "y": {
          "bdata": "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",
          "dtype": "f8"
         },
         "z": {
          "bdata": "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",
          "dtype": "f8"
         }
        },
        {
         "hovertemplate": "cluster=2<br>PC1=%{x}<br>PC2=%{y}<br>PC3=%{z}<extra></extra>",
         "legendgroup": "2",
         "marker": {
          "color": "#EF553B",
          "size": 4,
          "symbol": "circle"
         },
         "mode": "markers",
         "name": "2",
         "scene": "scene",
         "showlegend": true,
         "type": "scatter3d",
         "x": {
          "bdata": "gMaxQTMaKsBA/UMN/BkqwMz0FIHsGSzA+oYBXfMaLsCy6YXmcA0wwFDUD6MCDTLA+edyQ3wNMcA+e5xfDRsuwIAFHJTdGizAzWrdLIENM8D0g/Wc9BouwMjspL7wGSzADm7ZL0gNNcDiiv2G8hkswFdombcZDTPAtLBQpNsaKsCltnQQfw00wOgbihj9Gi7ABD8UqwsbLsD89unH3xouwDxwmfpyDTHAtHs2j/caLsAMr3468houwAcSFbR7DTDAary6itoaLMDurZHDhA0zwNr4lMtDGirA5AF4ffUaLsAWt25w7RouwOzILUH0GizA+ug0bxkbLsAG4nFg9RoswM55830VGibAe51fW3gNMcAezO84dQ0wwLLNdeX8GizAM1clTHkNMcC+ikfedA0wwCzAniYVDTHAvt8uh+0aLsA2zxRpXA0xwPj/hvoaGijAfjGfhp4aJsDS8Bda8RoswGC5D9LoGi7AQvvC0XoNMsBOUaXxgg0ywB0+E8V7DTDA4tjtn3kNM8AOCNyl4houwM5YSOuBDTDAtLBQpNsaKsBar8R9VQ0wwDjZxjzyGi7A432Vml8NMMBs+Xmr8xouwM1DNq1tDTLADr329XANMsABr1Dpew0xwIYysAl3DTDA+r44axUaKsB7MYC9fw0wwIaceZchGizAtIBx/xcaLsAcag3dYA01wLBga45uDTPAgcbsu4ANMcB/ILijWA0wwPnnckN8DTHADGWxo6AaLsAE3fPUdw0wwIycbzSEDTDAaHcQz/UaLMDVo/dNfA0wwGrH1rByDTHA75HH42wNNcB8OABu9RoswKzT4q6DDTHApEkU1uQaKsCKJN2r+BouwFYn2coRGirAcC5rCPEaLsAGUk7qBBsswBgnEOF6DTHAOHKWNNwaLMBu5a7TCxoqwEP47xGEDTDAaWx8/HENNMDKdMuYBRsuwDnCYft0DTPANYF/AUoNMMBWPjW2Rw0wwNBKCQd9DTHAenVQoP8aLsAas4LZaw01wFTeFc/dGizAyR/trHsNNMDaRQhJEhomwDVMJ49+DTHA9OqBQ/8aLMAWDDKRCQ0wwPJkkvOzGirA",
          "dtype": "f8"
         },
         "y": {
          "bdata": "GtuuqHc7z79A214Kf0CTvxBA1Jc5T6A/IR2qMkAKyD/EdbacebTJP/iR6wcfV6u/oGIXUWpolz/Qjil9TBWWP9giA6uNCai/MLOY+hefpz+wyixivyyWP7Qt4zc/gri/bHAwza/Cvb9AoaEATcZxv5GABHuwLdC/obUcCMP6xz+yzuZmG6DLPwBMM8e+/J4/IYNNXupdyD+g8+R7pc+WvyBXLHM5Faq/Y/MF0k8RyD/HxKHHX3HFP4OBHEFvwss/SaUNqh7Jxz9TL45gFJ/MP/I0Uhz4X8S/8CwYXmJDqD+Art2v7HWevwnDlaHVN84/ED0OB/16oD8AKUXzVnRlP55jZrwu7MO/caeuRGxmyj8Akiuu3+eMP2IZhlHIdso/SBsGT+nAoT8INbn6KDWjv3cbGntsmdC/yNwxEne2oD+ILq6Mufqqv1A8uEZutcI/wBy13CvJrr8UGdOPa57QP0BA/mfQ95Y/p9WFm51EyT9wHY2QjkWSv3ALUTdoSJU/RKfI9Iyrsb8i3mTkLFvPP/graO7fUMo/obUcCMP6xz9NWXVgZNfKP6D98QhzkJc/MKtXkHDpmb+3GhXYstTKP6vAbCS63Mo/IHejMrOTkz8A9mzm/kJjP+AGrKM+Pso/unmTi9zbzr9IX0A+ev+iPzS7MUYWAL6/qBmmPWXAsj8Qrw/jHjjCPzjQlI+VycU/YOhHWMkKkz+Ar7XAB+XFP6BiF1FqaJc/gDt9Euczfj+yTlN8WbDHP2D3JLsjU5Y/wB8oSvBlfL8fdgG+nw3MPyYC+0To1ss/+GuwUAOsxD+Nf+jVGCLKP6BBE8ICE5s/ya/niWi8yj+02E2HMIKyP4WgMG+oT9C/gAFMA/3MkT94aI8kpZ3NPzj7ZBz4BqI/gOfNK3KXaL9A0Jbzb7eiP/+0j7VuwM0/2c5wzvRoyD9Af9JLf7uCPxtq+FrjOMs/ngSGsQWDxL8ggxHI8XCOP+AN9sWTJoI/0UudRbWVyD+A7NgTBllwP+jvkc+qpKM/kU5H29NTzT/6GhlQlbfCv34sbRXvoMs/tuVKf3Cbzz9IOSmMNXamPyD/qcM8N4i/",
          "dtype": "f8"
         },
         "z": {
          "bdata": "IKRX3OdAwz+oEiZn1G7WP9xAlOAsjeA/0NnEixWLsL/A1pjlF4uvP9TtlzGjh9k/wJbcqStcvL9QsqqB9OLGv0Bc0Zr4bLe/aI3XI0R4wr9IwMBQcr3BvwAIbCteBdo/wAaVKVTWqr+IusAL0qDVP9CEg6eIxMY/AMINmcOFoj9A6buqC5icv+Cwi4iWw72/QOWoTl9+rr8wF9jH8+2/v2D10XWQ776/QC4lhh3pmL9AgLiWc9Gnv+DNxFKoG6a/oHdepIITpD8AZVHWE9KqvzgPM/MjsNA/AEfMzVunvb8QZ9nvRy7AvwBEJVan85y/OPB2WgcRxr/wWkA6Q5m2v4TeqqV4ZtM/gC/sv/3Wn7+AZZPr/3q4v4CFNx66tJS/IFHA0L5Mvr+gEp6d4oG/v6iCFaZ8ecU/OEfkwhDSwb8AQAbnp3xRvxB6IGXKCdc/kEqnGfj+uj8AQplphrWIP1AB6pVnm76/gPcbenaZir9ICdNJx17Gv4Alc2yZuMG/GN2fvpKWwr/ABYN740KUPyD/A8QSn6G/AMINmcOFoj/AG3ZbGz/BPyACzQAtz7q/AMe6mDXJcT8gNqe4QyyhvwC25P5Z0nc/gNqC0Emjt79g/EQClG6/v4AeMbv2pJO/MEudlBNZzD/gFMqTM2zCv6C8DjCeOcY/ALcUOp0Z0z9ANOmNHSG1P4ClZXqpCYE/AO303vxZw78ga1Q7xOa4P8CW3KkrXLy/ENr6bc2AsT+AF82bUlShv5inhI1l/MG/wKPxdcBHvL8giNyalmyovwCxYolDWoq/YF0h+cJKrz/A444UK5GXv1jocVgfjse/ALgCjJPciz8oOz1WkSrCv0DkUq0VqMk/SN7Lieehwb/ArO6pDUinvwCH38lnDMC/gEMmQx8Qr7+AaT1iAQTSP+DS6ULZd6K/AMIXWN3tdz/AHbi3EkfFvwDI0yjsVH8/kMwEwx07tr8AMnYURX6LP7CFjz1yS72/AMlIZhDeqL8wu9SNHKKyv7C+/qh7/bS/II71AjjGpL8A7TSfIkjXP0B5CQEdMpu/wJRrF7Bnor/EtcOqD7ncP4CFisu1GJ4/",
          "dtype": "f8"
         }
        },
        {
         "hovertemplate": "cluster=0<br>PC1=%{x}<br>PC2=%{y}<br>PC3=%{z}<extra></extra>",
         "legendgroup": "0",
         "marker": {
          "color": "#00cc96",
          "size": 4,
          "symbol": "circle"
         },
         "mode": "markers",
         "name": "0",
         "scene": "scene",
         "showlegend": true,
         "type": "scatter3d",
         "x": {
          "bdata": "N6QbFXcNO8BbFSF2+ww3wNQeoBB8DTjAfqDhUfEMNcA=",
          "dtype": "f8"
         },
         "y": {
          "bdata": "AEChEpFaMb9YatOXm+azv8BxwmRYWI6/TDHzyQpJtL8=",
          "dtype": "f8"
         },
         "z": {
          "bdata": "sOo8Niqvtr8QGqdYYSDcPxC+aDDfib+/aEtvqKTp3D8=",
          "dtype": "f8"
         }
        }
       ],
       "layout": {
        "legend": {
         "title": {
          "text": "cluster"
         },
         "tracegroupgap": 0
        },
        "scene": {
         "domain": {
          "x": [
           0,
           1
          ],
          "y": [
           0,
           1
          ]
         },
         "xaxis": {
          "title": {
           "text": "PC1"
          }
         },
         "yaxis": {
          "title": {
           "text": "PC2"
          }
         },
         "zaxis": {
          "title": {
           "text": "PC3"
          }
         }
        },
        "template": {
         "data": {
          "bar": [
           {
            "error_x": {
             "color": "#2a3f5f"
            },
            "error_y": {
             "color": "#2a3f5f"
            },
            "marker": {
             "line": {
              "color": "#E5ECF6",
              "width": 0.5
             },
             "pattern": {
              "fillmode": "overlay",
              "size": 10,
              "solidity": 0.2
             }
            },
            "type": "bar"
           }
          ],
          "barpolar": [
           {
            "marker": {
             "line": {
              "color": "#E5ECF6",
              "width": 0.5
             },
             "pattern": {
              "fillmode": "overlay",
              "size": 10,
              "solidity": 0.2
             }
            },
            "type": "barpolar"
           }
          ],
          "carpet": [
           {
            "aaxis": {
             "endlinecolor": "#2a3f5f",
             "gridcolor": "white",
             "linecolor": "white",
             "minorgridcolor": "white",
             "startlinecolor": "#2a3f5f"
            },
            "baxis": {
             "endlinecolor": "#2a3f5f",
             "gridcolor": "white",
             "linecolor": "white",
             "minorgridcolor": "white",
             "startlinecolor": "#2a3f5f"
            },
            "type": "carpet"
           }
          ],
          "choropleth": [
           {
            "colorbar": {
             "outlinewidth": 0,
             "ticks": ""
            },
            "type": "choropleth"
           }
          ],
          "contour": [
           {
            "colorbar": {
             "outlinewidth": 0,
             "ticks": ""
            },
            "colorscale": [
             [
              0,
              "#0d0887"
             ],
             [
              0.1111111111111111,
              "#46039f"
             ],
             [
              0.2222222222222222,
              "#7201a8"
             ],
             [
              0.3333333333333333,
              "#9c179e"
             ],
             [
              0.4444444444444444,
              "#bd3786"
             ],
             [
              0.5555555555555556,
              "#d8576b"
             ],
             [
              0.6666666666666666,
              "#ed7953"
             ],
             [
              0.7777777777777778,
              "#fb9f3a"
             ],
             [
              0.8888888888888888,
              "#fdca26"
             ],
             [
              1,
              "#f0f921"
             ]
            ],
            "type": "contour"
           }
          ],
          "contourcarpet": [
           {
            "colorbar": {
             "outlinewidth": 0,
             "ticks": ""
            },
            "type": "contourcarpet"
           }
          ],
          "heatmap": [
           {
            "colorbar": {
             "outlinewidth": 0,
             "ticks": ""
            },
            "colorscale": [
             [
              0,
              "#0d0887"
             ],
             [
              0.1111111111111111,
              "#46039f"
             ],
             [
              0.2222222222222222,
              "#7201a8"
             ],
             [
              0.3333333333333333,
              "#9c179e"
             ],
             [
              0.4444444444444444,
              "#bd3786"
             ],
             [
              0.5555555555555556,
              "#d8576b"
             ],
             [
              0.6666666666666666,
              "#ed7953"
             ],
             [
              0.7777777777777778,
              "#fb9f3a"
             ],
             [
              0.8888888888888888,
              "#fdca26"
             ],
             [
              1,
              "#f0f921"
             ]
            ],
            "type": "heatmap"
           }
          ],
          "histogram": [
           {
            "marker": {
             "pattern": {
              "fillmode": "overlay",
              "size": 10,
              "solidity": 0.2
             }
            },
            "type": "histogram"
           }
          ],
          "histogram2d": [
           {
            "colorbar": {
             "outlinewidth": 0,
             "ticks": ""
            },
            "colorscale": [
             [
              0,
              "#0d0887"
             ],
             [
              0.1111111111111111,
              "#46039f"
             ],
             [
              0.2222222222222222,
              "#7201a8"
             ],
             [
              0.3333333333333333,
              "#9c179e"
             ],
             [
              0.4444444444444444,
              "#bd3786"
             ],
             [
              0.5555555555555556,
              "#d8576b"
             ],
             [
              0.6666666666666666,
              "#ed7953"
             ],
             [
              0.7777777777777778,
              "#fb9f3a"
             ],
             [
              0.8888888888888888,
              "#fdca26"
             ],
             [
              1,
              "#f0f921"
             ]
            ],
            "type": "histogram2d"
           }
          ],
          "histogram2dcontour": [
           {
            "colorbar": {
             "outlinewidth": 0,
             "ticks": ""
            },
            "colorscale": [
             [
              0,
              "#0d0887"
             ],
             [
              0.1111111111111111,
              "#46039f"
             ],
             [
              0.2222222222222222,
              "#7201a8"
             ],
             [
              0.3333333333333333,
              "#9c179e"
             ],
             [
              0.4444444444444444,
              "#bd3786"
             ],
             [
              0.5555555555555556,
              "#d8576b"
             ],
             [
              0.6666666666666666,
              "#ed7953"
             ],
             [
              0.7777777777777778,
              "#fb9f3a"
             ],
             [
              0.8888888888888888,
              "#fdca26"
             ],
             [
              1,
              "#f0f921"
             ]
            ],
            "type": "histogram2dcontour"
           }
          ],
          "mesh3d": [
           {
            "colorbar": {
             "outlinewidth": 0,
             "ticks": ""
            },
            "type": "mesh3d"
           }
          ],
          "parcoords": [
           {
            "line": {
             "colorbar": {
              "outlinewidth": 0,
              "ticks": ""
             }
            },
            "type": "parcoords"
           }
          ],
          "pie": [
           {
            "automargin": true,
            "type": "pie"
           }
          ],
          "scatter": [
           {
            "fillpattern": {
             "fillmode": "overlay",
             "size": 10,
             "solidity": 0.2
            },
            "type": "scatter"
           }
          ],
          "scatter3d": [
           {
            "line": {
             "colorbar": {
              "outlinewidth": 0,
              "ticks": ""
             }
            },
            "marker": {
             "colorbar": {
              "outlinewidth": 0,
              "ticks": ""
             }
            },
            "type": "scatter3d"
           }
          ],
          "scattercarpet": [
           {
            "marker": {
             "colorbar": {
              "outlinewidth": 0,
              "ticks": ""
             }
            },
            "type": "scattercarpet"
           }
          ],
          "scattergeo": [
           {
            "marker": {
             "colorbar": {
              "outlinewidth": 0,
              "ticks": ""
             }
            },
            "type": "scattergeo"
           }
          ],
          "scattergl": [
           {
            "marker": {
             "colorbar": {
              "outlinewidth": 0,
              "ticks": ""
             }
            },
            "type": "scattergl"
           }
          ],
          "scattermap": [
           {
            "marker": {
             "colorbar": {
              "outlinewidth": 0,
              "ticks": ""
             }
            },
            "type": "scattermap"
           }
          ],
          "scattermapbox": [
           {
            "marker": {
             "colorbar": {
              "outlinewidth": 0,
              "ticks": ""
             }
            },
            "type": "scattermapbox"
           }
          ],
          "scatterpolar": [
           {
            "marker": {
             "colorbar": {
              "outlinewidth": 0,
              "ticks": ""
             }
            },
            "type": "scatterpolar"
           }
          ],
          "scatterpolargl": [
           {
            "marker": {
             "colorbar": {
              "outlinewidth": 0,
              "ticks": ""
             }
            },
            "type": "scatterpolargl"
           }
          ],
          "scatterternary": [
           {
            "marker": {
             "colorbar": {
              "outlinewidth": 0,
              "ticks": ""
             }
            },
            "type": "scatterternary"
           }
          ],
          "surface": [
           {
            "colorbar": {
             "outlinewidth": 0,
             "ticks": ""
            },
            "colorscale": [
             [
              0,
              "#0d0887"
             ],
             [
              0.1111111111111111,
              "#46039f"
             ],
             [
              0.2222222222222222,
              "#7201a8"
             ],
             [
              0.3333333333333333,
              "#9c179e"
             ],
             [
              0.4444444444444444,
              "#bd3786"
             ],
             [
              0.5555555555555556,
              "#d8576b"
             ],
             [
              0.6666666666666666,
              "#ed7953"
             ],
             [
              0.7777777777777778,
              "#fb9f3a"
             ],
             [
              0.8888888888888888,
              "#fdca26"
             ],
             [
              1,
              "#f0f921"
             ]
            ],
            "type": "surface"
           }
          ],
          "table": [
           {
            "cells": {
             "fill": {
              "color": "#EBF0F8"
             },
             "line": {
              "color": "white"
             }
            },
            "header": {
             "fill": {
              "color": "#C8D4E3"
             },
             "line": {
              "color": "white"
             }
            },
            "type": "table"
           }
          ]
         },
         "layout": {
          "annotationdefaults": {
           "arrowcolor": "#2a3f5f",
           "arrowhead": 0,
           "arrowwidth": 1
          },
          "autotypenumbers": "strict",
          "coloraxis": {
           "colorbar": {
            "outlinewidth": 0,
            "ticks": ""
           }
          },
          "colorscale": {
           "diverging": [
            [
             0,
             "#8e0152"
            ],
            [
             0.1,
             "#c51b7d"
            ],
            [
             0.2,
             "#de77ae"
            ],
            [
             0.3,
             "#f1b6da"
            ],
            [
             0.4,
             "#fde0ef"
            ],
            [
             0.5,
             "#f7f7f7"
            ],
            [
             0.6,
             "#e6f5d0"
            ],
            [
             0.7,
             "#b8e186"
            ],
            [
             0.8,
             "#7fbc41"
            ],
            [
             0.9,
             "#4d9221"
            ],
            [
             1,
             "#276419"
            ]
           ],
           "sequential": [
            [
             0,
             "#0d0887"
            ],
            [
             0.1111111111111111,
             "#46039f"
            ],
            [
             0.2222222222222222,
             "#7201a8"
            ],
            [
             0.3333333333333333,
             "#9c179e"
            ],
            [
             0.4444444444444444,
             "#bd3786"
            ],
            [
             0.5555555555555556,
             "#d8576b"
            ],
            [
             0.6666666666666666,
             "#ed7953"
            ],
            [
             0.7777777777777778,
             "#fb9f3a"
            ],
            [
             0.8888888888888888,
             "#fdca26"
            ],
            [
             1,
             "#f0f921"
            ]
           ],
           "sequentialminus": [
            [
             0,
             "#0d0887"
            ],
            [
             0.1111111111111111,
             "#46039f"
            ],
            [
             0.2222222222222222,
             "#7201a8"
            ],
            [
             0.3333333333333333,
             "#9c179e"
            ],
            [
             0.4444444444444444,
             "#bd3786"
            ],
            [
             0.5555555555555556,
             "#d8576b"
            ],
            [
             0.6666666666666666,
             "#ed7953"
            ],
            [
             0.7777777777777778,
             "#fb9f3a"
            ],
            [
             0.8888888888888888,
             "#fdca26"
            ],
            [
             1,
             "#f0f921"
            ]
           ]
          },
          "colorway": [
           "#636efa",
           "#EF553B",
           "#00cc96",
           "#ab63fa",
           "#FFA15A",
           "#19d3f3",
           "#FF6692",
           "#B6E880",
           "#FF97FF",
           "#FECB52"
          ],
          "font": {
           "color": "#2a3f5f"
          },
          "geo": {
           "bgcolor": "white",
           "lakecolor": "white",
           "landcolor": "#E5ECF6",
           "showlakes": true,
           "showland": true,
           "subunitcolor": "white"
          },
          "hoverlabel": {
           "align": "left"
          },
          "hovermode": "closest",
          "mapbox": {
           "style": "light"
          },
          "paper_bgcolor": "white",
          "plot_bgcolor": "#E5ECF6",
          "polar": {
           "angularaxis": {
            "gridcolor": "white",
            "linecolor": "white",
            "ticks": ""
           },
           "bgcolor": "#E5ECF6",
           "radialaxis": {
            "gridcolor": "white",
            "linecolor": "white",
            "ticks": ""
           }
          },
          "scene": {
           "xaxis": {
            "backgroundcolor": "#E5ECF6",
            "gridcolor": "white",
            "gridwidth": 2,
            "linecolor": "white",
            "showbackground": true,
            "ticks": "",
            "zerolinecolor": "white"
           },
           "yaxis": {
            "backgroundcolor": "#E5ECF6",
            "gridcolor": "white",
            "gridwidth": 2,
            "linecolor": "white",
            "showbackground": true,
            "ticks": "",
            "zerolinecolor": "white"
           },
           "zaxis": {
            "backgroundcolor": "#E5ECF6",
            "gridcolor": "white",
            "gridwidth": 2,
            "linecolor": "white",
            "showbackground": true,
            "ticks": "",
            "zerolinecolor": "white"
           }
          },
          "shapedefaults": {
           "line": {
            "color": "#2a3f5f"
           }
          },
          "ternary": {
           "aaxis": {
            "gridcolor": "white",
            "linecolor": "white",
            "ticks": ""
           },
           "baxis": {
            "gridcolor": "white",
            "linecolor": "white",
            "ticks": ""
           },
           "bgcolor": "#E5ECF6",
           "caxis": {
            "gridcolor": "white",
            "linecolor": "white",
            "ticks": ""
           }
          },
          "title": {
           "x": 0.05
          },
          "xaxis": {
           "automargin": true,
           "gridcolor": "white",
           "linecolor": "white",
           "ticks": "",
           "title": {
            "standoff": 15
           },
           "zerolinecolor": "white",
           "zerolinewidth": 2
          },
          "yaxis": {
           "automargin": true,
           "gridcolor": "white",
           "linecolor": "white",
           "ticks": "",
           "title": {
            "standoff": 15
           },
           "zerolinecolor": "white",
           "zerolinewidth": 2
          }
         }
        },
        "title": {
         "text": "Agglomerative Clustering (k=5) su Word2Vec Embedding"
        }
       }
      }
     },
     "metadata": {},
     "output_type": "display_data"
    }
   ],
   "source": [
    "pca = PCA(n_components=3, random_state=42)\n",
    "coords3d = pca.fit_transform(df_emb)\n",
    "df_plot = pd.DataFrame(coords3d, columns=['PC1','PC2','PC3'])\n",
    "df_plot['cluster'] = user['cluster_agg'].astype(str)\n",
    "\n",
    "fig = px.scatter_3d(df_plot,\n",
    "                    x='PC1', y='PC2', z='PC3',\n",
    "                    color='cluster',\n",
    "                    title=f'Agglomerative Clustering (k={best_k}) su Word2Vec Embedding')\n",
    "fig.update_traces(marker=dict(size=4))\n",
    "fig.show()\n"
   ]
  },
  {
   "cell_type": "code",
   "execution_count": 120,
   "id": "3b4a2e11",
   "metadata": {},
   "outputs": [],
   "source": [
    "import pandas as pd\n",
    "from sklearn.cluster import AgglomerativeClustering\n",
    "from sklearn.metrics import silhouette_score\n",
    "from itertools import product\n",
    "from tqdm import tqdm\n",
    "\n",
    "def agglomerative_grid_search(\n",
    "    data: pd.DataFrame,\n",
    "    k_range=range(2, 21),\n",
    "    linkage_options=('ward', 'average', 'complete'),\n",
    "    metric_options=('euclidean', 'manhattan', 'cosine')\n",
    ") -> pd.DataFrame:\n",
    "    \"\"\"\n",
    "    Esegue una ricerca a griglia sugli iperparametri di Agglomerative Clustering\n",
    "    e restituisce un DataFrame ordinato per silhouette score decrescente.\n",
    "    \"\"\"\n",
    "    # 1) Verifica che 'data' sia numerico\n",
    "    if not all(dt.kind in 'fi' for dt in pd.DataFrame(data).dtypes):\n",
    "        raise ValueError(\"Il DataFrame 'data' deve contenere solo colonne numeriche.\")\n",
    "\n",
    "    results = []\n",
    "\n",
    "    # 2) Genera tutte le combinazioni valide\n",
    "    for linkage, metric in tqdm(list(product(linkage_options, metric_options)),\n",
    "                                desc=\"Testing linkage/metric\"):\n",
    "        # Il linkage 'ward' richiede metrica euclidea\n",
    "        if linkage == 'ward' and metric != 'euclidean':\n",
    "            continue\n",
    "\n",
    "        for k in k_range:\n",
    "            try:\n",
    "                model = AgglomerativeClustering(\n",
    "                    n_clusters=k,\n",
    "                    linkage=linkage,\n",
    "                    metric=metric  \n",
    "                )\n",
    "                labels = model.fit_predict(data)\n",
    "\n",
    "                # Serve almeno 2 cluster distinti per silhouette_score\n",
    "                if len(set(labels)) < 2:\n",
    "                    continue\n",
    "\n",
    "                score = silhouette_score(data, labels, metric=metric)\n",
    "                results.append({\n",
    "                    'n_clusters': k,\n",
    "                    'linkage': linkage,\n",
    "                    'metric': metric,\n",
    "                    'silhouette_score': score\n",
    "                })\n",
    "            except Exception:\n",
    "                # Ignora combinazioni non valide o errori interni\n",
    "                continue\n",
    "\n",
    "    # 3) Costruisci il DataFrame con i risultati\n",
    "    result_df = pd.DataFrame(results,\n",
    "                             columns=['n_clusters', 'linkage', 'metric', 'silhouette_score'])\n",
    "\n",
    "    # 4) Se non ho risultati validi, restituisco un DataFrame vuoto con le colonne giuste\n",
    "    if result_df.empty:\n",
    "        return result_df\n",
    "\n",
    "    # 5) Ordino per silhouette_score e resetto l’indice\n",
    "    return (result_df\n",
    "            .sort_values(by='silhouette_score', ascending=False)\n",
    "            .reset_index(drop=True))\n"
   ]
  },
  {
   "cell_type": "code",
   "execution_count": 121,
   "id": "70d14a4d",
   "metadata": {},
   "outputs": [
    {
     "name": "stderr",
     "output_type": "stream",
     "text": [
      "Testing linkage/metric: 100%|██████████| 9/9 [00:03<00:00,  2.79it/s]"
     ]
    },
    {
     "name": "stdout",
     "output_type": "stream",
     "text": [
      "   n_clusters   linkage     metric  silhouette_score\n",
      "0           2   average     cosine          0.934277\n",
      "1           2  complete     cosine          0.934277\n",
      "2           3   average     cosine          0.911290\n",
      "3           4   average     cosine          0.636708\n",
      "4           3  complete     cosine          0.634701\n",
      "5           5   average     cosine          0.632799\n",
      "6           4  complete     cosine          0.632065\n",
      "7           2  complete  manhattan          0.606042\n",
      "8           5  complete     cosine          0.590806\n",
      "9           2  complete  euclidean          0.588775\n"
     ]
    },
    {
     "name": "stderr",
     "output_type": "stream",
     "text": [
      "\n"
     ]
    }
   ],
   "source": [
    "# Supponendo tu abbia già costruito il DataFrame df_emb (solo colonne numeriche!)\n",
    "result = agglomerative_grid_search(df_emb)\n",
    "\n",
    "if result.empty:\n",
    "    print(\"Nessuna combinazione valida trovata: controlla i tuoi dati.\")\n",
    "else:\n",
    "    print(result.head(10))"
   ]
  }
 ],
 "metadata": {
  "kernelspec": {
   "display_name": "FDSML",
   "language": "python",
   "name": "python3"
  },
  "language_info": {
   "codemirror_mode": {
    "name": "ipython",
    "version": 3
   },
   "file_extension": ".py",
   "mimetype": "text/x-python",
   "name": "python",
   "nbconvert_exporter": "python",
   "pygments_lexer": "ipython3",
   "version": "3.10.18"
  }
 },
 "nbformat": 4,
 "nbformat_minor": 5
}
