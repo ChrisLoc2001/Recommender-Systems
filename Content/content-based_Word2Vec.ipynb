{
 "cells": [
  {
   "cell_type": "code",
   "execution_count": 1,
   "id": "cbd6b1e7",
   "metadata": {},
   "outputs": [],
   "source": [
    "import pandas as pd\n",
    "from gensim.models import Word2Vec\n",
    "from sklearn.preprocessing import LabelEncoder\n",
    "from sklearn.cluster import KMeans\n",
    "from sklearn.decomposition import PCA\n",
    "import plotly.express as px\n"
   ]
  },
  {
   "cell_type": "code",
   "execution_count": 2,
   "id": "867cedeb",
   "metadata": {},
   "outputs": [],
   "source": [
    "\n",
    "# 1. Carica il DataFrame\n",
    "user = pd.read_csv(\n",
    "    '../datasets/ml-100k/u.user',\n",
    "    sep='|',\n",
    "    names=['user_id', 'age', 'gender', 'occupation', 'zip_code']\n",
    ")\n"
   ]
  },
  {
   "cell_type": "code",
   "execution_count": null,
   "id": "6d275115",
   "metadata": {},
   "outputs": [],
   "source": [
    "# 2. Prepara “sentences” per Word2Vec includendo anche zip_code\n",
    "sentences = user[['gender', 'occupation', 'zip_code']].astype(str).values.tolist()\n",
    "\n",
    "# 3. Allena il modello Word2Vec\n",
    "w2v = Word2Vec(\n",
    "    sentences,\n",
    "    vector_size=8,    # dimensione del vettore di embedding\n",
    "    window=2,\n",
    "    min_count=1,\n",
    "    epochs=100,\n",
    "    seed=42\n",
    ")"
   ]
  },
  {
   "cell_type": "code",
   "execution_count": null,
   "id": "edd2f6fb",
   "metadata": {},
   "outputs": [],
   "source": [
    "# 4. Definisci funzione per calcolare embedding medio per riga\n",
    "def embed_row(row):\n",
    "    vecs = [w2v.wv[row['gender']], \n",
    "            w2v.wv[row['occupation']], \n",
    "            w2v.wv[row['zip_code']]]\n",
    "    # media vettoriale\n",
    "    return sum(vecs) / len(vecs)\n"
   ]
  },
  {
   "cell_type": "code",
   "execution_count": null,
   "id": "5c71d9ab",
   "metadata": {},
   "outputs": [],
   "source": [
    "# 5. Applica embedding a tutto il DataFrame\n",
    "embeddings = user.apply(embed_row, axis=1)\n",
    "df_emb = pd.DataFrame(\n",
    "    embeddings.tolist(),\n",
    "    columns=[f'emb_{i}' for i in range(w2v.vector_size)]\n",
    ")\n",
    "# Aggiungiamo eventualmente altre feature numeriche (es. age)\n",
    "df_emb['age'] = user['age']"
   ]
  },
  {
   "cell_type": "code",
   "execution_count": null,
   "id": "79e31b41",
   "metadata": {},
   "outputs": [],
   "source": [
    "sil_scores = {}\n",
    "range_n_clusters = range(2, 11)\n",
    "for k in range_n_clusters:\n",
    "    km = KMeans(n_clusters=k, random_state=42)\n",
    "    labels = km.fit_predict(df_emb)\n",
    "    sil = silhouette_score(df_emb, labels)\n",
    "    sil_scores[k] = sil\n",
    "    print(f\"k = {k} → silhouette score = {sil:.4f}\")\n",
    "\n",
    "best_k = max(sil_scores, key=sil_scores.get)\n",
    "print(f\"\\nNumero ottimale di cluster: k = {best_k} (silhouette = {sil_scores[best_k]:.4f})\")"
   ]
  },
  {
   "cell_type": "code",
   "execution_count": null,
   "id": "6b0ceecc",
   "metadata": {},
   "outputs": [],
   "source": [
    "# 6. Clustering sui vettori di embedding\n",
    "kmeans_final = KMeans(n_clusters=best_k, random_state=42)\n",
    "user['cluster_w2v'] = kmeans_final.fit_predict(df_emb)\n"
   ]
  },
  {
   "cell_type": "code",
   "execution_count": null,
   "id": "25b3df8b",
   "metadata": {},
   "outputs": [],
   "source": [
    "# 7. Riduzione a 3D per visualizzazione\n",
    "pca = PCA(n_components=3, random_state=42)\n",
    "coords3d = pca.fit_transform(df_emb)\n",
    "df_plot = pd.DataFrame(coords3d, columns=['PC1', 'PC2', 'PC3'])\n",
    "df_plot['cluster'] = user['cluster_w2v'].astype(str)"
   ]
  },
  {
   "cell_type": "code",
   "execution_count": null,
   "id": "d1e421e7",
   "metadata": {},
   "outputs": [
    {
     "data": {
      "application/vnd.plotly.v1+json": {
       "config": {
        "plotlyServerURL": "https://plot.ly"
       },
       "data": [
        {
         "hovertemplate": "Cluster=2<br>PC1=%{x}<br>PC2=%{y}<br>PC3=%{z}<extra></extra>",
         "legendgroup": "2",
         "marker": {
          "color": "#636efa",
          "size": 4,
          "symbol": "circle"
         },
         "mode": "markers",
         "name": "2",
         "scene": "scene",
         "showlegend": true,
         "type": "scatter3d",
         "x": {
          "bdata": "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",
          "dtype": "f8"
         },
         "y": {
          "bdata": "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",
          "dtype": "f8"
         },
         "z": {
          "bdata": "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",
          "dtype": "f8"
         }
        },
        {
         "hovertemplate": "Cluster=3<br>PC1=%{x}<br>PC2=%{y}<br>PC3=%{z}<extra></extra>",
         "legendgroup": "3",
         "marker": {
          "color": "#EF553B",
          "size": 4,
          "symbol": "circle"
         },
         "mode": "markers",
         "name": "3",
         "scene": "scene",
         "showlegend": true,
         "type": "scatter3d",
         "x": {
          "bdata": "JJ8uu6jyMkAOSwQqvPI2QHL34/Hy8jJAmmhVvrzyMkDafVdOpPIwQNR9QI+x8jBAQMkCfZjyOUBuPQqdvvI0QOLX9jTR8jpAmv0PnrnyNkCeSn77t/IzQGDL1Car8jhAns4HT7DyMkD+YMTPoPIwQAjHrgmU8jJAblfioavyNkBAQnvjrPIxQBrkmAPn8jJA4pSFZbvyNED0nRpvj/I1QB7atLvF8jJAsLvG0MTyNEDgzpc4rvIxQAjhwYzT8j9AfiYJrpnyMECOSH+a0PI5QHKrR/qc8jtA4HZXcqzyMECa5eIM1vI5QFxszebS8j5AhtqCEqjyMEAA8zR4b/lAQJbqET+c8jpAWjX14qryMEAi+oUNsPI8QNCVXyGO8jFA+BCRXpryMUCaznQPk/IxQETGRkS08jZAXNO8P6jyMUAISrkfrPI0QPJcBVPt8jRArHHjMp3yMkAg5lvNnPI9QLQr/z+i8jRAQKfyN+XyMECeG7AirfIwQOxKAIfo8jBA9EIb0bTyNkCgK6uTnPI2QM4x1HOO8jlAzrCR/Z/yOUCQwpeXvfIwQDbv4YfS8jZAZDopeGR5Q0BM66Yup/I0QCICkDi38jZAormHTcfyMkB0xgJwyfIyQHAnNsbd8jtAxoVu0qPyNUAyR34iofIyQGaG+CSQ8jBALjJ1H7byN0B2GhGmj/I1QCoSRcRaeUFA2gp1K6byM0AA4RbX1/I+QNR9QI+x8jBAwn5IXGr5QECqdJdrpPI1QDhGptRWeUFAwhchBrvyNkAudbbOovIzQLa/MtW38jRATkSxZdvyMEBks5yly/I+QMxrUaaz8jRA0HUs/63yM0DaMQBJr/IwQBISJGmX8jlAZOUvvKHyNEAeeFkiuvIwQK4gUry28jBAmp8p/rryNUAO7/6/4vI3QNiJmPzW8jlAIFwRTuTyNUCKSVNqwvI4QBQGc3Zb+UFARBBHmJLyPECWl+BhnPIwQCSSZ9BR+UFA8CEgcqbyNEAqAwG1p/I4QBhaJGTk8j1AACOMT7byMkCijhtvm/I8QAap2apq+UFAWrIzo6jyMEB2IDK73vI5QB7ujm2X8jBAJhCOF6LyOUAKZxuso/I3QPrHmz6v8jpA",
          "dtype": "f8"
         },
         "y": {
          "bdata": "pBCiHQjBtD+AiiXk1tt8P67qdpFS+M+/jIXkwmsavr+1z0kAG7TPPzC1GhTTfJU/zFRQ2u/TtD9sn32qNsi8v9a4b79sC8q/DDLfc38vur8E+Co2RG69P1p/2lKieM4/7J+e7fBTs7+MQcWQZKW2v8BfhsrnoHQ/eHmI/BU1tL+04pKymay3P4+fLGS98sk/aC9ljCSOsr/w43NegiGtv0vyHSVrN88/4mVChD8qyr+mah/E2irSP8hzhpF++Ku/nEMABH8d0j/eCDBZMULGvzpteCe+OdE/HNMq4YnduL96whborQ/Ev8Kiz3bdVsq/VNiTMYWksD825HgyBf/Jv3DwH+Lz96U/FGdp1RUau794YO4ejWuiv9DuROkYe7k/bNXYTDnUtL+UgwLnFSi5P6jXKsjOr7S/MFc/cOa/lj9ov/cgHBCiP1Gld+ctw8g/YKIDCnXCqj+ooMytng+qv+DUBxQXYag/XuwwqWD9xr/UUodj2T3MP6A9652aLom/wEx4pfwreT8w3GqTV6e1v1DT9YGYKK8/iD+yFHf4tT9uautKie/Evyajq5D7QsW/5uixmZhFwb9EZuh6Re+/v4CRhxMELni/pMl+quHtub9XgAl7ikjLP4Dmhc9z36I/QLpkM+z8j7/Lb19h9Q/OP7xP0s8ym7U/wKrtZcl9nT8pgIjb/XXRP558gk4cAse/UZbaTbbBzT92KxPcY7TJvzC1GhTTfJU/guvkWb3Yxr90N38BrSqwPwgJkoCGWLc/GIKXXp8x1T8gkmWbU4muPyJp+u7cssG/8o6oojmexL9Sg+tM4W7Gv8p7ip9tncI/BfQO/ivRzT8Q4YjMY8WiPwCB0EBVo5i/wDFleRpEr79aJsx4sLLQP8a+Gse1S9E/LrHUCOdK1D9Wi+XKs/zLv34/ipist8W/mjAQOcttwb/t3GSpPpfSP4zKR4GBt7W/gBIZX3GvbL+4MgTKbWyxP8hw4gH2LLM/OJraOoyYwD9AmyLViWKPPx6fwj7bJ8a/BIfVsNkktj8gi9AVbyKwP1CERiBDO5a/3pvIdErszD96k6btC1zLv1RQCisXq7i/jAHhgNtDsj/4OOVvroGhP+BxlWCZ7rO/",
          "dtype": "f8"
         },
         "z": {
          "bdata": "oA3RoZBzob9AEwP/eDqevyBLYhmcA8U/AE/m9xOId7+gk9DEGoimv4AQtNQllb2/qNVkRgvYx78AGrr7zZtpv2BudFoKO8k/IDFCsgKGw78An25kS6aVvwCwZv4zCo2/sDmSPDwRw7/YamWGWKLHvyBHUHV7cLa/nFc1sYJXzL8AsFPdOZewv/yX3ngB+9A/ACB6pbOUcj80q+vuOEfOv3Dmb2gQIr8/MPJIQNhOs79wZnUdABq3P7DeeDJcBsg/wB2f+hZOqb/wiyq8ZqXEP2Cz6mlph6W/eGrA16knx7+oMdRNxlrKP+jxrc7h+sI/oJbAaYJcwL8gydHlqhDGP2ghFXeD1ce/WMapdMe5wr+YSlBWfjPCvxDah/kh1ri/UMksLYaqtr/Q8qEPU8axvxj6//aVNsW/UFj158+jwr/Qijx/QB26v9gYVixGKNk/WGMnkGdTxb8YtpEySs3Hv5gNMqVikcK/gPmr7w54zz8AEwbZ4XaBP5Aqhny9LM8/sMbSy9AYt78M+ppc+XvMvzhpWXBnncC/kLkKRr0Jwr+AnHRldSuSv8jDVIGHUcc/IBCERu4Iwj9AMpSrw4DEvzC+Efx+P7a/gDQZqMqqoD+4/AUjJGvGP/Dd94TFQsI/qNO1y4Fkxb+AwbifgUGZvxCZBdKfz7m/4IqWmc2dr79Ac+JFnhSavzAJrWLQKbW/QKEY5nX7oL9Yno4LG0rHP4AQtNQllb2/+AEU5IyixT945eb6BmHCvyB2eCddyrO/UJ+XFGGeuj/wa6TvU0bEv0Br8onzjqq/oOc/bgMsyj8omgA/kyjCPwANjnr0UpK/QMuiYRC+lj9Q6xqdI3W7v/CQnGUwhLu/iIRxwyzSw7+AvykUDxO1P5CfdDB0SrU/MC6SohP5sz/QjedjJ4a/P+hsmmeWecg/aCxMQr0KzT/ILovuZN/BP8itaWE4KsG/cIhYQQYvuL8I1h8+ocDBv1CraB0mA8C/IEhlbaCmqb+wYAKUtgG+vzBRlAlgDsw/wLva09+Sp7+AnNrH/A/Fv4hh4tYw+M8/QAT+yex4lD8A646kwZnIP6SG1w3y8c2/WC1I5z5Nxr+o+Kpw+vPFv0DtBSB4FsO/",
          "dtype": "f8"
         }
        },
        {
         "hovertemplate": "Cluster=0<br>PC1=%{x}<br>PC2=%{y}<br>PC3=%{z}<extra></extra>",
         "legendgroup": "0",
         "marker": {
          "color": "#00cc96",
          "size": 4,
          "symbol": "circle"
         },
         "mode": "markers",
         "name": "0",
         "scene": "scene",
         "showlegend": true,
         "type": "scatter3d",
         "x": {
          "bdata": "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",
          "dtype": "f8"
         },
         "y": {
          "bdata": "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",
          "dtype": "f8"
         },
         "z": {
          "bdata": "ABi/79muor8AKwHYcfWtv1g/CkDfica/AP0vPmerc7+Ab33tdSisv2CLUsda7qS/AMuvJvMzkz8QMohzwXjSP4CDjxDbl5k/QBR8BLXEq7/ACXqdfAOXP8ClWoV4Y7E/ICf8DEnHpb8wsQC49BHFP2CImiNvL7o/wHJfGx/2lL8wwFw9LuXIPyCpIaPvbaK/wC/sEkSAnD+A++xPtD+PP8AdFHNAJ7a/EPkKNFMetD+gjlXHOfGoPwC/awk6ebG/AG2QFy4luL/AEFSKuNWQP0Ai9bH2kqO/YCou+WdroT/gjYF9huSnP6Bsz9cccaW/6B2pWbysxD/ICMp2qmTHv6Bm+Y/Duqe/wLhawNdbmb/AO0fGDtu5v5CW70vuobq/gAuUYeZ6wb/kApg5C5HRPwBUjoCXMHi/UPD5JW3nu7/A2VZiC2CWv2BfCfqrYrU/gNDi70kXyr8ADkDU2KvJP7zszafMG9U/3FexscYW1z/QIwonoa7EPwDvhh5hip2/oKPpQ4yZrr+Ao2yMJoG5P6Aysj6oyLO/QKdUAsj1xT+gtuf0SQSnP+DucSuTErc/IKyFQFaGor+AIouAIOKxP/jSF96yvcs/4MtDz+dBqT9g6AYbxtqov8CZdeImO6U/AOr4IibHij/g4s/BLQakP0CID04KHrW/sIhP/sKavD8gRsoC2QK5v0Dcx5Sf5qe/KBr72c9Owb9ABt7LF1ykv4DR7NFpZZ2/AIiYFfCTfb8A9kB6xmdvP+j/QD91jM4/wLFO5qddlb9AJbCpbi2qPyBeCSIMr68/AGJVJZOPob8A2ZUYkYmVP6D04e42jse/gEVUB314zT/ALCY8xHCWv2DZ8zdj+LK/mKZwW4S7wr9ADSkQcc+Rv7gUnQK0W8E/0LJIrFA7sr+gdk7K8TqkP7R2HSW4QdQ/uM3QT8yizj+8Z9+dZJLcP4BabzXkeIe/gA7uH0iStD/gCp4jJ6unP7CQRoHUSMU/gFyKILWmsD+QV27fx3y5P4BE0YaMnLG/GBiARA0VzT8AbpAzJHRvP+AdZ75hgsO/ACsM81fFrD8AfF48LvWtP2Djzp9WSK0/MCm53wL9ub+gZySRcyWtPyDTX+g1+NI/ELCZ0ZAswz8A9T2p0c2qP3DJ7KCTK7C/4B35uq3Jsz9giO3jXDe6P8D3yYiN8Ko/SHkBxLBNyj/4oiFj54fCP8Cc7eAkysQ/UI7ePZGmwr8w2OgeHozAv8hC2GOQNs4/LKNJJn/G3D8AmEGfTENXvyAPQv6Jb9s/KNxReqW8yj+AfqyZ7SO1v0AWM6Oiw6a/AGB3Y0cdXj/4a1e1JvLGv4Bo7LnAR7e/kMt8cy//vD+gduLCYG+kP6hv/dKQGNI/cMWYtcrMvj+wWgD4kdK8vwCbvr73AJU/EBIDOqGfsr+g73oZgbO4PxCLkUhwHbG/yBPJRiZsyT8wEo6Q7TG3vwAZMdib3q0/CCcMkVgTxD8Y/iuTp+HDPzD41c4Lv7W/yKQkhjcbx7/wGAm0KDzEP3AupbHzurE/6AitCiPkwj+Q4erk7Ki7v3wV/F4KX9E/IHtJzcb0pD8AVmkmyIhxP4CIcM4M2K+/YJ8pUodL1j9QzF93nWDAv8ALaXPtnZm/0JXPyfwisb9oE6uonrjAv8AdR48TU6m/oINPBv1HwL8QbzMbIDG1P2BS1pQD4qI/0FnZ8k+cuD9weH/LdpzBv6A8NRrkXM4/MDyPLrBvtL8AySK23Mu6P0DrG19+Day/gELUc21jij+QK0J5Cgu2P8CH5BWiIrq/sMJBB191tr8ALDBVpfF3vzB9EACj3bq/4I7QusVIoD8gpaG1yiG4PyCxOabfFqc/gGjKkOD/tb9gayWFw/zWP1D8mjIcwbK/gHRAgI+7lD+AoMdcb4KWv0AVysQs+Kw/gNuEUDFbqT8AWPrG9x1Kv2B6g+itfLc/AABW9uFhUz+Abq26LSyRvyjPPoqyPMI/YAMzTL+po79Qyv3ia82/vzC0x+K/HbG/iGvxAXYJwD/QByshLR24PxAdVKevDrG/ECjbC9FmsL/AauLpzdSgv5Df/Enaiba/4CGJC8gfqj+AgNuYHm2pv1DKhURe676/ADbR9Vctmb9A36ZYGFW3vxgzLujzBcE/AJRPT7KAib8kA8nhLR7UPwBQ7eeoGkE/2PYwhbIRwr9wDhJGNlLHP2Du9Zy50rC/AKf36nSdoT/g67CUlQqpv8z31pGn2t0/gMzh5m8Mlb9g3gCYOpDAv4iFK/hmh8S/gMsX5bXej78whcba5uW6v8Dr+PwNKLW/wEMw4CZirT8ANV/tm8q1P/B0Wfgjp7g/0Dg+uRRqvL8g1KQGRsmrv6hFnlsTM8g/MPjVzgu/tb+opEGo6RvOP8jQr8xvuMC/bBfipnrt0T+8EMHoR1DRP+CBaujTFrm/wNJBayq8sr+A9XHYeKKWPwAoHsGmx6Y/AAsTfqFLmb/gn2XHYx3eP4BjLpABTrW/YE1efJgMsj+Ak03gJaGdPwANLsgsf3q/ENK5oTvTyD8AEj2CkW5pP9gP/RdrYdM/AAhZ3hrweb9ABGn9aHunPyBKp2EfGKI/hEetDWnnyr9g5kdws8CmvyBkcRwiMK8/ACOBmOxBqr9wMyHOnbW8v0AMQ9udvZ2/1EBnQP5T3T8AqNxOo2mUv4B1R5rMZK6/AKEVjxQZeL+A1/A+3W60v2BBlNsY6qc/MBkNnXS3sD+AN6Q1H0PHvwA+/ST/C6y/mCCalkqzwb+AdN6zBbfDvxDjPcBUWMW/IONp59QCsD9ALCszKjnGv4DcgxV2JMa/YNa9TGuEvj+Aa3j0Qse9vwCaxLFIe6E/IMOXbD0iu7+g3cl8kzWkP1BgvUOPKbq/4O48M+CZsr8AbW3pJBScvwCcfIIWhK8/kNFQgesZs7/oCK0KI+TCP0A813sppr0/yNAB8NuNwL8AWxAB0Nq5vwAaDaFlZ44/eFIK4VOtwT+47SaGKj3EP6DEt3IzLMA/kOzpgc1hwL/IrYmpF1PEP8Cf7VMToqc/AMXwlXTleL/wT1aBMeG4v8TJx45G1tE/QL8Nh4vIlD+cX/wjBWvRPxAZ9dJe5sS/APTEj/7ilj/ADXYaAuG6P6COvUHhKLA/wJEpnHJLmr/4aZk1rJvDv0AhT0iES5g/IOCtQlKOqD8Q69yZcga/v/AQ+N1tQ7c/+IkBV2tvwb9AMs4tlneSvzDY6B4ejMC/kKIUDj+Exb/4YgnPvubHPwBAz/mlGCc/QKWny29/ur+Q6BLa7qayv0AuNivxBKq/wB89bQr4sL8wIq5vhUrJPzjtvhp1dcS/wBHOw9notb/YxtYuE0DNP6DplMkuzsY/UD9lu+VAub/wsJ5w71bGP3DPry051ce/APH5+ryerr+gG8BK4C+jvw==",
          "dtype": "f8"
         }
        },
        {
         "hovertemplate": "Cluster=1<br>PC1=%{x}<br>PC2=%{y}<br>PC3=%{z}<extra></extra>",
         "legendgroup": "1",
         "marker": {
          "color": "#ab63fa",
          "size": 4,
          "symbol": "circle"
         },
         "mode": "markers",
         "name": "1",
         "scene": "scene",
         "showlegend": true,
         "type": "scatter3d",
         "x": {
          "bdata": "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",
          "dtype": "f8"
         },
         "y": {
          "bdata": "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",
          "dtype": "f8"
         },
         "z": {
          "bdata": "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",
          "dtype": "f8"
         }
        }
       ],
       "layout": {
        "legend": {
         "title": {
          "text": "Cluster"
         },
         "tracegroupgap": 0
        },
        "scene": {
         "domain": {
          "x": [
           0,
           1
          ],
          "y": [
           0,
           1
          ]
         },
         "xaxis": {
          "title": {
           "text": "PC1"
          }
         },
         "yaxis": {
          "title": {
           "text": "PC2"
          }
         },
         "zaxis": {
          "title": {
           "text": "PC3"
          }
         }
        },
        "template": {
         "data": {
          "bar": [
           {
            "error_x": {
             "color": "#2a3f5f"
            },
            "error_y": {
             "color": "#2a3f5f"
            },
            "marker": {
             "line": {
              "color": "#E5ECF6",
              "width": 0.5
             },
             "pattern": {
              "fillmode": "overlay",
              "size": 10,
              "solidity": 0.2
             }
            },
            "type": "bar"
           }
          ],
          "barpolar": [
           {
            "marker": {
             "line": {
              "color": "#E5ECF6",
              "width": 0.5
             },
             "pattern": {
              "fillmode": "overlay",
              "size": 10,
              "solidity": 0.2
             }
            },
            "type": "barpolar"
           }
          ],
          "carpet": [
           {
            "aaxis": {
             "endlinecolor": "#2a3f5f",
             "gridcolor": "white",
             "linecolor": "white",
             "minorgridcolor": "white",
             "startlinecolor": "#2a3f5f"
            },
            "baxis": {
             "endlinecolor": "#2a3f5f",
             "gridcolor": "white",
             "linecolor": "white",
             "minorgridcolor": "white",
             "startlinecolor": "#2a3f5f"
            },
            "type": "carpet"
           }
          ],
          "choropleth": [
           {
            "colorbar": {
             "outlinewidth": 0,
             "ticks": ""
            },
            "type": "choropleth"
           }
          ],
          "contour": [
           {
            "colorbar": {
             "outlinewidth": 0,
             "ticks": ""
            },
            "colorscale": [
             [
              0,
              "#0d0887"
             ],
             [
              0.1111111111111111,
              "#46039f"
             ],
             [
              0.2222222222222222,
              "#7201a8"
             ],
             [
              0.3333333333333333,
              "#9c179e"
             ],
             [
              0.4444444444444444,
              "#bd3786"
             ],
             [
              0.5555555555555556,
              "#d8576b"
             ],
             [
              0.6666666666666666,
              "#ed7953"
             ],
             [
              0.7777777777777778,
              "#fb9f3a"
             ],
             [
              0.8888888888888888,
              "#fdca26"
             ],
             [
              1,
              "#f0f921"
             ]
            ],
            "type": "contour"
           }
          ],
          "contourcarpet": [
           {
            "colorbar": {
             "outlinewidth": 0,
             "ticks": ""
            },
            "type": "contourcarpet"
           }
          ],
          "heatmap": [
           {
            "colorbar": {
             "outlinewidth": 0,
             "ticks": ""
            },
            "colorscale": [
             [
              0,
              "#0d0887"
             ],
             [
              0.1111111111111111,
              "#46039f"
             ],
             [
              0.2222222222222222,
              "#7201a8"
             ],
             [
              0.3333333333333333,
              "#9c179e"
             ],
             [
              0.4444444444444444,
              "#bd3786"
             ],
             [
              0.5555555555555556,
              "#d8576b"
             ],
             [
              0.6666666666666666,
              "#ed7953"
             ],
             [
              0.7777777777777778,
              "#fb9f3a"
             ],
             [
              0.8888888888888888,
              "#fdca26"
             ],
             [
              1,
              "#f0f921"
             ]
            ],
            "type": "heatmap"
           }
          ],
          "histogram": [
           {
            "marker": {
             "pattern": {
              "fillmode": "overlay",
              "size": 10,
              "solidity": 0.2
             }
            },
            "type": "histogram"
           }
          ],
          "histogram2d": [
           {
            "colorbar": {
             "outlinewidth": 0,
             "ticks": ""
            },
            "colorscale": [
             [
              0,
              "#0d0887"
             ],
             [
              0.1111111111111111,
              "#46039f"
             ],
             [
              0.2222222222222222,
              "#7201a8"
             ],
             [
              0.3333333333333333,
              "#9c179e"
             ],
             [
              0.4444444444444444,
              "#bd3786"
             ],
             [
              0.5555555555555556,
              "#d8576b"
             ],
             [
              0.6666666666666666,
              "#ed7953"
             ],
             [
              0.7777777777777778,
              "#fb9f3a"
             ],
             [
              0.8888888888888888,
              "#fdca26"
             ],
             [
              1,
              "#f0f921"
             ]
            ],
            "type": "histogram2d"
           }
          ],
          "histogram2dcontour": [
           {
            "colorbar": {
             "outlinewidth": 0,
             "ticks": ""
            },
            "colorscale": [
             [
              0,
              "#0d0887"
             ],
             [
              0.1111111111111111,
              "#46039f"
             ],
             [
              0.2222222222222222,
              "#7201a8"
             ],
             [
              0.3333333333333333,
              "#9c179e"
             ],
             [
              0.4444444444444444,
              "#bd3786"
             ],
             [
              0.5555555555555556,
              "#d8576b"
             ],
             [
              0.6666666666666666,
              "#ed7953"
             ],
             [
              0.7777777777777778,
              "#fb9f3a"
             ],
             [
              0.8888888888888888,
              "#fdca26"
             ],
             [
              1,
              "#f0f921"
             ]
            ],
            "type": "histogram2dcontour"
           }
          ],
          "mesh3d": [
           {
            "colorbar": {
             "outlinewidth": 0,
             "ticks": ""
            },
            "type": "mesh3d"
           }
          ],
          "parcoords": [
           {
            "line": {
             "colorbar": {
              "outlinewidth": 0,
              "ticks": ""
             }
            },
            "type": "parcoords"
           }
          ],
          "pie": [
           {
            "automargin": true,
            "type": "pie"
           }
          ],
          "scatter": [
           {
            "fillpattern": {
             "fillmode": "overlay",
             "size": 10,
             "solidity": 0.2
            },
            "type": "scatter"
           }
          ],
          "scatter3d": [
           {
            "line": {
             "colorbar": {
              "outlinewidth": 0,
              "ticks": ""
             }
            },
            "marker": {
             "colorbar": {
              "outlinewidth": 0,
              "ticks": ""
             }
            },
            "type": "scatter3d"
           }
          ],
          "scattercarpet": [
           {
            "marker": {
             "colorbar": {
              "outlinewidth": 0,
              "ticks": ""
             }
            },
            "type": "scattercarpet"
           }
          ],
          "scattergeo": [
           {
            "marker": {
             "colorbar": {
              "outlinewidth": 0,
              "ticks": ""
             }
            },
            "type": "scattergeo"
           }
          ],
          "scattergl": [
           {
            "marker": {
             "colorbar": {
              "outlinewidth": 0,
              "ticks": ""
             }
            },
            "type": "scattergl"
           }
          ],
          "scattermap": [
           {
            "marker": {
             "colorbar": {
              "outlinewidth": 0,
              "ticks": ""
             }
            },
            "type": "scattermap"
           }
          ],
          "scattermapbox": [
           {
            "marker": {
             "colorbar": {
              "outlinewidth": 0,
              "ticks": ""
             }
            },
            "type": "scattermapbox"
           }
          ],
          "scatterpolar": [
           {
            "marker": {
             "colorbar": {
              "outlinewidth": 0,
              "ticks": ""
             }
            },
            "type": "scatterpolar"
           }
          ],
          "scatterpolargl": [
           {
            "marker": {
             "colorbar": {
              "outlinewidth": 0,
              "ticks": ""
             }
            },
            "type": "scatterpolargl"
           }
          ],
          "scatterternary": [
           {
            "marker": {
             "colorbar": {
              "outlinewidth": 0,
              "ticks": ""
             }
            },
            "type": "scatterternary"
           }
          ],
          "surface": [
           {
            "colorbar": {
             "outlinewidth": 0,
             "ticks": ""
            },
            "colorscale": [
             [
              0,
              "#0d0887"
             ],
             [
              0.1111111111111111,
              "#46039f"
             ],
             [
              0.2222222222222222,
              "#7201a8"
             ],
             [
              0.3333333333333333,
              "#9c179e"
             ],
             [
              0.4444444444444444,
              "#bd3786"
             ],
             [
              0.5555555555555556,
              "#d8576b"
             ],
             [
              0.6666666666666666,
              "#ed7953"
             ],
             [
              0.7777777777777778,
              "#fb9f3a"
             ],
             [
              0.8888888888888888,
              "#fdca26"
             ],
             [
              1,
              "#f0f921"
             ]
            ],
            "type": "surface"
           }
          ],
          "table": [
           {
            "cells": {
             "fill": {
              "color": "#EBF0F8"
             },
             "line": {
              "color": "white"
             }
            },
            "header": {
             "fill": {
              "color": "#C8D4E3"
             },
             "line": {
              "color": "white"
             }
            },
            "type": "table"
           }
          ]
         },
         "layout": {
          "annotationdefaults": {
           "arrowcolor": "#2a3f5f",
           "arrowhead": 0,
           "arrowwidth": 1
          },
          "autotypenumbers": "strict",
          "coloraxis": {
           "colorbar": {
            "outlinewidth": 0,
            "ticks": ""
           }
          },
          "colorscale": {
           "diverging": [
            [
             0,
             "#8e0152"
            ],
            [
             0.1,
             "#c51b7d"
            ],
            [
             0.2,
             "#de77ae"
            ],
            [
             0.3,
             "#f1b6da"
            ],
            [
             0.4,
             "#fde0ef"
            ],
            [
             0.5,
             "#f7f7f7"
            ],
            [
             0.6,
             "#e6f5d0"
            ],
            [
             0.7,
             "#b8e186"
            ],
            [
             0.8,
             "#7fbc41"
            ],
            [
             0.9,
             "#4d9221"
            ],
            [
             1,
             "#276419"
            ]
           ],
           "sequential": [
            [
             0,
             "#0d0887"
            ],
            [
             0.1111111111111111,
             "#46039f"
            ],
            [
             0.2222222222222222,
             "#7201a8"
            ],
            [
             0.3333333333333333,
             "#9c179e"
            ],
            [
             0.4444444444444444,
             "#bd3786"
            ],
            [
             0.5555555555555556,
             "#d8576b"
            ],
            [
             0.6666666666666666,
             "#ed7953"
            ],
            [
             0.7777777777777778,
             "#fb9f3a"
            ],
            [
             0.8888888888888888,
             "#fdca26"
            ],
            [
             1,
             "#f0f921"
            ]
           ],
           "sequentialminus": [
            [
             0,
             "#0d0887"
            ],
            [
             0.1111111111111111,
             "#46039f"
            ],
            [
             0.2222222222222222,
             "#7201a8"
            ],
            [
             0.3333333333333333,
             "#9c179e"
            ],
            [
             0.4444444444444444,
             "#bd3786"
            ],
            [
             0.5555555555555556,
             "#d8576b"
            ],
            [
             0.6666666666666666,
             "#ed7953"
            ],
            [
             0.7777777777777778,
             "#fb9f3a"
            ],
            [
             0.8888888888888888,
             "#fdca26"
            ],
            [
             1,
             "#f0f921"
            ]
           ]
          },
          "colorway": [
           "#636efa",
           "#EF553B",
           "#00cc96",
           "#ab63fa",
           "#FFA15A",
           "#19d3f3",
           "#FF6692",
           "#B6E880",
           "#FF97FF",
           "#FECB52"
          ],
          "font": {
           "color": "#2a3f5f"
          },
          "geo": {
           "bgcolor": "white",
           "lakecolor": "white",
           "landcolor": "#E5ECF6",
           "showlakes": true,
           "showland": true,
           "subunitcolor": "white"
          },
          "hoverlabel": {
           "align": "left"
          },
          "hovermode": "closest",
          "mapbox": {
           "style": "light"
          },
          "paper_bgcolor": "white",
          "plot_bgcolor": "#E5ECF6",
          "polar": {
           "angularaxis": {
            "gridcolor": "white",
            "linecolor": "white",
            "ticks": ""
           },
           "bgcolor": "#E5ECF6",
           "radialaxis": {
            "gridcolor": "white",
            "linecolor": "white",
            "ticks": ""
           }
          },
          "scene": {
           "xaxis": {
            "backgroundcolor": "#E5ECF6",
            "gridcolor": "white",
            "gridwidth": 2,
            "linecolor": "white",
            "showbackground": true,
            "ticks": "",
            "zerolinecolor": "white"
           },
           "yaxis": {
            "backgroundcolor": "#E5ECF6",
            "gridcolor": "white",
            "gridwidth": 2,
            "linecolor": "white",
            "showbackground": true,
            "ticks": "",
            "zerolinecolor": "white"
           },
           "zaxis": {
            "backgroundcolor": "#E5ECF6",
            "gridcolor": "white",
            "gridwidth": 2,
            "linecolor": "white",
            "showbackground": true,
            "ticks": "",
            "zerolinecolor": "white"
           }
          },
          "shapedefaults": {
           "line": {
            "color": "#2a3f5f"
           }
          },
          "ternary": {
           "aaxis": {
            "gridcolor": "white",
            "linecolor": "white",
            "ticks": ""
           },
           "baxis": {
            "gridcolor": "white",
            "linecolor": "white",
            "ticks": ""
           },
           "bgcolor": "#E5ECF6",
           "caxis": {
            "gridcolor": "white",
            "linecolor": "white",
            "ticks": ""
           }
          },
          "title": {
           "x": 0.05
          },
          "xaxis": {
           "automargin": true,
           "gridcolor": "white",
           "linecolor": "white",
           "ticks": "",
           "title": {
            "standoff": 15
           },
           "zerolinecolor": "white",
           "zerolinewidth": 2
          },
          "yaxis": {
           "automargin": true,
           "gridcolor": "white",
           "linecolor": "white",
           "ticks": "",
           "title": {
            "standoff": 15
           },
           "zerolinecolor": "white",
           "zerolinewidth": 2
          }
         }
        },
        "title": {
         "text": "Word2Vec Embedding + KMeans: visualizzazione 3D"
        }
       }
      }
     },
     "metadata": {},
     "output_type": "display_data"
    }
   ],
   "source": [
    "# 8. Grafico 3D interattivo con Plotly\n",
    "fig = px.scatter_3d(\n",
    "    df_plot,\n",
    "    x='PC1', y='PC2', z='PC3',\n",
    "    color='cluster',\n",
    "    title='Word2Vec Embedding + KMeans: visualizzazione 3D',\n",
    "    labels={'cluster':'Cluster'}\n",
    ")\n",
    "fig.update_traces(marker=dict(size=4))\n",
    "fig.show()"
   ]
  }
 ],
 "metadata": {
  "kernelspec": {
   "display_name": "FDSML",
   "language": "python",
   "name": "python3"
  },
  "language_info": {
   "codemirror_mode": {
    "name": "ipython",
    "version": 3
   },
   "file_extension": ".py",
   "mimetype": "text/x-python",
   "name": "python",
   "nbconvert_exporter": "python",
   "pygments_lexer": "ipython3",
   "version": "3.10.18"
  }
 },
 "nbformat": 4,
 "nbformat_minor": 5
}
