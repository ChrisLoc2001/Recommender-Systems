{
 "cells": [
  {
   "cell_type": "code",
   "execution_count": 141,
   "id": "ac2b904a",
   "metadata": {},
   "outputs": [],
   "source": [
    "# Cella 1\n",
    "import pandas as pd\n",
    "import numpy as np\n",
    "from sklearn.metrics.pairwise import cosine_similarity\n",
    "from sklearn.model_selection import train_test_split\n",
    "from mlxtend.preprocessing import TransactionEncoder\n",
    "from mlxtend.frequent_patterns import apriori, association_rules\n",
    "from math import log2\n",
    "from sklearn.metrics import accuracy_score, precision_score, recall_score\n",
    "from sklearn.metrics import mean_absolute_error, mean_squared_error"
   ]
  },
  {
   "cell_type": "code",
   "execution_count": 142,
   "id": "92ada0bb",
   "metadata": {},
   "outputs": [],
   "source": [
    "# Caricamento dati\n",
    "url = \"../datasets/ml-100k/u.data\"\n",
    "columns = ['user_id', 'movie_id', 'rating', 'timestamp']\n",
    "df = pd.read_csv(url, sep='\\t', names=columns)\n",
    "df.drop('timestamp', axis=1, inplace=True)"
   ]
  },
  {
   "cell_type": "code",
   "execution_count": 143,
   "id": "8b34a222",
   "metadata": {},
   "outputs": [],
   "source": [
    "# Prepara matrici utente-film\n",
    "df_ratings = df.copy()\n",
    "ratings_matrix = df_ratings.pivot_table(index='user_id', columns='movie_id', values='rating').fillna(0)\n"
   ]
  },
  {
   "cell_type": "code",
   "execution_count": 144,
   "id": "a7acfcab",
   "metadata": {},
   "outputs": [],
   "source": [
    "# Train-test split\n",
    "train_data, test_data = train_test_split(df_ratings, test_size=0.2, random_state=42)\n",
    "train_matrix = train_data.pivot_table(index='user_id', columns='movie_id', values='rating').fillna(0)"
   ]
  },
  {
   "cell_type": "code",
   "execution_count": 145,
   "id": "6f87a7be",
   "metadata": {},
   "outputs": [
    {
     "name": "stderr",
     "output_type": "stream",
     "text": [
      "/opt/anaconda3/envs/FDSML/lib/python3.10/site-packages/sklearn/utils/extmath.py:203: RuntimeWarning: divide by zero encountered in matmul\n",
      "  ret = a @ b\n",
      "/opt/anaconda3/envs/FDSML/lib/python3.10/site-packages/sklearn/utils/extmath.py:203: RuntimeWarning: overflow encountered in matmul\n",
      "  ret = a @ b\n",
      "/opt/anaconda3/envs/FDSML/lib/python3.10/site-packages/sklearn/utils/extmath.py:203: RuntimeWarning: invalid value encountered in matmul\n",
      "  ret = a @ b\n"
     ]
    }
   ],
   "source": [
    "# Calcolo similarità tra utenti\n",
    "user_similarity = cosine_similarity(train_matrix)\n",
    "similarity_df = pd.DataFrame(user_similarity, index=train_matrix.index, columns=train_matrix.index)"
   ]
  },
  {
   "cell_type": "code",
   "execution_count": 146,
   "id": "6a0d0326",
   "metadata": {},
   "outputs": [],
   "source": [
    "def predict_rating(user_id, movie_id, k=5):\n",
    "    if user_id not in train_matrix.index:\n",
    "        return ratings_matrix.loc[user_id].mean()\n",
    "    if movie_id not in train_matrix.columns:\n",
    "        return train_matrix.loc[user_id].mean()\n",
    "    sim_scores = similarity_df[user_id]\n",
    "    movie_ratings = train_matrix[movie_id]\n",
    "    valid_users = movie_ratings[movie_ratings > 0].index\n",
    "    if len(valid_users) == 0:\n",
    "        return train_matrix.loc[user_id].mean()\n",
    "    top_users = sim_scores[valid_users].sort_values(ascending=False).head(k)\n",
    "    weighted_sum = np.dot(top_users, movie_ratings[top_users.index])\n",
    "    sim_sum = top_users.sum()\n",
    "    return weighted_sum/sim_sum if sim_sum > 0 else train_matrix.loc[user_id].mean()"
   ]
  },
  {
   "cell_type": "code",
   "execution_count": 147,
   "id": "e1a1ce23",
   "metadata": {},
   "outputs": [],
   "source": [
    "true_ratings = []\n",
    "predicted_ratings = []\n",
    "for _, row in test_data.iterrows():\n",
    "    uid, mid, true_r = row['user_id'], row['movie_id'], row['rating']\n",
    "    pred = predict_rating(uid, mid)\n",
    "    true_ratings.append(true_r)\n",
    "    predicted_ratings.append(round(pred))"
   ]
  },
  {
   "cell_type": "code",
   "execution_count": null,
   "id": "6309e1f7",
   "metadata": {},
   "outputs": [
    {
     "name": "stdout",
     "output_type": "stream",
     "text": [
      "Rating Prediction -> Accuracy: 0.361, Precision: 0.295, Recall: 0.223, F1: 0.219\n",
      "MAE: 0.816, RMSE: 1.222\n"
     ]
    }
   ],
   "source": [
    "# Metriche classificazione\n",
    "acc = accuracy_score(true_ratings, predicted_ratings)\n",
    "prec = precision_score(true_ratings, predicted_ratings, average='macro', zero_division=0)\n",
    "rec = recall_score(true_ratings, predicted_ratings, average='macro', zero_division=0)\n",
    "\n",
    "mae = mean_absolute_error(true_ratings, predicted_ratings)\n",
    "rmse = np.sqrt(mean_squared_error(true_ratings, predicted_ratings))\n",
    "\n",
    "print(f\"Accuracy: {acc:.3f}\")\n",
    "print(f\"Precision: {prec:.3f}\")\n",
    "print(f\"Recall: {rec:.3f}\")\n",
    "print(f\"MAE: {mae:.3f}\")\n",
    "print(f\"RMSE: {rmse:.3f}\")"
   ]
  },
  {
   "cell_type": "code",
   "execution_count": 149,
   "id": "146c66c0",
   "metadata": {},
   "outputs": [],
   "source": [
    "# Preparazione transazioni e regole associative\n",
    "transactions = df_ratings[df_ratings['rating'] >= 4].groupby('user_id')['movie_id'].apply(list).tolist()\n",
    "te = TransactionEncoder()\n",
    "te_ary = te.fit(transactions).transform(transactions)\n",
    "trans_df = pd.DataFrame(te_ary, columns=te.columns_)\n",
    "frequent_itemsets = apriori(trans_df, min_support=0.1, use_colnames=True)\n",
    "rules = association_rules(frequent_itemsets, metric='confidence', min_threshold=0.5)\n",
    "top_rules = rules.sort_values('lift', ascending=False).head(20)"
   ]
  },
  {
   "cell_type": "code",
   "execution_count": 150,
   "id": "31960421",
   "metadata": {},
   "outputs": [],
   "source": [
    "# Funzione raccomandazioni ibride (CF + AR)\n",
    "def hybrid_recommendations(user_id, top_n=10, cf_weight=0.7):\n",
    "    # CF scores\n",
    "    cf_scores = {m: predict_rating(user_id, m) for m in train_matrix.columns}\n",
    "    # Normalizza CF\n",
    "    min_cf, max_cf = min(cf_scores.values()), max(cf_scores.values())\n",
    "    cf_scores = {m: (s-min_cf)/(max_cf-min_cf) if max_cf>min_cf else 0 for m, s in cf_scores.items()}\n",
    "    # AR scores\n",
    "    user_high = set(df_ratings[(df_ratings['user_id']==user_id) & (df_ratings['rating']>=4)]['movie_id'])\n",
    "    ar_scores = {m:0 for m in train_matrix.columns}\n",
    "    for _, rule in top_rules.iterrows():\n",
    "        A, C = set(rule['antecedents']), set(rule['consequents'])\n",
    "        if A.issubset(user_high):\n",
    "            for m in C:\n",
    "                if m in ar_scores:\n",
    "                    ar_scores[m] += rule['confidence'] * rule['lift']\n",
    "    min_ar, max_ar = min(ar_scores.values()), max(ar_scores.values())\n",
    "    ar_scores = {m: (s-min_ar)/(max_ar-min_ar) if max_ar>min_ar else 0 for m, s in ar_scores.items()}\n",
    "    # Combina e filtra\n",
    "    final = {m: cf_weight*cf_scores[m] + (1-cf_weight)*ar_scores[m] for m in train_matrix.columns}\n",
    "    seen = set(df_ratings[df_ratings['user_id']==user_id]['movie_id'])\n",
    "    recs = [m for m,_ in sorted(final.items(), key=lambda x: x[1], reverse=True) if m not in seen]\n",
    "    return recs[:top_n]"
   ]
  },
  {
   "cell_type": "code",
   "execution_count": 151,
   "id": "195fd0aa",
   "metadata": {},
   "outputs": [],
   "source": [
    "# Metriche Top-N (Precision@K, Recall@K, NDCG@K)\n",
    "def precision_at_k(recommended, actual, k):\n",
    "    rec_k = set(recommended[:k])\n",
    "    return len(rec_k & set(actual)) / k\n",
    "\n",
    "def recall_at_k(recommended, actual, k):\n",
    "    return len(set(recommended[:k]) & set(actual)) / len(actual) if actual else 0\n",
    "\n",
    "def ndcg_at_k(recommended, actual, k):\n",
    "    dcg = sum((1/log2(i+1)) for i, m in enumerate(recommended[:k], start=1) if m in actual)\n",
    "    idcg = sum(1/log2(i+1) for i in range(1, min(len(actual), k)+1))\n",
    "    return dcg/idcg if idcg>0 else 0"
   ]
  },
  {
   "cell_type": "code",
   "execution_count": 152,
   "id": "62382078",
   "metadata": {},
   "outputs": [
    {
     "name": "stdout",
     "output_type": "stream",
     "text": [
      "P@5: 0.000\n",
      "P@10: 0.000\n",
      "R@5: 0.000\n",
      "R@10: 0.000\n",
      "NDCG@5: 0.000\n",
      "NDCG@10: 0.000\n"
     ]
    }
   ],
   "source": [
    "# Valutazione Top-N per utenti di test\n",
    "ks = [5, 10]\n",
    "results = {f'P@{k}': [] for k in ks}\n",
    "results.update({f'R@{k}': [] for k in ks})\n",
    "results.update({f'NDCG@{k}': [] for k in ks})\n",
    "\n",
    "for u in test_data['user_id'].unique():\n",
    "    actual = test_data[test_data['user_id']==u]['movie_id'].tolist()\n",
    "    recs = hybrid_recommendations(u, top_n=10)\n",
    "    for k in ks:\n",
    "        results[f'P@{k}'].append(precision_at_k(recs, actual, k))\n",
    "        results[f'R@{k}'].append(recall_at_k(recs, actual, k))\n",
    "        results[f'NDCG@{k}'].append(ndcg_at_k(recs, actual, k))\n",
    "\n",
    "for metric, vals in results.items():\n",
    "    print(f\"{metric}: {np.mean(vals):.3f}\")"
   ]
  },
  {
   "cell_type": "code",
   "execution_count": 154,
   "id": "69589063",
   "metadata": {},
   "outputs": [
    {
     "name": "stdout",
     "output_type": "stream",
     "text": [
      "Raccomandazioni ibride utente 1: [850, 1189, 1201, 1293, 1306, 1467, 1500, 1612, 1629, 1653]\n"
     ]
    }
   ],
   "source": [
    "# Esempio utilizzo raccomandazioni ibride\n",
    "user_test = 1\n",
    "rec = hybrid_recommendations(user_test, top_n=10, cf_weight=0.7)\n",
    "print(f\"Raccomandazioni ibride utente {user_test}:\", rec)"
   ]
  },
  {
   "cell_type": "code",
   "execution_count": 153,
   "id": "41b0da73",
   "metadata": {},
   "outputs": [
    {
     "data": {
      "text/plain": [
       "['Two or Three Things I Know About Her (1966)',\n",
       " 'That Old Feeling (1997)',\n",
       " 'Maybe, Maybe Not (Bewegte Mann, Der) (1994)',\n",
       " 'Cure, The (1995)',\n",
       " 'Prisoner of the Mountains (Kavkazsky Plennik) (1996)',\n",
       " 'Silence of the Palace, The (Saimt el Qusur) (1994)',\n",
       " 'Angel Baby (1995)',\n",
       " 'Chairman of the Board (1998)',\n",
       " 'Ayn Rand: A Sense of Life (1997)',\n",
       " 'Tokyo Fist (1995)']"
      ]
     },
     "execution_count": 153,
     "metadata": {},
     "output_type": "execute_result"
    }
   ],
   "source": [
    "# Visualizzazione film raccomandati\n",
    "rec = hybrid_recommendations(u, top_n=10)\n",
    "\n",
    "movies = pd.read_csv(\"../datasets/ml-100k/u.item\", sep=\"|\", encoding=\"latin-1\", \n",
    "                     names=[\"movie_id\", \"title\", \"release_date\", \"video_release_date\", \"IMDb_URL\", \"unknown\", \"Action\", \"Adventure\", \"Animation\", \"Children's\", \"Comedy\", \"Crime\", \"Documentary\", \"Drama\", \"Fantasy\", \"Film-Noir\", \"Horror\", \"Musical\", \"Mystery\", \"Romance\", \"Sci-Fi\", \"Thriller\", \"War\", \"Western\"])\n",
    "film = []\n",
    "for r in rec:\n",
    "    film.append(movies.loc[r, \"title\"])\n",
    "film"
   ]
  }
 ],
 "metadata": {
  "kernelspec": {
   "display_name": "FDSML",
   "language": "python",
   "name": "python3"
  },
  "language_info": {
   "codemirror_mode": {
    "name": "ipython",
    "version": 3
   },
   "file_extension": ".py",
   "mimetype": "text/x-python",
   "name": "python",
   "nbconvert_exporter": "python",
   "pygments_lexer": "ipython3",
   "version": "3.10.18"
  }
 },
 "nbformat": 4,
 "nbformat_minor": 5
}
