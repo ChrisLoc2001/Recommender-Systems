{
 "cells": [
  {
   "cell_type": "code",
   "execution_count": null,
   "id": "bb752a04",
   "metadata": {},
   "outputs": [],
   "source": [
    "import pandas as pd\n",
    "import numpy as np\n",
    "from sklearn.cluster import KMeans, AgglomerativeClustering, DBSCAN\n",
    "from sklearn.preprocessing import StandardScaler\n",
    "from sklearn.decomposition import TruncatedSVD\n",
    "from scipy.sparse import csr_matrix\n",
    "from sklearn.model_selection import train_test_split\n",
    "from sklearn.metrics import accuracy_score"
   ]
  },
  {
   "cell_type": "code",
   "execution_count": null,
   "id": "3b0eb482",
   "metadata": {},
   "outputs": [],
   "source": [
    "movies = pd.read_csv(\"../datasets/MovieDS/movies.csv\")\n",
    "ratings = pd.read_csv(\"../datasets/MovieDS/ratings.csv\")\n",
    "ratings = ratings.drop(columns=(\"timestamp\"))\n",
    "\n",
    "df_active = ratings.merge(movies, on=\"movieId\")\n",
    "df_active"
   ]
  },
  {
   "cell_type": "code",
   "execution_count": null,
   "id": "a4684329",
   "metadata": {},
   "outputs": [],
   "source": [
    "# Mantieni solo utenti con almeno 20 rating \n",
    "flag = 10000\n",
    "user_counts = df_active['userId'].value_counts()\n",
    "active_users = user_counts[user_counts >= 20].index\n",
    "df_active = df_active[df_active['userId'].isin(active_users)].copy()\n",
    "if len(active_users) > flag:\n",
    "    sampled_users = np.random.choice(active_users, flag, replace=False)\n",
    "    df_active = df_active[df_active['userId'].isin(sampled_users)]\n",
    "\n",
    "df_active"
   ]
  },
  {
   "cell_type": "code",
   "execution_count": null,
   "id": "ed1670bc",
   "metadata": {},
   "outputs": [],
   "source": [
    "# Mappatura in indici continui e matrice sparsa\n",
    "df_active['u_idx'] = df_active['userId'].astype('category').cat.codes\n",
    "df_active['m_idx'] = df_active['movieId'].astype('category').cat.codes\n",
    "\n",
    "n_users  = df_active['u_idx'].nunique()\n",
    "n_movies = df_active['m_idx'].nunique()\n",
    "\n",
    "row = df_active['u_idx'].values\n",
    "col = df_active['m_idx'].values\n",
    "data = df_active['rating'].values\n",
    "user_movie_sparse = csr_matrix((data, (row, col)), shape=(n_users, n_movies))"
   ]
  },
  {
   "cell_type": "code",
   "execution_count": null,
   "id": "13f04b4a",
   "metadata": {},
   "outputs": [],
   "source": [
    "# Riduzione dimensionale\n",
    "svd = TruncatedSVD(n_components=50, random_state=42)\n",
    "X_reduced = svd.fit_transform(user_movie_sparse)\n",
    "\n",
    "scaler = StandardScaler()\n",
    "X_scaled = scaler.fit_transform(X_reduced)"
   ]
  },
  {
   "cell_type": "code",
   "execution_count": null,
   "id": "927761c0",
   "metadata": {},
   "outputs": [],
   "source": [
    "print(\"Shape originale:\", user_movie_sparse.shape)\n",
    "\n",
    "# Dopo SVD\n",
    "print(\"Shape dopo SVD:\", X_reduced.shape)\n",
    "\n",
    "# Dopo normalizzazione\n",
    "print(\"Shape dopo scaling:\", X_scaled.shape)\n",
    "\n",
    "# Valori di esempio\n",
    "print(\"\\nEsempio - valori originali (sparsi):\")\n",
    "print(user_movie_sparse[0])\n",
    "\n",
    "print(\"\\nEsempio - valori ridotti:\")\n",
    "print(X_reduced[0])\n",
    "\n",
    "print(\"\\nEsempio - valori scalati:\")\n",
    "print(X_scaled[0])"
   ]
  },
  {
   "cell_type": "code",
   "execution_count": null,
   "id": "cda3982b",
   "metadata": {},
   "outputs": [],
   "source": [
    "# Agglomerative Clustering\n",
    "n_clusters = 5\n",
    "agglo = AgglomerativeClustering(n_clusters=n_clusters)\n",
    "labels = agglo.fit_predict(X_scaled)"
   ]
  },
  {
   "cell_type": "code",
   "execution_count": null,
   "id": "4e20265f",
   "metadata": {},
   "outputs": [],
   "source": [
    "# DataFrame dei cluster\n",
    "user_map = pd.DataFrame({\n",
    "    'u_idx': np.arange(n_users),\n",
    "    'userId': df_active['userId'].astype('category').cat.categories,\n",
    "    'cluster': labels\n",
    "})\n",
    "\n",
    "print(user_map.head())"
   ]
  },
  {
   "cell_type": "code",
   "execution_count": null,
   "id": "564bed4b",
   "metadata": {},
   "outputs": [],
   "source": [
    "def recommend_for_user_active(user_id, df_active, user_map, top_n=10):\n",
    "    # cluster di appartenenza\n",
    "    c = user_map.loc[user_map['userId'] == user_id, 'cluster'].values[0]\n",
    "    # seleziona tutti gli utenti in quel cluster\n",
    "    users_in_cluster = user_map.loc[user_map['cluster'] == c, 'userId'].values\n",
    "    # calcola media rating per movieId\n",
    "    cluster_ratings = (\n",
    "        df_active[df_active['userId'].isin(users_in_cluster)]\n",
    "        .groupby('movieId')['rating']\n",
    "        .mean()\n",
    "    )\n",
    "    # titoli già visti dall'utente\n",
    "    seen = set(df_active[df_active['userId'] == user_id]['movieId'])\n",
    "    # top_n non ancora visti\n",
    "    top_movie_ids = (\n",
    "        cluster_ratings[~cluster_ratings.index.isin(seen)]\n",
    "        .sort_values(ascending=False)\n",
    "        .head(top_n)\n",
    "        .index\n",
    "    )\n",
    "    return (\n",
    "        df_active[df_active['movieId'].isin(top_movie_ids)]\n",
    "        [['movieId', 'title']]\n",
    "        .drop_duplicates()\n",
    "        .reset_index(drop=True)\n",
    "    )"
   ]
  },
  {
   "cell_type": "code",
   "execution_count": null,
   "id": "3bd195b9",
   "metadata": {},
   "outputs": [],
   "source": [
    "random_user = df_active['userId'].drop_duplicates().sample(1).iloc[0]\n",
    "user_id = random_user\n",
    "\n",
    "cluster_id = user_map.loc[user_map['userId'] == user_id, 'cluster'].values\n",
    "if len(cluster_id) == 0:\n",
    "    raise ValueError(f\"Utente {user_id} non trovato tra quelli filtrati.\")\n",
    "cluster_id = cluster_id[0]\n",
    "print(f\"Utente {user_id} è nel cluster {cluster_id}\")"
   ]
  },
  {
   "cell_type": "code",
   "execution_count": null,
   "id": "22a144f3",
   "metadata": {},
   "outputs": [],
   "source": [
    "recs = recommend_for_user_active(user_id, df_active, user_map, top_n=10)\n",
    "print(\"Raccomandazioni:\")\n",
    "print(recs)"
   ]
  }
 ],
 "metadata": {
  "kernelspec": {
   "display_name": "FDSML",
   "language": "python",
   "name": "python3"
  },
  "language_info": {
   "codemirror_mode": {
    "name": "ipython",
    "version": 3
   },
   "file_extension": ".py",
   "mimetype": "text/x-python",
   "name": "python",
   "nbconvert_exporter": "python",
   "pygments_lexer": "ipython3",
   "version": "3.10.18"
  }
 },
 "nbformat": 4,
 "nbformat_minor": 5
}
